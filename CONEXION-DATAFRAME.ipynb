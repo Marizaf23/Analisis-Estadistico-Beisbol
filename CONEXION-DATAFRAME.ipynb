{
 "cells": [
  {
   "cell_type": "code",
   "execution_count": 1,
   "metadata": {},
   "outputs": [],
   "source": [
    "import pandas as pd\n",
    "import numpy  as np\n",
    "import sqlite3\n",
    "import streamlit as st\n",
    "import seaborn   as sns\n",
    "import matplotlib.pyplot as plt\n",
    "\n",
    "# Conectar a la base de datos SQLite\n",
    "conn = sqlite3.connect(r'C:\\Users\\maria\\Documents\\UCV MARY\\EECA\\SEMESTRE 2024-1\\SEMESTRE II\\COMPUTACIÓN II\\TRABAJO FINAL\\SALUD MENTAL EN LA INDUSTRIA TECNOLÓGICA 1.sqlite')\n",
    "\n",
    "cur = conn.cursor()"
   ]
  },
  {
   "cell_type": "code",
   "execution_count": 2,
   "metadata": {},
   "outputs": [
    {
     "name": "stdout",
     "output_type": "stream",
     "text": [
      "Entidades en la base de datos:\n"
     ]
    },
    {
     "data": {
      "text/html": [
       "<div>\n",
       "<style scoped>\n",
       "    .dataframe tbody tr th:only-of-type {\n",
       "        vertical-align: middle;\n",
       "    }\n",
       "\n",
       "    .dataframe tbody tr th {\n",
       "        vertical-align: top;\n",
       "    }\n",
       "\n",
       "    .dataframe thead th {\n",
       "        text-align: right;\n",
       "    }\n",
       "</style>\n",
       "<table border=\"1\" class=\"dataframe\">\n",
       "  <thead>\n",
       "    <tr style=\"text-align: right;\">\n",
       "      <th></th>\n",
       "      <th>name</th>\n",
       "    </tr>\n",
       "  </thead>\n",
       "  <tbody>\n",
       "    <tr>\n",
       "      <th>0</th>\n",
       "      <td>Answer</td>\n",
       "    </tr>\n",
       "    <tr>\n",
       "      <th>1</th>\n",
       "      <td>Question</td>\n",
       "    </tr>\n",
       "    <tr>\n",
       "      <th>2</th>\n",
       "      <td>Respuestas</td>\n",
       "    </tr>\n",
       "    <tr>\n",
       "      <th>3</th>\n",
       "      <td>Survey</td>\n",
       "    </tr>\n",
       "  </tbody>\n",
       "</table>\n",
       "</div>"
      ],
      "text/plain": [
       "         name\n",
       "0      Answer\n",
       "1    Question\n",
       "2  Respuestas\n",
       "3      Survey"
      ]
     },
     "execution_count": 2,
     "metadata": {},
     "output_type": "execute_result"
    }
   ],
   "source": [
    "# Consultar las tablas en la base de datos\n",
    "consulta_ntablas = \"SELECT name FROM sqlite_master WHERE type='table' ORDER BY name;\"\n",
    "\n",
    "\n",
    "# Mostrar las entidades\n",
    "print(\"Entidades en la base de datos:\")\n",
    "entidades = pd.read_sql_query(sql = consulta_ntablas, con = conn)\n",
    "entidades"
   ]
  },
  {
   "cell_type": "code",
   "execution_count": 3,
   "metadata": {},
   "outputs": [],
   "source": [
    "# Crear consulta para convertir en DF\n",
    "consulta = \"SELECT * FROM Respuestas;\"\n",
    "\n",
    "df_Respuestas = pd.read_sql_query(sql = consulta, con = conn)\n",
    "\n",
    "conn.close()"
   ]
  },
  {
   "cell_type": "code",
   "execution_count": 4,
   "metadata": {},
   "outputs": [],
   "source": [
    "# Filtrado del DF por el año 2016 y Estados Unidos como País para realizar la Investigación\n",
    "User_ID = df_Respuestas[(df_Respuestas['QuestionID'] == 3) & (df_Respuestas['AnswerText'] == 'Estados Unidos')]['UserID'].unique()\n",
    "\n",
    "df_Investigacion = df_Respuestas[(df_Respuestas['UserID'].isin(User_ID)) & (df_Respuestas['SurveyID'] == 2016)]"
   ]
  },
  {
   "cell_type": "code",
   "execution_count": 5,
   "metadata": {},
   "outputs": [],
   "source": [
    "# Reestructuración del DF para mejor uso de Pandas\n",
    "df_Investigacion = df_Investigacion.groupby(['UserID', 'QuestionID'])['AnswerText'].first().reset_index()\n",
    "\n",
    "df_Investigacion = df_Investigacion.pivot_table(index='UserID', columns='QuestionID', values='AnswerText', aggfunc='first')"
   ]
  },
  {
   "cell_type": "code",
   "execution_count": 6,
   "metadata": {},
   "outputs": [
    {
     "name": "stdout",
     "output_type": "stream",
     "text": [
      "Index([  1,   2,   3,   4,   5,   6,   7,   8,  10,  12,  14,  16,  17,  18,\n",
      "        19,  20,  23,  24,  27,  28,  30,  31,  33,  34,  48,  49,  53,  54,\n",
      "        55,  56, 114, 115, 116, 117, 118],\n",
      "      dtype='int64', name='QuestionID')\n"
     ]
    }
   ],
   "source": [
    "# Renombrar las variables\n",
    "print(df_Investigacion.columns)\n",
    "\n",
    "df_Investigacion.columns = ['Edad', 'Género', 'País de Residencia', 'Ciudad de Residencia (EEUU)', 'Trabajo Autónomo', 'Historial Familiar', 'Búsqueda de Tratamiento con un Profesional', 'Cantidad de Empleados en la Empresa', 'Beneficios Dentro de Seguro Médico', 'Problemas de Salud Mental en Entrevista Laboral', 'Conocimiento de las Opciones de Cobertura por la Empresa Actual', 'Recursos de la Empresa Para Conocer sobre la Salud Mental y Canales de Ayuda', 'Facilidad de Consulta de Baja Médica en el Trabajo', 'Comodidad para Hablar de una Enfermedad Mental con Compañeros de Trabajo', 'Comodidad para Hablar de una Enfermedad Mental con un Director/Supervisor', 'Cobertura de Salud Mental en Seguro Médico', 'Beneficios de Salud Mental de Empleos Anteriores', 'Conocimiento de las Opciones de Ayuda por el Empleo Anterior', 'Protección de Anonimato Si Se Toma Ventaja de los Recursos de Tratamiento en Empleos Anteriores', 'Disposición de Hablar de Salud Mental con un Supervisor', 'Disposición para Hablar Sobre Enfermedad Mental con Familia/Amigos', 'Seguridad de Revelar Enfermedad Mental Debido a Comentario Sobre Salud Mental de Otra Persona', 'Situación Mental Actual', '¿Alguna Vez Has Sido Diagnosticado con una Enfermedad Mental?', 'Nivel de Interferencia en el Trabajo Cuando Se Está Bajo Tratamiento', 'Nivel de Interferencia en el Trabajo Cuando No Se Está Bajo Tratamiento', 'Disposición a Revelar Enfermedad Mental a Empleados/Compañeros', 'Productividad Afectada Por Enfermedad Mental', 'Porcentaje de Tiempo Afectada Por Enfermedad Mental', '¿Has Observado o Experimentado una Respuesta Insolidaria o Mal Gestionada a un Problema de Salud Mental en tu Lugar de Trabajo Actual o Anterior?', '¿Cree que los Miembros de su Equipo/Compañeros de Trabajo le Verían de Forma más Negativa Si Supieran que Padece una Enfermedad Mental?', 'Enfermedades Mentales Diagnosticadas', 'Enfermedades Mentales No Diagnosticadas', 'Puesto de Trabajo', 'Trabajo Remoto']"
   ]
  },
  {
   "cell_type": "code",
   "execution_count": 15,
   "metadata": {},
   "outputs": [],
   "source": [
    "# Reemplazar los NaN\n",
    "\n",
    "df_Investigacion = df_Investigacion.fillna('No respondió')\n",
    "\n",
    "Investigacion = df_Investigacion"
   ]
  },
  {
   "cell_type": "code",
   "execution_count": 19,
   "metadata": {},
   "outputs": [],
   "source": [
    "# Título de la aplicación\n",
    "st.title(\"Problemáticas y Estigmas de las Enfermedades Mentales en la Industria Tecnológica Estadounidense en el Año 2016\")\n",
    "\n",
    "st.dataframe(df_Investigacion)\n",
    "\n",
    "# Título de la aplicación\n",
    "st.title(\"Análisis del Conjunto de Datos Iris\")\n",
    "\n",
    "st.write(\"\"\"\n",
    "## Introducción\n",
    "\n",
    "El conjunto de datos **Iris** es uno de los conjuntos de datos más conocidos en la comunidad de ciencia de datos. Este conjunto de datos fue introducido por el biólogo y estadístico británico Ronald A. Fisher en su artículo de 1936 \"The use of multiple measurements in taxonomic problems\". El conjunto de datos contiene 150 observaciones de iris con cuatro características: longitud del sépalo, anchura del sépalo, longitud del pétalo y anchura del pétalo. Además, cada observación pertenece a una de las tres especies de iris: Iris setosa, Iris versicolor o Iris virginica.\n",
    "\n",
    "En esta aplicación, exploraremos el conjunto de datos Iris mediante gráficos y estadísticas descriptivas. A continuación, se muestra una tabla con las primeras filas del conjunto de datos.\n",
    "\"\"\")"
   ]
  },
  {
   "cell_type": "code",
   "execution_count": 10,
   "metadata": {},
   "outputs": [
    {
     "name": "stdout",
     "output_type": "stream",
     "text": [
      "¿Alguna Vez Has Sido Diagnosticado con una Enfermedad Mental?   No  No sé   Si\n",
      "Historial Familiar                                                            \n",
      "No                                                             170     76  120\n",
      "Si                                                              70     70  333\n",
      "¿Alguna Vez Has Sido Diagnosticado con una Enfermedad Mental?   No  \\\n",
      "Historial Familiar                                                   \n",
      "No                                                             170   \n",
      "Si                                                              70   \n",
      "\n",
      "¿Alguna Vez Has Sido Diagnosticado con una Enfermedad Mental?  No sé  \\\n",
      "Historial Familiar                                                     \n",
      "No                                                                76   \n",
      "Si                                                                70   \n",
      "\n",
      "¿Alguna Vez Has Sido Diagnosticado con una Enfermedad Mental?   Si  \n",
      "Historial Familiar                                                  \n",
      "No                                                             120  \n",
      "Si                                                             333  \n"
     ]
    }
   ],
   "source": [
    "\n",
    "\n",
    "# PREGUNTA #1\n",
    "#¿Cuántas personas en la industria tecnológica tienen una enfermedad mental diagnosticada y, dentro de este grupo, existe algún historial familiar dentro de este ámbito?\n",
    "\n",
    "Pregunta1 = pd.crosstab(df_Investigacion['¿Alguna Vez Has Sido Diagnosticado con una Enfermedad Mental?'], df_Investigacion['Historial Familiar'], \n",
    "                              rownames=['Historial Familiar'], \n",
    "                              colnames=['¿Alguna Vez Has Sido Diagnosticado con una Enfermedad Mental?'])\n",
    "print(Pregunta1.to_string())                            \n",
    "pd.set_option('display.width', -1)\n",
    "pd.set_option('display.max_columns', None)\n",
    "print(Pregunta1)\n",
    "\n",
    "# Agregar columna de totales\n",
    "Pregunta1 = Pregunta1.assign(Total=Pregunta1.sum(axis=1))\n",
    "\n",
    "# Agregar fila de totales\n",
    "Pregunta1.loc['Total'] = Pregunta1.sum(axis=0)\n"
   ]
  },
  {
   "cell_type": "code",
   "execution_count": 11,
   "metadata": {},
   "outputs": [
    {
     "name": "stdout",
     "output_type": "stream",
     "text": [
      "¿Alguna Vez Has Sido Diagnosticado con una Enfermedad Mental?   No  \\\n",
      "Historial Familiar                                                   \n",
      "No                                                             170   \n",
      "Si                                                              70   \n",
      "Total                                                          240   \n",
      "\n",
      "¿Alguna Vez Has Sido Diagnosticado con una Enfermedad Mental?  No sé  \\\n",
      "Historial Familiar                                                     \n",
      "No                                                                76   \n",
      "Si                                                                70   \n",
      "Total                                                            146   \n",
      "\n",
      "¿Alguna Vez Has Sido Diagnosticado con una Enfermedad Mental?   Si  \\\n",
      "Historial Familiar                                                   \n",
      "No                                                             120   \n",
      "Si                                                             333   \n",
      "Total                                                          453   \n",
      "\n",
      "¿Alguna Vez Has Sido Diagnosticado con una Enfermedad Mental?  Total  \n",
      "Historial Familiar                                                    \n",
      "No                                                               366  \n",
      "Si                                                               473  \n",
      "Total                                                            839  \n"
     ]
    }
   ],
   "source": [
    "Pregunta1 = pd.crosstab(df_Investigacion['¿Alguna Vez Has Sido Diagnosticado con una Enfermedad Mental?'], \n",
    "                        df_Investigacion['Historial Familiar'], \n",
    "                        margins=True, \n",
    "                        margins_name='Total')\n",
    "\n",
    "Pregunta1.index.name = 'Historial Familiar'\n",
    "Pregunta1.columns.name = '¿Alguna Vez Has Sido Diagnosticado con una Enfermedad Mental?'\n",
    "\n",
    "print(Pregunta1)"
   ]
  }
 ],
 "metadata": {
  "kernelspec": {
   "display_name": "Python 3",
   "language": "python",
   "name": "python3"
  },
  "language_info": {
   "codemirror_mode": {
    "name": "ipython",
    "version": 3
   },
   "file_extension": ".py",
   "mimetype": "text/x-python",
   "name": "python",
   "nbconvert_exporter": "python",
   "pygments_lexer": "ipython3",
   "version": "3.12.1"
  }
 },
 "nbformat": 4,
 "nbformat_minor": 2
}
