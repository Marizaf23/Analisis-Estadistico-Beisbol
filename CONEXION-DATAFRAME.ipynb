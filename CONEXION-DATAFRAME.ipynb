{
 "cells": [
  {
   "cell_type": "code",
   "execution_count": 1,
   "metadata": {},
   "outputs": [],
   "source": [
    "import pandas as pd\n",
    "import numpy  as np\n",
    "import sqlite3\n",
    "import seaborn as sns\n",
    "import matplotlib.pyplot as plt\n",
    "import plotly.graph_objects as go\n",
    "import streamlit as st\n",
    "import requests\n",
    "from io import StringIO\n",
    "import os\n",
    "\n",
    "\n",
    "# Conectar a la base de datos SQLite\n",
    "conn = sqlite3.connect(r\"C:\\Users\\DELL\\OneDrive\\Documentos\\kadija\\compu\\SALUD MENTAL EN LA INDUSTRIA TECNOLÓGICA 1 (4).sqlite\")\n",
    "\n",
    "cur = conn.cursor()"
   ]
  },
  {
   "cell_type": "code",
   "execution_count": 2,
   "metadata": {},
   "outputs": [
    {
     "name": "stdout",
     "output_type": "stream",
     "text": [
      "Entidades en la base de datos:\n"
     ]
    },
    {
     "data": {
      "text/html": [
       "<div>\n",
       "<style scoped>\n",
       "    .dataframe tbody tr th:only-of-type {\n",
       "        vertical-align: middle;\n",
       "    }\n",
       "\n",
       "    .dataframe tbody tr th {\n",
       "        vertical-align: top;\n",
       "    }\n",
       "\n",
       "    .dataframe thead th {\n",
       "        text-align: right;\n",
       "    }\n",
       "</style>\n",
       "<table border=\"1\" class=\"dataframe\">\n",
       "  <thead>\n",
       "    <tr style=\"text-align: right;\">\n",
       "      <th></th>\n",
       "      <th>name</th>\n",
       "    </tr>\n",
       "  </thead>\n",
       "  <tbody>\n",
       "    <tr>\n",
       "      <th>0</th>\n",
       "      <td>Answer</td>\n",
       "    </tr>\n",
       "    <tr>\n",
       "      <th>1</th>\n",
       "      <td>Question</td>\n",
       "    </tr>\n",
       "    <tr>\n",
       "      <th>2</th>\n",
       "      <td>Respuestas</td>\n",
       "    </tr>\n",
       "    <tr>\n",
       "      <th>3</th>\n",
       "      <td>Survey</td>\n",
       "    </tr>\n",
       "  </tbody>\n",
       "</table>\n",
       "</div>"
      ],
      "text/plain": [
       "         name\n",
       "0      Answer\n",
       "1    Question\n",
       "2  Respuestas\n",
       "3      Survey"
      ]
     },
     "execution_count": 2,
     "metadata": {},
     "output_type": "execute_result"
    }
   ],
   "source": [
    "# Consultar las tablas en la base de datos\n",
    "consulta_ntablas = \"SELECT name FROM sqlite_master WHERE type='table' ORDER BY name;\"\n",
    "\n",
    "\n",
    "# Mostrar las entidades\n",
    "print(\"Entidades en la base de datos:\")\n",
    "entidades = pd.read_sql_query(sql = consulta_ntablas, con = conn)\n",
    "entidades"
   ]
  },
  {
   "cell_type": "code",
   "execution_count": 3,
   "metadata": {},
   "outputs": [],
   "source": [
    "# Crear consulta para convertir en DF\n",
    "consulta = \"SELECT * FROM Respuestas;\"\n",
    "\n",
    "df_Respuestas = pd.read_sql_query(sql = consulta, con = conn)\n",
    "\n",
    "conn.close()"
   ]
  },
  {
   "cell_type": "code",
   "execution_count": 4,
   "metadata": {},
   "outputs": [],
   "source": [
    "# Filtrado del DF por desde 2016-2019 y Estados Unidos como país para realizar la Investigación\n",
    "User_ID = df_Respuestas[(df_Respuestas['QuestionID'] == 3) & (df_Respuestas['AnswerText'] == 'Estados Unidos')]['UserID'].unique()\n",
    "\n",
    "df_Investigacion1 = df_Respuestas[(df_Respuestas['UserID'].isin(User_ID)) & (df_Respuestas['SurveyID'] == 2016)]\n",
    "\n",
    "df_Investigacion2 = df_Respuestas[(df_Respuestas['UserID'].isin(User_ID)) & (df_Respuestas['SurveyID'] == 2017)]\n",
    "\n",
    "df_Investigacion3 = df_Respuestas[(df_Respuestas['UserID'].isin(User_ID)) & (df_Respuestas['SurveyID'] == 2018)]\n",
    "\n",
    "df_Investigacion4 = df_Respuestas[(df_Respuestas['UserID'].isin(User_ID)) & (df_Respuestas['SurveyID'] == 2019)]"
   ]
  },
  {
   "cell_type": "code",
   "execution_count": 5,
   "metadata": {},
   "outputs": [],
   "source": [
    "# Reestructuración del DF para mejor uso de Pandas\n",
    "df_Investigacion1 = df_Investigacion1.groupby(['UserID', 'QuestionID'])['AnswerText'].first().reset_index()\n",
    "\n",
    "df_Investigacion2 = df_Investigacion2.groupby(['UserID', 'QuestionID'])['AnswerText'].first().reset_index()\n",
    "\n",
    "df_Investigacion3 = df_Investigacion3.groupby(['UserID', 'QuestionID'])['AnswerText'].first().reset_index()\n",
    "\n",
    "df_Investigacion4 = df_Investigacion4.groupby(['UserID', 'QuestionID'])['AnswerText'].first().reset_index()\n",
    "\n",
    "df_Investigacion1 = df_Investigacion1.pivot_table(index='UserID', columns='QuestionID', values='AnswerText', aggfunc='first')\n",
    "\n",
    "df_Investigacion2 = df_Investigacion2.pivot_table(index='UserID', columns='QuestionID', values='AnswerText', aggfunc='first')\n",
    "\n",
    "df_Investigacion3 = df_Investigacion3.pivot_table(index='UserID', columns='QuestionID', values='AnswerText', aggfunc='first')\n",
    "\n",
    "df_Investigacion4 = df_Investigacion4.pivot_table(index='UserID', columns='QuestionID', values='AnswerText', aggfunc='first')"
   ]
  },
  {
   "cell_type": "code",
   "execution_count": 6,
   "metadata": {},
   "outputs": [
    {
     "name": "stdout",
     "output_type": "stream",
     "text": [
      "Index([  1,   2,   3,   4,   5,   6,   7,   8,  10,  12,  14,  16,  17,  18,\n",
      "        19,  20,  23,  24,  27,  28,  30,  31,  33,  34,  48,  49,  53,  54,\n",
      "        55,  56, 114, 115, 116, 117, 118],\n",
      "      dtype='int64', name='QuestionID')\n"
     ]
    }
   ],
   "source": [
    "# Renombrar las variables 2016\n",
    "print(df_Investigacion1.columns)\n",
    "\n",
    "df_Investigacion1.columns = ['Edad', 'Género', 'País de Residencia', 'Ciudad de Residencia (EEUU)', 'Trabajo Autónomo', 'Antecedentes Heredofamiliares', 'Búsqueda de Tratamiento con un Profesional', 'Cantidad de Empleados en la Empresa', 'Beneficios Dentro de Seguro Médico', 'Problemas de Salud Mental en Entrevista Laboral', 'Conocimiento de las Opciones de Cobertura por la Empresa Actual', 'Recursos de la Empresa Para Conocer sobre la Salud Mental y Canales de Ayuda', 'Facilidad de Consulta de Baja Médica en el Trabajo', 'Comodidad para Hablar de una Enfermedad Mental con Compañeros de Trabajo', 'Comodidad para Hablar de una Enfermedad Mental con un Director/Supervisor', 'Cobertura de Salud Mental en Seguro Médico', 'Beneficios de Salud Mental de Empleos Anteriores', 'Conocimiento de las Opciones de Ayuda por el Empleo Anterior', 'Protección de Anonimato Si Se Toma Ventaja de los Recursos de Tratamiento en Empleos Anteriores', 'Disposición de Hablar de Salud Mental con un Supervisor', 'Disposición para Hablar Sobre Enfermedad Mental con Familia/Amigos', 'Seguridad de Revelar Enfermedad Mental Debido a Comentario Sobre Salud Mental de Otra Persona', 'Situación Mental Actual', '¿Alguna Vez Has Sido Diagnosticado con una Enfermedad Mental?', 'Nivel de Interferencia en el Trabajo Cuando Se Está Bajo Tratamiento', 'Nivel de Interferencia en el Trabajo Cuando No Se Está Bajo Tratamiento', 'Disposición a Revelar Enfermedad Mental a Empleados/Compañeros', 'Productividad Afectada Por Enfermedad Mental', 'Porcentaje de Tiempo Afectada Por Enfermedad Mental', '¿Has Observado o Experimentado una Respuesta Insolidaria o Mal Gestionada a un Problema de Salud Mental en tu Lugar de Trabajo Actual o Anterior?', '¿Cree que los Miembros de su Equipo/Compañeros de Trabajo le Verían de Forma más Negativa Si Supieran que Padece una Enfermedad Mental?', 'Enfermedades Mentales Diagnosticadas', 'Enfermedades Mentales No Diagnosticadas', 'Puesto de Trabajo', 'Trabajo Remoto']\n",
    "\n",
    "# Reemplazar los NaN\n",
    "df_Investigacion1 = df_Investigacion1.fillna('No respondió')"
   ]
  },
  {
   "cell_type": "code",
   "execution_count": 7,
   "metadata": {},
   "outputs": [
    {
     "name": "stdout",
     "output_type": "stream",
     "text": [
      "Index([ 1,  2,  3,  4,  5,  6,  7,  8, 10, 12, 14, 16, 17, 18, 19, 20, 23, 24,\n",
      "       27, 28, 30, 31, 33, 34, 48, 49, 53, 54, 55, 56, 65, 67, 78, 79, 81, 83,\n",
      "       85, 89],\n",
      "      dtype='int64', name='QuestionID')\n"
     ]
    }
   ],
   "source": [
    "# Renombrar las variables 2017\n",
    "print(df_Investigacion2.columns)\n",
    "\n",
    "df_Investigacion2.columns = ['Edad', 'Género', 'País de Residencia', 'Ciudad de Residencia (EEUU)', 'Trabajo Autónomo', 'Antecedentes Heredofamiliares', 'Búsqueda de Tratamiento con un Profesional', 'Cantidad de Empleados en la Empresa', 'Beneficios Dentro de Seguro Médico', 'Problemas de Salud Mental en Entrevista Laboral', 'Conocimiento de las Opciones de Cobertura por la Empresa Actual', 'Recursos de la Empresa Para Conocer sobre la Salud Mental y Canales de Ayuda', 'Facilidad de Consulta de Baja Médica en el Trabajo', 'Comodidad para Hablar de una Enfermedad Mental con Compañeros de Trabajo', 'Comodidad para Hablar de una Enfermedad Mental con un Director/Supervisor', 'Cobertura de Salud Mental en Seguro Médico', 'Beneficios de Salud Mental de Empleos Anteriores', 'Conocimiento de las Opciones de Ayuda por el Empleo Anterior', 'Protección de Anonimato Si Se Toma Ventaja de los Recursos de Tratamiento en Empleos Anteriores', 'Disposición de Hablar de Salud Mental con un Supervisor', 'Disposición para Hablar Sobre Enfermedad Mental con Familia/Amigos', 'Seguridad de Revelar Enfermedad Mental Debido a Comentario Sobre Salud Mental de Otra Persona', 'Situación Mental Actual', '¿Alguna Vez Has Sido Diagnosticado con una Enfermedad Mental?', 'Nivel de Interferencia en el Trabajo Cuando Se Está Bajo Tratamiento', 'Nivel de Interferencia en el Trabajo Cuando No Se Está Bajo Tratamiento', 'Disposición a Revelar Enfermedad Mental a Empleados/Compañeros', 'Productividad Afectada Por Enfermedad Mental', 'Porcentaje de Tiempo Afectada Por Enfermedad Mental', '¿Has Observado o Experimentado una Respuesta Insolidaria o Mal Gestionada a un Problema de Salud Mental en tu Lugar de Trabajo Actual o Anterior?', 'Importancia a la Salud Mental (Empresa)', '¿Cómo Afectó la Relación con Alguien de tu Trabajo el Haberle Contado sobre tu Enfermedad Mental?', '¿Te Identificas Abiertamente en el Trabajo como una Persona con una Enfermedad Mental?', '¿Tu Carrera Se Ha Visto Afectada por Tener una Enfermedad Mental?', 'Si Supieran Que Padeces un Trastorno Mental, ¿Cómo Crees Que Reaccionarían los Miembros de tu Equipo/Compañeros de Trabajo?', '¿Has Observado o Experimentado una Respuesta Positiva De Compañeros/Jefes al Saber que Tienes una Enfermedad Mental?', '¿En qué Medida Cree que el Sector Tecnológico Apoya a los Empleados con Enfermedades Mentales?', 'Raza']\n",
    "\n",
    "# Reemplazar los NaN\n",
    "df_Investigacion2 = df_Investigacion2.fillna('No respondió')"
   ]
  },
  {
   "cell_type": "code",
   "execution_count": 8,
   "metadata": {},
   "outputs": [
    {
     "name": "stdout",
     "output_type": "stream",
     "text": [
      "Index([ 1,  2,  3,  4,  5,  6,  7,  8, 10, 12, 14, 16, 17, 18, 19, 20, 23, 24,\n",
      "       27, 28, 30, 31, 33, 34, 48, 49, 53, 54, 55, 56, 65, 67, 78, 79, 81, 83,\n",
      "       85, 89],\n",
      "      dtype='int64', name='QuestionID')\n"
     ]
    }
   ],
   "source": [
    "# Renombrar las variables 2018\n",
    "print(df_Investigacion3.columns)\n",
    "\n",
    "df_Investigacion3.columns = ['Edad', 'Género', 'País de Residencia', 'Ciudad de Residencia (EEUU)', 'Trabajo Autónomo', 'Antecedentes Heredofamiliares', 'Búsqueda de Tratamiento con un Profesional', 'Cantidad de Empleados en la Empresa', 'Beneficios Dentro de Seguro Médico', 'Problemas de Salud Mental en Entrevista Laboral', 'Conocimiento de las Opciones de Cobertura por la Empresa Actual', 'Recursos de la Empresa Para Conocer sobre la Salud Mental y Canales de Ayuda', 'Facilidad de Consulta de Baja Médica en el Trabajo', 'Comodidad para Hablar de una Enfermedad Mental con Compañeros de Trabajo', 'Comodidad para Hablar de una Enfermedad Mental con un Director/Supervisor', 'Cobertura de Salud Mental en Seguro Médico', 'Beneficios de Salud Mental de Empleos Anteriores', 'Conocimiento de las Opciones de Ayuda por el Empleo Anterior', 'Protección de Anonimato Si Se Toma Ventaja de los Recursos de Tratamiento en Empleos Anteriores', 'Disposición de Hablar de Salud Mental con un Supervisor', 'Disposición para Hablar Sobre Enfermedad Mental con Familia/Amigos', 'Seguridad de Revelar Enfermedad Mental Debido a Comentario Sobre Salud Mental de Otra Persona', 'Situación Mental Actual', '¿Alguna Vez Has Sido Diagnosticado con una Enfermedad Mental?', 'Nivel de Interferencia en el Trabajo Cuando Se Está Bajo Tratamiento', 'Nivel de Interferencia en el Trabajo Cuando No Se Está Bajo Tratamiento', 'Disposición a Revelar Enfermedad Mental a Empleados/Compañeros', 'Productividad Afectada Por Enfermedad Mental', 'Porcentaje de Tiempo Afectada Por Enfermedad Mental', '¿Has Observado o Experimentado una Respuesta Insolidaria o Mal Gestionada a un Problema de Salud Mental en tu Lugar de Trabajo Actual o Anterior?', 'Importancia a la Salud Mental (Empresa)', '¿Cómo Afectó la Relación con Alguien de tu Trabajo el Haberle Contado sobre tu Enfermedad Mental?', '¿Te Identificas Abiertamente en el Trabajo como una Persona con una Enfermedad Mental?', '¿Tu Carrera Se Ha Visto Afectada por Tener una Enfermedad Mental?', 'Si Supieran Que Padeces un Trastorno Mental, ¿Cómo Crees Que Reaccionarían los Miembros de tu Equipo/Compañeros de Trabajo?', '¿Has Observado o Experimentado una Respuesta Positiva De Compañeros/Jefes al Saber que Tienes una Enfermedad Mental?', '¿En qué Medida Cree que el Sector Tecnológico Apoya a los Empleados con Enfermedades Mentales?', 'Raza']\n",
    "\n",
    "# Reemplazar los NaN\n",
    "df_Investigacion3 = df_Investigacion3.fillna('No respondió')"
   ]
  },
  {
   "cell_type": "code",
   "execution_count": 9,
   "metadata": {},
   "outputs": [
    {
     "name": "stdout",
     "output_type": "stream",
     "text": [
      "Index([ 1,  2,  3,  4,  5,  6,  7,  8, 10, 12, 14, 16, 17, 18, 19, 20, 23, 24,\n",
      "       27, 28, 30, 31, 33, 34, 48, 49, 53, 54, 55, 56, 65, 67, 78, 79, 81, 83,\n",
      "       85, 89],\n",
      "      dtype='int64', name='QuestionID')\n"
     ]
    }
   ],
   "source": [
    "# Renombrar las variables 2019\n",
    "print(df_Investigacion4.columns)\n",
    "\n",
    "df_Investigacion4.columns = ['Edad', 'Género', 'País de Residencia', 'Ciudad de Residencia (EEUU)', 'Trabajo Autónomo', 'Antecedentes Heredofamiliares', 'Búsqueda de Tratamiento con un Profesional', 'Cantidad de Empleados en la Empresa', 'Beneficios Dentro de Seguro Médico', 'Problemas de Salud Mental en Entrevista Laboral', 'Conocimiento de las Opciones de Cobertura por la Empresa Actual', 'Recursos de la Empresa Para Conocer sobre la Salud Mental y Canales de Ayuda', 'Facilidad de Consulta de Baja Médica en el Trabajo', 'Comodidad para Hablar de una Enfermedad Mental con Compañeros de Trabajo', 'Comodidad para Hablar de una Enfermedad Mental con un Director/Supervisor', 'Cobertura de Salud Mental en Seguro Médico', 'Beneficios de Salud Mental de Empleos Anteriores', 'Conocimiento de las Opciones de Ayuda por el Empleo Anterior', 'Protección de Anonimato Si Se Toma Ventaja de los Recursos de Tratamiento en Empleos Anteriores', 'Disposición de Hablar de Salud Mental con un Supervisor', 'Disposición para Hablar Sobre Enfermedad Mental con Familia/Amigos', 'Seguridad de Revelar Enfermedad Mental Debido a Comentario Sobre Salud Mental de Otra Persona', 'Situación Mental Actual', '¿Alguna Vez Has Sido Diagnosticado con una Enfermedad Mental?', 'Nivel de Interferencia en el Trabajo Cuando Se Está Bajo Tratamiento', 'Nivel de Interferencia en el Trabajo Cuando No Se Está Bajo Tratamiento', 'Disposición a Revelar Enfermedad Mental a Empleados/Compañeros', 'Productividad Afectada Por Enfermedad Mental', 'Porcentaje de Tiempo Afectada Por Enfermedad Mental', '¿Has Observado o Experimentado una Respuesta Insolidaria o Mal Gestionada a un Problema de Salud Mental en tu Lugar de Trabajo Actual o Anterior?', 'Importancia a la Salud Mental (Empresa)', '¿Cómo Afectó la Relación con Alguien de tu Trabajo el Haberle Contado sobre tu Enfermedad Mental?', '¿Te Identificas Abiertamente en el Trabajo como una Persona con una Enfermedad Mental?', '¿Tu Carrera Se Ha Visto Afectada por Tener una Enfermedad Mental?', 'Si Supieran Que Padeces un Trastorno Mental, ¿Cómo Crees Que Reaccionarían los Miembros de tu Equipo/Compañeros de Trabajo?', '¿Has Observado o Experimentado una Respuesta Positiva De Compañeros/Jefes al Saber que Tienes una Enfermedad Mental?', '¿En qué Medida Cree que el Sector Tecnológico Apoya a los Empleados con Enfermedades Mentales?', 'Raza']\n",
    "\n",
    "# Reemplazar los NaN\n",
    "df_Investigacion4 = df_Investigacion4.fillna('No respondió')"
   ]
  },
  {
   "cell_type": "code",
   "execution_count": 10,
   "metadata": {},
   "outputs": [],
   "source": [
    "# Carpeta donde deseas guardar los archivos CSV\n",
    "output_folder = r\"C:\\Users\\DELL\\OneDrive\\Documentos\\kadija\\compu\\CSV\"\n",
    "\n",
    "# Crear la carpeta si no existe\n",
    "if not os.path.exists(output_folder):\n",
    "    os.makedirs(output_folder)\n",
    "\n",
    "# Guardar los archivos CSV en la carpeta especificada\n",
    "df_Investigacion1.to_csv(os.path.join(output_folder, 'Investigacion1.csv'), index=False)\n",
    "df_Investigacion2.to_csv(os.path.join(output_folder, 'Investigacion2.csv'), index=False)\n",
    "df_Investigacion3.to_csv(os.path.join(output_folder, 'Investigacion3.csv'), index=False)\n",
    "df_Investigacion4.to_csv(os.path.join(output_folder, 'Investigacion4.csv'), index=False)"
   ]
  },
  {
   "cell_type": "code",
   "execution_count": 11,
   "metadata": {},
   "outputs": [],
   "source": [
    "# Carga el archivo CSV en un DataFrame\n",
    "df_2016 = pd.read_csv(r\"C:\\Users\\DELL\\OneDrive\\Documentos\\kadija\\compu\\CSV\\Investigacion1.csv\")\n",
    "df_2017 = pd.read_csv(r\"C:\\Users\\DELL\\OneDrive\\Documentos\\kadija\\compu\\CSV\\Investigacion2.csv\")\n",
    "df_2018 = pd.read_csv(r\"C:\\Users\\DELL\\OneDrive\\Documentos\\kadija\\compu\\CSV\\Investigacion3.csv\")\n",
    "df_2019 = pd.read_csv(r\"C:\\Users\\DELL\\OneDrive\\Documentos\\kadija\\compu\\CSV\\Investigacion4.csv\")"
   ]
  },
  {
   "cell_type": "code",
   "execution_count": 12,
   "metadata": {},
   "outputs": [
    {
     "name": "stdout",
     "output_type": "stream",
     "text": [
      "                                                    Posee Enfermedad Mental Diagnosticada\n",
      "Respuesta Insolidaria o Mal Gestionada a un Pro...                                       \n",
      "No                                                                                    341\n",
      "Tal vez/No estoy seguro(a)                                                            215\n",
      "Si, lo he visto                                                                       155\n",
      "Si, me ha pasado                                                                       89\n",
      "No respondió                                                                           39\n",
      "Total                                                                                 839\n",
      "                                                    Posee Enfermedad Mental Diagnosticada\n",
      "Respuesta Insolidaria o Mal Gestionada a un Pro...                                       \n",
      "No                                                                                    218\n",
      "Tal vez/No estoy seguro(a)                                                            141\n",
      "Si, lo he visto                                                                        83\n",
      "Si, me ha pasado                                                                       54\n",
      "Siempre he sido mi propio jefe(a)                                                       1\n",
      "Total                                                                                 497\n",
      "                                                    Posee Enfermedad Mental Diagnosticada\n",
      "Respuesta Insolidaria o Mal Gestionada a un Pro...                                       \n",
      "No                                                                                    133\n",
      "Tal vez/No estoy seguro(a)                                                             72\n",
      "Si, lo he visto                                                                        70\n",
      "Si, me ha pasado                                                                       37\n",
      "Total                                                                                 312\n",
      "                                                    Posee Enfermedad Mental Diagnosticada\n",
      "Respuesta Insolidaria o Mal Gestionada a un Pro...                                       \n",
      "No                                                                                     83\n",
      "Tal vez/No estoy seguro(a)                                                             50\n",
      "Si, lo he visto                                                                        39\n",
      "Si, me ha pasado                                                                       32\n",
      "Total                                                                                 204\n"
     ]
    }
   ],
   "source": [
    "# ¿Si Expresas que posees una Enfermedad Mental crees que en tu ambiente de Trabajo seria tomado de Mala manera?\n",
    "#2016\n",
    "Pregunta_52016 = df_2016['¿Has Observado o Experimentado una Respuesta Insolidaria o Mal Gestionada a un Problema de Salud Mental en tu Lugar de Trabajo Actual o Anterior?'].value_counts().to_frame('Posee Enfermedad Mental Diagnosticada')\n",
    "\n",
    "Pregunta_52016 = Pregunta_52016.rename_axis('Respuesta Insolidaria o Mal Gestionada a un Problema de Salud Mental', axis=0)\n",
    "Pregunta_52016 = Pregunta_52016.rename(columns={'Posee Enfermedad Mental Diagnosticada': 'Posee Enfermedad Mental Diagnosticada'})\n",
    "Pregunta_52016.loc['Total'] = Pregunta_52016.sum()\n",
    "print(Pregunta_52016)\n",
    "\n",
    "#2017\n",
    "Pregunta_52017 = df_2017['¿Has Observado o Experimentado una Respuesta Insolidaria o Mal Gestionada a un Problema de Salud Mental en tu Lugar de Trabajo Actual o Anterior?'].value_counts().to_frame('Posee Enfermedad Mental Diagnosticada')\n",
    "\n",
    "Pregunta_52017 = Pregunta_52017.rename_axis('Respuesta Insolidaria o Mal Gestionada a un Problema de Salud Mental', axis=0)\n",
    "Pregunta_52017 = Pregunta_52017.rename(columns={'Posee Enfermedad Mental Diagnosticada': 'Posee Enfermedad Mental Diagnosticada'})\n",
    "Pregunta_52017.loc['Total'] = Pregunta_52017.sum()\n",
    "print(Pregunta_52017)\n",
    "\n",
    "#2018\n",
    "Pregunta_52018 = df_2018['¿Has Observado o Experimentado una Respuesta Insolidaria o Mal Gestionada a un Problema de Salud Mental en tu Lugar de Trabajo Actual o Anterior?'].value_counts().to_frame('Posee Enfermedad Mental Diagnosticada')\n",
    "\n",
    "Pregunta_52018 = Pregunta_52018.rename_axis('Respuesta Insolidaria o Mal Gestionada a un Problema de Salud Mental', axis=0)\n",
    "Pregunta_52018 = Pregunta_52018.rename(columns={'Posee Enfermedad Mental Diagnosticada': 'Posee Enfermedad Mental Diagnosticada'})\n",
    "Pregunta_52018.loc['Total'] = Pregunta_52018.sum()\n",
    "print(Pregunta_52018)\n",
    "\n",
    "# 2019\n",
    "Pregunta_52019 = df_2019['¿Has Observado o Experimentado una Respuesta Insolidaria o Mal Gestionada a un Problema de Salud Mental en tu Lugar de Trabajo Actual o Anterior?'].value_counts().to_frame('Posee Enfermedad Mental Diagnosticada')\n",
    "\n",
    "Pregunta_52019 = Pregunta_52019.rename_axis('Respuesta Insolidaria o Mal Gestionada a un Problema de Salud Mental', axis=0)\n",
    "Pregunta_52019 = Pregunta_52019.rename(columns={'Posee Enfermedad Mental Diagnosticada': 'Posee Enfermedad Mental Diagnosticada'})\n",
    "Pregunta_52019.loc['Total'] = Pregunta_52019.sum()\n",
    "print(Pregunta_52019)\n"
   ]
  },
  {
   "cell_type": "code",
   "execution_count": 13,
   "metadata": {},
   "outputs": [
    {
     "data": {
      "application/vnd.plotly.v1+json": {
       "config": {
        "plotlyServerURL": "https://plot.ly"
       },
       "data": [
        {
         "marker": {
          "color": "#BA68C8"
         },
         "name": "Año 2016",
         "orientation": "h",
         "type": "bar",
         "x": [
          155,
          89,
          341,
          215
         ],
         "y": [
          "Sí, lo he visto",
          "Sí, me ha pasado",
          "No",
          "No estoy seguro(a)"
         ]
        }
       ],
       "frames": [
        {
         "data": [
          {
           "marker": {
            "color": "#BA68C8"
           },
           "name": "Año 2016",
           "orientation": "h",
           "type": "bar",
           "x": [
            155,
            89,
            341,
            215
           ],
           "y": [
            "Sí, lo he visto",
            "Sí, me ha pasado",
            "No",
            "No estoy seguro(a)"
           ]
          }
         ],
         "layout": {
          "title": {
           "text": "Año 2016"
          }
         },
         "name": "frame0"
        },
        {
         "data": [
          {
           "marker": {
            "color": "#BA68C8"
           },
           "name": "Año 2017",
           "orientation": "h",
           "type": "bar",
           "x": [
            83,
            54,
            218,
            141
           ],
           "y": [
            "Sí, lo he visto",
            "Sí, me ha pasado",
            "No",
            "No estoy seguro(a)"
           ]
          }
         ],
         "layout": {
          "title": {
           "text": "Año 2017"
          }
         },
         "name": "frame1"
        },
        {
         "data": [
          {
           "marker": {
            "color": "#BA68C8"
           },
           "name": "Año 2018",
           "orientation": "h",
           "type": "bar",
           "x": [
            70,
            37,
            133,
            72
           ],
           "y": [
            "Sí, lo he visto",
            "Sí, me ha pasado",
            "No",
            "No estoy seguro(a)"
           ]
          }
         ],
         "layout": {
          "title": {
           "text": "Año 2018"
          }
         },
         "name": "frame2"
        },
        {
         "data": [
          {
           "marker": {
            "color": "#BA68C8"
           },
           "name": "Año 2019",
           "orientation": "h",
           "type": "bar",
           "x": [
            39,
            32,
            83,
            50
           ],
           "y": [
            "Sí, lo he visto",
            "Sí, me ha pasado",
            "No",
            "No estoy seguro(a)"
           ]
          }
         ],
         "layout": {
          "title": {
           "text": "Año 2019"
          }
         },
         "name": "frame3"
        }
       ],
       "layout": {
        "template": {
         "data": {
          "candlestick": [
           {
            "decreasing": {
             "line": {
              "color": "#000033"
             }
            },
            "increasing": {
             "line": {
              "color": "#000032"
             }
            },
            "type": "candlestick"
           }
          ],
          "contour": [
           {
            "colorscale": [
             [
              0,
              "#000011"
             ],
             [
              0.1111111111111111,
              "#000012"
             ],
             [
              0.2222222222222222,
              "#000013"
             ],
             [
              0.3333333333333333,
              "#000014"
             ],
             [
              0.4444444444444444,
              "#000015"
             ],
             [
              0.5555555555555556,
              "#000016"
             ],
             [
              0.6666666666666666,
              "#000017"
             ],
             [
              0.7777777777777778,
              "#000018"
             ],
             [
              0.8888888888888888,
              "#000019"
             ],
             [
              1,
              "#000020"
             ]
            ],
            "type": "contour"
           }
          ],
          "contourcarpet": [
           {
            "colorscale": [
             [
              0,
              "#000011"
             ],
             [
              0.1111111111111111,
              "#000012"
             ],
             [
              0.2222222222222222,
              "#000013"
             ],
             [
              0.3333333333333333,
              "#000014"
             ],
             [
              0.4444444444444444,
              "#000015"
             ],
             [
              0.5555555555555556,
              "#000016"
             ],
             [
              0.6666666666666666,
              "#000017"
             ],
             [
              0.7777777777777778,
              "#000018"
             ],
             [
              0.8888888888888888,
              "#000019"
             ],
             [
              1,
              "#000020"
             ]
            ],
            "type": "contourcarpet"
           }
          ],
          "heatmap": [
           {
            "colorscale": [
             [
              0,
              "#000011"
             ],
             [
              0.1111111111111111,
              "#000012"
             ],
             [
              0.2222222222222222,
              "#000013"
             ],
             [
              0.3333333333333333,
              "#000014"
             ],
             [
              0.4444444444444444,
              "#000015"
             ],
             [
              0.5555555555555556,
              "#000016"
             ],
             [
              0.6666666666666666,
              "#000017"
             ],
             [
              0.7777777777777778,
              "#000018"
             ],
             [
              0.8888888888888888,
              "#000019"
             ],
             [
              1,
              "#000020"
             ]
            ],
            "type": "heatmap"
           }
          ],
          "histogram2d": [
           {
            "colorscale": [
             [
              0,
              "#000011"
             ],
             [
              0.1111111111111111,
              "#000012"
             ],
             [
              0.2222222222222222,
              "#000013"
             ],
             [
              0.3333333333333333,
              "#000014"
             ],
             [
              0.4444444444444444,
              "#000015"
             ],
             [
              0.5555555555555556,
              "#000016"
             ],
             [
              0.6666666666666666,
              "#000017"
             ],
             [
              0.7777777777777778,
              "#000018"
             ],
             [
              0.8888888888888888,
              "#000019"
             ],
             [
              1,
              "#000020"
             ]
            ],
            "type": "histogram2d"
           }
          ],
          "icicle": [
           {
            "textfont": {
             "color": "white"
            },
            "type": "icicle"
           }
          ],
          "sankey": [
           {
            "textfont": {
             "color": "#000036"
            },
            "type": "sankey"
           }
          ],
          "scatter": [
           {
            "marker": {
             "line": {
              "width": 0
             }
            },
            "type": "scatter"
           }
          ],
          "table": [
           {
            "cells": {
             "fill": {
              "color": "#000038"
             },
             "font": {
              "color": "#000037"
             },
             "line": {
              "color": "#000039"
             }
            },
            "header": {
             "fill": {
              "color": "#000040"
             },
             "font": {
              "color": "#000036"
             },
             "line": {
              "color": "#000039"
             }
            },
            "type": "table"
           }
          ],
          "waterfall": [
           {
            "connector": {
             "line": {
              "color": "#000036",
              "width": 2
             }
            },
            "decreasing": {
             "marker": {
              "color": "#000033"
             }
            },
            "increasing": {
             "marker": {
              "color": "#000032"
             }
            },
            "totals": {
             "marker": {
              "color": "#000034"
             }
            },
            "type": "waterfall"
           }
          ]
         },
         "layout": {
          "coloraxis": {
           "colorscale": [
            [
             0,
             "#000011"
            ],
            [
             0.1111111111111111,
             "#000012"
            ],
            [
             0.2222222222222222,
             "#000013"
            ],
            [
             0.3333333333333333,
             "#000014"
            ],
            [
             0.4444444444444444,
             "#000015"
            ],
            [
             0.5555555555555556,
             "#000016"
            ],
            [
             0.6666666666666666,
             "#000017"
            ],
            [
             0.7777777777777778,
             "#000018"
            ],
            [
             0.8888888888888888,
             "#000019"
            ],
            [
             1,
             "#000020"
            ]
           ]
          },
          "colorscale": {
           "diverging": [
            [
             0,
             "#000021"
            ],
            [
             0.1,
             "#000022"
            ],
            [
             0.2,
             "#000023"
            ],
            [
             0.3,
             "#000024"
            ],
            [
             0.4,
             "#000025"
            ],
            [
             0.5,
             "#000026"
            ],
            [
             0.6,
             "#000027"
            ],
            [
             0.7,
             "#000028"
            ],
            [
             0.8,
             "#000029"
            ],
            [
             0.9,
             "#000030"
            ],
            [
             1,
             "#000031"
            ]
           ],
           "sequential": [
            [
             0,
             "#000011"
            ],
            [
             0.1111111111111111,
             "#000012"
            ],
            [
             0.2222222222222222,
             "#000013"
            ],
            [
             0.3333333333333333,
             "#000014"
            ],
            [
             0.4444444444444444,
             "#000015"
            ],
            [
             0.5555555555555556,
             "#000016"
            ],
            [
             0.6666666666666666,
             "#000017"
            ],
            [
             0.7777777777777778,
             "#000018"
            ],
            [
             0.8888888888888888,
             "#000019"
            ],
            [
             1,
             "#000020"
            ]
           ],
           "sequentialminus": [
            [
             0,
             "#000011"
            ],
            [
             0.1111111111111111,
             "#000012"
            ],
            [
             0.2222222222222222,
             "#000013"
            ],
            [
             0.3333333333333333,
             "#000014"
            ],
            [
             0.4444444444444444,
             "#000015"
            ],
            [
             0.5555555555555556,
             "#000016"
            ],
            [
             0.6666666666666666,
             "#000017"
            ],
            [
             0.7777777777777778,
             "#000018"
            ],
            [
             0.8888888888888888,
             "#000019"
            ],
            [
             1,
             "#000020"
            ]
           ]
          },
          "colorway": [
           "#000001",
           "#000002",
           "#000003",
           "#000004",
           "#000005",
           "#000006",
           "#000007",
           "#000008",
           "#000009",
           "#000010"
          ]
         }
        },
        "title": {
         "text": "Respuesta Insolidaria o Mal Gestionada a un Problema de Salud Mental"
        },
        "transition": {
         "duration": 300
        },
        "updatemenus": [
         {
          "buttons": [
           {
            "args": [
             null,
             {
              "frame": {
               "duration": 500,
               "fromcurrent": true
              },
              "transition": {
               "duration": 300
              }
             }
            ],
            "label": "Play",
            "method": "animate"
           },
           {
            "args": [
             [
              null
             ],
             {
              "frame": {
               "duration": 0,
               "fromcurrent": true
              },
              "transition": {
               "duration": 0
              }
             }
            ],
            "label": "Pause",
            "method": "animate"
           }
          ],
          "direction": "down",
          "type": "buttons"
         }
        ],
        "xaxis": {
         "title": {
          "text": "Cantidad"
         }
        },
        "yaxis": {
         "title": {
          "text": "Respuesta"
         }
        }
       }
      }
     },
     "metadata": {},
     "output_type": "display_data"
    }
   ],
   "source": [
    "import plotly.graph_objects as go\n",
    "import pandas as pd\n",
    "\n",
    "Pregunta_52016 = pd.DataFrame({'Posee Enfermedad Mental Diagnosticada': [155, 89, 341, 215]}, index=['Sí, lo he visto', 'Sí, me ha pasado','No', 'No estoy seguro(a)'])\n",
    "Pregunta_52017 = pd.DataFrame({'Posee Enfermedad Mental Diagnosticada': [83, 54, 218, 141]}, index=['Sí, lo he visto', 'Sí, me ha pasado','No','No estoy seguro(a)'])\n",
    "Pregunta_52018 = pd.DataFrame({'Posee Enfermedad Mental Diagnosticada': [70, 37, 133, 72]}, index=['Sí, lo he visto','Sí, me ha pasado','No','No estoy seguro(a)'])\n",
    "Pregunta_52019 = pd.DataFrame({'Posee Enfermedad Mental Diagnosticada': [39, 32, 83, 50]}, index=['Sí, lo he visto','Sí, me ha pasado','No', 'No estoy seguro(a)'])\n",
    "\n",
    "# Combinar los df\n",
    "dataframes = [\n",
    "    Pregunta_52016.reset_index(),\n",
    "    Pregunta_52017.reset_index(),\n",
    "    Pregunta_52018.reset_index(),\n",
    "    Pregunta_52019.reset_index(),\n",
    "]\n",
    "\n",
    "# Crear la lista de nombres\n",
    "frames = []\n",
    "for i, df in enumerate(dataframes):\n",
    "    frame = go.Frame(\n",
    "        data=[go.Bar(x=df['Posee Enfermedad Mental Diagnosticada'], y=df['index'], \n",
    "                     name=f'Año {2016 + i}', \n",
    "                     marker=dict(color='#BA68C8'),\n",
    "                     orientation='h')],\n",
    "        layout=go.Layout(\n",
    "            title=f'Año {2016 + i}',\n",
    "        ),\n",
    "        name=f'frame{i}',\n",
    "    )\n",
    "    frames.append(frame)\n",
    "\n",
    "# Crear la figura inicial\n",
    "fig = go.Figure(\n",
    "    data=[go.Bar(x=dataframes[0]['Posee Enfermedad Mental Diagnosticada'], y=dataframes[0]['index'], \n",
    "                 name='Año 2016', \n",
    "                 marker=dict(color='#BA68C8'),\n",
    "                 orientation='h')],\n",
    "    layout=go.Layout(\n",
    "        title='Respuesta Insolidaria o Mal Gestionada a un Problema de Salud Mental',\n",
    "        xaxis_title='Cantidad',\n",
    "        yaxis_title='Respuesta',\n",
    "        updatemenus=[\n",
    "            dict(\n",
    "                type=\"buttons\",\n",
    "                direction=\"down\",\n",
    "                buttons=list([\n",
    "                    dict(label=\"Play\", method=\"animate\", args=[None, {\"frame\": {\"duration\": 500, \"fromcurrent\": True}, \"transition\": {\"duration\": 300}}],\n",
    "                         ),\n",
    "                    dict(label=\"Pause\", method=\"animate\", args=[[None], {\"frame\": {\"duration\": 0, \"fromcurrent\": True}, \"transition\": {\"duration\": 0}}],\n",
    "                         )\n",
    "                ]),\n",
    "            )\n",
    "        ]\n",
    "    )\n",
    ")\n",
    "\n",
    "fig.update_layout(transition={'duration': 300})\n",
    "\n",
    "fig.frames = frames\n",
    "\n",
    "# Mostrar la figura\n",
    "fig.show()"
   ]
  },
  {
   "cell_type": "code",
   "execution_count": 14,
   "metadata": {},
   "outputs": [
    {
     "name": "stdout",
     "output_type": "stream",
     "text": [
      "                               Enfermedades Mentales Diagnosticadas Ciudad de Residencia (EEUU)  Cantidad de personas\n",
      "           Trastorno de Ansiedad (Genralizado, Social, Fobia, etc.)                  California                    34\n",
      "Trastorno del Estado del Ánimo (Depresión, Trastorno Bipolar, etc.)                  California                    19\n",
      "           Trastorno de Ansiedad (Genralizado, Social, Fobia, etc.)                    Illinois                    18\n",
      "           Trastorno de Ansiedad (Genralizado, Social, Fobia, etc.)                 Pensilvania                    16\n",
      "           Trastorno de Ansiedad (Genralizado, Social, Fobia, etc.)                  Nueva York                    13\n"
     ]
    }
   ],
   "source": [
    "# Pregunta 2\n",
    "# ¿Cuáles son las 5 enfermedades más comunes de los encuestados según el estado donde residen? ¿Cambiaría este ranking si se toma en cuenta la edad y el genero? \n",
    "pregunta_2 = df_2016[df_2016['Enfermedades Mentales Diagnosticadas']!= 'No respondió'].groupby('Ciudad de Residencia (EEUU)')['Enfermedades Mentales Diagnosticadas'].value_counts().nlargest(5).reset_index(name='Frecuencia')\n",
    "\n",
    "pregunta_2 = pregunta_2.loc[:, ['Enfermedades Mentales Diagnosticadas', 'Ciudad de Residencia (EEUU)', 'Frecuencia']]  # Reordenar columnas\n",
    "\n",
    "pregunta_2.columns = ['Enfermedades Mentales Diagnosticadas', 'Ciudad de Residencia (EEUU)', 'Cantidad de personas']  # Renombrar columnas\n",
    "\n",
    "print(pregunta_2.to_string(header=True, index=False))"
   ]
  },
  {
   "cell_type": "code",
   "execution_count": 15,
   "metadata": {},
   "outputs": [
    {
     "ename": "NameError",
     "evalue": "name 'px' is not defined",
     "output_type": "error",
     "traceback": [
      "\u001b[1;31m---------------------------------------------------------------------------\u001b[0m",
      "\u001b[1;31mNameError\u001b[0m                                 Traceback (most recent call last)",
      "Cell \u001b[1;32mIn[15], line 26\u001b[0m\n\u001b[0;32m     10\u001b[0m data[\u001b[38;5;124m'\u001b[39m\u001b[38;5;124mState Abbrev\u001b[39m\u001b[38;5;124m'\u001b[39m] \u001b[38;5;241m=\u001b[39m data[\u001b[38;5;124m'\u001b[39m\u001b[38;5;124mState\u001b[39m\u001b[38;5;124m'\u001b[39m]\u001b[38;5;241m.\u001b[39mmap({\n\u001b[0;32m     11\u001b[0m     \u001b[38;5;124m'\u001b[39m\u001b[38;5;124mCalifornia\u001b[39m\u001b[38;5;124m'\u001b[39m: \u001b[38;5;124m'\u001b[39m\u001b[38;5;124mCA\u001b[39m\u001b[38;5;124m'\u001b[39m,\n\u001b[0;32m     12\u001b[0m     \u001b[38;5;124m'\u001b[39m\u001b[38;5;124mIllinois\u001b[39m\u001b[38;5;124m'\u001b[39m: \u001b[38;5;124m'\u001b[39m\u001b[38;5;124mIL\u001b[39m\u001b[38;5;124m'\u001b[39m,\n\u001b[0;32m     13\u001b[0m     \u001b[38;5;124m'\u001b[39m\u001b[38;5;124mPennsylvania\u001b[39m\u001b[38;5;124m'\u001b[39m: \u001b[38;5;124m'\u001b[39m\u001b[38;5;124mPA\u001b[39m\u001b[38;5;124m'\u001b[39m,\n\u001b[0;32m     14\u001b[0m     \u001b[38;5;124m'\u001b[39m\u001b[38;5;124mNew York\u001b[39m\u001b[38;5;124m'\u001b[39m: \u001b[38;5;124m'\u001b[39m\u001b[38;5;124mNY\u001b[39m\u001b[38;5;124m'\u001b[39m\n\u001b[0;32m     15\u001b[0m })\n\u001b[0;32m     18\u001b[0m data[\u001b[38;5;124m'\u001b[39m\u001b[38;5;124mMental Health Condition\u001b[39m\u001b[38;5;124m'\u001b[39m] \u001b[38;5;241m=\u001b[39m data[\u001b[38;5;124m'\u001b[39m\u001b[38;5;124mState\u001b[39m\u001b[38;5;124m'\u001b[39m]\u001b[38;5;241m.\u001b[39mmap({\n\u001b[0;32m     19\u001b[0m     \u001b[38;5;124m'\u001b[39m\u001b[38;5;124mCalifornia\u001b[39m\u001b[38;5;124m'\u001b[39m: \u001b[38;5;124m'\u001b[39m\u001b[38;5;124mTrastorno de Ansiedad (Generalizado,Fobia, Social, Trastorno del Ánimo (Depresión, Trastorno Bipolar, etc))\u001b[39m\u001b[38;5;124m'\u001b[39m,\n\u001b[0;32m     20\u001b[0m     \u001b[38;5;124m'\u001b[39m\u001b[38;5;124mIllinois\u001b[39m\u001b[38;5;124m'\u001b[39m: \u001b[38;5;124m'\u001b[39m\u001b[38;5;124mGeneralizado,Fobia, Social\u001b[39m\u001b[38;5;124m'\u001b[39m,\n\u001b[0;32m     21\u001b[0m     \u001b[38;5;124m'\u001b[39m\u001b[38;5;124mPennsylvania\u001b[39m\u001b[38;5;124m'\u001b[39m: \u001b[38;5;124m'\u001b[39m\u001b[38;5;124mGeneralizado,Fobia, Social\u001b[39m\u001b[38;5;124m'\u001b[39m,\n\u001b[0;32m     22\u001b[0m     \u001b[38;5;124m'\u001b[39m\u001b[38;5;124mNew York\u001b[39m\u001b[38;5;124m'\u001b[39m: \u001b[38;5;124m'\u001b[39m\u001b[38;5;124mGeneralizado,Fobia, Social\u001b[39m\u001b[38;5;124m'\u001b[39m\n\u001b[0;32m     23\u001b[0m })\n\u001b[1;32m---> 26\u001b[0m fig \u001b[38;5;241m=\u001b[39m \u001b[43mpx\u001b[49m\u001b[38;5;241m.\u001b[39mchoropleth(\n\u001b[0;32m     27\u001b[0m     data,\n\u001b[0;32m     28\u001b[0m     locations\u001b[38;5;241m=\u001b[39m\u001b[38;5;124m\"\u001b[39m\u001b[38;5;124mState Abbrev\u001b[39m\u001b[38;5;124m\"\u001b[39m, \n\u001b[0;32m     29\u001b[0m     locationmode\u001b[38;5;241m=\u001b[39m\u001b[38;5;124m\"\u001b[39m\u001b[38;5;124mUSA-states\u001b[39m\u001b[38;5;124m\"\u001b[39m,\n\u001b[0;32m     30\u001b[0m     color\u001b[38;5;241m=\u001b[39m\u001b[38;5;124m\"\u001b[39m\u001b[38;5;124mFrequency\u001b[39m\u001b[38;5;124m\"\u001b[39m,\n\u001b[0;32m     31\u001b[0m     scope\u001b[38;5;241m=\u001b[39m\u001b[38;5;124m\"\u001b[39m\u001b[38;5;124musa\u001b[39m\u001b[38;5;124m\"\u001b[39m,\n\u001b[0;32m     32\u001b[0m     color_continuous_scale\u001b[38;5;241m=\u001b[39m\u001b[38;5;124m\"\u001b[39m\u001b[38;5;124mPurples\u001b[39m\u001b[38;5;124m\"\u001b[39m, \n\u001b[0;32m     33\u001b[0m     hover_name\u001b[38;5;241m=\u001b[39m\u001b[38;5;124m\"\u001b[39m\u001b[38;5;124mState\u001b[39m\u001b[38;5;124m\"\u001b[39m,\n\u001b[0;32m     34\u001b[0m     hover_data\u001b[38;5;241m=\u001b[39m[\u001b[38;5;124m\"\u001b[39m\u001b[38;5;124mFrequency\u001b[39m\u001b[38;5;124m\"\u001b[39m, \u001b[38;5;124m\"\u001b[39m\u001b[38;5;124mMental Health Condition\u001b[39m\u001b[38;5;124m\"\u001b[39m], \n\u001b[0;32m     35\u001b[0m     color_continuous_midpoint\u001b[38;5;241m=\u001b[39mdata[\u001b[38;5;124m'\u001b[39m\u001b[38;5;124mFrequency\u001b[39m\u001b[38;5;124m'\u001b[39m]\u001b[38;5;241m.\u001b[39mmean(), \n\u001b[0;32m     36\u001b[0m     title\u001b[38;5;241m=\u001b[39m\u001b[38;5;124m\"\u001b[39m\u001b[38;5;124mFrecuencia de Condiciones de Salud Mental por Estado en EE. UU.\u001b[39m\u001b[38;5;124m\"\u001b[39m,  \n\u001b[0;32m     37\u001b[0m )\n\u001b[0;32m     39\u001b[0m fig\u001b[38;5;241m.\u001b[39mupdate_layout(coloraxis_colorbar\u001b[38;5;241m=\u001b[39m\u001b[38;5;28mdict\u001b[39m(title\u001b[38;5;241m=\u001b[39m\u001b[38;5;124m\"\u001b[39m\u001b[38;5;124mFrecuencia de Casos\u001b[39m\u001b[38;5;124m\"\u001b[39m))\n\u001b[0;32m     41\u001b[0m \u001b[38;5;66;03m# Show the graph\u001b[39;00m\n",
      "\u001b[1;31mNameError\u001b[0m: name 'px' is not defined"
     ]
    }
   ],
   "source": [
    "data = pd.DataFrame({\n",
    "    'State': ['California', 'California', 'Illinois', 'Pennsylvania', 'New York'],\n",
    "    'Frequency': [34, 19, 18, 16, 13]\n",
    "})\n",
    "\n",
    "\n",
    "data = data.groupby('State')['Frequency'].sum().reset_index()\n",
    "\n",
    "\n",
    "data['State Abbrev'] = data['State'].map({\n",
    "    'California': 'CA',\n",
    "    'Illinois': 'IL',\n",
    "    'Pennsylvania': 'PA',\n",
    "    'New York': 'NY'\n",
    "})\n",
    "\n",
    "\n",
    "data['Mental Health Condition'] = data['State'].map({\n",
    "    'California': 'Trastorno de Ansiedad (Generalizado,Fobia, Social, Trastorno del Ánimo (Depresión, Trastorno Bipolar, etc))',\n",
    "    'Illinois': 'Generalizado,Fobia, Social',\n",
    "    'Pennsylvania': 'Generalizado,Fobia, Social',\n",
    "    'New York': 'Generalizado,Fobia, Social'\n",
    "})\n",
    "\n",
    "\n",
    "fig = px.choropleth(\n",
    "    data,\n",
    "    locations=\"State Abbrev\", \n",
    "    locationmode=\"USA-states\",\n",
    "    color=\"Frequency\",\n",
    "    scope=\"usa\",\n",
    "    color_continuous_scale=\"Purples\", \n",
    "    hover_name=\"State\",\n",
    "    hover_data=[\"Frequency\", \"Mental Health Condition\"], \n",
    "    color_continuous_midpoint=data['Frequency'].mean(), \n",
    "    title=\"Frecuencia de Condiciones de Salud Mental por Estado en EE. UU.\",  \n",
    ")\n",
    "\n",
    "fig.update_layout(coloraxis_colorbar=dict(title=\"Frecuencia de Casos\"))\n",
    "\n",
    "# Show the graph\n",
    "fig.show()"
   ]
  },
  {
   "cell_type": "code",
   "execution_count": null,
   "metadata": {},
   "outputs": [
    {
     "data": {
      "application/vnd.plotly.v1+json": {
       "config": {
        "plotlyServerURL": "https://plot.ly"
       },
       "data": [
        {
         "coloraxis": "coloraxis",
         "customdata": [
          [
           2,
           "Trastorno del Estado del Ánimo (Depresion, Trastorno Bipolar, etc.)"
          ],
          [
           1,
           "Trastorno de Ansiedad (Genralizado, Social, Fobia, etc.)"
          ],
          [
           34,
           "Trastorno de Ansiedad (Genralizado, Social, Fobia, etc.)"
          ],
          [
           8,
           "Trastorno de Ansiedad (Genralizado, Social, Fobia, etc.)"
          ],
          [
           1,
           "Trastorno de Ansiedad (Genralizado, Social, Fobia, etc.)"
          ],
          [
           3,
           "Trastorno de Ansiedad (Genralizado, Social, Fobia, etc.)"
          ],
          [
           1,
           "Trastorno de Ansiedad (Genralizado, Social, Fobia, etc.)"
          ],
          [
           5,
           "Trastorno de Ansiedad (Genralizado, Social, Fobia, etc.)"
          ],
          [
           3,
           "Trastorno de Ansiedad (Genralizado, Social, Fobia, etc.)"
          ],
          [
           2,
           "Trastorno del Estado del Ánimo (Depresion, Trastorno Bipolar, etc.)"
          ],
          [
           18,
           "Trastorno de Ansiedad (Genralizado, Social, Fobia, etc.)"
          ],
          [
           8,
           "Trastorno de Ansiedad (Genralizado, Social, Fobia, etc.)"
          ],
          [
           2,
           "Trastorno de Ansiedad (Genralizado, Social, Fobia, etc.)"
          ],
          [
           2,
           "Trastorno de Ansiedad (Genralizado, Social, Fobia, etc.)"
          ],
          [
           2,
           "Trastorno de Ansiedad (Genralizado, Social, Fobia, etc.)"
          ],
          [
           2,
           "Trastorno de Ansiedad (Genralizado, Social, Fobia, etc.)"
          ],
          [
           3,
           "Trastorno de Ansiedad (Genralizado, Social, Fobia, etc.)"
          ],
          [
           4,
           "Trastorno del Estado del Ánimo (Depresion, Trastorno Bipolar, etc.)"
          ],
          [
           12,
           "Trastorno de Ansiedad (Genralizado, Social, Fobia, etc.)"
          ],
          [
           12,
           "Trastorno de Ansiedad (Genralizado, Social, Fobia, etc.)"
          ],
          [
           2,
           "Trastorno de Ansiedad (Genralizado, Social, Fobia, etc.)"
          ],
          [
           2,
           "Trastorno de Ansiedad (Genralizado, Social, Fobia, etc.)"
          ],
          [
           3,
           "Trastorno de Ansiedad (Genralizado, Social, Fobia, etc.)"
          ],
          [
           13,
           "Trastorno de Ansiedad (Genralizado, Social, Fobia, etc.)"
          ],
          [
           1,
           "Trastorno de Ansiedad (Genralizado, Social, Fobia, etc.)"
          ],
          [
           6,
           "Trastorno de Ansiedad (Genralizado, Social, Fobia, etc.)"
          ],
          [
           2,
           "Trastorno de Ansiedad (Genralizado, Social, Fobia, etc.)"
          ],
          [
           11,
           "Trastorno de Ansiedad (Genralizado, Social, Fobia, etc.)"
          ],
          [
           16,
           "Trastorno de Ansiedad (Genralizado, Social, Fobia, etc.)"
          ],
          [
           1,
           "Trastorno Obsesivo-Compulsivo"
          ],
          [
           6,
           "Trastorno de Ansiedad (Genralizado, Social, Fobia, etc.)"
          ],
          [
           13,
           "Trastorno de Ansiedad (Genralizado, Social, Fobia, etc.)"
          ],
          [
           3,
           "Trastorno de Ansiedad (Genralizado, Social, Fobia, etc.)"
          ],
          [
           1,
           "Trastorno de Consumo de Sustancias"
          ],
          [
           4,
           "Trastorno de Ansiedad (Genralizado, Social, Fobia, etc.)"
          ],
          [
           1,
           "Trastorno de Ansiedad (Genralizado, Social, Fobia, etc.)"
          ],
          [
           10,
           "Trastorno de Ansiedad (Genralizado, Social, Fobia, etc.)"
          ],
          [
           5,
           "Trastorno del Estado del Ánimo (Depresion, Trastorno Bipolar, etc.)"
          ]
         ],
         "geo": "geo",
         "hovertemplate": "<b>%{hovertext}</b><br><br>State Abbrev=%{location}<br>Frequency=%{z}<br>Mental Health Condition=%{customdata[1]}<extra></extra>",
         "hovertext": [
          "Alabama",
          "Arizona",
          "California",
          "Carolina del Norte",
          "Carolina del Sur",
          "Connecticut",
          "Delaware",
          "Florida",
          "Georgia",
          "Idaho",
          "Illinois",
          "Indiana",
          "Kansas",
          "Kentucky",
          "Louisiana",
          "Maine",
          "Maryland",
          "Massachusetts",
          "Michigan",
          "Minnesota",
          "Missouri",
          "Nebraska",
          "Nueva Jersey",
          "Nueva York",
          "Nuevo Hampshire",
          "Ohio",
          "Oklahoma",
          "Oregon",
          "Pensilvania",
          "Rhode Island",
          "Tennessee",
          "Texas",
          "Utah",
          "Vermont",
          "Virginia",
          "Virginia del Oeste",
          "Washington",
          "Wisconsin"
         ],
         "locationmode": "USA-states",
         "locations": [
          "AL",
          "AZ",
          "CA",
          "NC",
          "SC",
          "CT",
          "DE",
          "FL",
          "GA",
          "ID",
          "IL",
          "IN",
          "KS",
          "KY",
          "LA",
          "ME",
          "MD",
          "MA",
          "MI",
          "MN",
          "MO",
          "NE",
          "NJ",
          "NY",
          "NH",
          "OH",
          "OK",
          "OR",
          "PA",
          "RI",
          "TN",
          "TX",
          "UT",
          "VT",
          "VA",
          "WV",
          "WA",
          "WI"
         ],
         "name": "",
         "type": "choropleth",
         "z": [
          2,
          1,
          34,
          8,
          1,
          3,
          1,
          5,
          3,
          2,
          18,
          8,
          2,
          2,
          2,
          2,
          3,
          4,
          12,
          12,
          2,
          2,
          3,
          13,
          1,
          6,
          2,
          11,
          16,
          1,
          6,
          13,
          3,
          1,
          4,
          1,
          10,
          5
         ]
        }
       ],
       "layout": {
        "coloraxis": {
         "cmid": 5.921052631578948,
         "colorbar": {
          "title": {
           "text": "Frecuencia de Casos"
          }
         },
         "colorscale": [
          [
           0,
           "lightgray"
          ],
          [
           0.2,
           "lightblue"
          ],
          [
           0.4,
           "skyblue"
          ],
          [
           0.6,
           "blue"
          ],
          [
           0.8,
           "darkblue"
          ],
          [
           1,
           "navy"
          ]
         ]
        },
        "geo": {
         "center": {},
         "domain": {
          "x": [
           0,
           1
          ],
          "y": [
           0,
           1
          ]
         },
         "scope": "usa"
        },
        "legend": {
         "tracegroupgap": 0
        },
        "template": {
         "data": {
          "candlestick": [
           {
            "decreasing": {
             "line": {
              "color": "#000033"
             }
            },
            "increasing": {
             "line": {
              "color": "#000032"
             }
            },
            "type": "candlestick"
           }
          ],
          "contour": [
           {
            "colorscale": [
             [
              0,
              "#000011"
             ],
             [
              0.1111111111111111,
              "#000012"
             ],
             [
              0.2222222222222222,
              "#000013"
             ],
             [
              0.3333333333333333,
              "#000014"
             ],
             [
              0.4444444444444444,
              "#000015"
             ],
             [
              0.5555555555555556,
              "#000016"
             ],
             [
              0.6666666666666666,
              "#000017"
             ],
             [
              0.7777777777777778,
              "#000018"
             ],
             [
              0.8888888888888888,
              "#000019"
             ],
             [
              1,
              "#000020"
             ]
            ],
            "type": "contour"
           }
          ],
          "contourcarpet": [
           {
            "colorscale": [
             [
              0,
              "#000011"
             ],
             [
              0.1111111111111111,
              "#000012"
             ],
             [
              0.2222222222222222,
              "#000013"
             ],
             [
              0.3333333333333333,
              "#000014"
             ],
             [
              0.4444444444444444,
              "#000015"
             ],
             [
              0.5555555555555556,
              "#000016"
             ],
             [
              0.6666666666666666,
              "#000017"
             ],
             [
              0.7777777777777778,
              "#000018"
             ],
             [
              0.8888888888888888,
              "#000019"
             ],
             [
              1,
              "#000020"
             ]
            ],
            "type": "contourcarpet"
           }
          ],
          "heatmap": [
           {
            "colorscale": [
             [
              0,
              "#000011"
             ],
             [
              0.1111111111111111,
              "#000012"
             ],
             [
              0.2222222222222222,
              "#000013"
             ],
             [
              0.3333333333333333,
              "#000014"
             ],
             [
              0.4444444444444444,
              "#000015"
             ],
             [
              0.5555555555555556,
              "#000016"
             ],
             [
              0.6666666666666666,
              "#000017"
             ],
             [
              0.7777777777777778,
              "#000018"
             ],
             [
              0.8888888888888888,
              "#000019"
             ],
             [
              1,
              "#000020"
             ]
            ],
            "type": "heatmap"
           }
          ],
          "histogram2d": [
           {
            "colorscale": [
             [
              0,
              "#000011"
             ],
             [
              0.1111111111111111,
              "#000012"
             ],
             [
              0.2222222222222222,
              "#000013"
             ],
             [
              0.3333333333333333,
              "#000014"
             ],
             [
              0.4444444444444444,
              "#000015"
             ],
             [
              0.5555555555555556,
              "#000016"
             ],
             [
              0.6666666666666666,
              "#000017"
             ],
             [
              0.7777777777777778,
              "#000018"
             ],
             [
              0.8888888888888888,
              "#000019"
             ],
             [
              1,
              "#000020"
             ]
            ],
            "type": "histogram2d"
           }
          ],
          "icicle": [
           {
            "textfont": {
             "color": "white"
            },
            "type": "icicle"
           }
          ],
          "sankey": [
           {
            "textfont": {
             "color": "#000036"
            },
            "type": "sankey"
           }
          ],
          "scatter": [
           {
            "marker": {
             "line": {
              "width": 0
             }
            },
            "type": "scatter"
           }
          ],
          "table": [
           {
            "cells": {
             "fill": {
              "color": "#000038"
             },
             "font": {
              "color": "#000037"
             },
             "line": {
              "color": "#000039"
             }
            },
            "header": {
             "fill": {
              "color": "#000040"
             },
             "font": {
              "color": "#000036"
             },
             "line": {
              "color": "#000039"
             }
            },
            "type": "table"
           }
          ],
          "waterfall": [
           {
            "connector": {
             "line": {
              "color": "#000036",
              "width": 2
             }
            },
            "decreasing": {
             "marker": {
              "color": "#000033"
             }
            },
            "increasing": {
             "marker": {
              "color": "#000032"
             }
            },
            "totals": {
             "marker": {
              "color": "#000034"
             }
            },
            "type": "waterfall"
           }
          ]
         },
         "layout": {
          "coloraxis": {
           "colorscale": [
            [
             0,
             "#000011"
            ],
            [
             0.1111111111111111,
             "#000012"
            ],
            [
             0.2222222222222222,
             "#000013"
            ],
            [
             0.3333333333333333,
             "#000014"
            ],
            [
             0.4444444444444444,
             "#000015"
            ],
            [
             0.5555555555555556,
             "#000016"
            ],
            [
             0.6666666666666666,
             "#000017"
            ],
            [
             0.7777777777777778,
             "#000018"
            ],
            [
             0.8888888888888888,
             "#000019"
            ],
            [
             1,
             "#000020"
            ]
           ]
          },
          "colorscale": {
           "diverging": [
            [
             0,
             "#000021"
            ],
            [
             0.1,
             "#000022"
            ],
            [
             0.2,
             "#000023"
            ],
            [
             0.3,
             "#000024"
            ],
            [
             0.4,
             "#000025"
            ],
            [
             0.5,
             "#000026"
            ],
            [
             0.6,
             "#000027"
            ],
            [
             0.7,
             "#000028"
            ],
            [
             0.8,
             "#000029"
            ],
            [
             0.9,
             "#000030"
            ],
            [
             1,
             "#000031"
            ]
           ],
           "sequential": [
            [
             0,
             "#000011"
            ],
            [
             0.1111111111111111,
             "#000012"
            ],
            [
             0.2222222222222222,
             "#000013"
            ],
            [
             0.3333333333333333,
             "#000014"
            ],
            [
             0.4444444444444444,
             "#000015"
            ],
            [
             0.5555555555555556,
             "#000016"
            ],
            [
             0.6666666666666666,
             "#000017"
            ],
            [
             0.7777777777777778,
             "#000018"
            ],
            [
             0.8888888888888888,
             "#000019"
            ],
            [
             1,
             "#000020"
            ]
           ],
           "sequentialminus": [
            [
             0,
             "#000011"
            ],
            [
             0.1111111111111111,
             "#000012"
            ],
            [
             0.2222222222222222,
             "#000013"
            ],
            [
             0.3333333333333333,
             "#000014"
            ],
            [
             0.4444444444444444,
             "#000015"
            ],
            [
             0.5555555555555556,
             "#000016"
            ],
            [
             0.6666666666666666,
             "#000017"
            ],
            [
             0.7777777777777778,
             "#000018"
            ],
            [
             0.8888888888888888,
             "#000019"
            ],
            [
             1,
             "#000020"
            ]
           ]
          },
          "colorway": [
           "#000001",
           "#000002",
           "#000003",
           "#000004",
           "#000005",
           "#000006",
           "#000007",
           "#000008",
           "#000009",
           "#000010"
          ]
         }
        },
        "title": {
         "text": "Frecuencia de Condiciones de Salud Mental por Estado en EE. UU."
        }
       }
      }
     },
     "metadata": {},
     "output_type": "display_data"
    }
   ],
   "source": [
    "data = pd.DataFrame({\n",
    "    'State': ['Alabama', 'Arizona', \"California\",\"Carolina del Norte\", \"Carolina del Sur\", \"Connecticut\", \"Delaware\", \"Florida\",\"Georgia\", \"Idaho\", \"Illinois\", \"Indiana\", \"Kansas\", \"Kentucky\", \"Louisiana\",\"Maine\",\"Maryland\",\"Massachusetts\",\"Michigan\",\"Minnesota\",\"Missouri\",\"Nebraska\",\"Nueva Jersey\",\"Nueva York\",\"Nuevo Hampshire\",\"Ohio\",\"Oklahoma\",\"Oregon\",\"Pensilvania\",\"Rhode Island\",\"Tennessee\",\"Texas\",\"Utah\",\"Vermont\",\"Virginia\",\"Virginia del Oeste\",\"Washington\",\"Wisconsin\"],\n",
    "    'Frequency': [2,1,34,8,1,3,1,5,3,2,18,8,2,2,2,2,3,4,12,12,2,2,3,13,1,6,2,11,16,1,6,13,3,1,4,1,10,5]\n",
    "})\n",
    "\n",
    "# Group the data by state and sum the frequencies\n",
    "data = data.groupby('State')['Frequency'].sum().reset_index()\n",
    "\n",
    "# Create a column with state abbreviations\n",
    "data['State Abbrev'] = data['State'].map({\n",
    "    \"Alabama\":\"AL\",\n",
    "\"Arizona\": \"AZ\",\n",
    "\"California\": \"CA\",\n",
    "\"Carolina del Norte\": \"NC\",\n",
    "\"Carolina del Sur\":\"SC\",\n",
    "\"Connecticut\": \"CT\",\n",
    "\"Delaware\": \"DE\",\n",
    "\"Florida\": \"FL\",\n",
    "\"Georgia\": \"GA\",\n",
    "\"Idaho\": \"ID\",\n",
    "\"Illinois\": \"IL\",\n",
    "\"Indiana\": \"IN\",\n",
    "\"Kansas\": \"KS\",\n",
    "\"Kentucky\": \"KY\",\n",
    "\"Louisiana\": \"LA\",\n",
    "\"Maine\": \"ME\",\n",
    "\"Maryland\": \"MD\",\n",
    "\"Massachusetts\": \"MA\",\n",
    "\"Michigan\": \"MI\",\n",
    "\"Minnesota\": \"MN\",\n",
    "\"Missouri\": \"MO\",\n",
    "\"Nebraska\": \"NE\",\n",
    "\"Nueva Jersey\": \"NJ\",\n",
    "\"Nueva York\": \"NY\",\n",
    "\"Nuevo Hampshire\": \"NH\",\n",
    "\"Ohio\": \"OH\",\n",
    "\"Oklahoma\": \"OK\",\n",
    "\"Oregon\": \"OR\",\n",
    "\"Pensilvania\": \"PA\",\n",
    "\"Rhode Island\": \"RI\",\n",
    "\"Tennessee\": \"TN\",\n",
    "\"Texas\": \"TX\",\n",
    "\"Utah\": \"UT\",\n",
    "\"Vermont\": \"VT\",\n",
    "\"Virginia\": \"VA\",\n",
    "\"Virginia del Oeste\": \"WV\",\n",
    "\"Washington\": \"WA\",\n",
    "\"Wisconsin\": \"WI\"\n",
    "\n",
    "})\n",
    "\n",
    "# Add a new column with mental health condition information\n",
    "data['Mental Health Condition'] = data['State'].map({\n",
    "   \"Alabama\":\"Trastorno del Estado del Ánimo (Depresion, Trastorno Bipolar, etc.)\",\n",
    "\"Arizona\": \"Trastorno de Ansiedad (Genralizado, Social, Fobia, etc.)\",\n",
    "\"California\": \"Trastorno de Ansiedad (Genralizado, Social, Fobia, etc.)\",\n",
    "\"Carolina del Norte\": \"Trastorno de Ansiedad (Genralizado, Social, Fobia, etc.)\",\n",
    "\"Carolina del Sur\":\"Trastorno de Ansiedad (Genralizado, Social, Fobia, etc.)\",\n",
    "\"Connecticut\": \"Trastorno de Ansiedad (Genralizado, Social, Fobia, etc.)\",\n",
    "\"Delaware\": \"Trastorno de Ansiedad (Genralizado, Social, Fobia, etc.)\",\n",
    "\"Florida\": \"Trastorno de Ansiedad (Genralizado, Social, Fobia, etc.)\",\n",
    "\"Georgia\": \"Trastorno de Ansiedad (Genralizado, Social, Fobia, etc.)\",\n",
    "\"Idaho\": \"Trastorno del Estado del Ánimo (Depresion, Trastorno Bipolar, etc.)\",\n",
    "\"Illinois\": \"Trastorno de Ansiedad (Genralizado, Social, Fobia, etc.)\",\n",
    "\"Indiana\": \"Trastorno de Ansiedad (Genralizado, Social, Fobia, etc.)\",\n",
    "\"Kansas\": \"Trastorno de Ansiedad (Genralizado, Social, Fobia, etc.)\",\n",
    "\"Kentucky\": \"Trastorno de Ansiedad (Genralizado, Social, Fobia, etc.)\",\n",
    "\"Louisiana\": \"Trastorno de Ansiedad (Genralizado, Social, Fobia, etc.)\",\n",
    "\"Maine\": \"Trastorno de Ansiedad (Genralizado, Social, Fobia, etc.)\",\n",
    "\"Maryland\": \"Trastorno de Ansiedad (Genralizado, Social, Fobia, etc.)\",\n",
    "\"Massachusetts\": \"Trastorno del Estado del Ánimo (Depresion, Trastorno Bipolar, etc.)\",\n",
    "\"Michigan\": \"Trastorno de Ansiedad (Genralizado, Social, Fobia, etc.)\",\n",
    "\"Minnesota\": \"Trastorno de Ansiedad (Genralizado, Social, Fobia, etc.)\",\n",
    "\"Missouri\": \"Trastorno de Ansiedad (Genralizado, Social, Fobia, etc.)\",\n",
    "\"Nebraska\": \"Trastorno de Ansiedad (Genralizado, Social, Fobia, etc.)\",\n",
    "\"Nueva Jersey\": \"Trastorno de Ansiedad (Genralizado, Social, Fobia, etc.)\",\n",
    "\"Nueva York\": \"Trastorno de Ansiedad (Genralizado, Social, Fobia, etc.)\",\n",
    "\"Nuevo Hampshire\": \"Trastorno de Ansiedad (Genralizado, Social, Fobia, etc.)\",\n",
    "\"Ohio\": \"Trastorno de Ansiedad (Genralizado, Social, Fobia, etc.)\",\n",
    "\"Oklahoma\": \"Trastorno de Ansiedad (Genralizado, Social, Fobia, etc.)\",\n",
    "\"Oregon\": \"Trastorno de Ansiedad (Genralizado, Social, Fobia, etc.)\",\n",
    "\"Pensilvania\": \"Trastorno de Ansiedad (Genralizado, Social, Fobia, etc.)\",\n",
    "\"Rhode Island\": \"Trastorno Obsesivo-Compulsivo\",\n",
    "\"Tennessee\": \"Trastorno de Ansiedad (Genralizado, Social, Fobia, etc.)\",\n",
    "\"Texas\": \"Trastorno de Ansiedad (Genralizado, Social, Fobia, etc.)\",\n",
    "\"Utah\": \"Trastorno de Ansiedad (Genralizado, Social, Fobia, etc.)\",\n",
    "\"Vermont\": \"Trastorno de Consumo de Sustancias\",\n",
    "\"Virginia\": \"Trastorno de Ansiedad (Genralizado, Social, Fobia, etc.)\",\n",
    "\"Virginia del Oeste\": \"Trastorno de Ansiedad (Genralizado, Social, Fobia, etc.)\",\n",
    "\"Washington\": \"Trastorno de Ansiedad (Genralizado, Social, Fobia, etc.)\",\n",
    "\"Wisconsin\": \"Trastorno del Estado del Ánimo (Depresion, Trastorno Bipolar, etc.)\"\n",
    "})\n",
    "\n",
    "# Create a choropleth map\n",
    "fig = px.choropleth(\n",
    "    data,\n",
    "    locations=\"State Abbrev\",  \n",
    "    locationmode=\"USA-states\",\n",
    "    color=\"Frequency\",\n",
    "    scope=\"usa\",\n",
    "    color_continuous_scale=[\n",
    "        (0, \"lightgray\"), \n",
    "        (0.2, \"lightblue\"),  \n",
    "        (0.4, \"skyblue\"),  \n",
    "        (0.6, \"blue\"), \n",
    "        (0.8, \"darkblue\"),  \n",
    "        (1, \"navy\") \n",
    "    ],\n",
    "    hover_name=\"State\",\n",
    "    hover_data=[\"Frequency\", \"Mental Health Condition\"],  \n",
    "    color_continuous_midpoint=data['Frequency'].mean(),  \n",
    "    title=\"Frecuencia de Condiciones de Salud Mental por Estado en EE. UU.\", \n",
    ")\n",
    "\n",
    "fig.update_layout(coloraxis_colorbar=dict(title=\"Frecuencia de Casos\"))"
   ]
  },
  {
   "cell_type": "code",
   "execution_count": null,
   "metadata": {},
   "outputs": [
    {
     "name": "stdout",
     "output_type": "stream",
     "text": [
      "                 Enfermedades Mentales Diagnosticadas   Edad  \\\n",
      "8   Trastorno de Ansiedad (Genralizado, Social, Fo...  19-25   \n",
      "22  Trastorno de Ansiedad (Genralizado, Social, Fo...  26-32   \n",
      "36  Trastorno de Ansiedad (Genralizado, Social, Fo...  33-38   \n",
      "50  Trastorno de Ansiedad (Genralizado, Social, Fo...  39-44   \n",
      "64  Trastorno de Ansiedad (Genralizado, Social, Fo...  45-50   \n",
      "78  Trastorno de Ansiedad (Genralizado, Social, Fo...  51-56   \n",
      "92  Trastorno de Ansiedad (Genralizado, Social, Fo...  57-66   \n",
      "\n",
      "    Cantidad de personas  \n",
      "8                     37  \n",
      "22                    75  \n",
      "36                    65  \n",
      "50                    28  \n",
      "64                    14  \n",
      "78                     5  \n",
      "92                     4  \n"
     ]
    },
    {
     "name": "stderr",
     "output_type": "stream",
     "text": [
      "C:\\Users\\DELL\\AppData\\Local\\Temp\\ipykernel_22256\\2308210389.py:10: SettingWithCopyWarning: \n",
      "A value is trying to be set on a copy of a slice from a DataFrame.\n",
      "Try using .loc[row_indexer,col_indexer] = value instead\n",
      "\n",
      "See the caveats in the documentation: https://pandas.pydata.org/pandas-docs/stable/user_guide/indexing.html#returning-a-view-versus-a-copy\n",
      "  df_20162['Edad'] = df_20162['Edad'].astype(int)\n",
      "C:\\Users\\DELL\\AppData\\Local\\Temp\\ipykernel_22256\\2308210389.py:13: SettingWithCopyWarning: \n",
      "A value is trying to be set on a copy of a slice from a DataFrame.\n",
      "Try using .loc[row_indexer,col_indexer] = value instead\n",
      "\n",
      "See the caveats in the documentation: https://pandas.pydata.org/pandas-docs/stable/user_guide/indexing.html#returning-a-view-versus-a-copy\n",
      "  df_20162['Enfermedades Mentales Diagnosticadas'] = df_20162['Enfermedades Mentales Diagnosticadas'].astype(str)\n",
      "C:\\Users\\DELL\\AppData\\Local\\Temp\\ipykernel_22256\\2308210389.py:16: SettingWithCopyWarning: \n",
      "A value is trying to be set on a copy of a slice from a DataFrame.\n",
      "Try using .loc[row_indexer,col_indexer] = value instead\n",
      "\n",
      "See the caveats in the documentation: https://pandas.pydata.org/pandas-docs/stable/user_guide/indexing.html#returning-a-view-versus-a-copy\n",
      "  df_20162['Edad'] = pd.cut(df_20162['Edad'], bins=[18, 25, 32, 38, 44, 50, 56, 66],\n",
      "C:\\Users\\DELL\\AppData\\Local\\Temp\\ipykernel_22256\\2308210389.py:24: FutureWarning: The default of observed=False is deprecated and will be changed to True in a future version of pandas. Pass observed=False to retain current behavior or observed=True to adopt the future default and silence this warning.\n",
      "  pregunta2_2 = df_20162.groupby(['Edad', 'Enfermedades Mentales Diagnosticadas']).size().reset_index(name='Cantidad de personas')\n",
      "C:\\Users\\DELL\\AppData\\Local\\Temp\\ipykernel_22256\\2308210389.py:27: FutureWarning: The default of observed=False is deprecated and will be changed to True in a future version of pandas. Pass observed=False to retain current behavior or observed=True to adopt the future default and silence this warning.\n",
      "  pregunta2_2 = pregunta2_2.loc[pregunta2_2.groupby('Edad')['Cantidad de personas'].idxmax()]\n"
     ]
    }
   ],
   "source": [
    "# Parte 2, Pregunta 2\n",
    "df_20162=df_2016\n",
    "# Convertir la columna Edad a tipo numérico, convirtiendo valores no numéricos a NaN\n",
    "df_20162['Edad'] = pd.to_numeric(df_20162['Edad'], errors='coerce')\n",
    "\n",
    "# Eliminar filas con valores NaN en la columna Edad\n",
    "df_20162 = df_20162.dropna(subset=['Edad'])\n",
    "\n",
    "# Convertir la columna Edad a tipo entero\n",
    "df_20162['Edad'] = df_20162['Edad'].astype(int)\n",
    "\n",
    "# Convertir la columna Enfermedades Mentales Diagnosticadas a tipo string\n",
    "df_20162['Enfermedades Mentales Diagnosticadas'] = df_20162['Enfermedades Mentales Diagnosticadas'].astype(str)\n",
    "\n",
    "# Crear una columna Edad_binned con los rangos de edad\n",
    "df_20162['Edad'] = pd.cut(df_20162['Edad'], bins=[18, 25, 32, 38, 44, 50, 56, 66], \n",
    "                                 labels=['19-25', '26-32', '33-38', '39-44', '45-50', '51-56', '57-66'],\n",
    "                                 include_lowest=True)\n",
    "\n",
    "# Eliminar filas con \"No respondio\" en la columna Enfermedades Mentales Diagnosticadas\n",
    "df_20162 = df_20162[~df_20162['Enfermedades Mentales Diagnosticadas'].isin(['No respondió'])]\n",
    "\n",
    "# Agrupar por Edad y Enfermedades Mentales Diagnosticadas, y contar la frecuencia\n",
    "pregunta2_2 = df_20162.groupby(['Edad', 'Enfermedades Mentales Diagnosticadas']).size().reset_index(name='Cantidad de personas')\n",
    "\n",
    "# Seleccionar la enfermedad mental más frecuente para cada rango de edad\n",
    "pregunta2_2 = pregunta2_2.loc[pregunta2_2.groupby('Edad')['Cantidad de personas'].idxmax()]\n",
    "\n",
    "# Reordenar las columnas\n",
    "pregunta2_2 = pregunta2_2[['Enfermedades Mentales Diagnosticadas', 'Edad', 'Cantidad de personas']]\n",
    "\n",
    "# Mostrar la tabla con la enfermedad mental más frecuente para cada rango de edad\n",
    "print(pregunta2_2)"
   ]
  },
  {
   "cell_type": "code",
   "execution_count": null,
   "metadata": {},
   "outputs": [],
   "source": [
    "# Parte 3, pregunta 2\n",
    "Pregunta2_3 = df_Investigacion.groupby(['Enfermedades Mentales Diagnosticadas', 'Género']).size().reset_index(name='Cantidad de personas')\n",
    "\n",
    "Pregunta2_3 = Pregunta2_3[Pregunta2_3['Género']!= 'No respondió']  # Eliminar \"No respondió\" de la columna \"Género\"\n",
    "\n",
    "top_5_enfermedades = Pregunta2_3.groupby('Enfermedades Mentales Diagnosticadas')['Cantidad de personas'].sum().nlargest(6).index\n",
    "\n",
    "Pregunta2_3 = Pregunta2_3[Pregunta2_3['Enfermedades Mentales Diagnosticadas'].isin(top_5_enfermedades)]\n",
    "\n",
    "Pregunta2_3 = Pregunta2_3[Pregunta2_3['Enfermedades Mentales Diagnosticadas']!= 'No respondió']\n",
    "\n",
    "Pregunta2_3 = Pregunta2_3.pivot_table(index='Enfermedades Mentales Diagnosticadas', columns='Género', values='Cantidad de personas', fill_value=0)\n",
    "\n",
    "print(Pregunta2_3)"
   ]
  }
 ],
 "metadata": {
  "kernelspec": {
   "display_name": "Python 3",
   "language": "python",
   "name": "python3"
  },
  "language_info": {
   "codemirror_mode": {
    "name": "ipython",
    "version": 3
   },
   "file_extension": ".py",
   "mimetype": "text/x-python",
   "name": "python",
   "nbconvert_exporter": "python",
   "pygments_lexer": "ipython3",
   "version": "3.12.4"
  }
 },
 "nbformat": 4,
 "nbformat_minor": 2
}
