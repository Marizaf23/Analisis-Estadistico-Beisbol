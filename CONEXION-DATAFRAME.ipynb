{
 "cells": [
  {
   "cell_type": "code",
   "execution_count": 1,
   "metadata": {},
   "outputs": [],
   "source": [
    "import pandas as pd\n",
    "import numpy  as np\n",
    "import sqlite3\n",
    "import seaborn as sns\n",
    "import matplotlib.pyplot as plt\n",
    "import plotly as px\n",
    "import streamlit as st\n",
    "import requests\n",
    "from io import StringIO\n",
    "import os\n",
    "\n",
    "\n",
    "# Conectar a la base de datos SQLite\n",
    "conn = sqlite3.connect(r\"C:\\Users\\maria\\Documents\\UCV MARY\\EECA\\SEMESTRE 2024-1\\SEMESTRE II\\COMPUTACIÓN II\\TRABAJO FINAL\\SALUD MENTAL EN LA INDUSTRIA TECNOLÓGICA 1.sqlite\")\n",
    "\n",
    "cur = conn.cursor()"
   ]
  },
  {
   "cell_type": "code",
   "execution_count": 2,
   "metadata": {},
   "outputs": [
    {
     "name": "stdout",
     "output_type": "stream",
     "text": [
      "Entidades en la base de datos:\n"
     ]
    },
    {
     "data": {
      "text/html": [
       "<div>\n",
       "<style scoped>\n",
       "    .dataframe tbody tr th:only-of-type {\n",
       "        vertical-align: middle;\n",
       "    }\n",
       "\n",
       "    .dataframe tbody tr th {\n",
       "        vertical-align: top;\n",
       "    }\n",
       "\n",
       "    .dataframe thead th {\n",
       "        text-align: right;\n",
       "    }\n",
       "</style>\n",
       "<table border=\"1\" class=\"dataframe\">\n",
       "  <thead>\n",
       "    <tr style=\"text-align: right;\">\n",
       "      <th></th>\n",
       "      <th>name</th>\n",
       "    </tr>\n",
       "  </thead>\n",
       "  <tbody>\n",
       "    <tr>\n",
       "      <th>0</th>\n",
       "      <td>Answer</td>\n",
       "    </tr>\n",
       "    <tr>\n",
       "      <th>1</th>\n",
       "      <td>Question</td>\n",
       "    </tr>\n",
       "    <tr>\n",
       "      <th>2</th>\n",
       "      <td>Respuestas</td>\n",
       "    </tr>\n",
       "    <tr>\n",
       "      <th>3</th>\n",
       "      <td>Survey</td>\n",
       "    </tr>\n",
       "  </tbody>\n",
       "</table>\n",
       "</div>"
      ],
      "text/plain": [
       "         name\n",
       "0      Answer\n",
       "1    Question\n",
       "2  Respuestas\n",
       "3      Survey"
      ]
     },
     "execution_count": 2,
     "metadata": {},
     "output_type": "execute_result"
    }
   ],
   "source": [
    "# Consultar las tablas en la base de datos\n",
    "consulta_ntablas = \"SELECT name FROM sqlite_master WHERE type='table' ORDER BY name;\"\n",
    "\n",
    "\n",
    "# Mostrar las entidades\n",
    "print(\"Entidades en la base de datos:\")\n",
    "entidades = pd.read_sql_query(sql = consulta_ntablas, con = conn)\n",
    "entidades"
   ]
  },
  {
   "cell_type": "code",
   "execution_count": 3,
   "metadata": {},
   "outputs": [],
   "source": [
    "# Crear consulta para convertir en DF\n",
    "consulta = \"SELECT * FROM Respuestas;\"\n",
    "\n",
    "df_Respuestas = pd.read_sql_query(sql = consulta, con = conn)\n",
    "\n",
    "conn.close()"
   ]
  },
  {
   "cell_type": "code",
   "execution_count": 4,
   "metadata": {},
   "outputs": [],
   "source": [
    "# Filtrado del DF por desde 2016-2019 y Estados Unidos como país para realizar la Investigación\n",
    "User_ID = df_Respuestas[(df_Respuestas['QuestionID'] == 3) & (df_Respuestas['AnswerText'] == 'Estados Unidos')]['UserID'].unique()\n",
    "\n",
    "df_Investigacion1 = df_Respuestas[(df_Respuestas['UserID'].isin(User_ID)) & (df_Respuestas['SurveyID'] == 2016)]\n",
    "\n",
    "df_Investigacion2 = df_Respuestas[(df_Respuestas['UserID'].isin(User_ID)) & (df_Respuestas['SurveyID'] == 2017)]\n",
    "\n",
    "df_Investigacion3 = df_Respuestas[(df_Respuestas['UserID'].isin(User_ID)) & (df_Respuestas['SurveyID'] == 2018)]\n",
    "\n",
    "df_Investigacion4 = df_Respuestas[(df_Respuestas['UserID'].isin(User_ID)) & (df_Respuestas['SurveyID'] == 2019)]"
   ]
  },
  {
   "cell_type": "code",
   "execution_count": 5,
   "metadata": {},
   "outputs": [],
   "source": [
    "# Reestructuración del DF para mejor uso de Pandas\n",
    "df_Investigacion1 = df_Investigacion1.groupby(['UserID', 'QuestionID'])['AnswerText'].first().reset_index()\n",
    "\n",
    "df_Investigacion2 = df_Investigacion2.groupby(['UserID', 'QuestionID'])['AnswerText'].first().reset_index()\n",
    "\n",
    "df_Investigacion3 = df_Investigacion3.groupby(['UserID', 'QuestionID'])['AnswerText'].first().reset_index()\n",
    "\n",
    "df_Investigacion4 = df_Investigacion4.groupby(['UserID', 'QuestionID'])['AnswerText'].first().reset_index()\n",
    "\n",
    "df_Investigacion1 = df_Investigacion1.pivot_table(index='UserID', columns='QuestionID', values='AnswerText', aggfunc='first')\n",
    "\n",
    "df_Investigacion2 = df_Investigacion2.pivot_table(index='UserID', columns='QuestionID', values='AnswerText', aggfunc='first')\n",
    "\n",
    "df_Investigacion3 = df_Investigacion3.pivot_table(index='UserID', columns='QuestionID', values='AnswerText', aggfunc='first')\n",
    "\n",
    "df_Investigacion4 = df_Investigacion4.pivot_table(index='UserID', columns='QuestionID', values='AnswerText', aggfunc='first')"
   ]
  },
  {
   "cell_type": "code",
   "execution_count": 6,
   "metadata": {},
   "outputs": [
    {
     "name": "stdout",
     "output_type": "stream",
     "text": [
      "Index([  1,   2,   3,   4,   5,   6,   7,   8,  10,  12,  14,  16,  17,  18,\n",
      "        19,  20,  23,  24,  27,  28,  30,  31,  33,  34,  48,  49,  53,  54,\n",
      "        55,  56, 114, 115, 116, 117, 118],\n",
      "      dtype='int64', name='QuestionID')\n"
     ]
    }
   ],
   "source": [
    "# Renombrar las variables 2016\n",
    "print(df_Investigacion1.columns)\n",
    "\n",
    "df_Investigacion1.columns = ['Edad', 'Género', 'País de Residencia', 'Ciudad de Residencia (EEUU)', 'Trabajo Autónomo', 'Historial Familiar', 'Búsqueda de Tratamiento con un Profesional', 'Cantidad de Empleados en la Empresa', 'Beneficios Dentro de Seguro Médico', 'Problemas de Salud Mental en Entrevista Laboral', 'Conocimiento de las Opciones de Cobertura por la Empresa Actual', 'Recursos de la Empresa Para Conocer sobre la Salud Mental y Canales de Ayuda', 'Facilidad de Consulta de Baja Médica en el Trabajo', 'Comodidad para Hablar de una Enfermedad Mental con Compañeros de Trabajo', 'Comodidad para Hablar de una Enfermedad Mental con un Director/Supervisor', 'Cobertura de Salud Mental en Seguro Médico', 'Beneficios de Salud Mental de Empleos Anteriores', 'Conocimiento de las Opciones de Ayuda por el Empleo Anterior', 'Protección de Anonimato Si Se Toma Ventaja de los Recursos de Tratamiento en Empleos Anteriores', 'Disposición de Hablar de Salud Mental con un Supervisor', 'Disposición para Hablar Sobre Enfermedad Mental con Familia/Amigos', 'Seguridad de Revelar Enfermedad Mental Debido a Comentario Sobre Salud Mental de Otra Persona', 'Situación Mental Actual', '¿Alguna Vez Has Sido Diagnosticado con una Enfermedad Mental?', 'Nivel de Interferencia en el Trabajo Cuando Se Está Bajo Tratamiento', 'Nivel de Interferencia en el Trabajo Cuando No Se Está Bajo Tratamiento', 'Disposición a Revelar Enfermedad Mental a Empleados/Compañeros', 'Productividad Afectada Por Enfermedad Mental', 'Porcentaje de Tiempo Afectada Por Enfermedad Mental', '¿Has Observado o Experimentado una Respuesta Insolidaria o Mal Gestionada a un Problema de Salud Mental en tu Lugar de Trabajo Actual o Anterior?', '¿Cree que los Miembros de su Equipo/Compañeros de Trabajo le Verían de Forma más Negativa Si Supieran que Padece una Enfermedad Mental?', 'Enfermedades Mentales Diagnosticadas', 'Enfermedades Mentales No Diagnosticadas', 'Puesto de Trabajo', 'Trabajo Remoto']\n",
    "\n",
    "# Reemplazar los NaN\n",
    "df_Investigacion1 = df_Investigacion1.fillna('No respondió')"
   ]
  },
  {
   "cell_type": "code",
   "execution_count": 7,
   "metadata": {},
   "outputs": [
    {
     "name": "stdout",
     "output_type": "stream",
     "text": [
      "Index([ 1,  2,  3,  4,  5,  6,  7,  8, 10, 12, 14, 16, 17, 18, 19, 20, 23, 24,\n",
      "       27, 28, 30, 31, 33, 34, 48, 49, 53, 54, 55, 56, 65, 67, 78, 79, 81, 83,\n",
      "       85, 89],\n",
      "      dtype='int64', name='QuestionID')\n"
     ]
    }
   ],
   "source": [
    "# Renombrar las variables 2017\n",
    "print(df_Investigacion2.columns)\n",
    "\n",
    "df_Investigacion2.columns = ['Edad', 'Género', 'País de Residencia', 'Ciudad de Residencia (EEUU)', 'Trabajo Autónomo', 'Historial Familiar', 'Búsqueda de Tratamiento con un Profesional', 'Cantidad de Empleados en la Empresa', 'Beneficios Dentro de Seguro Médico', 'Problemas de Salud Mental en Entrevista Laboral', 'Conocimiento de las Opciones de Cobertura por la Empresa Actual', 'Recursos de la Empresa Para Conocer sobre la Salud Mental y Canales de Ayuda', 'Facilidad de Consulta de Baja Médica en el Trabajo', 'Comodidad para Hablar de una Enfermedad Mental con Compañeros de Trabajo', 'Comodidad para Hablar de una Enfermedad Mental con un Director/Supervisor', 'Cobertura de Salud Mental en Seguro Médico', 'Beneficios de Salud Mental de Empleos Anteriores', 'Conocimiento de las Opciones de Ayuda por el Empleo Anterior', 'Protección de Anonimato Si Se Toma Ventaja de los Recursos de Tratamiento en Empleos Anteriores', 'Disposición de Hablar de Salud Mental con un Supervisor', 'Disposición para Hablar Sobre Enfermedad Mental con Familia/Amigos', 'Seguridad de Revelar Enfermedad Mental Debido a Comentario Sobre Salud Mental de Otra Persona', 'Situación Mental Actual', '¿Alguna Vez Has Sido Diagnosticado con una Enfermedad Mental?', 'Nivel de Interferencia en el Trabajo Cuando Se Está Bajo Tratamiento', 'Nivel de Interferencia en el Trabajo Cuando No Se Está Bajo Tratamiento', 'Disposición a Revelar Enfermedad Mental a Empleados/Compañeros', 'Productividad Afectada Por Enfermedad Mental', 'Porcentaje de Tiempo Afectada Por Enfermedad Mental', '¿Has Observado o Experimentado una Respuesta Insolidaria o Mal Gestionada a un Problema de Salud Mental en tu Lugar de Trabajo Actual o Anterior?', 'Importancia a la Salud Mental (Empresa)', '¿Cómo Afectó la Relación con Alguien de tu Trabajo el Haberle Contado sobre tu Enfermedad Mental?', '¿Te Identificas Abiertamente en el Trabajo como una Persona con una Enfermedad Mental?', '¿Tu Carrera Se Ha Visto Afectada por Tener una Enfermedad Mental?', 'Si Supieran Que Padeces un Trastorno Mental, ¿Cómo Crees Que Reaccionarían los Miembros de tu Equipo/Compañeros de Trabajo?', '¿Has Observado o Experimentado una Respuesta Positiva De Compañeros/Jefes al Saber que Tienes una Enfermedad Mental?', '¿En qué Medida Cree que el Sector Tecnológico Apoya a los Empleados con Enfermedades Mentales?', 'Raza']\n",
    "\n",
    "# Reemplazar los NaN\n",
    "df_Investigacion2 = df_Investigacion2.fillna('No respondió')"
   ]
  },
  {
   "cell_type": "code",
   "execution_count": 8,
   "metadata": {},
   "outputs": [
    {
     "name": "stdout",
     "output_type": "stream",
     "text": [
      "Index([ 1,  2,  3,  4,  5,  6,  7,  8, 10, 12, 14, 16, 17, 18, 19, 20, 23, 24,\n",
      "       27, 28, 30, 31, 33, 34, 48, 49, 53, 54, 55, 56, 65, 67, 78, 79, 81, 83,\n",
      "       85, 89],\n",
      "      dtype='int64', name='QuestionID')\n"
     ]
    }
   ],
   "source": [
    "# Renombrar las variables 2018\n",
    "print(df_Investigacion3.columns)\n",
    "\n",
    "df_Investigacion3.columns = ['Edad', 'Género', 'País de Residencia', 'Ciudad de Residencia (EEUU)', 'Trabajo Autónomo', 'Historial Familiar', 'Búsqueda de Tratamiento con un Profesional', 'Cantidad de Empleados en la Empresa', 'Beneficios Dentro de Seguro Médico', 'Problemas de Salud Mental en Entrevista Laboral', 'Conocimiento de las Opciones de Cobertura por la Empresa Actual', 'Recursos de la Empresa Para Conocer sobre la Salud Mental y Canales de Ayuda', 'Facilidad de Consulta de Baja Médica en el Trabajo', 'Comodidad para Hablar de una Enfermedad Mental con Compañeros de Trabajo', 'Comodidad para Hablar de una Enfermedad Mental con un Director/Supervisor', 'Cobertura de Salud Mental en Seguro Médico', 'Beneficios de Salud Mental de Empleos Anteriores', 'Conocimiento de las Opciones de Ayuda por el Empleo Anterior', 'Protección de Anonimato Si Se Toma Ventaja de los Recursos de Tratamiento en Empleos Anteriores', 'Disposición de Hablar de Salud Mental con un Supervisor', 'Disposición para Hablar Sobre Enfermedad Mental con Familia/Amigos', 'Seguridad de Revelar Enfermedad Mental Debido a Comentario Sobre Salud Mental de Otra Persona', 'Situación Mental Actual', '¿Alguna Vez Has Sido Diagnosticado con una Enfermedad Mental?', 'Nivel de Interferencia en el Trabajo Cuando Se Está Bajo Tratamiento', 'Nivel de Interferencia en el Trabajo Cuando No Se Está Bajo Tratamiento', 'Disposición a Revelar Enfermedad Mental a Empleados/Compañeros', 'Productividad Afectada Por Enfermedad Mental', 'Porcentaje de Tiempo Afectada Por Enfermedad Mental', '¿Has Observado o Experimentado una Respuesta Insolidaria o Mal Gestionada a un Problema de Salud Mental en tu Lugar de Trabajo Actual o Anterior?', 'Importancia a la Salud Mental (Empresa)', '¿Cómo Afectó la Relación con Alguien de tu Trabajo el Haberle Contado sobre tu Enfermedad Mental?', '¿Te Identificas Abiertamente en el Trabajo como una Persona con una Enfermedad Mental?', '¿Tu Carrera Se Ha Visto Afectada por Tener una Enfermedad Mental?', 'Si Supieran Que Padeces un Trastorno Mental, ¿Cómo Crees Que Reaccionarían los Miembros de tu Equipo/Compañeros de Trabajo?', '¿Has Observado o Experimentado una Respuesta Positiva De Compañeros/Jefes al Saber que Tienes una Enfermedad Mental?', '¿En qué Medida Cree que el Sector Tecnológico Apoya a los Empleados con Enfermedades Mentales?', 'Raza']\n",
    "\n",
    "# Reemplazar los NaN\n",
    "df_Investigacion3 = df_Investigacion3.fillna('No respondió')"
   ]
  },
  {
   "cell_type": "code",
   "execution_count": 9,
   "metadata": {},
   "outputs": [
    {
     "name": "stdout",
     "output_type": "stream",
     "text": [
      "Index([ 1,  2,  3,  4,  5,  6,  7,  8, 10, 12, 14, 16, 17, 18, 19, 20, 23, 24,\n",
      "       27, 28, 30, 31, 33, 34, 48, 49, 53, 54, 55, 56, 65, 67, 78, 79, 81, 83,\n",
      "       85, 89],\n",
      "      dtype='int64', name='QuestionID')\n"
     ]
    }
   ],
   "source": [
    "# Renombrar las variables 2019\n",
    "print(df_Investigacion4.columns)\n",
    "\n",
    "df_Investigacion4.columns = ['Edad', 'Género', 'País de Residencia', 'Ciudad de Residencia (EEUU)', 'Trabajo Autónomo', 'Historial Familiar', 'Búsqueda de Tratamiento con un Profesional', 'Cantidad de Empleados en la Empresa', 'Beneficios Dentro de Seguro Médico', 'Problemas de Salud Mental en Entrevista Laboral', 'Conocimiento de las Opciones de Cobertura por la Empresa Actual', 'Recursos de la Empresa Para Conocer sobre la Salud Mental y Canales de Ayuda', 'Facilidad de Consulta de Baja Médica en el Trabajo', 'Comodidad para Hablar de una Enfermedad Mental con Compañeros de Trabajo', 'Comodidad para Hablar de una Enfermedad Mental con un Director/Supervisor', 'Cobertura de Salud Mental en Seguro Médico', 'Beneficios de Salud Mental de Empleos Anteriores', 'Conocimiento de las Opciones de Ayuda por el Empleo Anterior', 'Protección de Anonimato Si Se Toma Ventaja de los Recursos de Tratamiento en Empleos Anteriores', 'Disposición de Hablar de Salud Mental con un Supervisor', 'Disposición para Hablar Sobre Enfermedad Mental con Familia/Amigos', 'Seguridad de Revelar Enfermedad Mental Debido a Comentario Sobre Salud Mental de Otra Persona', 'Situación Mental Actual', '¿Alguna Vez Has Sido Diagnosticado con una Enfermedad Mental?', 'Nivel de Interferencia en el Trabajo Cuando Se Está Bajo Tratamiento', 'Nivel de Interferencia en el Trabajo Cuando No Se Está Bajo Tratamiento', 'Disposición a Revelar Enfermedad Mental a Empleados/Compañeros', 'Productividad Afectada Por Enfermedad Mental', 'Porcentaje de Tiempo Afectada Por Enfermedad Mental', '¿Has Observado o Experimentado una Respuesta Insolidaria o Mal Gestionada a un Problema de Salud Mental en tu Lugar de Trabajo Actual o Anterior?', 'Importancia a la Salud Mental (Empresa)', '¿Cómo Afectó la Relación con Alguien de tu Trabajo el Haberle Contado sobre tu Enfermedad Mental?', '¿Te Identificas Abiertamente en el Trabajo como una Persona con una Enfermedad Mental?', '¿Tu Carrera Se Ha Visto Afectada por Tener una Enfermedad Mental?', 'Si Supieran Que Padeces un Trastorno Mental, ¿Cómo Crees Que Reaccionarían los Miembros de tu Equipo/Compañeros de Trabajo?', '¿Has Observado o Experimentado una Respuesta Positiva De Compañeros/Jefes al Saber que Tienes una Enfermedad Mental?', '¿En qué Medida Cree que el Sector Tecnológico Apoya a los Empleados con Enfermedades Mentales?', 'Raza']\n",
    "\n",
    "# Reemplazar los NaN\n",
    "df_Investigacion4 = df_Investigacion4.fillna('No respondió')"
   ]
  },
  {
   "cell_type": "code",
   "execution_count": 10,
   "metadata": {},
   "outputs": [],
   "source": [
    "# Carpeta donde deseas guardar los archivos CSV\n",
    "output_folder = r\"C:\\Users\\maria\\Documents\\UCV MARY\\EECA\\SEMESTRE 2024-1\\SEMESTRE II\\COMPUTACIÓN II\\TRABAJO FINAL\\CSV\"\n",
    "\n",
    "# Crear la carpeta si no existe\n",
    "if not os.path.exists(output_folder):\n",
    "    os.makedirs(output_folder)\n",
    "\n",
    "# Guardar los archivos CSV en la carpeta especificada\n",
    "df_Investigacion1.to_csv(os.path.join(output_folder, 'Investigacion1.csv'), index=False)\n",
    "df_Investigacion2.to_csv(os.path.join(output_folder, 'Investigacion2.csv'), index=False)\n",
    "df_Investigacion3.to_csv(os.path.join(output_folder, 'Investigacion3.csv'), index=False)\n",
    "df_Investigacion4.to_csv(os.path.join(output_folder, 'Investigacion4.csv'), index=False)"
   ]
  },
  {
   "cell_type": "code",
   "execution_count": 11,
   "metadata": {},
   "outputs": [
    {
     "name": "stderr",
     "output_type": "stream",
     "text": [
      "2024-06-24 11:36:55.995 \n",
      "  \u001b[33m\u001b[1mWarning:\u001b[0m to view this Streamlit app on a browser, run it with the following\n",
      "  command:\n",
      "\n",
      "    streamlit run C:\\Users\\maria\\AppData\\Roaming\\Python\\Python312\\site-packages\\ipykernel_launcher.py [ARGUMENTS]\n",
      "2024-06-24 11:36:55.997 \n",
      "`st.cache` is deprecated and will be removed soon. Please use one of Streamlit's new caching commands, `st.cache_data` or `st.cache_resource`.\n",
      "More information [in our docs](https://docs.streamlit.io/develop/concepts/architecture/caching).\n",
      "\n",
      "**Note**: The behavior of `st.cache` was updated in Streamlit 1.36 to the new caching logic used by `st.cache_data` and `st.cache_resource`.\n",
      "This might lead to some problems or unexpected behavior in certain edge cases.\n",
      "\n",
      "2024-06-24 11:36:55.997 No runtime found, using MemoryCacheStorageManager\n",
      "2024-06-24 11:36:55.999 No runtime found, using MemoryCacheStorageManager\n",
      "2024-06-24 11:37:11.641 Session state does not function when running a script without `streamlit run`\n"
     ]
    }
   ],
   "source": [
    "# HTML\n",
    "# Título de la aplicación\n",
    "st.title(\"Problemáticas y Estigmas de las Enfermedades Mentales en la Industria Tecnológica Estadounidense 2016-2019\")\n",
    "\n",
    "# Contenido de la página 1\n",
    "st.header(\"Introducción\")\n",
    "st.write(\"Información de la Data Suministrada.\")\n",
    "\n",
    "# Contenido de la página 2\n",
    "st.header(\"Visualización de los Datos\")\n",
    "st.write(\"Información de la Data Suministrada.\")\n",
    "\n",
    "@st.cache\n",
    "def load_csv_from_github(url):\n",
    "    response = requests.get(url)\n",
    "    if response.status_code == 200:\n",
    "        return pd.read_csv(StringIO(response.text))\n",
    "    else:\n",
    "        st.error(\"Failed to load data from GitHub.\")\n",
    "        return None\n",
    "\n",
    "# URLs of CSV files in GitHub repository\n",
    "urls = {\n",
    "    '2016': 'https://raw.githubusercontent.com/Marizaf23/Analisis-Estadistico-Salud-Mental-Tecnologia/f9543f9242e7869a95a82e55fb2d1289971a9c40/CSV/Investigacion1.csv',\n",
    "    '2017': 'https://raw.githubusercontent.com/Marizaf23/Analisis-Estadistico-Salud-Mental-Tecnologia/f9543f9242e7869a95a82e55fb2d1289971a9c40/CSV/Investigacion2.csv',\n",
    "    '2018': 'https://raw.githubusercontent.com/Marizaf23/Analisis-Estadistico-Salud-Mental-Tecnologia/f9543f9242e7869a95a82e55fb2d1289971a9c40/CSV/Investigacion3.csv',\n",
    "    '2019': 'https://raw.githubusercontent.com/Marizaf23/Analisis-Estadistico-Salud-Mental-Tecnologia/f9543f9242e7869a95a82e55fb2d1289971a9c40/CSV/Investigacion4.csv'\n",
    "}\n",
    "\n",
    "# Load CSV files from GitHub\n",
    "df_2016 = load_csv_from_github(urls['2016'])\n",
    "df_2017 = load_csv_from_github(urls['2017'])\n",
    "df_2018 = load_csv_from_github(urls['2018'])\n",
    "df_2019 = load_csv_from_github(urls['2019'])\n",
    "\n",
    "# Crea un selectbox con las opciones\n",
    "option = st.selectbox('Año de Encuesta:', ['2016', '2017', '2018', '2019'])\n",
    "\n",
    "# Muestra el DataFrame correspondiente según la opción seleccionada\n",
    "if option == '2016':\n",
    "    st.dataframe(df_2016)\n",
    "elif option == '2017':\n",
    "    st.dataframe(df_2017)\n",
    "elif option == '2018':\n",
    "    st.dataframe(df_2018)\n",
    "elif option == '2019':\n",
    "    st.dataframe(df_2019)\n"
   ]
  },
  {
   "cell_type": "code",
   "execution_count": 15,
   "metadata": {},
   "outputs": [],
   "source": [
    "# PREGUNTA #1\n",
    "#¿Cuántas personas en la industria tecnológica tienen una enfermedad mental diagnosticada y, dentro de este grupo, existe algún historial familiar dentro de este ámbito?\n",
    "\n",
    "# Crea un selectbox con las opciones\n",
    "option = st.selectbox('Año de Encuesta:', ['Todos','2016', '2017', '2018', '2019'])\n",
    "\n",
    "if option == '2016':\n",
    "    st.write(\"¿Cuántas personas en la industria tecnológica tienen una enfermedad mental diagnosticada y, dentro de este grupo, existe algún historial familiar dentro de este ámbito?\")\n",
    "\n",
    "    #Crear la tabla bivariante con pandas\n",
    "    Pregunta2016_1 = pd.crosstab(df_2016['¿Alguna Vez Has Sido Diagnosticado con una Enfermedad Mental?'], \n",
    "                        df_2016['Historial Familiar'], \n",
    "                        margins=True, \n",
    "                        margins_name='Total')\n",
    "\n",
    "    # Renombrar el índice\n",
    "    Pregunta2016_1.index.name = \"Historial Familiar\"\n",
    "    \n",
    "    # Agregar una fila debajo de los títulos de las columnas \n",
    "    Pregunta2016_1.loc['Enfermedad Mental'] = ['', '', '', '']\n",
    "\n",
    "    Pregunta2016_1 = Pregunta2016_1.reindex(['Enfermedad Mental'] + [i for i in Pregunta2016_1.index if i != 'Enfermedad Mental'])\n",
    "    \n",
    "    Pregunta2016_1.rename(columns={'index': 'Enfermedad Mental'})\n",
    "\n",
    "    st.dataframe(Pregunta2016_1, width=800, height=177)\n",
    "\n",
    "\n",
    "elif option == '2017':\n",
    "    st.write(\"¿Cuántas personas en la industria tecnológica tienen una enfermedad mental diagnosticada y, dentro de este grupo, existe algún historial familiar dentro de este ámbito?\")\n",
    "\n",
    "    #Crear la tabla bivariante con pandas\n",
    "    Pregunta2017_1 = pd.crosstab(df_2017['¿Alguna Vez Has Sido Diagnosticado con una Enfermedad Mental?'], \n",
    "                        df_2017['Historial Familiar'], \n",
    "                        margins=True, \n",
    "                        margins_name='Total')\n",
    "\n",
    "    # Renombrar el índice\n",
    "    Pregunta2017_1.index.name = \"Historial Familiar\"\n",
    "    \n",
    "    # Agregar una fila debajo de los títulos de las columnas \n",
    "    Pregunta2017_1.loc['Enfermedad Mental'] = ['', '', '', '']\n",
    "\n",
    "    Pregunta2017_1 = Pregunta2017_1.reindex(['Enfermedad Mental'] + [i for i in Pregunta2017_1.index if i != 'Enfermedad Mental'])\n",
    "    \n",
    "    Pregunta2017_1.rename(columns={'index': 'Enfermedad Mental'})\n",
    "\n",
    "    Pregunta2017_1 = Pregunta2017_1.reindex(['Enfermedad Mental'] + [i for i in Pregunta2017_1.index if i not in ['Enfermedad Mental', 'No respondió', 'Total']] + ['No respondió'] + ['Total'])\n",
    "    \n",
    "    st.dataframe(Pregunta2017_1, width=800, height=212)\n",
    "\n",
    "\n",
    "elif option == '2018':\n",
    "    st.write(\"¿Cuántas personas en la industria tecnológica tienen una enfermedad mental diagnosticada y, dentro de este grupo, existe algún historial familiar dentro de este ámbito?\")\n",
    "\n",
    "    #Crear la tabla bivariante con pandas\n",
    "    Pregunta2018_1 = pd.crosstab(df_2018['¿Alguna Vez Has Sido Diagnosticado con una Enfermedad Mental?'], \n",
    "                        df_2018['Historial Familiar'], \n",
    "                        margins=True, \n",
    "                        margins_name='Total')\n",
    "\n",
    "    # Renombrar el índice\n",
    "    Pregunta2018_1.index.name = \"Historial Familiar\"\n",
    "    \n",
    "    # Agregar una fila debajo de los títulos de las columnas \n",
    "    Pregunta2018_1.loc['Enfermedad Mental'] = ['', '', '', '']\n",
    "\n",
    "    Pregunta2018_1 = Pregunta2018_1.reindex(['Enfermedad Mental'] + [i for i in Pregunta2018_1.index if i != 'Enfermedad Mental'])\n",
    "    \n",
    "    Pregunta2018_1.rename(columns={'index': 'Enfermedad Mental'})\n",
    "\n",
    "    Pregunta2018_1 = Pregunta2018_1.reindex(['Enfermedad Mental'] + [i for i in Pregunta2018_1.index if i not in ['Enfermedad Mental', 'No respondió', 'Total']] + ['No respondió'] + ['Total'])\n",
    "    \n",
    "    st.dataframe(Pregunta2018_1, width=800, height=212)\n",
    "\n",
    "\n",
    "elif option == '2019':\n",
    "    st.write(\"¿Cuántas personas en la industria tecnológica tienen una enfermedad mental diagnosticada y, dentro de este grupo, existe algún historial familiar dentro de este ámbito?\")\n",
    "\n",
    "    #Crear la tabla bivariante con pandas\n",
    "    Pregunta2019_1 = pd.crosstab(df_2019['¿Alguna Vez Has Sido Diagnosticado con una Enfermedad Mental?'], \n",
    "                        df_2019['Historial Familiar'], \n",
    "                        margins=True, \n",
    "                        margins_name='Total')\n",
    "\n",
    "    # Renombrar el índice\n",
    "    Pregunta2019_1.index.name = \"Historial Familiar\"\n",
    "    \n",
    "    # Agregar una fila debajo de los títulos de las columnas \n",
    "    Pregunta2019_1.loc['Enfermedad Mental'] = ['', '', '', '']\n",
    "\n",
    "    Pregunta2019_1 = Pregunta2019_1.reindex(['Enfermedad Mental'] + [i for i in Pregunta2019_1.index if i != 'Enfermedad Mental'])\n",
    "    \n",
    "    Pregunta2019_1.rename(columns={'index': 'Enfermedad Mental'})\n",
    "\n",
    "    Pregunta2019_1 = Pregunta2019_1.reindex(['Enfermedad Mental'] + [i for i in Pregunta2019_1.index if i not in ['Enfermedad Mental', 'No respondió', 'Total']] + ['No respondió'] + ['Total'])\n",
    "\n",
    "    st.dataframe(Pregunta2019_1, width=800, height=212)"
   ]
  },
  {
   "cell_type": "code",
   "execution_count": 26,
   "metadata": {},
   "outputs": [
    {
     "name": "stdout",
     "output_type": "stream",
     "text": [
      "Historial Familiar   No  No sé   Si  Total\n",
      "Enfermedad Mental                         \n",
      "No                  170     76  120    366\n",
      "Si                   70     70  333    473\n",
      "Total               240    146  453    839\n"
     ]
    },
    {
     "data": {
      "image/png": "[encoded data removed]",
      "text/plain": [
       "<Figure size 920x500 with 1 Axes>"
      ]
     },
     "metadata": {},
     "output_type": "display_data"
    }
   ],
   "source": [
    "#Crear la tabla bivariante con pandas\n",
    "Pregunta2016_1 = pd.crosstab(df_2016['¿Alguna Vez Has Sido Diagnosticado con una Enfermedad Mental?'], \n",
    "                        df_2016['Historial Familiar'], \n",
    "                        margins=True, \n",
    "                        margins_name='Total')\n",
    "\n",
    "# Renombrar el índice\n",
    "Pregunta2016_1.index.name = \"Enfermedad Mental\"\n",
    "Pregunta2016_1.columns.name = 'Historial Familiar'\n",
    "\n",
    "print(Pregunta2016_1)\n",
    "\n",
    "\n",
    "category_names = ['No tengo antecedentes heredofamiliares', 'No conozco mis antecedentes heredofamiliares', 'Tengo antecedentes heredofamiliares']\n",
    "results = {\n",
    "    'No tengo una enfermedad mental': [170, 76, 120],\n",
    "    'Tengo una enfermedad mental': [70, 70, 333]\n",
    "}\n",
    "\n",
    "\n",
    "def survey(results, category_names):\n",
    "    labels = list(results.keys())\n",
    "    data = np.array(list(results.values()))\n",
    "    data_cum = data.cumsum(axis=1)\n",
    "    category_colors = plt.colormaps['RdYlGn'](\n",
    "        np.linspace(0.15, 0.85, data.shape[1]))\n",
    "\n",
    "    fig, ax = plt.subplots(figsize=(9.2, 5))\n",
    "    ax.invert_yaxis()\n",
    "    ax.xaxis.set_visible(False)\n",
    "    ax.set_xlim(0, np.sum(data, axis=1).max())\n",
    "\n",
    "    for i, (colname, color) in enumerate(zip(category_names, category_colors)):\n",
    "        widths = data[:, i]\n",
    "        starts = data_cum[:, i] - widths\n",
    "        rects = ax.barh(labels, widths, left=starts, height=0.5,\n",
    "                        label=colname, color=color)\n",
    "\n",
    "        r, g, b, _ = color\n",
    "        text_color = 'white' if r * g * b < 0.5 else 'darkgrey'\n",
    "        ax.bar_label(rects, label_type='center', color=text_color)\n",
    "    ax.legend(ncols=len(category_names), bbox_to_anchor=(0, 1),\n",
    "              loc='lower left', fontsize='small')\n",
    "\n",
    "    return fig, ax\n",
    "\n",
    "\n",
    "survey(results, category_names)\n",
    "plt.show()\n"
   ]
  },
  {
   "cell_type": "code",
   "execution_count": 35,
   "metadata": {},
   "outputs": [
    {
     "name": "stderr",
     "output_type": "stream",
     "text": [
      "C:\\Users\\maria\\AppData\\Local\\Temp\\ipykernel_17604\\726474581.py:6: FutureWarning:\n",
      "\n",
      "Series.__getitem__ treating keys as positions is deprecated. In a future version, integer keys will always be treated as labels (consistent with DataFrame behavior). To access a value by position, use `ser.iloc[pos]`\n",
      "\n",
      "C:\\Users\\maria\\AppData\\Local\\Temp\\ipykernel_17604\\726474581.py:7: FutureWarning:\n",
      "\n",
      "Series.__getitem__ treating keys as positions is deprecated. In a future version, integer keys will always be treated as labels (consistent with DataFrame behavior). To access a value by position, use `ser.iloc[pos]`\n",
      "\n"
     ]
    },
    {
     "data": {
      "image/png": "[encoded data removed]",
      "text/plain": [
       "<Figure size 920x500 with 1 Axes>"
      ]
     },
     "metadata": {},
     "output_type": "display_data"
    }
   ],
   "source": [
    "import matplotlib.pyplot as plt\n",
    "import numpy as np\n",
    "\n",
    "category_names = ['No tengo una enfermedad mental', 'Tengo una enfermedad mental', 'No tengo antecedentes heredofamiliares', 'No conozco mis antecedentes heredofamiliares', 'Tengo antecedentes heredofamiliares']\n",
    "\n",
    "\n",
    "def survey(results, category_names):\n",
    "    labels = list(results.keys())\n",
    "    data = np.array(list(results.values()))\n",
    "    data_cum = data.cumsum(axis=1)\n",
    "    category_colors = plt.colormaps['RdYlGn'](\n",
    "        np.linspace(0.15, 0.85, data.shape[1]))\n",
    "\n",
    "    fig, ax = plt.subplots(figsize=(9.2, 5))\n",
    "    ax.invert_yaxis()\n",
    "    ax.xaxis.set_visible(False)\n",
    "    ax.set_xlim(0, np.sum(data, axis=1).max())\n",
    "\n",
    "    for i, (colname, color) in enumerate(zip(category_names, category_colors)):\n",
    "        widths = data[:, i]\n",
    "        starts = data_cum[:, i] - widths\n",
    "        rects = ax.barh(labels, widths, left=starts, height=0.5,\n",
    "                        label=colname, color=color)\n",
    "\n",
    "        r, g, b, _ = color\n",
    "        text_color = 'white' if r * g * b < 0.5 else 'darkgrey'\n",
    "        ax.bar_label(rects, label_type='center', color=text_color)\n",
    "    ax.legend(ncols=len(category_names), bbox_to_anchor=(0, 1),\n",
    "              loc='lower left', fontsize='small')\n",
    "\n",
    "    return fig, ax\n",
    "\n",
    "fig, ax = survey(results, category_names)\n",
    "plt.show()"
   ]
  },
  {
   "cell_type": "code",
   "execution_count": 27,
   "metadata": {},
   "outputs": [
    {
     "ename": "KeyError",
     "evalue": "'Sí'",
     "output_type": "error",
     "traceback": [
      "\u001b[1;31m---------------------------------------------------------------------------\u001b[0m",
      "\u001b[1;31mKeyError\u001b[0m                                  Traceback (most recent call last)",
      "File \u001b[1;32mc:\\Users\\maria\\AppData\\Local\\Programs\\Python\\Python312\\Lib\\site-packages\\pandas\\core\\indexes\\base.py:3805\u001b[0m, in \u001b[0;36mIndex.get_loc\u001b[1;34m(self, key)\u001b[0m\n\u001b[0;32m   3804\u001b[0m \u001b[38;5;28;01mtry\u001b[39;00m:\n\u001b[1;32m-> 3805\u001b[0m     \u001b[38;5;28;01mreturn\u001b[39;00m \u001b[38;5;28;43mself\u001b[39;49m\u001b[38;5;241;43m.\u001b[39;49m\u001b[43m_engine\u001b[49m\u001b[38;5;241;43m.\u001b[39;49m\u001b[43mget_loc\u001b[49m\u001b[43m(\u001b[49m\u001b[43mcasted_key\u001b[49m\u001b[43m)\u001b[49m\n\u001b[0;32m   3806\u001b[0m \u001b[38;5;28;01mexcept\u001b[39;00m \u001b[38;5;167;01mKeyError\u001b[39;00m \u001b[38;5;28;01mas\u001b[39;00m err:\n",
      "File \u001b[1;32mindex.pyx:167\u001b[0m, in \u001b[0;36mpandas._libs.index.IndexEngine.get_loc\u001b[1;34m()\u001b[0m\n",
      "File \u001b[1;32mindex.pyx:196\u001b[0m, in \u001b[0;36mpandas._libs.index.IndexEngine.get_loc\u001b[1;34m()\u001b[0m\n",
      "File \u001b[1;32mpandas\\\\_libs\\\\hashtable_class_helper.pxi:7081\u001b[0m, in \u001b[0;36mpandas._libs.hashtable.PyObjectHashTable.get_item\u001b[1;34m()\u001b[0m\n",
      "File \u001b[1;32mpandas\\\\_libs\\\\hashtable_class_helper.pxi:7089\u001b[0m, in \u001b[0;36mpandas._libs.hashtable.PyObjectHashTable.get_item\u001b[1;34m()\u001b[0m\n",
      "\u001b[1;31mKeyError\u001b[0m: 'Sí'",
      "\nThe above exception was the direct cause of the following exception:\n",
      "\u001b[1;31mKeyError\u001b[0m                                  Traceback (most recent call last)",
      "Cell \u001b[1;32mIn[27], line 8\u001b[0m\n\u001b[0;32m      6\u001b[0m \u001b[38;5;66;03m# Crear la gráfica de barras horizontales\u001b[39;00m\n\u001b[0;32m      7\u001b[0m plt\u001b[38;5;241m.\u001b[39mbarh(categorias, [valores_no[\u001b[38;5;124m'\u001b[39m\u001b[38;5;124mNo\u001b[39m\u001b[38;5;124m'\u001b[39m], valores_si[\u001b[38;5;124m'\u001b[39m\u001b[38;5;124mNo\u001b[39m\u001b[38;5;124m'\u001b[39m]], label\u001b[38;5;241m=\u001b[39m\u001b[38;5;124m'\u001b[39m\u001b[38;5;124mNo\u001b[39m\u001b[38;5;124m'\u001b[39m)\n\u001b[1;32m----> 8\u001b[0m plt\u001b[38;5;241m.\u001b[39mbarh(categorias, [\u001b[43mvalores_no\u001b[49m\u001b[43m[\u001b[49m\u001b[38;5;124;43m'\u001b[39;49m\u001b[38;5;124;43mSí\u001b[39;49m\u001b[38;5;124;43m'\u001b[39;49m\u001b[43m]\u001b[49m, valores_si[\u001b[38;5;124m'\u001b[39m\u001b[38;5;124mSí\u001b[39m\u001b[38;5;124m'\u001b[39m]], label\u001b[38;5;241m=\u001b[39m\u001b[38;5;124m'\u001b[39m\u001b[38;5;124mSí\u001b[39m\u001b[38;5;124m'\u001b[39m)\n\u001b[0;32m     10\u001b[0m \u001b[38;5;66;03m# Personalizar la gráfica\u001b[39;00m\n\u001b[0;32m     11\u001b[0m plt\u001b[38;5;241m.\u001b[39mxlabel(\u001b[38;5;124m'\u001b[39m\u001b[38;5;124mCount\u001b[39m\u001b[38;5;124m'\u001b[39m)\n",
      "File \u001b[1;32mc:\\Users\\maria\\AppData\\Local\\Programs\\Python\\Python312\\Lib\\site-packages\\pandas\\core\\series.py:1121\u001b[0m, in \u001b[0;36mSeries.__getitem__\u001b[1;34m(self, key)\u001b[0m\n\u001b[0;32m   1118\u001b[0m     \u001b[38;5;28;01mreturn\u001b[39;00m \u001b[38;5;28mself\u001b[39m\u001b[38;5;241m.\u001b[39m_values[key]\n\u001b[0;32m   1120\u001b[0m \u001b[38;5;28;01melif\u001b[39;00m key_is_scalar:\n\u001b[1;32m-> 1121\u001b[0m     \u001b[38;5;28;01mreturn\u001b[39;00m \u001b[38;5;28;43mself\u001b[39;49m\u001b[38;5;241;43m.\u001b[39;49m\u001b[43m_get_value\u001b[49m\u001b[43m(\u001b[49m\u001b[43mkey\u001b[49m\u001b[43m)\u001b[49m\n\u001b[0;32m   1123\u001b[0m \u001b[38;5;66;03m# Convert generator to list before going through hashable part\u001b[39;00m\n\u001b[0;32m   1124\u001b[0m \u001b[38;5;66;03m# (We will iterate through the generator there to check for slices)\u001b[39;00m\n\u001b[0;32m   1125\u001b[0m \u001b[38;5;28;01mif\u001b[39;00m is_iterator(key):\n",
      "File \u001b[1;32mc:\\Users\\maria\\AppData\\Local\\Programs\\Python\\Python312\\Lib\\site-packages\\pandas\\core\\series.py:1237\u001b[0m, in \u001b[0;36mSeries._get_value\u001b[1;34m(self, label, takeable)\u001b[0m\n\u001b[0;32m   1234\u001b[0m     \u001b[38;5;28;01mreturn\u001b[39;00m \u001b[38;5;28mself\u001b[39m\u001b[38;5;241m.\u001b[39m_values[label]\n\u001b[0;32m   1236\u001b[0m \u001b[38;5;66;03m# Similar to Index.get_value, but we do not fall back to positional\u001b[39;00m\n\u001b[1;32m-> 1237\u001b[0m loc \u001b[38;5;241m=\u001b[39m \u001b[38;5;28;43mself\u001b[39;49m\u001b[38;5;241;43m.\u001b[39;49m\u001b[43mindex\u001b[49m\u001b[38;5;241;43m.\u001b[39;49m\u001b[43mget_loc\u001b[49m\u001b[43m(\u001b[49m\u001b[43mlabel\u001b[49m\u001b[43m)\u001b[49m\n\u001b[0;32m   1239\u001b[0m \u001b[38;5;28;01mif\u001b[39;00m is_integer(loc):\n\u001b[0;32m   1240\u001b[0m     \u001b[38;5;28;01mreturn\u001b[39;00m \u001b[38;5;28mself\u001b[39m\u001b[38;5;241m.\u001b[39m_values[loc]\n",
      "File \u001b[1;32mc:\\Users\\maria\\AppData\\Local\\Programs\\Python\\Python312\\Lib\\site-packages\\pandas\\core\\indexes\\base.py:3812\u001b[0m, in \u001b[0;36mIndex.get_loc\u001b[1;34m(self, key)\u001b[0m\n\u001b[0;32m   3807\u001b[0m     \u001b[38;5;28;01mif\u001b[39;00m \u001b[38;5;28misinstance\u001b[39m(casted_key, \u001b[38;5;28mslice\u001b[39m) \u001b[38;5;129;01mor\u001b[39;00m (\n\u001b[0;32m   3808\u001b[0m         \u001b[38;5;28misinstance\u001b[39m(casted_key, abc\u001b[38;5;241m.\u001b[39mIterable)\n\u001b[0;32m   3809\u001b[0m         \u001b[38;5;129;01mand\u001b[39;00m \u001b[38;5;28many\u001b[39m(\u001b[38;5;28misinstance\u001b[39m(x, \u001b[38;5;28mslice\u001b[39m) \u001b[38;5;28;01mfor\u001b[39;00m x \u001b[38;5;129;01min\u001b[39;00m casted_key)\n\u001b[0;32m   3810\u001b[0m     ):\n\u001b[0;32m   3811\u001b[0m         \u001b[38;5;28;01mraise\u001b[39;00m InvalidIndexError(key)\n\u001b[1;32m-> 3812\u001b[0m     \u001b[38;5;28;01mraise\u001b[39;00m \u001b[38;5;167;01mKeyError\u001b[39;00m(key) \u001b[38;5;28;01mfrom\u001b[39;00m \u001b[38;5;21;01merr\u001b[39;00m\n\u001b[0;32m   3813\u001b[0m \u001b[38;5;28;01mexcept\u001b[39;00m \u001b[38;5;167;01mTypeError\u001b[39;00m:\n\u001b[0;32m   3814\u001b[0m     \u001b[38;5;66;03m# If we have a listlike key, _check_indexing_error will raise\u001b[39;00m\n\u001b[0;32m   3815\u001b[0m     \u001b[38;5;66;03m#  InvalidIndexError. Otherwise we fall through and re-raise\u001b[39;00m\n\u001b[0;32m   3816\u001b[0m     \u001b[38;5;66;03m#  the TypeError.\u001b[39;00m\n\u001b[0;32m   3817\u001b[0m     \u001b[38;5;28mself\u001b[39m\u001b[38;5;241m.\u001b[39m_check_indexing_error(key)\n",
      "\u001b[1;31mKeyError\u001b[0m: 'Sí'"
     ]
    },
    {
     "data": {
      "image/png": "[encoded data removed]",
      "text/plain": [
       "<Figure size 640x480 with 1 Axes>"
      ]
     },
     "metadata": {},
     "output_type": "display_data"
    }
   ],
   "source": []
  },
  {
   "cell_type": "code",
   "execution_count": 36,
   "metadata": {},
   "outputs": [
    {
     "name": "stdout",
     "output_type": "stream",
     "text": [
      "Cantidad de Empleados en la Empresa_x\n",
      "26-100          85\n",
      "Más de 1000     82\n",
      "100-500         80\n",
      "No respondió    65\n",
      "6-25            50\n",
      "500-1000        19\n",
      "1-5             12\n",
      "Name: count, dtype: int64\n",
      "Cantidad de Empleados en la Empresa_x\n",
      "26-100          85\n",
      "Más de 1000     82\n",
      "100-500         80\n",
      "No respondió    65\n",
      "6-25            50\n",
      "500-1000        19\n",
      "1-5             12\n",
      "Name: count, dtype: int64\n",
      "                                       Cantidad de Personas con Enfermedad Mental dentro de la Empresa  \\\n",
      "Cantidad de Empleados en la Empresa_x                                                                    \n",
      "26-100                                                                              85.0                 \n",
      "Más de 1000                                                                         82.0                 \n",
      "100-500                                                                             80.0                 \n",
      "No respondió                                                                        65.0                 \n",
      "6-25                                                                                50.0                 \n",
      "500-1000                                                                            19.0                 \n",
      "1-5                                                                                 12.0                 \n",
      "Total                                                                              393.0                 \n",
      "\n",
      "                                       Porcentaje  \n",
      "Cantidad de Empleados en la Empresa_x              \n",
      "26-100                                      21.63  \n",
      "Más de 1000                                 20.87  \n",
      "100-500                                     20.36  \n",
      "No respondió                                16.54  \n",
      "6-25                                        12.72  \n",
      "500-1000                                     4.83  \n",
      "1-5                                          3.05  \n",
      "Total                                      100.00  \n"
     ]
    },
    {
     "ename": "NameError",
     "evalue": "name 'resultado2_df' is not defined",
     "output_type": "error",
     "traceback": [
      "\u001b[1;31m---------------------------------------------------------------------------\u001b[0m",
      "\u001b[1;31mNameError\u001b[0m                                 Traceback (most recent call last)",
      "Cell \u001b[1;32mIn[36], line 44\u001b[0m\n\u001b[0;32m     41\u001b[0m resultado_df2 \u001b[38;5;241m=\u001b[39m df_Investigacion2\u001b[38;5;241m.\u001b[39mmerge(grouped_df2, on\u001b[38;5;241m=\u001b[39m\u001b[38;5;124m'\u001b[39m\u001b[38;5;124mUserID\u001b[39m\u001b[38;5;124m'\u001b[39m, how\u001b[38;5;241m=\u001b[39m\u001b[38;5;124m'\u001b[39m\u001b[38;5;124mleft\u001b[39m\u001b[38;5;124m'\u001b[39m)\n\u001b[0;32m     43\u001b[0m \u001b[38;5;66;03m# Extract relevant columns and rename 'Cantidad de Empleados en la Empresa'\u001b[39;00m\n\u001b[1;32m---> 44\u001b[0m new2_df \u001b[38;5;241m=\u001b[39m \u001b[43mresultado2_df\u001b[49m[[\u001b[38;5;124m'\u001b[39m\u001b[38;5;124mSituación Mental Actual\u001b[39m\u001b[38;5;124m'\u001b[39m, \u001b[38;5;124m'\u001b[39m\u001b[38;5;124mCantidad de Empleados en la Empresa\u001b[39m\u001b[38;5;124m'\u001b[39m]]\u001b[38;5;241m.\u001b[39mcopy()\n\u001b[0;32m     46\u001b[0m \u001b[38;5;66;03m# Filter new_df to only include rows where 'Situación Mental Actual' is 'Si' or 'Seguramente si'\u001b[39;00m\n\u001b[0;32m     47\u001b[0m new2_df \u001b[38;5;241m=\u001b[39m new2_df[(new2_df[\u001b[38;5;124m'\u001b[39m\u001b[38;5;124mSituación Mental Actual\u001b[39m\u001b[38;5;124m'\u001b[39m] \u001b[38;5;241m==\u001b[39m \u001b[38;5;124m'\u001b[39m\u001b[38;5;124mSi\u001b[39m\u001b[38;5;124m'\u001b[39m) \u001b[38;5;241m|\u001b[39m (new2_df[\u001b[38;5;124m'\u001b[39m\u001b[38;5;124mSituación Mental Actual\u001b[39m\u001b[38;5;124m'\u001b[39m] \u001b[38;5;241m==\u001b[39m \u001b[38;5;124m'\u001b[39m\u001b[38;5;124mSeguramente si\u001b[39m\u001b[38;5;124m'\u001b[39m)]\n",
      "\u001b[1;31mNameError\u001b[0m: name 'resultado2_df' is not defined"
     ]
    }
   ],
   "source": [
    "#PREGUNTA 3\n",
    "\n",
    "# Assuming 'df_Investigacion1' is your DataFrame\n",
    "filtered_df = df_Investigacion1[df_Investigacion1['Situación Mental Actual'] == 'Si']\n",
    "\n",
    "# Group by UserID and count the occurrences\n",
    "grouped_df = filtered_df.groupby('UserID').size().reset_index(name='Cantidad de Empleados en la Empresa')\n",
    "\n",
    "# Merge the counts back to the original DataFrame\n",
    "resultado_df = df_Investigacion1.merge(grouped_df, on='UserID', how='left')\n",
    "\n",
    "# Extract relevant columns and rename 'Cantidad de Empleados en la Empresa'\n",
    "new_df = resultado_df[['Situación Mental Actual', 'Cantidad de Empleados en la Empresa_x']].copy()\n",
    "\n",
    "# Filter new_df to only include rows where 'Situación Mental Actual' is 'Si'\n",
    "new_df = new_df[new_df['Situación Mental Actual'] == 'Si']\n",
    "\n",
    "counts = new_df['Cantidad de Empleados en la Empresa_x'].value_counts()\n",
    "print(counts)\n",
    "\n",
    "counts = new_df['Cantidad de Empleados en la Empresa_x'].value_counts()\n",
    "print(counts)\n",
    "\n",
    "\n",
    "counts_df = counts.to_frame('Cantidad de Personas con Enfermedad Mental dentro de la Empresa')\n",
    "counts_df['Porcentaje'] = (counts / counts.sum()) * 100\n",
    "counts_df['Porcentaje'] = counts_df['Porcentaje'].round(2)\n",
    "# Agregar fila con el total\n",
    "counts_df.loc['Total'] = [counts.sum(), 100.00]\n",
    "print(counts_df)\n",
    "\n",
    "#df_Investigacion2\n",
    "\n",
    "# Assuming 'df_Investigacion2' is your DataFrame\n",
    "filtered_df2 = df_Investigacion2[df_Investigacion2['Situación Mental Actual'] == 'Si']\n",
    "\n",
    "# Group by UserID and count the occurrences\n",
    "grouped_df2 = filtered_df2.groupby('UserID').size().reset_index(name='Cantidad de Empleados en la Empresa')\n",
    "\n",
    "# Merge the counts back to the original DataFrame\n",
    "resultado_df2 = df_Investigacion2.merge(grouped_df2, on='UserID', how='left')\n",
    "\n",
    "# Extract relevant columns and rename 'Cantidad de Empleados en la Empresa'\n",
    "new2_df = resultado2_df[['Situación Mental Actual', 'Cantidad de Empleados en la Empresa']].copy()\n",
    "\n",
    "# Filter new_df to only include rows where 'Situación Mental Actual' is 'Si' or 'Seguramente si'\n",
    "new2_df = new2_df[(new2_df['Situación Mental Actual'] == 'Si') | (new2_df['Situación Mental Actual'] == 'Seguramente si')]\n",
    "\n",
    "counts2 = new2_df['Cantidad de Empleados en la Empresa'].value_counts()\n",
    "print(counts2)\n",
    "\n",
    "counts2_df = counts2.to_frame('Cantidad de Personas con Enfermedad Mental dentro de la Empresa')\n",
    "counts2_df['Porcentaje'] = (counts2 / counts2.sum()) * 100\n",
    "counts2_df['Porcentaje'] = counts2_df['Porcentaje'].round(2)\n",
    "# Agregar fila con el total\n",
    "counts2_df.loc['Total'] = [counts2.sum(), 100.00]\n",
    "print(counts2_df)\n",
    "\n",
    "\n",
    "\n",
    "#df_Investigacion3\n",
    "# Assuming 'df_Investigacion3' is your DataFrame\n",
    "filtered_df3 = df_Investigacion3[df_Investigacion3['Situación Mental Actual'] == 'Si']\n",
    "\n",
    "# Group by UserID and count the occurrences\n",
    "grouped_df3 = filtered_df3.groupby('UserID').size().reset_index(name='Cantidad de Empleados en la Empresa')\n",
    "\n",
    "# Merge the counts back to the original DataFrame\n",
    "resultado_df3 = df_Investigacion3.merge(grouped_df3, on='UserID', how='left')\n",
    "\n",
    "# Extract relevant columns and rename 'Cantidad de Empleados en la Empresa'\n",
    "new3_df = resultado_df3[['Situación Mental Actual', 'Cantidad de Empleados en la Empresa_x']].copy()\n",
    "\n",
    "# Filter new_df to only include rows where 'Situación Mental Actual' is 'Si' or 'Seguramente si'\n",
    "new3_df = new3_df[(new3_df['Situación Mental Actual'] == 'Si') | (new3_df['Situación Mental Actual'] == 'Seguramente si')]\n",
    "\n",
    "counts3 = new3_df['Cantidad de Empleados en la Empresa_x'].value_counts()\n",
    "print(counts3)\n",
    "\n",
    "counts3_df = counts3.to_frame('Cantidad de Personas con Enfermedad Mental dentro de la Empresa')\n",
    "counts3_df['Porcentaje'] = (counts3 / counts3.sum()) * 100\n",
    "counts3_df['Porcentaje'] = counts3_df['Porcentaje'].round(2)\n",
    "# Agregar fila con el total\n",
    "counts3_df.loc['Total'] = [counts3.sum(), 100.00]\n",
    "print(counts3_df)\n"
   ]
  },
  {
   "cell_type": "code",
   "execution_count": 39,
   "metadata": {},
   "outputs": [
    {
     "name": "stdout",
     "output_type": "stream",
     "text": [
      "Cantidad de Empleados en la Empresa_x\n",
      "Más de 1000     71\n",
      "100-500         44\n",
      "6-25            31\n",
      "26-100          30\n",
      "500-1000        24\n",
      "No respondió    18\n",
      "1-5              3\n",
      "Name: count, dtype: int64\n",
      "                                       Cantidad de Personas con Enfermedad Mental dentro de la Empresa  \\\n",
      "Cantidad de Empleados en la Empresa_x                                                                    \n",
      "Más de 1000                                                                         71.0                 \n",
      "100-500                                                                             44.0                 \n",
      "6-25                                                                                31.0                 \n",
      "26-100                                                                              30.0                 \n",
      "500-1000                                                                            24.0                 \n",
      "No respondió                                                                        18.0                 \n",
      "1-5                                                                                  3.0                 \n",
      "Total                                                                              221.0                 \n",
      "\n",
      "                                       Porcentaje  \n",
      "Cantidad de Empleados en la Empresa_x              \n",
      "Más de 1000                                 32.13  \n",
      "100-500                                     19.91  \n",
      "6-25                                        14.03  \n",
      "26-100                                      13.57  \n",
      "500-1000                                    10.86  \n",
      "No respondió                                 8.14  \n",
      "1-5                                          1.36  \n",
      "Total                                      100.00  \n"
     ]
    }
   ],
   "source": [
    "\n"
   ]
  },
  {
   "cell_type": "code",
   "execution_count": null,
   "metadata": {},
   "outputs": [
    {
     "ename": "KeyError",
     "evalue": "\"['Porcentaje de Tiempo Afectada por Enfermedad Mental'] not in index\"",
     "output_type": "error",
     "traceback": [
      "\u001b[1;31m---------------------------------------------------------------------------\u001b[0m",
      "\u001b[1;31mKeyError\u001b[0m                                  Traceback (most recent call last)",
      "Cell \u001b[1;32mIn[13], line 11\u001b[0m\n\u001b[0;32m      8\u001b[0m columns_to_join \u001b[38;5;241m=\u001b[39m [\u001b[38;5;124m\"\u001b[39m\u001b[38;5;124mSituación Mental Actual\u001b[39m\u001b[38;5;124m\"\u001b[39m, \u001b[38;5;124m\"\u001b[39m\u001b[38;5;124mProductividad Afectada Por Enfermedad Mental\u001b[39m\u001b[38;5;124m\"\u001b[39m, \u001b[38;5;124m\"\u001b[39m\u001b[38;5;124mPorcentaje de Tiempo Afectada por Enfermedad Mental\u001b[39m\u001b[38;5;124m\"\u001b[39m]\n\u001b[0;32m     10\u001b[0m \u001b[38;5;66;03m# Realizar el join utilizando la columna UserID como clave\u001b[39;00m\n\u001b[1;32m---> 11\u001b[0m joined_df \u001b[38;5;241m=\u001b[39m \u001b[43mdf_Investigacion\u001b[49m\u001b[38;5;241;43m.\u001b[39;49m\u001b[43mset_index\u001b[49m\u001b[43m(\u001b[49m\u001b[38;5;124;43m\"\u001b[39;49m\u001b[38;5;124;43mUserID\u001b[39;49m\u001b[38;5;124;43m\"\u001b[39;49m\u001b[43m)\u001b[49m\u001b[43m[\u001b[49m\u001b[43mcolumns_to_join\u001b[49m\u001b[43m]\u001b[49m\u001b[38;5;241m.\u001b[39mjoin(df_Investigacion\u001b[38;5;241m.\u001b[39mset_index(\u001b[38;5;124m\"\u001b[39m\u001b[38;5;124mUserID\u001b[39m\u001b[38;5;124m\"\u001b[39m)[columns_to_join], on\u001b[38;5;241m=\u001b[39m\u001b[38;5;124m\"\u001b[39m\u001b[38;5;124mUserID\u001b[39m\u001b[38;5;124m\"\u001b[39m)\n\u001b[0;32m     13\u001b[0m \u001b[38;5;66;03m# Resetear el índice para que UserID sea una columna nuevamente\u001b[39;00m\n\u001b[0;32m     14\u001b[0m joined_df\u001b[38;5;241m.\u001b[39mreset_index(inplace\u001b[38;5;241m=\u001b[39m\u001b[38;5;28;01mTrue\u001b[39;00m)\n",
      "File \u001b[1;32mc:\\Users\\maria\\AppData\\Local\\Programs\\Python\\Python312\\Lib\\site-packages\\pandas\\core\\frame.py:4108\u001b[0m, in \u001b[0;36mDataFrame.__getitem__\u001b[1;34m(self, key)\u001b[0m\n\u001b[0;32m   4106\u001b[0m     \u001b[38;5;28;01mif\u001b[39;00m is_iterator(key):\n\u001b[0;32m   4107\u001b[0m         key \u001b[38;5;241m=\u001b[39m \u001b[38;5;28mlist\u001b[39m(key)\n\u001b[1;32m-> 4108\u001b[0m     indexer \u001b[38;5;241m=\u001b[39m \u001b[38;5;28;43mself\u001b[39;49m\u001b[38;5;241;43m.\u001b[39;49m\u001b[43mcolumns\u001b[49m\u001b[38;5;241;43m.\u001b[39;49m\u001b[43m_get_indexer_strict\u001b[49m\u001b[43m(\u001b[49m\u001b[43mkey\u001b[49m\u001b[43m,\u001b[49m\u001b[43m \u001b[49m\u001b[38;5;124;43m\"\u001b[39;49m\u001b[38;5;124;43mcolumns\u001b[39;49m\u001b[38;5;124;43m\"\u001b[39;49m\u001b[43m)\u001b[49m[\u001b[38;5;241m1\u001b[39m]\n\u001b[0;32m   4110\u001b[0m \u001b[38;5;66;03m# take() does not accept boolean indexers\u001b[39;00m\n\u001b[0;32m   4111\u001b[0m \u001b[38;5;28;01mif\u001b[39;00m \u001b[38;5;28mgetattr\u001b[39m(indexer, \u001b[38;5;124m\"\u001b[39m\u001b[38;5;124mdtype\u001b[39m\u001b[38;5;124m\"\u001b[39m, \u001b[38;5;28;01mNone\u001b[39;00m) \u001b[38;5;241m==\u001b[39m \u001b[38;5;28mbool\u001b[39m:\n",
      "File \u001b[1;32mc:\\Users\\maria\\AppData\\Local\\Programs\\Python\\Python312\\Lib\\site-packages\\pandas\\core\\indexes\\base.py:6200\u001b[0m, in \u001b[0;36mIndex._get_indexer_strict\u001b[1;34m(self, key, axis_name)\u001b[0m\n\u001b[0;32m   6197\u001b[0m \u001b[38;5;28;01melse\u001b[39;00m:\n\u001b[0;32m   6198\u001b[0m     keyarr, indexer, new_indexer \u001b[38;5;241m=\u001b[39m \u001b[38;5;28mself\u001b[39m\u001b[38;5;241m.\u001b[39m_reindex_non_unique(keyarr)\n\u001b[1;32m-> 6200\u001b[0m \u001b[38;5;28;43mself\u001b[39;49m\u001b[38;5;241;43m.\u001b[39;49m\u001b[43m_raise_if_missing\u001b[49m\u001b[43m(\u001b[49m\u001b[43mkeyarr\u001b[49m\u001b[43m,\u001b[49m\u001b[43m \u001b[49m\u001b[43mindexer\u001b[49m\u001b[43m,\u001b[49m\u001b[43m \u001b[49m\u001b[43maxis_name\u001b[49m\u001b[43m)\u001b[49m\n\u001b[0;32m   6202\u001b[0m keyarr \u001b[38;5;241m=\u001b[39m \u001b[38;5;28mself\u001b[39m\u001b[38;5;241m.\u001b[39mtake(indexer)\n\u001b[0;32m   6203\u001b[0m \u001b[38;5;28;01mif\u001b[39;00m \u001b[38;5;28misinstance\u001b[39m(key, Index):\n\u001b[0;32m   6204\u001b[0m     \u001b[38;5;66;03m# GH 42790 - Preserve name from an Index\u001b[39;00m\n",
      "File \u001b[1;32mc:\\Users\\maria\\AppData\\Local\\Programs\\Python\\Python312\\Lib\\site-packages\\pandas\\core\\indexes\\base.py:6252\u001b[0m, in \u001b[0;36mIndex._raise_if_missing\u001b[1;34m(self, key, indexer, axis_name)\u001b[0m\n\u001b[0;32m   6249\u001b[0m     \u001b[38;5;28;01mraise\u001b[39;00m \u001b[38;5;167;01mKeyError\u001b[39;00m(\u001b[38;5;124mf\u001b[39m\u001b[38;5;124m\"\u001b[39m\u001b[38;5;124mNone of [\u001b[39m\u001b[38;5;132;01m{\u001b[39;00mkey\u001b[38;5;132;01m}\u001b[39;00m\u001b[38;5;124m] are in the [\u001b[39m\u001b[38;5;132;01m{\u001b[39;00maxis_name\u001b[38;5;132;01m}\u001b[39;00m\u001b[38;5;124m]\u001b[39m\u001b[38;5;124m\"\u001b[39m)\n\u001b[0;32m   6251\u001b[0m not_found \u001b[38;5;241m=\u001b[39m \u001b[38;5;28mlist\u001b[39m(ensure_index(key)[missing_mask\u001b[38;5;241m.\u001b[39mnonzero()[\u001b[38;5;241m0\u001b[39m]]\u001b[38;5;241m.\u001b[39munique())\n\u001b[1;32m-> 6252\u001b[0m \u001b[38;5;28;01mraise\u001b[39;00m \u001b[38;5;167;01mKeyError\u001b[39;00m(\u001b[38;5;124mf\u001b[39m\u001b[38;5;124m\"\u001b[39m\u001b[38;5;132;01m{\u001b[39;00mnot_found\u001b[38;5;132;01m}\u001b[39;00m\u001b[38;5;124m not in index\u001b[39m\u001b[38;5;124m\"\u001b[39m)\n",
      "\u001b[1;31mKeyError\u001b[0m: \"['Porcentaje de Tiempo Afectada por Enfermedad Mental'] not in index\""
     ]
    }
   ],
   "source": [
    "#PREGUNTA 6\n",
    "\n",
    "# Agregar un índice único a cada dataframe\n",
    "df_Investigacion = df_Investigacion.reset_index()\n",
    "df_Investigacion = df_Investigacion.rename(columns={'index': 'UserID'})\n",
    "\n",
    "# Asignar las columnas que deseas unir a una lista\n",
    "columns_to_join = [\"Situación Mental Actual\", \"Productividad Afectada Por Enfermedad Mental\", \"Porcentaje de Tiempo Afectada por Enfermedad Mental\"]\n",
    "\n",
    "# Realizar el join utilizando la columna UserID como clave\n",
    "joined_df = df_Investigacion.set_index(\"UserID\")[columns_to_join].join(df_Investigacion.set_index(\"UserID\")[columns_to_join], on=\"UserID\")\n",
    "\n",
    "# Resetear el índice para que UserID sea una columna nuevamente\n",
    "joined_df.reset_index(inplace=True)"
   ]
  },
  {
   "cell_type": "code",
   "execution_count": null,
   "metadata": {},
   "outputs": [
    {
     "name": "stdout",
     "output_type": "stream",
     "text": [
      "                                                    Posee Enfermedad Mental Diagnosticada\n",
      "¿Has Observado o Experimentado una Respuesta In...                                       \n",
      "No                                                                                    341\n",
      "Tal vez/No estoy seguro(a)                                                            215\n",
      "Si, lo he visto                                                                       155\n",
      "Si, me ha pasado                                                                       89\n",
      "No respondió                                                                           39\n"
     ]
    }
   ],
   "source": [
    "# ¿Si Expresas que posees una Enfermedad Mental crees que en tu ambiente de Trabajo seria tomado de Mala manera?\n",
    "Pregunta_5 = df_Investigacion['¿Has Observado o Experimentado una Respuesta Insolidaria o Mal Gestionada a un Problema de Salud Mental en tu Lugar de Trabajo Actual o Anterior?'].value_counts().to_frame('Posee Enfermedad Mental Diagnosticada')\n",
    "\n",
    "Pregunta_5 = Pregunta_5.rename(columns={'count': 'Posee Enfermedad Mental Diagnosticada'})\n",
    "\n",
    "print(Pregunta_5)"
   ]
  },
  {
   "cell_type": "code",
   "execution_count": null,
   "metadata": {},
   "outputs": [
    {
     "name": "stderr",
     "output_type": "stream",
     "text": [
      "C:\\Users\\maria\\AppData\\Local\\Temp\\ipykernel_9460\\2807150385.py:25: UserWarning: FigureCanvasAgg is non-interactive, and thus cannot be shown\n",
      "  plt.show()\n"
     ]
    }
   ],
   "source": [
    "import matplotlib.colors as mcolors\n",
    "# Create an array of colors with a gradient\n",
    "colors = np.array(['#6495ED', '#87CEEB', '#ADD8E6', '#C6E2B5', '#D9F0D9'])\n",
    "\n",
    "# Sort the values and indices of Pregunta_5 in descending order\n",
    "sorted_indices = Pregunta_5['Posee Enfermedad Mental Diagnosticada'].sort_values(ascending=False).index\n",
    "sorted_values = Pregunta_5['Posee Enfermedad Mental Diagnosticada'].sort_values(ascending=False)\n",
    "\n",
    "# Reverse the order of the sorted indices and values\n",
    "sorted_indices = sorted_indices[::-1]\n",
    "sorted_values = sorted_values[::-1]\n",
    "\n",
    "# Create the colors gradient (use the sorted indices to select the colors)\n",
    "colors_grad = [colors[i % len(colors)] for i in range(len(sorted_values))]\n",
    "\n",
    "# Create the horizontal bar chart\n",
    "plt.barh(sorted_indices, sorted_values, color=colors_grad)\n",
    "\n",
    "# Add labels, title, etc.\n",
    "plt.xlabel('Cantidad')\n",
    "plt.ylabel('Reacción al confesar tener una Enfermedad Mnetal')\n",
    "plt.title('Posee Enfermedad Mental Diagnosticada')\n",
    "\n",
    "# Show the chart\n",
    "plt.show()"
   ]
  },
  {
   "cell_type": "code",
   "execution_count": null,
   "metadata": {},
   "outputs": [
    {
     "name": "stdout",
     "output_type": "stream",
     "text": [
      "                               Enfermedades Mentales Diagnosticadas Ciudad de Residencia (EEUU)  Cantidad de personas\n",
      "           Trastorno de Ansiedad (Genralizado, Social, Fobia, etc.)                  California                    34\n",
      "Trastorno del Estado del Ánimo (Depresión, Trastorno Bipolar, etc.)                  California                    19\n",
      "           Trastorno de Ansiedad (Genralizado, Social, Fobia, etc.)                    Illinois                    18\n",
      "           Trastorno de Ansiedad (Genralizado, Social, Fobia, etc.)                 Pensilvania                    16\n",
      "           Trastorno de Ansiedad (Genralizado, Social, Fobia, etc.)                  Nueva York                    13\n"
     ]
    }
   ],
   "source": [
    "# Pregunta 2\n",
    "# ¿Cuáles son las 5 enfermedades más comunes de los encuestados según el estado donde residen? ¿Cambiaría este ranking si se toma en cuenta la edad y el genero? \n",
    "pregunta_2 = df_Investigacion[df_Investigacion['Enfermedades Mentales Diagnosticadas']!= 'No respondió'].groupby('Ciudad de Residencia (EEUU)')['Enfermedades Mentales Diagnosticadas'].value_counts().nlargest(5).reset_index(name='Frecuencia')\n",
    "\n",
    "pregunta_2 = pregunta_2.loc[:, ['Enfermedades Mentales Diagnosticadas', 'Ciudad de Residencia (EEUU)', 'Frecuencia']]  # Reordenar columnas\n",
    "\n",
    "pregunta_2.columns = ['Enfermedades Mentales Diagnosticadas', 'Ciudad de Residencia (EEUU)', 'Cantidad de personas']  # Renombrar columnas\n",
    "\n",
    "print(pregunta_2.to_string(header=True, index=False))"
   ]
  },
  {
   "cell_type": "code",
   "execution_count": null,
   "metadata": {},
   "outputs": [
    {
     "name": "stdout",
     "output_type": "stream",
     "text": [
      "                 Enfermedades Mentales Diagnosticadas   Edad  \\\n",
      "8   Trastorno de Ansiedad (Genralizado, Social, Fo...  19-25   \n",
      "22  Trastorno de Ansiedad (Genralizado, Social, Fo...  26-32   \n",
      "36  Trastorno de Ansiedad (Genralizado, Social, Fo...  33-38   \n",
      "50  Trastorno de Ansiedad (Genralizado, Social, Fo...  39-44   \n",
      "64  Trastorno de Ansiedad (Genralizado, Social, Fo...  45-50   \n",
      "78  Trastorno de Ansiedad (Genralizado, Social, Fo...  51-56   \n",
      "92  Trastorno de Ansiedad (Genralizado, Social, Fo...  57-66   \n",
      "\n",
      "    Cantidad de personas  \n",
      "8                     37  \n",
      "22                    75  \n",
      "36                    65  \n",
      "50                    28  \n",
      "64                    14  \n",
      "78                     5  \n",
      "92                     4  \n"
     ]
    },
    {
     "name": "stderr",
     "output_type": "stream",
     "text": [
      "C:\\Users\\maria\\AppData\\Local\\Temp\\ipykernel_9460\\3695608321.py:10: SettingWithCopyWarning: \n",
      "A value is trying to be set on a copy of a slice from a DataFrame.\n",
      "Try using .loc[row_indexer,col_indexer] = value instead\n",
      "\n",
      "See the caveats in the documentation: https://pandas.pydata.org/pandas-docs/stable/user_guide/indexing.html#returning-a-view-versus-a-copy\n",
      "  df_Investigacionp2['Edad'] = df_Investigacionp2['Edad'].astype(int)\n",
      "C:\\Users\\maria\\AppData\\Local\\Temp\\ipykernel_9460\\3695608321.py:13: SettingWithCopyWarning: \n",
      "A value is trying to be set on a copy of a slice from a DataFrame.\n",
      "Try using .loc[row_indexer,col_indexer] = value instead\n",
      "\n",
      "See the caveats in the documentation: https://pandas.pydata.org/pandas-docs/stable/user_guide/indexing.html#returning-a-view-versus-a-copy\n",
      "  df_Investigacionp2['Enfermedades Mentales Diagnosticadas'] = df_Investigacionp2['Enfermedades Mentales Diagnosticadas'].astype(str)\n",
      "C:\\Users\\maria\\AppData\\Local\\Temp\\ipykernel_9460\\3695608321.py:16: SettingWithCopyWarning: \n",
      "A value is trying to be set on a copy of a slice from a DataFrame.\n",
      "Try using .loc[row_indexer,col_indexer] = value instead\n",
      "\n",
      "See the caveats in the documentation: https://pandas.pydata.org/pandas-docs/stable/user_guide/indexing.html#returning-a-view-versus-a-copy\n",
      "  df_Investigacionp2['Edad'] = pd.cut(df_Investigacionp2['Edad'], bins=[18, 25, 32, 38, 44, 50, 56, 66],\n",
      "C:\\Users\\maria\\AppData\\Local\\Temp\\ipykernel_9460\\3695608321.py:24: FutureWarning: The default of observed=False is deprecated and will be changed to True in a future version of pandas. Pass observed=False to retain current behavior or observed=True to adopt the future default and silence this warning.\n",
      "  pregunta2_2 = df_Investigacionp2.groupby(['Edad', 'Enfermedades Mentales Diagnosticadas']).size().reset_index(name='Cantidad de personas')\n",
      "C:\\Users\\maria\\AppData\\Local\\Temp\\ipykernel_9460\\3695608321.py:27: FutureWarning: The default of observed=False is deprecated and will be changed to True in a future version of pandas. Pass observed=False to retain current behavior or observed=True to adopt the future default and silence this warning.\n",
      "  pregunta2_2 = pregunta2_2.loc[pregunta2_2.groupby('Edad')['Cantidad de personas'].idxmax()]\n"
     ]
    }
   ],
   "source": [
    "# Parte 2, Pregunta 2\n",
    "df_Investigacionp2=df_Investigacion\n",
    "# Convertir la columna Edad a tipo numérico, convirtiendo valores no numéricos a NaN\n",
    "df_Investigacionp2['Edad'] = pd.to_numeric(df_Investigacionp2['Edad'], errors='coerce')\n",
    "\n",
    "# Eliminar filas con valores NaN en la columna Edad\n",
    "df_Investigacionp2 = df_Investigacionp2.dropna(subset=['Edad'])\n",
    "\n",
    "# Convertir la columna Edad a tipo entero\n",
    "df_Investigacionp2['Edad'] = df_Investigacionp2['Edad'].astype(int)\n",
    "\n",
    "# Convertir la columna Enfermedades Mentales Diagnosticadas a tipo string\n",
    "df_Investigacionp2['Enfermedades Mentales Diagnosticadas'] = df_Investigacionp2['Enfermedades Mentales Diagnosticadas'].astype(str)\n",
    "\n",
    "# Crear una columna Edad_binned con los rangos de edad\n",
    "df_Investigacionp2['Edad'] = pd.cut(df_Investigacionp2['Edad'], bins=[18, 25, 32, 38, 44, 50, 56, 66], \n",
    "                                 labels=['19-25', '26-32', '33-38', '39-44', '45-50', '51-56', '57-66'],\n",
    "                                 include_lowest=True)\n",
    "\n",
    "# Eliminar filas con \"No respondio\" en la columna Enfermedades Mentales Diagnosticadas\n",
    "df_Investigacionp2 = df_Investigacionp2[~df_Investigacionp2['Enfermedades Mentales Diagnosticadas'].isin(['No respondió'])]\n",
    "\n",
    "# Agrupar por Edad y Enfermedades Mentales Diagnosticadas, y contar la frecuencia\n",
    "pregunta2_2 = df_Investigacionp2.groupby(['Edad', 'Enfermedades Mentales Diagnosticadas']).size().reset_index(name='Cantidad de personas')\n",
    "\n",
    "# Seleccionar la enfermedad mental más frecuente para cada rango de edad\n",
    "pregunta2_2 = pregunta2_2.loc[pregunta2_2.groupby('Edad')['Cantidad de personas'].idxmax()]\n",
    "\n",
    "# Reordenar las columnas\n",
    "pregunta2_2 = pregunta2_2[['Enfermedades Mentales Diagnosticadas', 'Edad', 'Cantidad de personas']]\n",
    "\n",
    "# Mostrar la tabla con la enfermedad mental más frecuente para cada rango de edad\n",
    "print(pregunta2_2)"
   ]
  },
  {
   "cell_type": "code",
   "execution_count": null,
   "metadata": {},
   "outputs": [
    {
     "name": "stdout",
     "output_type": "stream",
     "text": [
      "Género                                              Femenino  Masculino  Otro\n",
      "Enfermedades Mentales Diagnosticadas                                         \n",
      "Trastorno Obsesivo-Compulsivo                            0.0        3.0   0.0\n",
      "Trastorno de Ansiedad (Genralizado, Social, Fob...      90.0      130.0   7.0\n",
      "Trastorno de Estrés Post-Traumático                      1.0        6.0   0.0\n",
      "Trastorno del Estado del Ánimo (Depresión, Tras...      45.0       66.0   5.0\n",
      "Trastorno por Déficit de Atención e Hiperactividad       2.0       16.0   1.0\n"
     ]
    }
   ],
   "source": [
    "# Parte 3, pregunta 2\n",
    "Pregunta2_3 = df_Investigacion.groupby(['Enfermedades Mentales Diagnosticadas', 'Género']).size().reset_index(name='Cantidad de personas')\n",
    "\n",
    "Pregunta2_3 = Pregunta2_3[Pregunta2_3['Género']!= 'No respondió']  # Eliminar \"No respondió\" de la columna \"Género\"\n",
    "\n",
    "top_5_enfermedades = Pregunta2_3.groupby('Enfermedades Mentales Diagnosticadas')['Cantidad de personas'].sum().nlargest(6).index\n",
    "\n",
    "Pregunta2_3 = Pregunta2_3[Pregunta2_3['Enfermedades Mentales Diagnosticadas'].isin(top_5_enfermedades)]\n",
    "\n",
    "Pregunta2_3 = Pregunta2_3[Pregunta2_3['Enfermedades Mentales Diagnosticadas']!= 'No respondió']\n",
    "\n",
    "Pregunta2_3 = Pregunta2_3.pivot_table(index='Enfermedades Mentales Diagnosticadas', columns='Género', values='Cantidad de personas', fill_value=0)\n",
    "\n",
    "print(Pregunta2_3)"
   ]
  }
 ],
 "metadata": {
  "kernelspec": {
   "display_name": "Python 3",
   "language": "python",
   "name": "python3"
  },
  "language_info": {
   "codemirror_mode": {
    "name": "ipython",
    "version": 3
   },
   "file_extension": ".py",
   "mimetype": "text/x-python",
   "name": "python",
   "nbconvert_exporter": "python",
   "pygments_lexer": "ipython3",
   "version": "3.12.1"
  }
 },
 "nbformat": 4,
 "nbformat_minor": 2
}
