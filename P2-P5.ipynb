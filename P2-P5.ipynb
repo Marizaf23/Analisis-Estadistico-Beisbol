{
 "cells": [
  {
   "cell_type": "code",
   "execution_count": 1,
   "metadata": {},
   "outputs": [],
   "source": [
    "import pandas as pd\n",
    "import numpy  as np\n",
    "import sqlite3\n",
    "import seaborn as sns\n",
    "import matplotlib.pyplot as plt\n",
    "import plotly.graph_objects as go\n",
    "import streamlit as st\n",
    "import requests\n",
    "from io import StringIO\n",
    "import os\n",
    "\n",
    "\n",
    "# Conectar a la base de datos SQLite\n",
    "conn = sqlite3.connect(r\"C:\\Users\\DELL\\OneDrive\\Documentos\\kadija\\compu\\SALUD MENTAL EN LA INDUSTRIA TECNOLÓGICA 1 (4).sqlite\")\n",
    "\n",
    "cur = conn.cursor()"
   ]
  },
  {
   "cell_type": "code",
   "execution_count": 2,
   "metadata": {},
   "outputs": [
    {
     "name": "stdout",
     "output_type": "stream",
     "text": [
      "Entidades en la base de datos:\n"
     ]
    },
    {
     "data": {
      "text/html": [
       "<div>\n",
       "<style scoped>\n",
       "    .dataframe tbody tr th:only-of-type {\n",
       "        vertical-align: middle;\n",
       "    }\n",
       "\n",
       "    .dataframe tbody tr th {\n",
       "        vertical-align: top;\n",
       "    }\n",
       "\n",
       "    .dataframe thead th {\n",
       "        text-align: right;\n",
       "    }\n",
       "</style>\n",
       "<table border=\"1\" class=\"dataframe\">\n",
       "  <thead>\n",
       "    <tr style=\"text-align: right;\">\n",
       "      <th></th>\n",
       "      <th>name</th>\n",
       "    </tr>\n",
       "  </thead>\n",
       "  <tbody>\n",
       "    <tr>\n",
       "      <th>0</th>\n",
       "      <td>Answer</td>\n",
       "    </tr>\n",
       "    <tr>\n",
       "      <th>1</th>\n",
       "      <td>Question</td>\n",
       "    </tr>\n",
       "    <tr>\n",
       "      <th>2</th>\n",
       "      <td>Respuestas</td>\n",
       "    </tr>\n",
       "    <tr>\n",
       "      <th>3</th>\n",
       "      <td>Survey</td>\n",
       "    </tr>\n",
       "  </tbody>\n",
       "</table>\n",
       "</div>"
      ],
      "text/plain": [
       "         name\n",
       "0      Answer\n",
       "1    Question\n",
       "2  Respuestas\n",
       "3      Survey"
      ]
     },
     "execution_count": 2,
     "metadata": {},
     "output_type": "execute_result"
    }
   ],
   "source": [
    "# Consultar las tablas en la base de datos\n",
    "consulta_ntablas = \"SELECT name FROM sqlite_master WHERE type='table' ORDER BY name;\"\n",
    "\n",
    "\n",
    "# Mostrar las entidades\n",
    "print(\"Entidades en la base de datos:\")\n",
    "entidades = pd.read_sql_query(sql = consulta_ntablas, con = conn)\n",
    "entidades"
   ]
  },
  {
   "cell_type": "code",
   "execution_count": 3,
   "metadata": {},
   "outputs": [],
   "source": [
    "# Crear consulta para convertir en DF\n",
    "consulta = \"SELECT * FROM Respuestas;\"\n",
    "\n",
    "df_Respuestas = pd.read_sql_query(sql = consulta, con = conn)\n",
    "\n",
    "conn.close()"
   ]
  },
  {
   "cell_type": "code",
   "execution_count": 4,
   "metadata": {},
   "outputs": [],
   "source": [
    "# Filtrado del DF por desde 2016-2019 y Estados Unidos como país para realizar la Investigación\n",
    "User_ID = df_Respuestas[(df_Respuestas['QuestionID'] == 3) & (df_Respuestas['AnswerText'] == 'Estados Unidos')]['UserID'].unique()\n",
    "\n",
    "df_Investigacion1 = df_Respuestas[(df_Respuestas['UserID'].isin(User_ID)) & (df_Respuestas['SurveyID'] == 2016)]\n",
    "\n",
    "df_Investigacion2 = df_Respuestas[(df_Respuestas['UserID'].isin(User_ID)) & (df_Respuestas['SurveyID'] == 2017)]\n",
    "\n",
    "df_Investigacion3 = df_Respuestas[(df_Respuestas['UserID'].isin(User_ID)) & (df_Respuestas['SurveyID'] == 2018)]\n",
    "\n",
    "df_Investigacion4 = df_Respuestas[(df_Respuestas['UserID'].isin(User_ID)) & (df_Respuestas['SurveyID'] == 2019)]"
   ]
  },
  {
   "cell_type": "code",
   "execution_count": 5,
   "metadata": {},
   "outputs": [],
   "source": [
    "# Reestructuración del DF para mejor uso de Pandas\n",
    "df_Investigacion1 = df_Investigacion1.groupby(['UserID', 'QuestionID'])['AnswerText'].first().reset_index()\n",
    "\n",
    "df_Investigacion2 = df_Investigacion2.groupby(['UserID', 'QuestionID'])['AnswerText'].first().reset_index()\n",
    "\n",
    "df_Investigacion3 = df_Investigacion3.groupby(['UserID', 'QuestionID'])['AnswerText'].first().reset_index()\n",
    "\n",
    "df_Investigacion4 = df_Investigacion4.groupby(['UserID', 'QuestionID'])['AnswerText'].first().reset_index()\n",
    "\n",
    "df_Investigacion1 = df_Investigacion1.pivot_table(index='UserID', columns='QuestionID', values='AnswerText', aggfunc='first')\n",
    "\n",
    "df_Investigacion2 = df_Investigacion2.pivot_table(index='UserID', columns='QuestionID', values='AnswerText', aggfunc='first')\n",
    "\n",
    "df_Investigacion3 = df_Investigacion3.pivot_table(index='UserID', columns='QuestionID', values='AnswerText', aggfunc='first')\n",
    "\n",
    "df_Investigacion4 = df_Investigacion4.pivot_table(index='UserID', columns='QuestionID', values='AnswerText', aggfunc='first')"
   ]
  },
  {
   "cell_type": "code",
   "execution_count": 6,
   "metadata": {},
   "outputs": [
    {
     "name": "stdout",
     "output_type": "stream",
     "text": [
      "Index([  1,   2,   3,   4,   5,   6,   7,   8,  10,  12,  14,  16,  17,  18,\n",
      "        19,  20,  23,  24,  27,  28,  30,  31,  33,  34,  48,  49,  53,  54,\n",
      "        55,  56, 114, 115, 116, 117, 118],\n",
      "      dtype='int64', name='QuestionID')\n"
     ]
    }
   ],
   "source": [
    "# Renombrar las variables 2016\n",
    "print(df_Investigacion1.columns)\n",
    "\n",
    "df_Investigacion1.columns = ['Edad', 'Género', 'País de Residencia', 'Ciudad de Residencia (EEUU)', 'Trabajo Autónomo', 'Antecedentes Heredofamiliares', 'Búsqueda de Tratamiento con un Profesional', 'Cantidad de Empleados en la Empresa', 'Beneficios Dentro de Seguro Médico', 'Problemas de Salud Mental en Entrevista Laboral', 'Conocimiento de las Opciones de Cobertura por la Empresa Actual', 'Recursos de la Empresa Para Conocer sobre la Salud Mental y Canales de Ayuda', 'Facilidad de Consulta de Baja Médica en el Trabajo', 'Comodidad para Hablar de una Enfermedad Mental con Compañeros de Trabajo', 'Comodidad para Hablar de una Enfermedad Mental con un Director/Supervisor', 'Cobertura de Salud Mental en Seguro Médico', 'Beneficios de Salud Mental de Empleos Anteriores', 'Conocimiento de las Opciones de Ayuda por el Empleo Anterior', 'Protección de Anonimato Si Se Toma Ventaja de los Recursos de Tratamiento en Empleos Anteriores', 'Disposición de Hablar de Salud Mental con un Supervisor', 'Disposición para Hablar Sobre Enfermedad Mental con Familia/Amigos', 'Seguridad de Revelar Enfermedad Mental Debido a Comentario Sobre Salud Mental de Otra Persona', 'Situación Mental Actual', '¿Alguna Vez Has Sido Diagnosticado con una Enfermedad Mental?', 'Nivel de Interferencia en el Trabajo Cuando Se Está Bajo Tratamiento', 'Nivel de Interferencia en el Trabajo Cuando No Se Está Bajo Tratamiento', 'Disposición a Revelar Enfermedad Mental a Empleados/Compañeros', 'Productividad Afectada Por Enfermedad Mental', 'Porcentaje de Tiempo Afectada Por Enfermedad Mental', '¿Has Observado o Experimentado una Respuesta Insolidaria o Mal Gestionada a un Problema de Salud Mental en tu Lugar de Trabajo Actual o Anterior?', '¿Cree que los Miembros de su Equipo/Compañeros de Trabajo le Verían de Forma más Negativa Si Supieran que Padece una Enfermedad Mental?', 'Enfermedades Mentales Diagnosticadas', 'Enfermedades Mentales No Diagnosticadas', 'Puesto de Trabajo', 'Trabajo Remoto']\n",
    "\n",
    "# Reemplazar los NaN\n",
    "df_Investigacion1 = df_Investigacion1.fillna('No respondió')"
   ]
  },
  {
   "cell_type": "code",
   "execution_count": 132,
   "metadata": {},
   "outputs": [
    {
     "name": "stdout",
     "output_type": "stream",
     "text": [
      "Index(['Edad', 'Género', 'País de Residencia', 'Ciudad de Residencia (EEUU)',\n",
      "       'Trabajo Autónomo', 'Antecedentes Heredofamiliares',\n",
      "       'Búsqueda de Tratamiento con un Profesional',\n",
      "       'Cantidad de Empleados en la Empresa',\n",
      "       'Beneficios Dentro de Seguro Médico',\n",
      "       'Problemas de Salud Mental en Entrevista Laboral',\n",
      "       'Conocimiento de las Opciones de Cobertura por la Empresa Actual',\n",
      "       'Recursos de la Empresa Para Conocer sobre la Salud Mental y Canales de Ayuda',\n",
      "       'Facilidad de Consulta de Baja Médica en el Trabajo',\n",
      "       'Comodidad para Hablar de una Enfermedad Mental con Compañeros de Trabajo',\n",
      "       'Comodidad para Hablar de una Enfermedad Mental con un Director/Supervisor',\n",
      "       'Cobertura de Salud Mental en Seguro Médico',\n",
      "       'Beneficios de Salud Mental de Empleos Anteriores',\n",
      "       'Conocimiento de las Opciones de Ayuda por el Empleo Anterior',\n",
      "       'Protección de Anonimato Si Se Toma Ventaja de los Recursos de Tratamiento en Empleos Anteriores',\n",
      "       'Disposición de Hablar de Salud Mental con un Supervisor',\n",
      "       'Disposición para Hablar Sobre Enfermedad Mental con Familia/Amigos',\n",
      "       'Seguridad de Revelar Enfermedad Mental Debido a Comentario Sobre Salud Mental de Otra Persona',\n",
      "       'Situación Mental Actual',\n",
      "       '¿Alguna Vez Has Sido Diagnosticado con una Enfermedad Mental?',\n",
      "       'Nivel de Interferencia en el Trabajo Cuando Se Está Bajo Tratamiento',\n",
      "       'Nivel de Interferencia en el Trabajo Cuando No Se Está Bajo Tratamiento',\n",
      "       'Disposición a Revelar Enfermedad Mental a Empleados/Compañeros',\n",
      "       'Productividad Afectada Por Enfermedad Mental',\n",
      "       'Porcentaje de Tiempo Afectada Por Enfermedad Mental',\n",
      "       '¿Has Observado o Experimentado una Respuesta Insolidaria o Mal Gestionada a un Problema de Salud Mental en tu Lugar de Trabajo Actual o Anterior?',\n",
      "       'Importancia a la Salud Mental (Empresa)',\n",
      "       '¿Cómo Afectó la Relación con Alguien de tu Trabajo el Haberle Contado sobre tu Enfermedad Mental?',\n",
      "       '¿Te Identificas Abiertamente en el Trabajo como una Persona con una Enfermedad Mental?',\n",
      "       '¿Tu Carrera Se Ha Visto Afectada por Tener una Enfermedad Mental?',\n",
      "       'Si Supieran Que Padeces un Trastorno Mental, ¿Cómo Crees Que Reaccionarían los Miembros de tu Equipo/Compañeros de Trabajo?',\n",
      "       '¿Has Observado o Experimentado una Respuesta Positiva De Compañeros/Jefes al Saber que Tienes una Enfermedad Mental?',\n",
      "       '¿En qué Medida Cree que el Sector Tecnológico Apoya a los Empleados con Enfermedades Mentales?',\n",
      "       'Raza'],\n",
      "      dtype='object')\n"
     ]
    }
   ],
   "source": [
    "# Renombrar las variables 2017\n",
    "print(df_Investigacion2.columns)\n",
    "\n",
    "df_Investigacion2.columns = ['Edad', 'Género', 'País de Residencia', 'Ciudad de Residencia (EEUU)', 'Trabajo Autónomo', 'Antecedentes Heredofamiliares', 'Búsqueda de Tratamiento con un Profesional', 'Cantidad de Empleados en la Empresa', 'Beneficios Dentro de Seguro Médico', 'Problemas de Salud Mental en Entrevista Laboral', 'Conocimiento de las Opciones de Cobertura por la Empresa Actual', 'Recursos de la Empresa Para Conocer sobre la Salud Mental y Canales de Ayuda', 'Facilidad de Consulta de Baja Médica en el Trabajo', 'Comodidad para Hablar de una Enfermedad Mental con Compañeros de Trabajo', 'Comodidad para Hablar de una Enfermedad Mental con un Director/Supervisor', 'Cobertura de Salud Mental en Seguro Médico', 'Beneficios de Salud Mental de Empleos Anteriores', 'Conocimiento de las Opciones de Ayuda por el Empleo Anterior', 'Protección de Anonimato Si Se Toma Ventaja de los Recursos de Tratamiento en Empleos Anteriores', 'Disposición de Hablar de Salud Mental con un Supervisor', 'Disposición para Hablar Sobre Enfermedad Mental con Familia/Amigos', 'Seguridad de Revelar Enfermedad Mental Debido a Comentario Sobre Salud Mental de Otra Persona', 'Situación Mental Actual', '¿Alguna Vez Has Sido Diagnosticado con una Enfermedad Mental?', 'Nivel de Interferencia en el Trabajo Cuando Se Está Bajo Tratamiento', 'Nivel de Interferencia en el Trabajo Cuando No Se Está Bajo Tratamiento', 'Disposición a Revelar Enfermedad Mental a Empleados/Compañeros', 'Productividad Afectada Por Enfermedad Mental', 'Porcentaje de Tiempo Afectada Por Enfermedad Mental', '¿Has Observado o Experimentado una Respuesta Insolidaria o Mal Gestionada a un Problema de Salud Mental en tu Lugar de Trabajo Actual o Anterior?', 'Importancia a la Salud Mental (Empresa)', '¿Cómo Afectó la Relación con Alguien de tu Trabajo el Haberle Contado sobre tu Enfermedad Mental?', '¿Te Identificas Abiertamente en el Trabajo como una Persona con una Enfermedad Mental?', '¿Tu Carrera Se Ha Visto Afectada por Tener una Enfermedad Mental?', 'Si Supieran Que Padeces un Trastorno Mental, ¿Cómo Crees Que Reaccionarían los Miembros de tu Equipo/Compañeros de Trabajo?', '¿Has Observado o Experimentado una Respuesta Positiva De Compañeros/Jefes al Saber que Tienes una Enfermedad Mental?', '¿En qué Medida Cree que el Sector Tecnológico Apoya a los Empleados con Enfermedades Mentales?', 'Raza']\n",
    "\n",
    "# Reemplazar los NaN\n",
    "df_Investigacion2 = df_Investigacion2.fillna('No respondió')"
   ]
  },
  {
   "cell_type": "code",
   "execution_count": 133,
   "metadata": {},
   "outputs": [
    {
     "name": "stdout",
     "output_type": "stream",
     "text": [
      "Index(['Edad', 'Género', 'País de Residencia', 'Ciudad de Residencia (EEUU)',\n",
      "       'Trabajo Autónomo', 'Antecedentes Heredofamiliares',\n",
      "       'Búsqueda de Tratamiento con un Profesional',\n",
      "       'Cantidad de Empleados en la Empresa',\n",
      "       'Beneficios Dentro de Seguro Médico',\n",
      "       'Problemas de Salud Mental en Entrevista Laboral',\n",
      "       'Conocimiento de las Opciones de Cobertura por la Empresa Actual',\n",
      "       'Recursos de la Empresa Para Conocer sobre la Salud Mental y Canales de Ayuda',\n",
      "       'Facilidad de Consulta de Baja Médica en el Trabajo',\n",
      "       'Comodidad para Hablar de una Enfermedad Mental con Compañeros de Trabajo',\n",
      "       'Comodidad para Hablar de una Enfermedad Mental con un Director/Supervisor',\n",
      "       'Cobertura de Salud Mental en Seguro Médico',\n",
      "       'Beneficios de Salud Mental de Empleos Anteriores',\n",
      "       'Conocimiento de las Opciones de Ayuda por el Empleo Anterior',\n",
      "       'Protección de Anonimato Si Se Toma Ventaja de los Recursos de Tratamiento en Empleos Anteriores',\n",
      "       'Disposición de Hablar de Salud Mental con un Supervisor',\n",
      "       'Disposición para Hablar Sobre Enfermedad Mental con Familia/Amigos',\n",
      "       'Seguridad de Revelar Enfermedad Mental Debido a Comentario Sobre Salud Mental de Otra Persona',\n",
      "       'Situación Mental Actual',\n",
      "       '¿Alguna Vez Has Sido Diagnosticado con una Enfermedad Mental?',\n",
      "       'Nivel de Interferencia en el Trabajo Cuando Se Está Bajo Tratamiento',\n",
      "       'Nivel de Interferencia en el Trabajo Cuando No Se Está Bajo Tratamiento',\n",
      "       'Disposición a Revelar Enfermedad Mental a Empleados/Compañeros',\n",
      "       'Productividad Afectada Por Enfermedad Mental',\n",
      "       'Porcentaje de Tiempo Afectada Por Enfermedad Mental',\n",
      "       '¿Has Observado o Experimentado una Respuesta Insolidaria o Mal Gestionada a un Problema de Salud Mental en tu Lugar de Trabajo Actual o Anterior?',\n",
      "       'Importancia a la Salud Mental (Empresa)',\n",
      "       '¿Cómo Afectó la Relación con Alguien de tu Trabajo el Haberle Contado sobre tu Enfermedad Mental?',\n",
      "       '¿Te Identificas Abiertamente en el Trabajo como una Persona con una Enfermedad Mental?',\n",
      "       '¿Tu Carrera Se Ha Visto Afectada por Tener una Enfermedad Mental?',\n",
      "       'Si Supieran Que Padeces un Trastorno Mental, ¿Cómo Crees Que Reaccionarían los Miembros de tu Equipo/Compañeros de Trabajo?',\n",
      "       '¿Has Observado o Experimentado una Respuesta Positiva De Compañeros/Jefes al Saber que Tienes una Enfermedad Mental?',\n",
      "       '¿En qué Medida Cree que el Sector Tecnológico Apoya a los Empleados con Enfermedades Mentales?',\n",
      "       'Raza'],\n",
      "      dtype='object')\n"
     ]
    }
   ],
   "source": [
    "# Renombrar las variables 2018\n",
    "print(df_Investigacion3.columns)\n",
    "\n",
    "df_Investigacion3.columns = ['Edad', 'Género', 'País de Residencia', 'Ciudad de Residencia (EEUU)', 'Trabajo Autónomo', 'Antecedentes Heredofamiliares', 'Búsqueda de Tratamiento con un Profesional', 'Cantidad de Empleados en la Empresa', 'Beneficios Dentro de Seguro Médico', 'Problemas de Salud Mental en Entrevista Laboral', 'Conocimiento de las Opciones de Cobertura por la Empresa Actual', 'Recursos de la Empresa Para Conocer sobre la Salud Mental y Canales de Ayuda', 'Facilidad de Consulta de Baja Médica en el Trabajo', 'Comodidad para Hablar de una Enfermedad Mental con Compañeros de Trabajo', 'Comodidad para Hablar de una Enfermedad Mental con un Director/Supervisor', 'Cobertura de Salud Mental en Seguro Médico', 'Beneficios de Salud Mental de Empleos Anteriores', 'Conocimiento de las Opciones de Ayuda por el Empleo Anterior', 'Protección de Anonimato Si Se Toma Ventaja de los Recursos de Tratamiento en Empleos Anteriores', 'Disposición de Hablar de Salud Mental con un Supervisor', 'Disposición para Hablar Sobre Enfermedad Mental con Familia/Amigos', 'Seguridad de Revelar Enfermedad Mental Debido a Comentario Sobre Salud Mental de Otra Persona', 'Situación Mental Actual', '¿Alguna Vez Has Sido Diagnosticado con una Enfermedad Mental?', 'Nivel de Interferencia en el Trabajo Cuando Se Está Bajo Tratamiento', 'Nivel de Interferencia en el Trabajo Cuando No Se Está Bajo Tratamiento', 'Disposición a Revelar Enfermedad Mental a Empleados/Compañeros', 'Productividad Afectada Por Enfermedad Mental', 'Porcentaje de Tiempo Afectada Por Enfermedad Mental', '¿Has Observado o Experimentado una Respuesta Insolidaria o Mal Gestionada a un Problema de Salud Mental en tu Lugar de Trabajo Actual o Anterior?', 'Importancia a la Salud Mental (Empresa)', '¿Cómo Afectó la Relación con Alguien de tu Trabajo el Haberle Contado sobre tu Enfermedad Mental?', '¿Te Identificas Abiertamente en el Trabajo como una Persona con una Enfermedad Mental?', '¿Tu Carrera Se Ha Visto Afectada por Tener una Enfermedad Mental?', 'Si Supieran Que Padeces un Trastorno Mental, ¿Cómo Crees Que Reaccionarían los Miembros de tu Equipo/Compañeros de Trabajo?', '¿Has Observado o Experimentado una Respuesta Positiva De Compañeros/Jefes al Saber que Tienes una Enfermedad Mental?', '¿En qué Medida Cree que el Sector Tecnológico Apoya a los Empleados con Enfermedades Mentales?', 'Raza']\n",
    "\n",
    "# Reemplazar los NaN\n",
    "df_Investigacion3 = df_Investigacion3.fillna('No respondió')"
   ]
  },
  {
   "cell_type": "code",
   "execution_count": 9,
   "metadata": {},
   "outputs": [
    {
     "name": "stdout",
     "output_type": "stream",
     "text": [
      "Index([ 1,  2,  3,  4,  5,  6,  7,  8, 10, 12, 14, 16, 17, 18, 19, 20, 23, 24,\n",
      "       27, 28, 30, 31, 33, 34, 48, 49, 53, 54, 55, 56, 65, 67, 78, 79, 81, 83,\n",
      "       85, 89],\n",
      "      dtype='int64', name='QuestionID')\n"
     ]
    }
   ],
   "source": [
    "# Renombrar las variables 2019\n",
    "print(df_Investigacion4.columns)\n",
    "\n",
    "df_Investigacion4.columns = ['Edad', 'Género', 'País de Residencia', 'Ciudad de Residencia (EEUU)', 'Trabajo Autónomo', 'Antecedentes Heredofamiliares', 'Búsqueda de Tratamiento con un Profesional', 'Cantidad de Empleados en la Empresa', 'Beneficios Dentro de Seguro Médico', 'Problemas de Salud Mental en Entrevista Laboral', 'Conocimiento de las Opciones de Cobertura por la Empresa Actual', 'Recursos de la Empresa Para Conocer sobre la Salud Mental y Canales de Ayuda', 'Facilidad de Consulta de Baja Médica en el Trabajo', 'Comodidad para Hablar de una Enfermedad Mental con Compañeros de Trabajo', 'Comodidad para Hablar de una Enfermedad Mental con un Director/Supervisor', 'Cobertura de Salud Mental en Seguro Médico', 'Beneficios de Salud Mental de Empleos Anteriores', 'Conocimiento de las Opciones de Ayuda por el Empleo Anterior', 'Protección de Anonimato Si Se Toma Ventaja de los Recursos de Tratamiento en Empleos Anteriores', 'Disposición de Hablar de Salud Mental con un Supervisor', 'Disposición para Hablar Sobre Enfermedad Mental con Familia/Amigos', 'Seguridad de Revelar Enfermedad Mental Debido a Comentario Sobre Salud Mental de Otra Persona', 'Situación Mental Actual', '¿Alguna Vez Has Sido Diagnosticado con una Enfermedad Mental?', 'Nivel de Interferencia en el Trabajo Cuando Se Está Bajo Tratamiento', 'Nivel de Interferencia en el Trabajo Cuando No Se Está Bajo Tratamiento', 'Disposición a Revelar Enfermedad Mental a Empleados/Compañeros', 'Productividad Afectada Por Enfermedad Mental', 'Porcentaje de Tiempo Afectada Por Enfermedad Mental', '¿Has Observado o Experimentado una Respuesta Insolidaria o Mal Gestionada a un Problema de Salud Mental en tu Lugar de Trabajo Actual o Anterior?', 'Importancia a la Salud Mental (Empresa)', '¿Cómo Afectó la Relación con Alguien de tu Trabajo el Haberle Contado sobre tu Enfermedad Mental?', '¿Te Identificas Abiertamente en el Trabajo como una Persona con una Enfermedad Mental?', '¿Tu Carrera Se Ha Visto Afectada por Tener una Enfermedad Mental?', 'Si Supieran Que Padeces un Trastorno Mental, ¿Cómo Crees Que Reaccionarían los Miembros de tu Equipo/Compañeros de Trabajo?', '¿Has Observado o Experimentado una Respuesta Positiva De Compañeros/Jefes al Saber que Tienes una Enfermedad Mental?', '¿En qué Medida Cree que el Sector Tecnológico Apoya a los Empleados con Enfermedades Mentales?', 'Raza']\n",
    "\n",
    "# Reemplazar los NaN\n",
    "df_Investigacion4 = df_Investigacion4.fillna('No respondió')"
   ]
  },
  {
   "cell_type": "code",
   "execution_count": 10,
   "metadata": {},
   "outputs": [],
   "source": [
    "# Carpeta donde deseas guardar los archivos CSV\n",
    "output_folder = r\"C:\\Users\\DELL\\OneDrive\\Documentos\\kadija\\compu\\CSV\"\n",
    "\n",
    "# Crear la carpeta si no existe\n",
    "if not os.path.exists(output_folder):\n",
    "    os.makedirs(output_folder)\n",
    "\n",
    "# Guardar los archivos CSV en la carpeta especificada\n",
    "df_Investigacion1.to_csv(os.path.join(output_folder, 'Investigacion1.csv'), index=False)\n",
    "df_Investigacion2.to_csv(os.path.join(output_folder, 'Investigacion2.csv'), index=False)\n",
    "df_Investigacion3.to_csv(os.path.join(output_folder, 'Investigacion3.csv'), index=False)\n",
    "df_Investigacion4.to_csv(os.path.join(output_folder, 'Investigacion4.csv'), index=False)"
   ]
  },
  {
   "cell_type": "code",
   "execution_count": 11,
   "metadata": {},
   "outputs": [],
   "source": [
    "# Carga el archivo CSV en un DataFrame\n",
    "df_2016 = pd.read_csv(r\"C:\\Users\\DELL\\OneDrive\\Documentos\\kadija\\compu\\CSV\\Investigacion1.csv\")\n",
    "df_2017 = pd.read_csv(r\"C:\\Users\\DELL\\OneDrive\\Documentos\\kadija\\compu\\CSV\\Investigacion2.csv\")\n",
    "df_2018 = pd.read_csv(r\"C:\\Users\\DELL\\OneDrive\\Documentos\\kadija\\compu\\CSV\\Investigacion3.csv\")\n",
    "df_2019 = pd.read_csv(r\"C:\\Users\\DELL\\OneDrive\\Documentos\\kadija\\compu\\CSV\\Investigacion4.csv\")"
   ]
  },
  {
   "cell_type": "code",
   "execution_count": 12,
   "metadata": {},
   "outputs": [
    {
     "name": "stdout",
     "output_type": "stream",
     "text": [
      "¿Alguna Vez Has Sido Diagnosticado con una Enfermedad Mental?  Diagnosticado con Enfermedad Mental\n",
      "Disposición de Hablar de Salud Mental con un Su...                                                \n",
      "Con algunos de mis jefes anteriores                                                            228\n",
      "No respondió                                                                                    44\n",
      "No sé                                                                                           25\n",
      "No, con ninguno de mis jefes anteriores                                                        157\n",
      "Si, con todos mis jefes anteriores                                                              19\n",
      "¿Alguna Vez Has Sido Diagnosticado con una Enfermedad Mental?  Diagnosticado con Enfermedad Mental\n",
      "Disposición de Hablar de Salud Mental con un Su...                                                \n",
      "Con algunos de mis jefes anteriores                                                            115\n",
      "No respondió                                                                                    23\n",
      "No sé                                                                                            8\n",
      "No, con ninguno de mis supervisores anteriores                                                  86\n",
      "Si, con todos mis supervisores anteriores                                                       12\n",
      "¿Alguna Vez Has Sido Diagnosticado con una Enfermedad Mental?  Diagnosticado con Enfermedad Mental\n",
      "Disposición de Hablar de Salud Mental con un Su...                                                \n",
      "Con algunos de mis jefes anteriores                                                             73\n",
      "No respondió                                                                                    21\n",
      "No sé                                                                                            9\n",
      "No, con ninguno de mis supervisores anteriores                                                  48\n",
      "Si, con todos mis supervisores anteriores                                                        8\n",
      "¿Alguna Vez Has Sido Diagnosticado con una Enfermedad Mental?  Diagnosticado con Enfermedad Mental\n",
      "Disposición de Hablar de Salud Mental con un Su...                                                \n",
      "Con algunos de mis jefes anteriores                                                             50\n",
      "No respondió                                                                                    12\n",
      "No sé                                                                                            4\n",
      "No, con ninguno de mis supervisores anteriores                                                  35\n",
      "Si, con todos mis supervisores anteriores                                                        5\n"
     ]
    }
   ],
   "source": [
    "# ¿Cuál es la disposición de los empleados de la industria tegnológica a a hora de hablar sobre su Enfermedad mental?\n",
    "#Disposición a la hora de hablar sobre tu salud mental con supervisor\n",
    "#2016\n",
    "filtro_si_diagnosticado = df_2016['¿Alguna Vez Has Sido Diagnosticado con una Enfermedad Mental?'] == 'Si'\n",
    "pregunta_5_2016 = pd.crosstab(df_2016[filtro_si_diagnosticado]['Disposición de Hablar de Salud Mental con un Supervisor'], \n",
    "                                df_2016[filtro_si_diagnosticado]['¿Alguna Vez Has Sido Diagnosticado con una Enfermedad Mental?'], margins=True)\n",
    "pregunta_5_2016 = pregunta_5_2016.rename(columns={'Si': 'Diagnosticado con Enfermedad Mental'})\n",
    "pregunta_5_2016 = pregunta_5_2016.drop('All', axis=0).drop('All', axis=1)  # Elimina las filas y columnas \"All\"\n",
    "print(pregunta_5_2016)\n",
    "\n",
    "#2017\n",
    "filtro_si_diagnosticado = df_2017['¿Alguna Vez Has Sido Diagnosticado con una Enfermedad Mental?'] == 'Si'\n",
    "pregunta_5_2017 = pd.crosstab(df_2017[filtro_si_diagnosticado]['Disposición de Hablar de Salud Mental con un Supervisor'], \n",
    "                                df_2017[filtro_si_diagnosticado]['¿Alguna Vez Has Sido Diagnosticado con una Enfermedad Mental?'], margins=True)\n",
    "pregunta_5_2017 = pregunta_5_2017.rename(columns={'Si': 'Diagnosticado con Enfermedad Mental'})\n",
    "pregunta_5_2017 = pregunta_5_2017.drop('All', axis=0).drop('All', axis=1)  # Elimina las filas y columnas \"All\"\n",
    "print(pregunta_5_2017)\n",
    "\n",
    "#2018\n",
    "filtro_si_diagnosticado = df_2018['¿Alguna Vez Has Sido Diagnosticado con una Enfermedad Mental?'] == 'Si'\n",
    "pregunta_5_2018 = pd.crosstab(df_2018[filtro_si_diagnosticado]['Disposición de Hablar de Salud Mental con un Supervisor'], \n",
    "                                df_2018[filtro_si_diagnosticado]['¿Alguna Vez Has Sido Diagnosticado con una Enfermedad Mental?'], margins=True)\n",
    "pregunta_5_2018 = pregunta_5_2018.rename(columns={'Si': 'Diagnosticado con Enfermedad Mental'})\n",
    "pregunta_5_2018 = pregunta_5_2018.drop('All', axis=0).drop('All', axis=1)  # Elimina las filas y columnas \"All\"\n",
    "print(pregunta_5_2018)\n",
    "\n",
    "#2019\n",
    "filtro_si_diagnosticado = df_2019['¿Alguna Vez Has Sido Diagnosticado con una Enfermedad Mental?'] == 'Si'\n",
    "pregunta_5_2019 = pd.crosstab(df_2019[filtro_si_diagnosticado]['Disposición de Hablar de Salud Mental con un Supervisor'], \n",
    "                                df_2019[filtro_si_diagnosticado]['¿Alguna Vez Has Sido Diagnosticado con una Enfermedad Mental?'], margins=True)\n",
    "pregunta_5_2019 = pregunta_5_2019.rename(columns={'Si': 'Diagnosticado con Enfermedad Mental'})\n",
    "pregunta_5_2019 = pregunta_5_2019.drop('All', axis=0).drop('All', axis=1)  # Elimina las filas y columnas \"All\"\n",
    "print(pregunta_5_2019)"
   ]
  },
  {
   "cell_type": "code",
   "execution_count": 205,
   "metadata": {},
   "outputs": [
    {
     "data": {
      "application/vnd.plotly.v1+json": {
       "config": {
        "plotlyServerURL": "https://plot.ly"
       },
       "data": [
        {
         "marker": {
          "color": "rgba(0, 0, 255, 0.8)"
         },
         "name": "Año 2016",
         "orientation": "v",
         "type": "bar",
         "x": [
          "Si, con todos mis jefes",
          "No, con ninguno de mis jefes",
          "Con algunos de mis jefes",
          "No sé",
          "No respondió"
         ],
         "y": [
          19,
          157,
          228,
          25,
          44
         ]
        }
       ],
       "frames": [
        {
         "data": [
          {
           "marker": {
            "color": "rgba(0, 0, 255, 0.8)"
           },
           "name": "Año 2016",
           "orientation": "v",
           "type": "bar",
           "x": [
            "Si, con todos mis jefes",
            "No, con ninguno de mis jefes",
            "Con algunos de mis jefes",
            "No sé",
            "No respondió"
           ],
           "y": [
            19,
            157,
            228,
            25,
            44
           ]
          }
         ],
         "layout": {
          "title": {
           "text": "Año 2016"
          }
         },
         "name": "frame0"
        },
        {
         "data": [
          {
           "marker": {
            "color": "rgba(0, 0, 191, 0.8)"
           },
           "name": "Año 2017",
           "orientation": "v",
           "type": "bar",
           "x": [
            "Si, con todos mis jefes",
            "No, con ninguno de mis jefes",
            "Con algunos de mis jefes",
            "No sé",
            "No respondió"
           ],
           "y": [
            12,
            86,
            115,
            8,
            23
           ]
          }
         ],
         "layout": {
          "title": {
           "text": "Año 2017"
          }
         },
         "name": "frame1"
        },
        {
         "data": [
          {
           "marker": {
            "color": "rgba(0, 0, 127, 0.8)"
           },
           "name": "Año 2018",
           "orientation": "v",
           "type": "bar",
           "x": [
            "Si, con todos mis jefes",
            "No, con ninguno de mis jefes",
            "Con algunos de mis jefes",
            "No sé",
            "No respondió"
           ],
           "y": [
            8,
            48,
            73,
            9,
            21
           ]
          }
         ],
         "layout": {
          "title": {
           "text": "Año 2018"
          }
         },
         "name": "frame2"
        },
        {
         "data": [
          {
           "marker": {
            "color": "rgba(0, 0, 63, 0.8)"
           },
           "name": "Año 2019",
           "orientation": "v",
           "type": "bar",
           "x": [
            "Si, con todos mis jefes",
            "No, con ninguno de mis jefes",
            "Con algunos de mis jefes",
            "No sé",
            "No respondió"
           ],
           "y": [
            5,
            35,
            50,
            4,
            12
           ]
          }
         ],
         "layout": {
          "title": {
           "text": "Año 2019"
          }
         },
         "name": "frame3"
        }
       ],
       "layout": {
        "template": {
         "data": {
          "candlestick": [
           {
            "decreasing": {
             "line": {
              "color": "#000033"
             }
            },
            "increasing": {
             "line": {
              "color": "#000032"
             }
            },
            "type": "candlestick"
           }
          ],
          "contour": [
           {
            "colorscale": [
             [
              0,
              "#000011"
             ],
             [
              0.1111111111111111,
              "#000012"
             ],
             [
              0.2222222222222222,
              "#000013"
             ],
             [
              0.3333333333333333,
              "#000014"
             ],
             [
              0.4444444444444444,
              "#000015"
             ],
             [
              0.5555555555555556,
              "#000016"
             ],
             [
              0.6666666666666666,
              "#000017"
             ],
             [
              0.7777777777777778,
              "#000018"
             ],
             [
              0.8888888888888888,
              "#000019"
             ],
             [
              1,
              "#000020"
             ]
            ],
            "type": "contour"
           }
          ],
          "contourcarpet": [
           {
            "colorscale": [
             [
              0,
              "#000011"
             ],
             [
              0.1111111111111111,
              "#000012"
             ],
             [
              0.2222222222222222,
              "#000013"
             ],
             [
              0.3333333333333333,
              "#000014"
             ],
             [
              0.4444444444444444,
              "#000015"
             ],
             [
              0.5555555555555556,
              "#000016"
             ],
             [
              0.6666666666666666,
              "#000017"
             ],
             [
              0.7777777777777778,
              "#000018"
             ],
             [
              0.8888888888888888,
              "#000019"
             ],
             [
              1,
              "#000020"
             ]
            ],
            "type": "contourcarpet"
           }
          ],
          "heatmap": [
           {
            "colorscale": [
             [
              0,
              "#000011"
             ],
             [
              0.1111111111111111,
              "#000012"
             ],
             [
              0.2222222222222222,
              "#000013"
             ],
             [
              0.3333333333333333,
              "#000014"
             ],
             [
              0.4444444444444444,
              "#000015"
             ],
             [
              0.5555555555555556,
              "#000016"
             ],
             [
              0.6666666666666666,
              "#000017"
             ],
             [
              0.7777777777777778,
              "#000018"
             ],
             [
              0.8888888888888888,
              "#000019"
             ],
             [
              1,
              "#000020"
             ]
            ],
            "type": "heatmap"
           }
          ],
          "histogram2d": [
           {
            "colorscale": [
             [
              0,
              "#000011"
             ],
             [
              0.1111111111111111,
              "#000012"
             ],
             [
              0.2222222222222222,
              "#000013"
             ],
             [
              0.3333333333333333,
              "#000014"
             ],
             [
              0.4444444444444444,
              "#000015"
             ],
             [
              0.5555555555555556,
              "#000016"
             ],
             [
              0.6666666666666666,
              "#000017"
             ],
             [
              0.7777777777777778,
              "#000018"
             ],
             [
              0.8888888888888888,
              "#000019"
             ],
             [
              1,
              "#000020"
             ]
            ],
            "type": "histogram2d"
           }
          ],
          "icicle": [
           {
            "textfont": {
             "color": "white"
            },
            "type": "icicle"
           }
          ],
          "sankey": [
           {
            "textfont": {
             "color": "#000036"
            },
            "type": "sankey"
           }
          ],
          "scatter": [
           {
            "marker": {
             "line": {
              "width": 0
             }
            },
            "type": "scatter"
           }
          ],
          "table": [
           {
            "cells": {
             "fill": {
              "color": "#000038"
             },
             "font": {
              "color": "#000037"
             },
             "line": {
              "color": "#000039"
             }
            },
            "header": {
             "fill": {
              "color": "#000040"
             },
             "font": {
              "color": "#000036"
             },
             "line": {
              "color": "#000039"
             }
            },
            "type": "table"
           }
          ],
          "waterfall": [
           {
            "connector": {
             "line": {
              "color": "#000036",
              "width": 2
             }
            },
            "decreasing": {
             "marker": {
              "color": "#000033"
             }
            },
            "increasing": {
             "marker": {
              "color": "#000032"
             }
            },
            "totals": {
             "marker": {
              "color": "#000034"
             }
            },
            "type": "waterfall"
           }
          ]
         },
         "layout": {
          "coloraxis": {
           "colorscale": [
            [
             0,
             "#000011"
            ],
            [
             0.1111111111111111,
             "#000012"
            ],
            [
             0.2222222222222222,
             "#000013"
            ],
            [
             0.3333333333333333,
             "#000014"
            ],
            [
             0.4444444444444444,
             "#000015"
            ],
            [
             0.5555555555555556,
             "#000016"
            ],
            [
             0.6666666666666666,
             "#000017"
            ],
            [
             0.7777777777777778,
             "#000018"
            ],
            [
             0.8888888888888888,
             "#000019"
            ],
            [
             1,
             "#000020"
            ]
           ]
          },
          "colorscale": {
           "diverging": [
            [
             0,
             "#000021"
            ],
            [
             0.1,
             "#000022"
            ],
            [
             0.2,
             "#000023"
            ],
            [
             0.3,
             "#000024"
            ],
            [
             0.4,
             "#000025"
            ],
            [
             0.5,
             "#000026"
            ],
            [
             0.6,
             "#000027"
            ],
            [
             0.7,
             "#000028"
            ],
            [
             0.8,
             "#000029"
            ],
            [
             0.9,
             "#000030"
            ],
            [
             1,
             "#000031"
            ]
           ],
           "sequential": [
            [
             0,
             "#000011"
            ],
            [
             0.1111111111111111,
             "#000012"
            ],
            [
             0.2222222222222222,
             "#000013"
            ],
            [
             0.3333333333333333,
             "#000014"
            ],
            [
             0.4444444444444444,
             "#000015"
            ],
            [
             0.5555555555555556,
             "#000016"
            ],
            [
             0.6666666666666666,
             "#000017"
            ],
            [
             0.7777777777777778,
             "#000018"
            ],
            [
             0.8888888888888888,
             "#000019"
            ],
            [
             1,
             "#000020"
            ]
           ],
           "sequentialminus": [
            [
             0,
             "#000011"
            ],
            [
             0.1111111111111111,
             "#000012"
            ],
            [
             0.2222222222222222,
             "#000013"
            ],
            [
             0.3333333333333333,
             "#000014"
            ],
            [
             0.4444444444444444,
             "#000015"
            ],
            [
             0.5555555555555556,
             "#000016"
            ],
            [
             0.6666666666666666,
             "#000017"
            ],
            [
             0.7777777777777778,
             "#000018"
            ],
            [
             0.8888888888888888,
             "#000019"
            ],
            [
             1,
             "#000020"
            ]
           ]
          },
          "colorway": [
           "#000001",
           "#000002",
           "#000003",
           "#000004",
           "#000005",
           "#000006",
           "#000007",
           "#000008",
           "#000009",
           "#000010"
          ]
         }
        },
        "title": {
         "text": "Disposición de Hablar de Salud Mental con un Supervisor"
        },
        "updatemenus": [
         {
          "buttons": [
           {
            "args": [
             null,
             {
              "frame": {
               "duration": 7000,
               "fromcurrent": true
              },
              "transition": {
               "duration": 500
              }
             }
            ],
            "label": "Play",
            "method": "animate"
           },
           {
            "args": [
             [
              null
             ],
             {
              "frame": {
               "duration": 0,
               "fromcurrent": true
              },
              "transition": {
               "duration": 0
              }
             }
            ],
            "label": "Pause",
            "method": "animate"
           },
           {
            "args": [
             null,
             {
              "frame": {
               "duration": 0,
               "fromcurrent": false
              },
              "transition": {
               "duration": 0
              }
             }
            ],
            "label": "Restart",
            "method": "animate"
           }
          ],
          "direction": "down",
          "type": "buttons"
         }
        ],
        "xaxis": {
         "title": {
          "text": "Respuestas"
         }
        },
        "yaxis": {
         "title": {
          "text": "Cantidad"
         }
        }
       }
      }
     },
     "metadata": {},
     "output_type": "display_data"
    }
   ],
   "source": [
    "import plotly.graph_objects as go\n",
    "import pandas as pd\n",
    "\n",
    "Pregunta_5_2016 = pd.DataFrame({'Diagnosticado con Enfermedad Mental': [19, 157, 228, 25, 44]}, index=['Si, con todos mis jefes', 'No, con ninguno de mis jefes', 'Con algunos de mis jefes', 'No sé', 'No respondió'])\n",
    "Pregunta_5_2017 = pd.DataFrame({'Diagnosticado con Enfermedad Mental': [12, 86, 115, 8, 23]}, index=['Si, con todos mis jefes', 'No, con ninguno de mis jefes', 'Con algunos de mis jefes', 'No sé', 'No respondió'])\n",
    "Pregunta_5_2018 = pd.DataFrame({'Diagnosticado con Enfermedad Mental': [8, 48, 73, 9, 21]}, index=['Si, con todos mis jefes', 'No, con ninguno de mis jefes', 'Con algunos de mis jefes', 'No sé', 'No respondió'])\n",
    "Pregunta_5_2019 = pd.DataFrame({'Diagnosticado con Enfermedad Mental': [5, 35, 50, 4, 12]}, index=['Si, con todos mis jefes', 'No, con ninguno de mis jefes', 'Con algunos de mis jefes', 'No sé', 'No respondió'])\n",
    "\n",
    "# Combinar los df\n",
    "dataframes = [\n",
    "    Pregunta_5_2016.reset_index(),\n",
    "    Pregunta_5_2017.reset_index(),\n",
    "    Pregunta_5_2018.reset_index(),\n",
    "    Pregunta_5_2019.reset_index(),\n",
    "]\n",
    "\n",
    "# Crear la lista de nombres\n",
    "frames = []\n",
    "for i, df in enumerate(dataframes):\n",
    "    frame = go.Frame(\n",
    "        data=[go.Bar(x=df['index'], y=df['Diagnosticado con Enfermedad Mental'], \n",
    "                     name=f'Año {2016 + i}', \n",
    "                     marker=dict(color=f'rgba(0, 0, {255 - i*64}, 0.8)'),  # degradado de azul\n",
    "                     orientation='v')],\n",
    "        name=f'frame{i}',\n",
    "        layout=go.Layout(title=f'Año {2016 + i}')\n",
    "    )\n",
    "    frames.append(frame)\n",
    "\n",
    "# Crear la figura inicial\n",
    "fig = go.Figure(\n",
    "    data=[go.Bar(x=dataframes[0]['index'], y=dataframes[0]['Diagnosticado con Enfermedad Mental'], \n",
    "                 name='Año 2016', \n",
    "                 marker=dict(color='rgba(0, 0, 255, 0.8)'),  # degradado de azul\n",
    "                 orientation='v')],\n",
    "    layout=go.Layout(\n",
    "        title='Disposición de Hablar de Salud Mental con un Supervisor',\n",
    "        xaxis=dict(title='Respuestas'),\n",
    "        yaxis=dict(title='Cantidad'),\n",
    "        updatemenus=[\n",
    "            dict(\n",
    "                type=\"buttons\",\n",
    "                direction=\"down\",\n",
    "                buttons=list([\n",
    "                    dict(label=\"Play\", method=\"animate\", args=[None, {\"frame\": {\"duration\": 7000, \"fromcurrent\": True}, \"transition\": {\"duration\": 500}}]),\n",
    "                    dict(label=\"Pause\", method=\"animate\", args=[[None], {\"frame\": {\"duration\": 0, \"fromcurrent\": True}, \"transition\": {\"duration\": 0}}]),\n",
    "                    dict(label=\"Restart\", method=\"animate\", args=[None, {\"frame\": {\"duration\": 0, \"fromcurrent\": False}, \"transition\": {\"duration\": 0}}])\n",
    "                ]),\n",
    "            )\n",
    "        ]\n",
    "    )\n",
    ")\n",
    "\n",
    "fig.frames = frames\n",
    "fig.show()\n",
    "\n",
    "#Análisis\n",
    "#El gráfico indica la disposición para discutir temas de salud mental con un supervisor. En los últimos años, La mayoría de las personas no hablan de su salud mental con sus jefes, esto se debe a los estigmas explicados anteriormente. Los empleados tienden a sentir miedo al hablar sobre su condición, aunque hay número significativo que estaría dispuesto a hablar sobre ello pero con algunos en específico."
   ]
  },
  {
   "cell_type": "code",
   "execution_count": 14,
   "metadata": {},
   "outputs": [
    {
     "name": "stdout",
     "output_type": "stream",
     "text": [
      "¿Alguna Vez Has Sido Diagnosticado con una Enfermedad Mental?  Diagnosticado con Enfermedad Mental\n",
      "Disposición para Hablar Sobre Enfermedad Mental...                                                \n",
      "Dispuesto(a)                                                                                   238\n",
      "Muy dispuesto                                                                                  104\n",
      "Neutral                                                                                         37\n",
      "No es mi caso (no tengo una enfermedad mental)                                                   8\n",
      "No Dispuesto                                                                                    86\n",
      "¿Alguna Vez Has Sido Diagnosticado con una Enfermedad Mental?  Diagnosticado con Enfermedad Mental\n",
      "Disposición para Hablar Sobre Enfermedad Mental...                                                \n",
      "Dispuesto(a)                                                                                    18\n",
      "Muy dispuesto                                                                                  175\n",
      "Neutral                                                                                         18\n",
      "No dispuesto(a)                                                                                  9\n",
      "No estoy dispuesto(a)                                                                           24\n",
      "¿Alguna Vez Has Sido Diagnosticado con una Enfermedad Mental?  Diagnosticado con Enfermedad Mental\n",
      "Disposición para Hablar Sobre Enfermedad Mental...                                                \n",
      "Dispuesto(a)                                                                                    18\n",
      "Muy dispuesto                                                                                  175\n",
      "Neutral                                                                                         18\n",
      "No Dispuesto                                                                                    33\n",
      "¿Alguna Vez Has Sido Diagnosticado con una Enfermedad Mental?  Diagnosticado con Enfermedad Mental\n",
      "Disposición para Hablar Sobre Enfermedad Mental...                                                \n",
      "Dispuesto(a)                                                                                     5\n",
      "Muy dispuesto                                                                                  119\n",
      "Neutral                                                                                         13\n",
      "No dispuesto(a)                                                                                  4\n",
      "No estoy dispuesto(a)                                                                           18\n",
      "¿Alguna Vez Has Sido Diagnosticado con una Enfermedad Mental?  Diagnosticado con Enfermedad Mental\n",
      "Disposición para Hablar Sobre Enfermedad Mental...                                                \n",
      "Dispuesto(a)                                                                                     5\n",
      "Muy dispuesto                                                                                  119\n",
      "Neutral                                                                                         13\n",
      "No Dispuesto                                                                                    22\n",
      "¿Alguna Vez Has Sido Diagnosticado con una Enfermedad Mental?  Diagnosticado con Enfermedad Mental\n",
      "Disposición para Hablar Sobre Enfermedad Mental...                                                \n",
      "Dispuesto(a)                                                                                     9\n",
      "Muy dispuesto                                                                                   74\n",
      "Neutral                                                                                         11\n",
      "No dispuesto(a)                                                                                  1\n",
      "No estoy dispuesto(a)                                                                           11\n",
      "¿Alguna Vez Has Sido Diagnosticado con una Enfermedad Mental?  Diagnosticado con Enfermedad Mental\n",
      "Disposición para Hablar Sobre Enfermedad Mental...                                                \n",
      "Dispuesto(a)                                                                                     9\n",
      "Muy dispuesto                                                                                   74\n",
      "Neutral                                                                                         11\n",
      "No Dispuesto                                                                                    12\n"
     ]
    }
   ],
   "source": [
    "#Disposisión a la hora de hablar sobre tu salud mental con amigos y familiares\n",
    "#2016\n",
    "filtro_si_diagnosticado = df_2016['¿Alguna Vez Has Sido Diagnosticado con una Enfermedad Mental?'] == 'Si'\n",
    "pregunta1_5_2016 = pd.crosstab(df_2016[filtro_si_diagnosticado]['Disposición para Hablar Sobre Enfermedad Mental con Familia/Amigos'], \n",
    "                                df_2016[filtro_si_diagnosticado]['¿Alguna Vez Has Sido Diagnosticado con una Enfermedad Mental?'], margins=True)\n",
    "pregunta1_5_2016 = pregunta1_5_2016.rename(columns={'Si': 'Diagnosticado con Enfermedad Mental'})\n",
    "pregunta1_5_2016 = pregunta1_5_2016.drop('All', axis=0).drop('All', axis=1)  # Eliminar fila y columna \"All\"\n",
    "\n",
    "# Seleccionar las filas que contienen \"no dispuesto (a)\" y \"no estoy dispuesto (a)\"\n",
    "no_dispuestos = pregunta1_5_2016.loc[['No estoy dispuesto(a)', 'No dispuesto(a)']]\n",
    "\n",
    "# Sumar las filas seleccionadas\n",
    "no_dispuestos_sum = no_dispuestos.sum()\n",
    "\n",
    "# Reemplazar las filas originales con la nueva fila sumada\n",
    "pregunta1_5_2016.loc['No Dispuesto'] = no_dispuestos_sum\n",
    "pregunta1_5_2016 = pregunta1_5_2016.drop(['No estoy dispuesto(a)', 'No dispuesto(a)'], axis=0)\n",
    "\n",
    "print(pregunta1_5_2016)\n",
    "\n",
    "\n",
    "#2017\n",
    "filtro_si_diagnosticado = df_2017['¿Alguna Vez Has Sido Diagnosticado con una Enfermedad Mental?'] == 'Si'\n",
    "pregunta2_5_2017 = pd.crosstab(df_2017[filtro_si_diagnosticado]['Disposición para Hablar Sobre Enfermedad Mental con Familia/Amigos'], \n",
    "                                df_2017[filtro_si_diagnosticado]['¿Alguna Vez Has Sido Diagnosticado con una Enfermedad Mental?'], margins=True)\n",
    "pregunta2_5_2017 = pregunta2_5_2017.rename(columns={'Si': 'Diagnosticado con Enfermedad Mental'})\n",
    "pregunta2_5_2017 = pregunta2_5_2017.drop('All', axis=0).drop('All', axis=1)  # Eliminar fila y columna \"All\"\n",
    "print(pregunta2_5_2017)\n",
    "\n",
    "# Seleccionar las filas que contienen \"no dispuesto (a)\" y \"no estoy dispuesto (a)\"\n",
    "no_dispuestos = pregunta2_5_2017.loc[['No estoy dispuesto(a)', 'No dispuesto(a)']]\n",
    "\n",
    "# Sumar las filas seleccionadas\n",
    "no_dispuestos_sum = no_dispuestos.sum()\n",
    "\n",
    "# Reemplazar las filas originales con la nueva fila sumada\n",
    "pregunta2_5_2017.loc['No Dispuesto'] = no_dispuestos_sum\n",
    "pregunta2_5_2017 = pregunta2_5_2017.drop(['No estoy dispuesto(a)', 'No dispuesto(a)'], axis=0)\n",
    "\n",
    "print(pregunta2_5_2017)\n",
    "\n",
    "\n",
    "#2018\n",
    "filtro_si_diagnosticado = df_2018['¿Alguna Vez Has Sido Diagnosticado con una Enfermedad Mental?'] == 'Si'\n",
    "pregunta3_5_2018 = pd.crosstab(df_2018[filtro_si_diagnosticado]['Disposición para Hablar Sobre Enfermedad Mental con Familia/Amigos'], \n",
    "                                df_2018[filtro_si_diagnosticado]['¿Alguna Vez Has Sido Diagnosticado con una Enfermedad Mental?'], margins=True)\n",
    "pregunta3_5_2018 = pregunta3_5_2018.rename(columns={'Si': 'Diagnosticado con Enfermedad Mental'})\n",
    "pregunta3_5_2018 = pregunta3_5_2018.drop('All', axis=0).drop('All', axis=1)  # Eliminar fila y columna \"All\"\n",
    "print(pregunta3_5_2018)\n",
    "\n",
    "# Seleccionar las filas que contienen \"no dispuesto (a)\" y \"no estoy dispuesto (a)\"\n",
    "no_dispuestos = pregunta3_5_2018.loc[['No estoy dispuesto(a)', 'No dispuesto(a)']]\n",
    "\n",
    "# Sumar las filas seleccionadas\n",
    "no_dispuestos_sum = no_dispuestos.sum()\n",
    "\n",
    "# Reemplazar las filas originales con la nueva fila sumada\n",
    "pregunta3_5_2018.loc['No Dispuesto'] = no_dispuestos_sum\n",
    "pregunta3_5_2018 = pregunta3_5_2018.drop(['No estoy dispuesto(a)', 'No dispuesto(a)'], axis=0)\n",
    "\n",
    "print(pregunta3_5_2018)\n",
    "\n",
    "\n",
    "#2019\n",
    "filtro_si_diagnosticado = df_2019['¿Alguna Vez Has Sido Diagnosticado con una Enfermedad Mental?'] == 'Si'\n",
    "pregunta4_5_2019 = pd.crosstab(df_2019[filtro_si_diagnosticado]['Disposición para Hablar Sobre Enfermedad Mental con Familia/Amigos'], \n",
    "                                df_2019[filtro_si_diagnosticado]['¿Alguna Vez Has Sido Diagnosticado con una Enfermedad Mental?'], margins=True)\n",
    "pregunta4_5_2019 = pregunta4_5_2019.rename(columns={'Si': 'Diagnosticado con Enfermedad Mental'})\n",
    "pregunta4_5_2019 = pregunta4_5_2019.drop('All', axis=0).drop('All', axis=1)  # Eliminar fila y columna \"All\"\n",
    "print(pregunta4_5_2019)\n",
    "\n",
    "# Seleccionar las filas que contienen \"no dispuesto (a)\" y \"no estoy dispuesto (a)\"\n",
    "no_dispuestos = pregunta4_5_2019.loc[['No estoy dispuesto(a)', 'No dispuesto(a)']]\n",
    "\n",
    "# Sumar las filas seleccionadas\n",
    "no_dispuestos_sum = no_dispuestos.sum()\n",
    "\n",
    "# Reemplazar las filas originales con la nueva fila sumada\n",
    "pregunta4_5_2019.loc['No Dispuesto'] = no_dispuestos_sum\n",
    "pregunta4_5_2019 = pregunta4_5_2019.drop(['No estoy dispuesto(a)', 'No dispuesto(a)'], axis=0)\n",
    "\n",
    "print(pregunta4_5_2019)\n"
   ]
  },
  {
   "cell_type": "code",
   "execution_count": 15,
   "metadata": {},
   "outputs": [
    {
     "data": {
      "application/vnd.plotly.v1+json": {
       "config": {
        "plotlyServerURL": "https://plot.ly"
       },
       "data": [
        {
         "marker": {
          "color": "rgba(128, 0, 255, 0.8)"
         },
         "name": "Año 2016",
         "orientation": "v",
         "type": "bar",
         "x": [
          "Dispuesto(a)",
          "No dispuesto",
          "Neutral",
          "Muy dispuesto(a)"
         ],
         "y": [
          238,
          86,
          37,
          104
         ]
        }
       ],
       "frames": [
        {
         "data": [
          {
           "marker": {
            "color": "rgba(0, 0, 255, 0.8)"
           },
           "name": "Año 2016",
           "orientation": "v",
           "type": "bar",
           "x": [
            "Si, con todos mis jefes",
            "No, con ninguno de mis jefes",
            "Con algunos de mis jefes",
            "No sé",
            "No respondió"
           ],
           "y": [
            19,
            157,
            228,
            25,
            44
           ]
          }
         ],
         "layout": {
          "title": {
           "text": "Año 2016"
          }
         },
         "name": "frame0"
        },
        {
         "data": [
          {
           "marker": {
            "color": "rgba(0, 0, 191, 0.8)"
           },
           "name": "Año 2017",
           "orientation": "v",
           "type": "bar",
           "x": [
            "Si, con todos mis jefes",
            "No, con ninguno de mis jefes",
            "Con algunos de mis jefes",
            "No sé",
            "No respondió"
           ],
           "y": [
            12,
            86,
            115,
            8,
            23
           ]
          }
         ],
         "layout": {
          "title": {
           "text": "Año 2017"
          }
         },
         "name": "frame1"
        },
        {
         "data": [
          {
           "marker": {
            "color": "rgba(0, 0, 127, 0.8)"
           },
           "name": "Año 2018",
           "orientation": "v",
           "type": "bar",
           "x": [
            "Si, con todos mis jefes",
            "No, con ninguno de mis jefes",
            "Con algunos de mis jefes",
            "No sé",
            "No respondió"
           ],
           "y": [
            8,
            48,
            73,
            9,
            21
           ]
          }
         ],
         "layout": {
          "title": {
           "text": "Año 2018"
          }
         },
         "name": "frame2"
        },
        {
         "data": [
          {
           "marker": {
            "color": "rgba(0, 0, 63, 0.8)"
           },
           "name": "Año 2019",
           "orientation": "v",
           "type": "bar",
           "x": [
            "Si, con todos mis jefes",
            "No, con ninguno de mis jefes",
            "Con algunos de mis jefes",
            "No sé",
            "No respondió"
           ],
           "y": [
            5,
            35,
            50,
            4,
            12
           ]
          }
         ],
         "layout": {
          "title": {
           "text": "Año 2019"
          }
         },
         "name": "frame3"
        },
        {
         "data": [
          {
           "marker": {
            "color": "rgba(128, 0, 255, 0.8)"
           },
           "name": "Año 2016",
           "orientation": "v",
           "type": "bar",
           "x": [
            "Dispuesto(a)",
            "No dispuesto",
            "Neutral",
            "Muy dispuesto(a)"
           ],
           "y": [
            238,
            86,
            37,
            104
           ]
          }
         ],
         "layout": {
          "title": {
           "text": "Año 2016"
          }
         },
         "name": "frame0"
        },
        {
         "data": [
          {
           "marker": {
            "color": "rgba(128, 0, 191, 0.8)"
           },
           "name": "Año 2017",
           "orientation": "v",
           "type": "bar",
           "x": [
            "Dispuesto(a)",
            "No dispuesto",
            "Neutral",
            "Muy dispuesto(a)"
           ],
           "y": [
            18,
            33,
            18,
            175
           ]
          }
         ],
         "layout": {
          "title": {
           "text": "Año 2017"
          }
         },
         "name": "frame1"
        },
        {
         "data": [
          {
           "marker": {
            "color": "rgba(128, 0, 127, 0.8)"
           },
           "name": "Año 2018",
           "orientation": "v",
           "type": "bar",
           "x": [
            "Dispuesto(a)",
            "No dispuesto",
            "Neutral",
            "Muy dispuesto(a)"
           ],
           "y": [
            5,
            22,
            13,
            119
           ]
          }
         ],
         "layout": {
          "title": {
           "text": "Año 2018"
          }
         },
         "name": "frame2"
        },
        {
         "data": [
          {
           "marker": {
            "color": "rgba(128, 0, 63, 0.8)"
           },
           "name": "Año 2019",
           "orientation": "v",
           "type": "bar",
           "x": [
            "Dispuesto(a)",
            "No dispuesto",
            "Neutral",
            "Muy dispuesto(a)"
           ],
           "y": [
            9,
            12,
            11,
            74
           ]
          }
         ],
         "layout": {
          "title": {
           "text": "Año 2019"
          }
         },
         "name": "frame3"
        }
       ],
       "layout": {
        "template": {
         "data": {
          "candlestick": [
           {
            "decreasing": {
             "line": {
              "color": "#000033"
             }
            },
            "increasing": {
             "line": {
              "color": "#000032"
             }
            },
            "type": "candlestick"
           }
          ],
          "contour": [
           {
            "colorscale": [
             [
              0,
              "#000011"
             ],
             [
              0.1111111111111111,
              "#000012"
             ],
             [
              0.2222222222222222,
              "#000013"
             ],
             [
              0.3333333333333333,
              "#000014"
             ],
             [
              0.4444444444444444,
              "#000015"
             ],
             [
              0.5555555555555556,
              "#000016"
             ],
             [
              0.6666666666666666,
              "#000017"
             ],
             [
              0.7777777777777778,
              "#000018"
             ],
             [
              0.8888888888888888,
              "#000019"
             ],
             [
              1,
              "#000020"
             ]
            ],
            "type": "contour"
           }
          ],
          "contourcarpet": [
           {
            "colorscale": [
             [
              0,
              "#000011"
             ],
             [
              0.1111111111111111,
              "#000012"
             ],
             [
              0.2222222222222222,
              "#000013"
             ],
             [
              0.3333333333333333,
              "#000014"
             ],
             [
              0.4444444444444444,
              "#000015"
             ],
             [
              0.5555555555555556,
              "#000016"
             ],
             [
              0.6666666666666666,
              "#000017"
             ],
             [
              0.7777777777777778,
              "#000018"
             ],
             [
              0.8888888888888888,
              "#000019"
             ],
             [
              1,
              "#000020"
             ]
            ],
            "type": "contourcarpet"
           }
          ],
          "heatmap": [
           {
            "colorscale": [
             [
              0,
              "#000011"
             ],
             [
              0.1111111111111111,
              "#000012"
             ],
             [
              0.2222222222222222,
              "#000013"
             ],
             [
              0.3333333333333333,
              "#000014"
             ],
             [
              0.4444444444444444,
              "#000015"
             ],
             [
              0.5555555555555556,
              "#000016"
             ],
             [
              0.6666666666666666,
              "#000017"
             ],
             [
              0.7777777777777778,
              "#000018"
             ],
             [
              0.8888888888888888,
              "#000019"
             ],
             [
              1,
              "#000020"
             ]
            ],
            "type": "heatmap"
           }
          ],
          "histogram2d": [
           {
            "colorscale": [
             [
              0,
              "#000011"
             ],
             [
              0.1111111111111111,
              "#000012"
             ],
             [
              0.2222222222222222,
              "#000013"
             ],
             [
              0.3333333333333333,
              "#000014"
             ],
             [
              0.4444444444444444,
              "#000015"
             ],
             [
              0.5555555555555556,
              "#000016"
             ],
             [
              0.6666666666666666,
              "#000017"
             ],
             [
              0.7777777777777778,
              "#000018"
             ],
             [
              0.8888888888888888,
              "#000019"
             ],
             [
              1,
              "#000020"
             ]
            ],
            "type": "histogram2d"
           }
          ],
          "icicle": [
           {
            "textfont": {
             "color": "white"
            },
            "type": "icicle"
           }
          ],
          "sankey": [
           {
            "textfont": {
             "color": "#000036"
            },
            "type": "sankey"
           }
          ],
          "scatter": [
           {
            "marker": {
             "line": {
              "width": 0
             }
            },
            "type": "scatter"
           }
          ],
          "table": [
           {
            "cells": {
             "fill": {
              "color": "#000038"
             },
             "font": {
              "color": "#000037"
             },
             "line": {
              "color": "#000039"
             }
            },
            "header": {
             "fill": {
              "color": "#000040"
             },
             "font": {
              "color": "#000036"
             },
             "line": {
              "color": "#000039"
             }
            },
            "type": "table"
           }
          ],
          "waterfall": [
           {
            "connector": {
             "line": {
              "color": "#000036",
              "width": 2
             }
            },
            "decreasing": {
             "marker": {
              "color": "#000033"
             }
            },
            "increasing": {
             "marker": {
              "color": "#000032"
             }
            },
            "totals": {
             "marker": {
              "color": "#000034"
             }
            },
            "type": "waterfall"
           }
          ]
         },
         "layout": {
          "coloraxis": {
           "colorscale": [
            [
             0,
             "#000011"
            ],
            [
             0.1111111111111111,
             "#000012"
            ],
            [
             0.2222222222222222,
             "#000013"
            ],
            [
             0.3333333333333333,
             "#000014"
            ],
            [
             0.4444444444444444,
             "#000015"
            ],
            [
             0.5555555555555556,
             "#000016"
            ],
            [
             0.6666666666666666,
             "#000017"
            ],
            [
             0.7777777777777778,
             "#000018"
            ],
            [
             0.8888888888888888,
             "#000019"
            ],
            [
             1,
             "#000020"
            ]
           ]
          },
          "colorscale": {
           "diverging": [
            [
             0,
             "#000021"
            ],
            [
             0.1,
             "#000022"
            ],
            [
             0.2,
             "#000023"
            ],
            [
             0.3,
             "#000024"
            ],
            [
             0.4,
             "#000025"
            ],
            [
             0.5,
             "#000026"
            ],
            [
             0.6,
             "#000027"
            ],
            [
             0.7,
             "#000028"
            ],
            [
             0.8,
             "#000029"
            ],
            [
             0.9,
             "#000030"
            ],
            [
             1,
             "#000031"
            ]
           ],
           "sequential": [
            [
             0,
             "#000011"
            ],
            [
             0.1111111111111111,
             "#000012"
            ],
            [
             0.2222222222222222,
             "#000013"
            ],
            [
             0.3333333333333333,
             "#000014"
            ],
            [
             0.4444444444444444,
             "#000015"
            ],
            [
             0.5555555555555556,
             "#000016"
            ],
            [
             0.6666666666666666,
             "#000017"
            ],
            [
             0.7777777777777778,
             "#000018"
            ],
            [
             0.8888888888888888,
             "#000019"
            ],
            [
             1,
             "#000020"
            ]
           ],
           "sequentialminus": [
            [
             0,
             "#000011"
            ],
            [
             0.1111111111111111,
             "#000012"
            ],
            [
             0.2222222222222222,
             "#000013"
            ],
            [
             0.3333333333333333,
             "#000014"
            ],
            [
             0.4444444444444444,
             "#000015"
            ],
            [
             0.5555555555555556,
             "#000016"
            ],
            [
             0.6666666666666666,
             "#000017"
            ],
            [
             0.7777777777777778,
             "#000018"
            ],
            [
             0.8888888888888888,
             "#000019"
            ],
            [
             1,
             "#000020"
            ]
           ]
          },
          "colorway": [
           "#000001",
           "#000002",
           "#000003",
           "#000004",
           "#000005",
           "#000006",
           "#000007",
           "#000008",
           "#000009",
           "#000010"
          ]
         }
        },
        "title": {
         "text": "Disposición para Hablar Sobre Enfermedad Mental con Familia/Amigos"
        },
        "updatemenus": [
         {
          "buttons": [
           {
            "args": [
             null,
             {
              "frame": {
               "duration": 7000,
               "fromcurrent": true
              },
              "transition": {
               "duration": 500
              }
             }
            ],
            "label": "Play",
            "method": "animate"
           },
           {
            "args": [
             [
              null
             ],
             {
              "frame": {
               "duration": 0,
               "fromcurrent": true
              },
              "transition": {
               "duration": 0
              }
             }
            ],
            "label": "Pause",
            "method": "animate"
           },
           {
            "args": [
             null,
             {
              "frame": {
               "duration": 0,
               "fromcurrent": false
              },
              "transition": {
               "duration": 0
              }
             }
            ],
            "label": "Restart",
            "method": "animate"
           }
          ],
          "direction": "down",
          "type": "buttons"
         }
        ],
        "xaxis": {
         "title": {
          "text": "Respuestas"
         }
        },
        "yaxis": {
         "title": {
          "text": "Cantidad"
         }
        }
       }
      }
     },
     "metadata": {},
     "output_type": "display_data"
    }
   ],
   "source": [
    "#Grafica Pregunta 5 parte 2\n",
    "\n",
    "import plotly.graph_objects as go\n",
    "import pandas as pd\n",
    "\n",
    "Pregunta1_5_2016 = pd.DataFrame({'Diagnosticado con Enfermedad Mental': [238, 86, 37, 104]}, index=['Dispuesto(a)', 'No dispuesto', 'Neutral', 'Muy dispuesto(a)'])\n",
    "Pregunta2_5_2017 = pd.DataFrame({'Diagnosticado con Enfermedad Mental': [18, 33, 18, 175]}, index=['Dispuesto(a)', 'No dispuesto', 'Neutral', 'Muy dispuesto(a)'])\n",
    "Pregunta3_5_2018 = pd.DataFrame({'Diagnosticado con Enfermedad Mental': [5, 22, 13, 119]}, index=['Dispuesto(a)','No dispuesto', 'Neutral', 'Muy dispuesto(a)'])\n",
    "Pregunta4_5_2019 = pd.DataFrame({'Diagnosticado con Enfermedad Mental': [9, 12, 11, 74]}, index=['Dispuesto(a)','No dispuesto', 'Neutral', 'Muy dispuesto(a)'])\n",
    "\n",
    "# Combinar los df\n",
    "dataframes = [\n",
    "    Pregunta1_5_2016.reset_index(),\n",
    "    Pregunta2_5_2017.reset_index(),\n",
    "    Pregunta3_5_2018.reset_index(),\n",
    "    Pregunta4_5_2019.reset_index(),\n",
    "]\n",
    "\n",
    "\n",
    "for i, df in enumerate(dataframes):\n",
    "    frame = go.Frame(\n",
    "        data=[go.Bar(x=df['index'], y=df['Diagnosticado con Enfermedad Mental'], \n",
    "                     name=f'Año {2016 + i}', \n",
    "                     marker=dict(color=f'rgba(128, 0, {255 - i*64}, 0.8)'),  # degradado de morado\n",
    "                     orientation='v')],\n",
    "        name=f'frame{i}',\n",
    "        layout=go.Layout(title=f'Año {2016 + i}')\n",
    "    )\n",
    "    frames.append(frame)\n",
    "\n",
    "#...\n",
    "\n",
    "fig = go.Figure(\n",
    "    data=[go.Bar(x=dataframes[0]['index'], y=dataframes[0]['Diagnosticado con Enfermedad Mental'], \n",
    "                 name='Año 2016', \n",
    "                 marker=dict(color='rgba(128, 0, 255, 0.8)'),  # degradado de morado\n",
    "                 orientation='v')],\n",
    "    layout=go.Layout(\n",
    "        title='Disposición para Hablar Sobre Enfermedad Mental con Familia/Amigos',\n",
    "        xaxis=dict(title='Respuestas'),\n",
    "        yaxis=dict(title='Cantidad'),\n",
    "        updatemenus=[\n",
    "            dict(\n",
    "                type=\"buttons\",\n",
    "                direction=\"down\",\n",
    "                buttons=list([\n",
    "                    dict(label=\"Play\", method=\"animate\", args=[None, {\"frame\": {\"duration\": 7000, \"fromcurrent\": True}, \"transition\": {\"duration\": 500}}]),\n",
    "                    dict(label=\"Pause\", method=\"animate\", args=[[None], {\"frame\": {\"duration\": 0, \"fromcurrent\": True}, \"transition\": {\"duration\": 0}}]),\n",
    "                    dict(label=\"Restart\", method=\"animate\", args=[None, {\"frame\": {\"duration\": 0, \"fromcurrent\": False}, \"transition\": {\"duration\": 0}}])\n",
    "                ]),\n",
    "            )\n",
    "        ]\n",
    "    )\n",
    ")\n",
    "\n",
    "fig.frames = frames\n",
    "fig.show()\n",
    "\n",
    "#En esta gráfica se muestra la disposición para hablar sobre enfermedades mentales con familliares y amigos. Ciertamente las personas tienden a sentirse cada vez más comodas para hablar sobre su salud mental con allegados a través de los años."
   ]
  },
  {
   "cell_type": "code",
   "execution_count": 204,
   "metadata": {},
   "outputs": [
    {
     "name": "stdout",
     "output_type": "stream",
     "text": [
      "¿Alguna Vez Has Sido Diagnosticado con una Enfermedad Mental?     \n",
      "¿Cree que los Miembros de su Equipo/Compañeros ...                \n",
      "No, no lo hacen                                                 27\n",
      "No, pienso que no lo harían                                     98\n",
      "Si lo hacen                                                     21\n",
      "Si, pienso que lo harían                                       148\n",
      "Tal vez                                                        179\n"
     ]
    }
   ],
   "source": [
    "# ¿Crees que los miembros de su Equipo/Compañeros de trabajo te verían o reaccionarian de mala manera si revelas tener una enfermedad mental? esto para los 4 años de la encuesta.\n",
    "# 2016\n",
    "filtro_si_diagnosticado = df_2016['¿Alguna Vez Has Sido Diagnosticado con una Enfermedad Mental?'] == 'Si'\n",
    "preguntatrabajo_5_2016 = pd.crosstab(df_2016[filtro_si_diagnosticado]['¿Cree que los Miembros de su Equipo/Compañeros de Trabajo le Verían de Forma más Negativa Si Supieran que Padece una Enfermedad Mental?'], \n",
    "                                df_2016[filtro_si_diagnosticado]['¿Alguna Vez Has Sido Diagnosticado con una Enfermedad Mental?'], margins=True)\n",
    "preguntatrabajo_5_2016 = preguntatrabajo_5_2016.rename(columns={'Si': ''})\n",
    "preguntatrabajo_5_2016 = preguntatrabajo_5_2016.drop('All', axis=0).drop('All', axis=1)  # Elimina las filas y columnas \"All\"\n",
    "print(preguntatrabajo_5_2016)\n",
    "\n"
   ]
  },
  {
   "cell_type": "code",
   "execution_count": 202,
   "metadata": {},
   "outputs": [
    {
     "name": "stdout",
     "output_type": "stream",
     "text": [
      "¿Alguna Vez Has Sido Diagnosticado con una Enfermedad Mental?  Diagnosticados\n",
      "Reacción de Compañeros de Trabajo                                            \n",
      "Bien                                                                       30\n",
      "Indiferente                                                                28\n",
      "Mal                                                                         5\n",
      "Me apoya(n)                                                                11\n",
      "Me apoya(n) mucho                                                          14\n",
      "Me entiende(n)                                                             19\n",
      "Muy bien                                                                   28\n",
      "Muy mal                                                                     8\n",
      "No creo que le(s) importe                                                  32\n",
      "Normal                                                                     60\n",
      "Sin comentarios                                                             9\n",
      "¿Alguna Vez Has Sido Diagnosticado con una Enfermedad Mental?  No respondió  \\\n",
      "Reacción de Compañeros de Trabajo                                             \n",
      "Bien                                                                      9   \n",
      "Indiferente                                                               6   \n",
      "Mal                                                                       2   \n",
      "Me apoya(n)                                                               3   \n",
      "Me apoya(n) mucho                                                         5   \n",
      "Me entiende(n)                                                           11   \n",
      "Muy bien                                                                  8   \n",
      "Muy mal                                                                   1   \n",
      "No creo que le(s) importe                                                10   \n",
      "Normal                                                                   20   \n",
      "Sin comentarios                                                           3   \n",
      "\n",
      "¿Alguna Vez Has Sido Diagnosticado con una Enfermedad Mental?  Diagnosticados  \n",
      "Reacción de Compañeros de Trabajo                                              \n",
      "Bien                                                                        8  \n",
      "Indiferente                                                                 5  \n",
      "Mal                                                                         2  \n",
      "Me apoya(n)                                                                 3  \n",
      "Me apoya(n) mucho                                                           3  \n",
      "Me entiende(n)                                                              9  \n",
      "Muy bien                                                                   10  \n",
      "Muy mal                                                                     6  \n",
      "No creo que le(s) importe                                                  15  \n",
      "Normal                                                                     23  \n",
      "Sin comentarios                                                             5  \n",
      "¿Alguna Vez Has Sido Diagnosticado con una Enfermedad Mental?  No respondió  \\\n",
      "Reacción de Compañeros de Trabajo                                             \n",
      "Bien                                                                     11   \n",
      "Indiferente                                                               4   \n",
      "Mal                                                                       0   \n",
      "Me apoya(n)                                                               1   \n",
      "Me apoya(n) mucho                                                         3   \n",
      "Me entiende(n)                                                            7   \n",
      "Muy bien                                                                  5   \n",
      "Muy mal                                                                   0   \n",
      "No creo que le(s) importe                                                 5   \n",
      "Normal                                                                   14   \n",
      "Sin comentarios                                                           1   \n",
      "\n",
      "¿Alguna Vez Has Sido Diagnosticado con una Enfermedad Mental?  Si  \n",
      "Reacción de Compañeros de Trabajo                                  \n",
      "Bien                                                            8  \n",
      "Indiferente                                                    10  \n",
      "Mal                                                             1  \n",
      "Me apoya(n)                                                     0  \n",
      "Me apoya(n) mucho                                               3  \n",
      "Me entiende(n)                                                  7  \n",
      "Muy bien                                                        7  \n",
      "Muy mal                                                         1  \n",
      "No creo que le(s) importe                                       4  \n",
      "Normal                                                         15  \n",
      "Sin comentarios                                                 3  \n"
     ]
    },
    {
     "name": "stderr",
     "output_type": "stream",
     "text": [
      "C:\\Users\\DELL\\AppData\\Local\\Temp\\ipykernel_12452\\1121417851.py:24: UserWarning:\n",
      "\n",
      "Boolean Series key will be reindexed to match DataFrame index.\n",
      "\n",
      "C:\\Users\\DELL\\AppData\\Local\\Temp\\ipykernel_12452\\1121417851.py:25: UserWarning:\n",
      "\n",
      "Boolean Series key will be reindexed to match DataFrame index.\n",
      "\n",
      "C:\\Users\\DELL\\AppData\\Local\\Temp\\ipykernel_12452\\1121417851.py:41: UserWarning:\n",
      "\n",
      "Boolean Series key will be reindexed to match DataFrame index.\n",
      "\n",
      "C:\\Users\\DELL\\AppData\\Local\\Temp\\ipykernel_12452\\1121417851.py:42: UserWarning:\n",
      "\n",
      "Boolean Series key will be reindexed to match DataFrame index.\n",
      "\n"
     ]
    }
   ],
   "source": [
    "# 2017\n",
    "\n",
    "filtro_si_diagnosticado = df_2017['¿Alguna Vez Has Sido Diagnosticado con una Enfermedad Mental?'] == 'Si' \n",
    "\n",
    "# Create a crosstabulation table\n",
    "preguntatrabajo1_5_2017 = pd.crosstab(df_2017[filtro_si_diagnosticado]['Si Supieran Que Padeces un Trastorno Mental, ¿Cómo Crees Que Reaccionarían los Miembros de tu Equipo/Compañeros de Trabajo?'], \n",
    "                                    df_2017[filtro_si_diagnosticado]['¿Alguna Vez Has Sido Diagnosticado con una Enfermedad Mental?'], margins=True)\n",
    "\n",
    "# Drop the \"All\" rows and columns\n",
    "preguntatrabajo1_5_2017 = preguntatrabajo1_5_2017.drop('All', axis=0).drop('All', axis=1)\n",
    "\n",
    "\n",
    "# Rename the columns\n",
    "preguntatrabajo1_5_2017.index.name = 'Reacción de Compañeros de Trabajo'\n",
    "preguntatrabajo1_5_2017 = preguntatrabajo1_5_2017.rename(columns={'Si': 'Diagnosticados'})\n",
    "\n",
    "print(preguntatrabajo1_5_2017)\n",
    "\n",
    "# 2018\n",
    "# Filter the data for those who have been diagnosed with a mental illness\n",
    "filtro_si_diagnosticado = df_2017['¿Alguna Vez Has Sido Diagnosticado con una Enfermedad Mental?'] == 'Si' \n",
    "\n",
    "# Create a crosstabulation table\n",
    "preguntatrabajo2_5_2018 = pd.crosstab(df_2018[filtro_si_diagnosticado]['Si Supieran Que Padeces un Trastorno Mental, ¿Cómo Crees Que Reaccionarían los Miembros de tu Equipo/Compañeros de Trabajo?'], \n",
    "                                    df_2018[filtro_si_diagnosticado]['¿Alguna Vez Has Sido Diagnosticado con una Enfermedad Mental?'], margins=True)\n",
    "\n",
    "# Drop the \"All\" rows and columns\n",
    "preguntatrabajo2_5_2018 = preguntatrabajo2_5_2018.drop('All', axis=0).drop('All', axis=1)\n",
    "\n",
    "# Rename the columns\n",
    "preguntatrabajo2_5_2018.index.name = 'Reacción de Compañeros de Trabajo'\n",
    "preguntatrabajo2_5_2018 = preguntatrabajo2_5_2018.rename(columns={'Si': 'Diagnosticados'})\n",
    "\n",
    "print(preguntatrabajo2_5_2018)\n",
    "\n",
    "# 2019\n",
    "# Filter the data for those who have been diagnosed with a mental illness\n",
    "filtro_si_diagnosticado = df_2017['¿Alguna Vez Has Sido Diagnosticado con una Enfermedad Mental?'] == 'Si' \n",
    "\n",
    "# Create a crosstabulation table\n",
    "preguntatrabajo3_5_2019 = pd.crosstab(df_2019[filtro_si_diagnosticado]['Si Supieran Que Padeces un Trastorno Mental, ¿Cómo Crees Que Reaccionarían los Miembros de tu Equipo/Compañeros de Trabajo?'], \n",
    "                                    df_2019[filtro_si_diagnosticado]['¿Alguna Vez Has Sido Diagnosticado con una Enfermedad Mental?'], margins=True)\n",
    "\n",
    "# Drop the \"All\" rows and columns\n",
    "preguntatrabajo3_5_2019 = preguntatrabajo3_5_2019.drop('All', axis=0).drop('All', axis=1)\n",
    "\n",
    "# Rename the columns\n",
    "preguntatrabajo3_5_2019.index.name = 'Reacción de Compañeros de Trabajo'\n",
    "preguntatrabajo3_5_2010 = preguntatrabajo3_5_2019.rename(columns={'Si': 'Diagnosticados'})\n",
    "\n",
    "print(preguntatrabajo3_5_2019)\n"
   ]
  },
  {
   "cell_type": "code",
   "execution_count": 206,
   "metadata": {},
   "outputs": [
    {
     "data": {
      "application/vnd.plotly.v1+json": {
       "config": {
        "plotlyServerURL": "https://plot.ly"
       },
       "data": [
        {
         "alignmentgroup": "True",
         "customdata": [
          [
           ""
          ],
          [
           ""
          ],
          [
           ""
          ],
          [
           ""
          ],
          [
           ""
          ]
         ],
         "hovertemplate": "Reacción de compañeros de trabajo<br>Número de personas: %{y}<br>Diagnosticado con Enfermedad Mental}",
         "legendgroup": "",
         "marker": {
          "color": [
           2,
           3,
           1,
           4,
           5
          ],
          "coloraxis": "coloraxis",
          "pattern": {
           "shape": ""
          }
         },
         "name": "",
         "offsetgroup": "",
         "orientation": "v",
         "showlegend": false,
         "textposition": "auto",
         "type": "bar",
         "x": [
          "No, no lo hacen",
          "No, pienso que no lo harían",
          "Si lo hacen",
          "Si, pienso que lo harían",
          "Tal vez"
         ],
         "xaxis": "x",
         "y": [
          27,
          98,
          21,
          148,
          179
         ],
         "yaxis": "y"
        }
       ],
       "layout": {
        "barmode": "group",
        "coloraxis": {
         "colorbar": {
          "title": {
           "text": "Cantidad"
          }
         },
         "colorscale": [
          [
           0,
           "#99F8FF"
          ],
          [
           0.3333333333333333,
           "#66F0FF"
          ],
          [
           0.6666666666666666,
           "#4CA5FF"
          ],
          [
           1,
           "#003FFF"
          ]
         ]
        },
        "legend": {
         "tracegroupgap": 0
        },
        "margin": {
         "t": 60
        },
        "template": {
         "data": {
          "candlestick": [
           {
            "decreasing": {
             "line": {
              "color": "#000033"
             }
            },
            "increasing": {
             "line": {
              "color": "#000032"
             }
            },
            "type": "candlestick"
           }
          ],
          "contour": [
           {
            "colorscale": [
             [
              0,
              "#000011"
             ],
             [
              0.1111111111111111,
              "#000012"
             ],
             [
              0.2222222222222222,
              "#000013"
             ],
             [
              0.3333333333333333,
              "#000014"
             ],
             [
              0.4444444444444444,
              "#000015"
             ],
             [
              0.5555555555555556,
              "#000016"
             ],
             [
              0.6666666666666666,
              "#000017"
             ],
             [
              0.7777777777777778,
              "#000018"
             ],
             [
              0.8888888888888888,
              "#000019"
             ],
             [
              1,
              "#000020"
             ]
            ],
            "type": "contour"
           }
          ],
          "contourcarpet": [
           {
            "colorscale": [
             [
              0,
              "#000011"
             ],
             [
              0.1111111111111111,
              "#000012"
             ],
             [
              0.2222222222222222,
              "#000013"
             ],
             [
              0.3333333333333333,
              "#000014"
             ],
             [
              0.4444444444444444,
              "#000015"
             ],
             [
              0.5555555555555556,
              "#000016"
             ],
             [
              0.6666666666666666,
              "#000017"
             ],
             [
              0.7777777777777778,
              "#000018"
             ],
             [
              0.8888888888888888,
              "#000019"
             ],
             [
              1,
              "#000020"
             ]
            ],
            "type": "contourcarpet"
           }
          ],
          "heatmap": [
           {
            "colorscale": [
             [
              0,
              "#000011"
             ],
             [
              0.1111111111111111,
              "#000012"
             ],
             [
              0.2222222222222222,
              "#000013"
             ],
             [
              0.3333333333333333,
              "#000014"
             ],
             [
              0.4444444444444444,
              "#000015"
             ],
             [
              0.5555555555555556,
              "#000016"
             ],
             [
              0.6666666666666666,
              "#000017"
             ],
             [
              0.7777777777777778,
              "#000018"
             ],
             [
              0.8888888888888888,
              "#000019"
             ],
             [
              1,
              "#000020"
             ]
            ],
            "type": "heatmap"
           }
          ],
          "histogram2d": [
           {
            "colorscale": [
             [
              0,
              "#000011"
             ],
             [
              0.1111111111111111,
              "#000012"
             ],
             [
              0.2222222222222222,
              "#000013"
             ],
             [
              0.3333333333333333,
              "#000014"
             ],
             [
              0.4444444444444444,
              "#000015"
             ],
             [
              0.5555555555555556,
              "#000016"
             ],
             [
              0.6666666666666666,
              "#000017"
             ],
             [
              0.7777777777777778,
              "#000018"
             ],
             [
              0.8888888888888888,
              "#000019"
             ],
             [
              1,
              "#000020"
             ]
            ],
            "type": "histogram2d"
           }
          ],
          "icicle": [
           {
            "textfont": {
             "color": "white"
            },
            "type": "icicle"
           }
          ],
          "sankey": [
           {
            "textfont": {
             "color": "#000036"
            },
            "type": "sankey"
           }
          ],
          "scatter": [
           {
            "marker": {
             "line": {
              "width": 0
             }
            },
            "type": "scatter"
           }
          ],
          "table": [
           {
            "cells": {
             "fill": {
              "color": "#000038"
             },
             "font": {
              "color": "#000037"
             },
             "line": {
              "color": "#000039"
             }
            },
            "header": {
             "fill": {
              "color": "#000040"
             },
             "font": {
              "color": "#000036"
             },
             "line": {
              "color": "#000039"
             }
            },
            "type": "table"
           }
          ],
          "waterfall": [
           {
            "connector": {
             "line": {
              "color": "#000036",
              "width": 2
             }
            },
            "decreasing": {
             "marker": {
              "color": "#000033"
             }
            },
            "increasing": {
             "marker": {
              "color": "#000032"
             }
            },
            "totals": {
             "marker": {
              "color": "#000034"
             }
            },
            "type": "waterfall"
           }
          ]
         },
         "layout": {
          "coloraxis": {
           "colorscale": [
            [
             0,
             "#000011"
            ],
            [
             0.1111111111111111,
             "#000012"
            ],
            [
             0.2222222222222222,
             "#000013"
            ],
            [
             0.3333333333333333,
             "#000014"
            ],
            [
             0.4444444444444444,
             "#000015"
            ],
            [
             0.5555555555555556,
             "#000016"
            ],
            [
             0.6666666666666666,
             "#000017"
            ],
            [
             0.7777777777777778,
             "#000018"
            ],
            [
             0.8888888888888888,
             "#000019"
            ],
            [
             1,
             "#000020"
            ]
           ]
          },
          "colorscale": {
           "diverging": [
            [
             0,
             "#000021"
            ],
            [
             0.1,
             "#000022"
            ],
            [
             0.2,
             "#000023"
            ],
            [
             0.3,
             "#000024"
            ],
            [
             0.4,
             "#000025"
            ],
            [
             0.5,
             "#000026"
            ],
            [
             0.6,
             "#000027"
            ],
            [
             0.7,
             "#000028"
            ],
            [
             0.8,
             "#000029"
            ],
            [
             0.9,
             "#000030"
            ],
            [
             1,
             "#000031"
            ]
           ],
           "sequential": [
            [
             0,
             "#000011"
            ],
            [
             0.1111111111111111,
             "#000012"
            ],
            [
             0.2222222222222222,
             "#000013"
            ],
            [
             0.3333333333333333,
             "#000014"
            ],
            [
             0.4444444444444444,
             "#000015"
            ],
            [
             0.5555555555555556,
             "#000016"
            ],
            [
             0.6666666666666666,
             "#000017"
            ],
            [
             0.7777777777777778,
             "#000018"
            ],
            [
             0.8888888888888888,
             "#000019"
            ],
            [
             1,
             "#000020"
            ]
           ],
           "sequentialminus": [
            [
             0,
             "#000011"
            ],
            [
             0.1111111111111111,
             "#000012"
            ],
            [
             0.2222222222222222,
             "#000013"
            ],
            [
             0.3333333333333333,
             "#000014"
            ],
            [
             0.4444444444444444,
             "#000015"
            ],
            [
             0.5555555555555556,
             "#000016"
            ],
            [
             0.6666666666666666,
             "#000017"
            ],
            [
             0.7777777777777778,
             "#000018"
            ],
            [
             0.8888888888888888,
             "#000019"
            ],
            [
             1,
             "#000020"
            ]
           ]
          },
          "colorway": [
           "#000001",
           "#000002",
           "#000003",
           "#000004",
           "#000005",
           "#000006",
           "#000007",
           "#000008",
           "#000009",
           "#000010"
          ]
         }
        },
        "title": {
         "text": "¿Te Verían mal tus compañeros de trabajo si se sabe que padece una Enfermedad Mental? 2016"
        },
        "xaxis": {
         "anchor": "y",
         "domain": [
          0,
          1
         ],
         "title": {
          "text": "Reacción de compañeros de trabajo"
         }
        },
        "yaxis": {
         "anchor": "x",
         "domain": [
          0,
          1
         ],
         "title": {
          "text": "Número de personas"
         }
        }
       }
      }
     },
     "metadata": {},
     "output_type": "display_data"
    }
   ],
   "source": [
    "#Grafica para 2016\n",
    "import plotly.express as px\n",
    "import numpy as np\n",
    "\n",
    "preguntatrabajo_5_2016_melted = preguntatrabajo_5_2016.reset_index().melt(id_vars='¿Cree que los Miembros de su Equipo/Compañeros de Trabajo le Verían de Forma más Negativa Si Supieran que Padece una Enfermedad Mental?', \n",
    "                                                                         var_name='Diagnosticado con Enfermedad Mental', \n",
    "                                                                         value_name='Número de personas')\n",
    "\n",
    "# Create a custom blue gradient color scale with more vibrant colors\n",
    "blue_gradient = ['#99F8FF', '#66F0FF', '#4CA5FF', '#003FFF']\n",
    "\n",
    "# Get the unique categories in the Diagnosticado con Enfermedad Mental column\n",
    "categories = preguntatrabajo_5_2016_melted['Diagnosticado con Enfermedad Mental'].unique()\n",
    "\n",
    "# Create a continuous variable to map to the gradient\n",
    "preguntatrabajo_5_2016_melted['Gradient'] = preguntatrabajo_5_2016_melted.groupby('Diagnosticado con Enfermedad Mental')['Número de personas'].transform('rank')\n",
    "\n",
    "# Create the vertical bar chart with a blue gradient\n",
    "fig = px.bar(preguntatrabajo_5_2016_melted, x='¿Cree que los Miembros de su Equipo/Compañeros de Trabajo le Verían de Forma más Negativa Si Supieran que Padece una Enfermedad Mental?', \n",
    "              y='Número de personas', color='Gradient', \n",
    "              color_continuous_scale=blue_gradient, \n",
    "              barmode='group')\n",
    "fig.update_layout(title='¿Te Verían mal tus compañeros de trabajo si se sabe que padeces una Enfermedad Mental? 2016',\n",
    "                  xaxis_title='Reacción de compañeros de trabajo',\n",
    "                  yaxis_title='Número de personas')\n",
    "\n",
    "# Update the legend title\n",
    "fig.update_layout(coloraxis_colorbar=dict(title='Cantidad'))\n",
    "\n",
    "# Add hover template to show frequency\n",
    "fig.update_traces(hovertemplate=\"<br>\".join([\n",
    "    \"Reacción de compañeros de trabajo\",\n",
    "    \"Número de personas: %{y}\",\n",
    "    \"Diagnosticado con Enfermedad Mental}\"\n",
    "]), customdata=np.stack((preguntatrabajo_5_2016_melted['Diagnosticado con Enfermedad Mental'],)).T)\n",
    "\n",
    "fig.show()\n",
    "\n",
    "#A continucación se observa un gráfico de barras en el cual se indican las respuestas de las personas diagosticadas con enfermedades mentales y si creen que su percepción externa sería diferente si dan a conocer que tienen una enfermedad mental. Como se puede observar para el año 2016 las personas no estarían seguras sobre la reaccion de sus compañeros."
   ]
  },
  {
   "cell_type": "code",
   "execution_count": 209,
   "metadata": {},
   "outputs": [
    {
     "data": {
      "application/vnd.plotly.v1+json": {
       "config": {
        "plotlyServerURL": "https://plot.ly"
       },
       "data": [
        {
         "marker": {
          "color": "rgba(0, 0, 255, 0.8)"
         },
         "name": "Año 2016",
         "orientation": "h",
         "type": "bar",
         "x": [
          30,
          28,
          5,
          11,
          14,
          19,
          28,
          8,
          32,
          60,
          9
         ],
         "y": [
          "Bien",
          "Indiferente",
          "Mal",
          "Me apoya(n)",
          "Me apoyan(n) mucho",
          "Men entienden(n)",
          "Muy bien",
          "Muy mal",
          "No creo que le(s) importe",
          "Normal",
          "Sin comentarios"
         ]
        }
       ],
       "frames": [
        {
         "data": [
          {
           "marker": {
            "color": "rgba(0, 128, 255, 0.8)"
           },
           "name": "Año 2017",
           "orientation": "h",
           "type": "bar",
           "x": [
            30,
            28,
            5,
            11,
            14,
            19,
            28,
            8,
            32,
            60,
            9
           ],
           "y": [
            "Bien",
            "Indiferente",
            "Mal",
            "Me apoya(n)",
            "Me apoyan(n) mucho",
            "Men entienden(n)",
            "Muy bien",
            "Muy mal",
            "No creo que le(s) importe",
            "Normal",
            "Sin comentarios"
           ]
          }
         ],
         "layout": {
          "title": {
           "text": "Año 2017"
          }
         },
         "name": "frame0"
        },
        {
         "data": [
          {
           "marker": {
            "color": "rgba(0, 96, 255, 0.8)"
           },
           "name": "Año 2018",
           "orientation": "h",
           "type": "bar",
           "x": [
            8,
            5,
            2,
            3,
            3,
            9,
            10,
            6,
            15,
            23,
            5
           ],
           "y": [
            "Bien",
            "Indiferente",
            "Mal",
            "Me apoya(n)",
            "Me apoyan(n) mucho",
            "Men entienden(n)",
            "Muy bien",
            "Muy mal",
            "No creo que le(s) importe",
            "Normal",
            "Sin comentarios"
           ]
          }
         ],
         "layout": {
          "title": {
           "text": "Año 2018"
          }
         },
         "name": "frame1"
        },
        {
         "data": [
          {
           "marker": {
            "color": "rgba(0, 64, 255, 0.8)"
           },
           "name": "Año 2019",
           "orientation": "h",
           "type": "bar",
           "x": [
            8,
            10,
            1,
            0,
            3,
            7,
            7,
            1,
            4,
            15,
            3
           ],
           "y": [
            "Bien",
            "Indiferente",
            "Mal",
            "Me apoya(n)",
            "Me apoyan(n) mucho",
            "Men entienden(n)",
            "Muy bien",
            "Muy mal",
            "No creo que le(s) importe",
            "Normal",
            "Sin comentarios"
           ]
          }
         ],
         "layout": {
          "title": {
           "text": "Año 2019"
          }
         },
         "name": "frame2"
        }
       ],
       "layout": {
        "template": {
         "data": {
          "candlestick": [
           {
            "decreasing": {
             "line": {
              "color": "#000033"
             }
            },
            "increasing": {
             "line": {
              "color": "#000032"
             }
            },
            "type": "candlestick"
           }
          ],
          "contour": [
           {
            "colorscale": [
             [
              0,
              "#000011"
             ],
             [
              0.1111111111111111,
              "#000012"
             ],
             [
              0.2222222222222222,
              "#000013"
             ],
             [
              0.3333333333333333,
              "#000014"
             ],
             [
              0.4444444444444444,
              "#000015"
             ],
             [
              0.5555555555555556,
              "#000016"
             ],
             [
              0.6666666666666666,
              "#000017"
             ],
             [
              0.7777777777777778,
              "#000018"
             ],
             [
              0.8888888888888888,
              "#000019"
             ],
             [
              1,
              "#000020"
             ]
            ],
            "type": "contour"
           }
          ],
          "contourcarpet": [
           {
            "colorscale": [
             [
              0,
              "#000011"
             ],
             [
              0.1111111111111111,
              "#000012"
             ],
             [
              0.2222222222222222,
              "#000013"
             ],
             [
              0.3333333333333333,
              "#000014"
             ],
             [
              0.4444444444444444,
              "#000015"
             ],
             [
              0.5555555555555556,
              "#000016"
             ],
             [
              0.6666666666666666,
              "#000017"
             ],
             [
              0.7777777777777778,
              "#000018"
             ],
             [
              0.8888888888888888,
              "#000019"
             ],
             [
              1,
              "#000020"
             ]
            ],
            "type": "contourcarpet"
           }
          ],
          "heatmap": [
           {
            "colorscale": [
             [
              0,
              "#000011"
             ],
             [
              0.1111111111111111,
              "#000012"
             ],
             [
              0.2222222222222222,
              "#000013"
             ],
             [
              0.3333333333333333,
              "#000014"
             ],
             [
              0.4444444444444444,
              "#000015"
             ],
             [
              0.5555555555555556,
              "#000016"
             ],
             [
              0.6666666666666666,
              "#000017"
             ],
             [
              0.7777777777777778,
              "#000018"
             ],
             [
              0.8888888888888888,
              "#000019"
             ],
             [
              1,
              "#000020"
             ]
            ],
            "type": "heatmap"
           }
          ],
          "histogram2d": [
           {
            "colorscale": [
             [
              0,
              "#000011"
             ],
             [
              0.1111111111111111,
              "#000012"
             ],
             [
              0.2222222222222222,
              "#000013"
             ],
             [
              0.3333333333333333,
              "#000014"
             ],
             [
              0.4444444444444444,
              "#000015"
             ],
             [
              0.5555555555555556,
              "#000016"
             ],
             [
              0.6666666666666666,
              "#000017"
             ],
             [
              0.7777777777777778,
              "#000018"
             ],
             [
              0.8888888888888888,
              "#000019"
             ],
             [
              1,
              "#000020"
             ]
            ],
            "type": "histogram2d"
           }
          ],
          "icicle": [
           {
            "textfont": {
             "color": "white"
            },
            "type": "icicle"
           }
          ],
          "sankey": [
           {
            "textfont": {
             "color": "#000036"
            },
            "type": "sankey"
           }
          ],
          "scatter": [
           {
            "marker": {
             "line": {
              "width": 0
             }
            },
            "type": "scatter"
           }
          ],
          "table": [
           {
            "cells": {
             "fill": {
              "color": "#000038"
             },
             "font": {
              "color": "#000037"
             },
             "line": {
              "color": "#000039"
             }
            },
            "header": {
             "fill": {
              "color": "#000040"
             },
             "font": {
              "color": "#000036"
             },
             "line": {
              "color": "#000039"
             }
            },
            "type": "table"
           }
          ],
          "waterfall": [
           {
            "connector": {
             "line": {
              "color": "#000036",
              "width": 2
             }
            },
            "decreasing": {
             "marker": {
              "color": "#000033"
             }
            },
            "increasing": {
             "marker": {
              "color": "#000032"
             }
            },
            "totals": {
             "marker": {
              "color": "#000034"
             }
            },
            "type": "waterfall"
           }
          ]
         },
         "layout": {
          "coloraxis": {
           "colorscale": [
            [
             0,
             "#000011"
            ],
            [
             0.1111111111111111,
             "#000012"
            ],
            [
             0.2222222222222222,
             "#000013"
            ],
            [
             0.3333333333333333,
             "#000014"
            ],
            [
             0.4444444444444444,
             "#000015"
            ],
            [
             0.5555555555555556,
             "#000016"
            ],
            [
             0.6666666666666666,
             "#000017"
            ],
            [
             0.7777777777777778,
             "#000018"
            ],
            [
             0.8888888888888888,
             "#000019"
            ],
            [
             1,
             "#000020"
            ]
           ]
          },
          "colorscale": {
           "diverging": [
            [
             0,
             "#000021"
            ],
            [
             0.1,
             "#000022"
            ],
            [
             0.2,
             "#000023"
            ],
            [
             0.3,
             "#000024"
            ],
            [
             0.4,
             "#000025"
            ],
            [
             0.5,
             "#000026"
            ],
            [
             0.6,
             "#000027"
            ],
            [
             0.7,
             "#000028"
            ],
            [
             0.8,
             "#000029"
            ],
            [
             0.9,
             "#000030"
            ],
            [
             1,
             "#000031"
            ]
           ],
           "sequential": [
            [
             0,
             "#000011"
            ],
            [
             0.1111111111111111,
             "#000012"
            ],
            [
             0.2222222222222222,
             "#000013"
            ],
            [
             0.3333333333333333,
             "#000014"
            ],
            [
             0.4444444444444444,
             "#000015"
            ],
            [
             0.5555555555555556,
             "#000016"
            ],
            [
             0.6666666666666666,
             "#000017"
            ],
            [
             0.7777777777777778,
             "#000018"
            ],
            [
             0.8888888888888888,
             "#000019"
            ],
            [
             1,
             "#000020"
            ]
           ],
           "sequentialminus": [
            [
             0,
             "#000011"
            ],
            [
             0.1111111111111111,
             "#000012"
            ],
            [
             0.2222222222222222,
             "#000013"
            ],
            [
             0.3333333333333333,
             "#000014"
            ],
            [
             0.4444444444444444,
             "#000015"
            ],
            [
             0.5555555555555556,
             "#000016"
            ],
            [
             0.6666666666666666,
             "#000017"
            ],
            [
             0.7777777777777778,
             "#000018"
            ],
            [
             0.8888888888888888,
             "#000019"
            ],
            [
             1,
             "#000020"
            ]
           ]
          },
          "colorway": [
           "#000001",
           "#000002",
           "#000003",
           "#000004",
           "#000005",
           "#000006",
           "#000007",
           "#000008",
           "#000009",
           "#000010"
          ]
         }
        },
        "title": {
         "text": "Reacción de Compañeros de trabajo"
        },
        "updatemenus": [
         {
          "buttons": [
           {
            "args": [
             null,
             {
              "frame": {
               "duration": 7000,
               "fromcurrent": true
              },
              "transition": {
               "duration": 500
              }
             }
            ],
            "label": "Play",
            "method": "animate"
           },
           {
            "args": [
             [
              null
             ],
             {
              "frame": {
               "duration": 0,
               "fromcurrent": true
              },
              "transition": {
               "duration": 0
              }
             }
            ],
            "label": "Pause",
            "method": "animate"
           },
           {
            "args": [
             null,
             {
              "frame": {
               "duration": 0,
               "fromcurrent": false
              },
              "transition": {
               "duration": 0
              }
             }
            ],
            "label": "Restart",
            "method": "animate"
           }
          ],
          "direction": "left",
          "type": "buttons",
          "x": 0,
          "xanchor": "left"
         }
        ],
        "xaxis": {
         "autorange": "reversed",
         "title": {
          "text": "Cantidad"
         }
        },
        "yaxis": {
         "autorange": "reversed",
         "side": "left",
         "tickfont": {
          "size": 6
         },
         "tickmode": "array",
         "ticktext": [
          "Bien",
          "Indiferente",
          "Mal",
          "Me apoya(n)",
          "Me apoyan(n) mucho",
          "Men entienden(n)",
          "Muy bien",
          "Muy mal",
          "No creo que le(s) importe",
          "Normal",
          "Sin comentarios"
         ],
         "tickvals": [
          "Bien",
          "Indiferente",
          "Mal",
          "Me apoya(n)",
          "Me apoyan(n) mucho",
          "Men entienden(n)",
          "Muy bien",
          "Muy mal",
          "No creo que le(s) importe",
          "Normal",
          "Sin comentarios"
         ]
        }
       }
      }
     },
     "metadata": {},
     "output_type": "display_data"
    }
   ],
   "source": [
    "#Grafica para 2017, 2018, 2019\n",
    "\n",
    "import plotly.graph_objects as go\n",
    "import pandas as pd\n",
    "\n",
    "Preguntatrabajo1_5_2017 = pd.DataFrame({'Diagnosticado': [30, 28, 5, 11, 14, 19, 28, 8, 32, 60, 9]}, index=['Bien', 'Indiferente', 'Mal', 'Me apoya(n)', 'Me apoyan(n) mucho', 'Me entienden(n)', 'Muy bien', 'Muy mal', 'No creo que le(s) importe','Normal', 'Sin comentarios'])\n",
    "Preguntatrabajo2_5_2018 = pd.DataFrame({'Diagnosticado': [8, 5, 2, 3, 3, 9, 10, 6, 15, 23, 5]}, index=['Bien', 'Indiferente', 'Mal', 'Me apoya(n)', 'Me apoyan(n) mucho', 'Me entienden(n)', 'Muy bien', 'Muy mal', 'No creo que le(s) importe','Normal', 'Sin comentarios'])\n",
    "Preguntatrabajo3_5_2019 = pd.DataFrame({'Diagnosticado': [8, 10, 1, 0, 3, 7, 7, 1, 4, 15, 3]}, index=['Bien', 'Indiferente', 'Mal', 'Me apoya(n)', 'Me apoyan(n) mucho', 'Me entienden(n)', 'Muy bien', 'Muy mal', 'No creo que le(s) importe','Normal', 'Sin comentarios'])\n",
    "\n",
    "dataframes = [\n",
    "    Preguntatrabajo1_5_2017.reset_index(),\n",
    "    Preguntatrabajo2_5_2018.reset_index(),\n",
    "    Preguntatrabajo3_5_2019.reset_index(),\n",
    "]\n",
    "\n",
    "frames = []\n",
    "for i, df in enumerate(dataframes):\n",
    "    frame = go.Frame(\n",
    "        data=[go.Bar(y=df['index'], x=df['Diagnosticado'], \n",
    "                     name=f'Año {2017 + i}', \n",
    "                     marker=dict(color=f'rgba(0, {128 - i*32}, 255, 0.8)'),  # degradado de azules\n",
    "                     orientation='h')],\n",
    "        name=f'frame{i}',\n",
    "        layout=go.Layout(title=f'Año {2017 + i}')\n",
    "    )\n",
    "    frames.append(frame)\n",
    "\n",
    "fig = go.Figure(\n",
    "    data=[go.Bar(y=dataframes[0]['index'], x=dataframes[0]['Diagnosticado'], \n",
    "                 name='Año 2016', \n",
    "                 marker=dict(color='rgba(0, 0, 255, 0.8)'),  # azul oscuro\n",
    "                 orientation='h')],\n",
    "    layout=go.Layout(\n",
    "        title='Reacción de Compañeros de trabajo',\n",
    "        xaxis=dict(title='Cantidad', autorange='reversed'),  \n",
    "        yaxis=dict(\n",
    "            tickmode='array', \n",
    "            tickvals=dataframes[0]['index'], \n",
    "            ticktext=dataframes[0]['index'], \n",
    "            side='left', \n",
    "            autorange='reversed', \n",
    "            tickfont=dict(size=6)  \n",
    "        ), \n",
    "        updatemenus=[\n",
    "            dict(\n",
    "                type=\"buttons\",\n",
    "                direction=\"left\",  \n",
    "                xanchor=\"left\",  \n",
    "                x=0,  \n",
    "                buttons=list([\n",
    "                    dict(label=\"Play\", method=\"animate\", args=[None, {\"frame\": {\"duration\": 7000, \"fromcurrent\": True}, \"transition\": {\"duration\": 500}}]),\n",
    "                    dict(label=\"Pause\", method=\"animate\", args=[[None], {\"frame\": {\"duration\": 0, \"fromcurrent\": True}, \"transition\": {\"duration\": 0}}]),\n",
    "                    dict(label=\"Restart\", method=\"animate\", args=[None, {\"frame\": {\"duration\": 0, \"fromcurrent\": False}, \"transition\": {\"duration\": 0}}])\n",
    "                ]),\n",
    "            )\n",
    "        ]\n",
    "    )\n",
    ")\n",
    "fig.frames = frames\n",
    "fig.show()\n",
    "\n",
    "# En este gráfico de barras podemos observar cuál creen que sería la reaccion al decir que tienen una enfermedad mental dado que fueron diagnosticados. Predomina a través de los años una reacción neutral ante la situación."
   ]
  },
  {
   "cell_type": "code",
   "execution_count": 210,
   "metadata": {},
   "outputs": [
    {
     "data": {
      "application/vnd.plotly.v1+json": {
       "config": {
        "plotlyServerURL": "https://plot.ly"
       },
       "data": [
        {
         "coloraxis": "coloraxis",
         "customdata": [
          [
           2,
           "Trastorno del Estado del Ánimo (Depresion, Trastorno Bipolar, etc.)"
          ],
          [
           1,
           "Trastorno de Ansiedad (Genralizado, Social, Fobia, etc.)"
          ],
          [
           34,
           "Trastorno de Ansiedad (Genralizado, Social, Fobia, etc.)"
          ],
          [
           8,
           "Trastorno de Ansiedad (Genralizado, Social, Fobia, etc.)"
          ],
          [
           1,
           "Trastorno de Ansiedad (Genralizado, Social, Fobia, etc.)"
          ],
          [
           3,
           "Trastorno de Ansiedad (Genralizado, Social, Fobia, etc.)"
          ],
          [
           1,
           "Trastorno de Ansiedad (Genralizado, Social, Fobia, etc.)"
          ],
          [
           5,
           "Trastorno de Ansiedad (Genralizado, Social, Fobia, etc.)"
          ],
          [
           3,
           "Trastorno de Ansiedad (Genralizado, Social, Fobia, etc.)"
          ],
          [
           2,
           "Trastorno del Estado del Ánimo (Depresion, Trastorno Bipolar, etc.)"
          ],
          [
           18,
           "Trastorno de Ansiedad (Genralizado, Social, Fobia, etc.)"
          ],
          [
           8,
           "Trastorno de Ansiedad (Genralizado, Social, Fobia, etc.)"
          ],
          [
           2,
           "Trastorno de Ansiedad (Genralizado, Social, Fobia, etc.)"
          ],
          [
           2,
           "Trastorno de Ansiedad (Genralizado, Social, Fobia, etc.)"
          ],
          [
           2,
           "Trastorno de Ansiedad (Genralizado, Social, Fobia, etc.)"
          ],
          [
           2,
           "Trastorno de Ansiedad (Genralizado, Social, Fobia, etc.)"
          ],
          [
           3,
           "Trastorno de Ansiedad (Genralizado, Social, Fobia, etc.)"
          ],
          [
           4,
           "Trastorno del Estado del Ánimo (Depresion, Trastorno Bipolar, etc.)"
          ],
          [
           12,
           "Trastorno de Ansiedad (Genralizado, Social, Fobia, etc.)"
          ],
          [
           12,
           "Trastorno de Ansiedad (Genralizado, Social, Fobia, etc.)"
          ],
          [
           2,
           "Trastorno de Ansiedad (Genralizado, Social, Fobia, etc.)"
          ],
          [
           2,
           "Trastorno de Ansiedad (Genralizado, Social, Fobia, etc.)"
          ],
          [
           3,
           "Trastorno de Ansiedad (Genralizado, Social, Fobia, etc.)"
          ],
          [
           13,
           "Trastorno de Ansiedad (Genralizado, Social, Fobia, etc.)"
          ],
          [
           1,
           "Trastorno de Ansiedad (Genralizado, Social, Fobia, etc.)"
          ],
          [
           6,
           "Trastorno de Ansiedad (Genralizado, Social, Fobia, etc.)"
          ],
          [
           2,
           "Trastorno de Ansiedad (Genralizado, Social, Fobia, etc.)"
          ],
          [
           11,
           "Trastorno de Ansiedad (Genralizado, Social, Fobia, etc.)"
          ],
          [
           16,
           "Trastorno de Ansiedad (Genralizado, Social, Fobia, etc.)"
          ],
          [
           1,
           "Trastorno Obsesivo-Compulsivo"
          ],
          [
           6,
           "Trastorno de Ansiedad (Genralizado, Social, Fobia, etc.)"
          ],
          [
           13,
           "Trastorno de Ansiedad (Genralizado, Social, Fobia, etc.)"
          ],
          [
           3,
           "Trastorno de Ansiedad (Genralizado, Social, Fobia, etc.)"
          ],
          [
           1,
           "Trastorno de Consumo de Sustancias"
          ],
          [
           4,
           "Trastorno de Ansiedad (Genralizado, Social, Fobia, etc.)"
          ],
          [
           1,
           "Trastorno de Ansiedad (Genralizado, Social, Fobia, etc.)"
          ],
          [
           10,
           "Trastorno de Ansiedad (Genralizado, Social, Fobia, etc.)"
          ],
          [
           5,
           "Trastorno del Estado del Ánimo (Depresion, Trastorno Bipolar, etc.)"
          ]
         ],
         "geo": "geo",
         "hovertemplate": "<b>%{hovertext}</b><br><br>State Abbrev=%{location}<br>Frequency=%{z}<br>Mental Health Condition=%{customdata[1]}<extra></extra>",
         "hovertext": [
          "Alabama",
          "Arizona",
          "California",
          "Carolina del Norte",
          "Carolina del Sur",
          "Connecticut",
          "Delaware",
          "Florida",
          "Georgia",
          "Idaho",
          "Illinois",
          "Indiana",
          "Kansas",
          "Kentucky",
          "Louisiana",
          "Maine",
          "Maryland",
          "Massachusetts",
          "Michigan",
          "Minnesota",
          "Missouri",
          "Nebraska",
          "Nueva Jersey",
          "Nueva York",
          "Nuevo Hampshire",
          "Ohio",
          "Oklahoma",
          "Oregon",
          "Pensilvania",
          "Rhode Island",
          "Tennessee",
          "Texas",
          "Utah",
          "Vermont",
          "Virginia",
          "Virginia del Oeste",
          "Washington",
          "Wisconsin"
         ],
         "locationmode": "USA-states",
         "locations": [
          "AL",
          "AZ",
          "CA",
          "NC",
          "SC",
          "CT",
          "DE",
          "FL",
          "GA",
          "ID",
          "IL",
          "IN",
          "KS",
          "KY",
          "LA",
          "ME",
          "MD",
          "MA",
          "MI",
          "MN",
          "MO",
          "NE",
          "NJ",
          "NY",
          "NH",
          "OH",
          "OK",
          "OR",
          "PA",
          "RI",
          "TN",
          "TX",
          "UT",
          "VT",
          "VA",
          "WV",
          "WA",
          "WI"
         ],
         "name": "",
         "type": "choropleth",
         "z": [
          2,
          1,
          34,
          8,
          1,
          3,
          1,
          5,
          3,
          2,
          18,
          8,
          2,
          2,
          2,
          2,
          3,
          4,
          12,
          12,
          2,
          2,
          3,
          13,
          1,
          6,
          2,
          11,
          16,
          1,
          6,
          13,
          3,
          1,
          4,
          1,
          10,
          5
         ]
        }
       ],
       "layout": {
        "coloraxis": {
         "cmid": 5.921052631578948,
         "colorbar": {
          "title": {
           "text": "Frecuencia de Casos"
          }
         },
         "colorscale": [
          [
           0,
           "lightgray"
          ],
          [
           0.2,
           "lightblue"
          ],
          [
           0.4,
           "skyblue"
          ],
          [
           0.6,
           "blue"
          ],
          [
           0.8,
           "darkblue"
          ],
          [
           1,
           "navy"
          ]
         ]
        },
        "geo": {
         "center": {},
         "domain": {
          "x": [
           0,
           1
          ],
          "y": [
           0,
           1
          ]
         },
         "scope": "usa"
        },
        "legend": {
         "tracegroupgap": 0
        },
        "template": {
         "data": {
          "candlestick": [
           {
            "decreasing": {
             "line": {
              "color": "#000033"
             }
            },
            "increasing": {
             "line": {
              "color": "#000032"
             }
            },
            "type": "candlestick"
           }
          ],
          "contour": [
           {
            "colorscale": [
             [
              0,
              "#000011"
             ],
             [
              0.1111111111111111,
              "#000012"
             ],
             [
              0.2222222222222222,
              "#000013"
             ],
             [
              0.3333333333333333,
              "#000014"
             ],
             [
              0.4444444444444444,
              "#000015"
             ],
             [
              0.5555555555555556,
              "#000016"
             ],
             [
              0.6666666666666666,
              "#000017"
             ],
             [
              0.7777777777777778,
              "#000018"
             ],
             [
              0.8888888888888888,
              "#000019"
             ],
             [
              1,
              "#000020"
             ]
            ],
            "type": "contour"
           }
          ],
          "contourcarpet": [
           {
            "colorscale": [
             [
              0,
              "#000011"
             ],
             [
              0.1111111111111111,
              "#000012"
             ],
             [
              0.2222222222222222,
              "#000013"
             ],
             [
              0.3333333333333333,
              "#000014"
             ],
             [
              0.4444444444444444,
              "#000015"
             ],
             [
              0.5555555555555556,
              "#000016"
             ],
             [
              0.6666666666666666,
              "#000017"
             ],
             [
              0.7777777777777778,
              "#000018"
             ],
             [
              0.8888888888888888,
              "#000019"
             ],
             [
              1,
              "#000020"
             ]
            ],
            "type": "contourcarpet"
           }
          ],
          "heatmap": [
           {
            "colorscale": [
             [
              0,
              "#000011"
             ],
             [
              0.1111111111111111,
              "#000012"
             ],
             [
              0.2222222222222222,
              "#000013"
             ],
             [
              0.3333333333333333,
              "#000014"
             ],
             [
              0.4444444444444444,
              "#000015"
             ],
             [
              0.5555555555555556,
              "#000016"
             ],
             [
              0.6666666666666666,
              "#000017"
             ],
             [
              0.7777777777777778,
              "#000018"
             ],
             [
              0.8888888888888888,
              "#000019"
             ],
             [
              1,
              "#000020"
             ]
            ],
            "type": "heatmap"
           }
          ],
          "histogram2d": [
           {
            "colorscale": [
             [
              0,
              "#000011"
             ],
             [
              0.1111111111111111,
              "#000012"
             ],
             [
              0.2222222222222222,
              "#000013"
             ],
             [
              0.3333333333333333,
              "#000014"
             ],
             [
              0.4444444444444444,
              "#000015"
             ],
             [
              0.5555555555555556,
              "#000016"
             ],
             [
              0.6666666666666666,
              "#000017"
             ],
             [
              0.7777777777777778,
              "#000018"
             ],
             [
              0.8888888888888888,
              "#000019"
             ],
             [
              1,
              "#000020"
             ]
            ],
            "type": "histogram2d"
           }
          ],
          "icicle": [
           {
            "textfont": {
             "color": "white"
            },
            "type": "icicle"
           }
          ],
          "sankey": [
           {
            "textfont": {
             "color": "#000036"
            },
            "type": "sankey"
           }
          ],
          "scatter": [
           {
            "marker": {
             "line": {
              "width": 0
             }
            },
            "type": "scatter"
           }
          ],
          "table": [
           {
            "cells": {
             "fill": {
              "color": "#000038"
             },
             "font": {
              "color": "#000037"
             },
             "line": {
              "color": "#000039"
             }
            },
            "header": {
             "fill": {
              "color": "#000040"
             },
             "font": {
              "color": "#000036"
             },
             "line": {
              "color": "#000039"
             }
            },
            "type": "table"
           }
          ],
          "waterfall": [
           {
            "connector": {
             "line": {
              "color": "#000036",
              "width": 2
             }
            },
            "decreasing": {
             "marker": {
              "color": "#000033"
             }
            },
            "increasing": {
             "marker": {
              "color": "#000032"
             }
            },
            "totals": {
             "marker": {
              "color": "#000034"
             }
            },
            "type": "waterfall"
           }
          ]
         },
         "layout": {
          "coloraxis": {
           "colorscale": [
            [
             0,
             "#000011"
            ],
            [
             0.1111111111111111,
             "#000012"
            ],
            [
             0.2222222222222222,
             "#000013"
            ],
            [
             0.3333333333333333,
             "#000014"
            ],
            [
             0.4444444444444444,
             "#000015"
            ],
            [
             0.5555555555555556,
             "#000016"
            ],
            [
             0.6666666666666666,
             "#000017"
            ],
            [
             0.7777777777777778,
             "#000018"
            ],
            [
             0.8888888888888888,
             "#000019"
            ],
            [
             1,
             "#000020"
            ]
           ]
          },
          "colorscale": {
           "diverging": [
            [
             0,
             "#000021"
            ],
            [
             0.1,
             "#000022"
            ],
            [
             0.2,
             "#000023"
            ],
            [
             0.3,
             "#000024"
            ],
            [
             0.4,
             "#000025"
            ],
            [
             0.5,
             "#000026"
            ],
            [
             0.6,
             "#000027"
            ],
            [
             0.7,
             "#000028"
            ],
            [
             0.8,
             "#000029"
            ],
            [
             0.9,
             "#000030"
            ],
            [
             1,
             "#000031"
            ]
           ],
           "sequential": [
            [
             0,
             "#000011"
            ],
            [
             0.1111111111111111,
             "#000012"
            ],
            [
             0.2222222222222222,
             "#000013"
            ],
            [
             0.3333333333333333,
             "#000014"
            ],
            [
             0.4444444444444444,
             "#000015"
            ],
            [
             0.5555555555555556,
             "#000016"
            ],
            [
             0.6666666666666666,
             "#000017"
            ],
            [
             0.7777777777777778,
             "#000018"
            ],
            [
             0.8888888888888888,
             "#000019"
            ],
            [
             1,
             "#000020"
            ]
           ],
           "sequentialminus": [
            [
             0,
             "#000011"
            ],
            [
             0.1111111111111111,
             "#000012"
            ],
            [
             0.2222222222222222,
             "#000013"
            ],
            [
             0.3333333333333333,
             "#000014"
            ],
            [
             0.4444444444444444,
             "#000015"
            ],
            [
             0.5555555555555556,
             "#000016"
            ],
            [
             0.6666666666666666,
             "#000017"
            ],
            [
             0.7777777777777778,
             "#000018"
            ],
            [
             0.8888888888888888,
             "#000019"
            ],
            [
             1,
             "#000020"
            ]
           ]
          },
          "colorway": [
           "#000001",
           "#000002",
           "#000003",
           "#000004",
           "#000005",
           "#000006",
           "#000007",
           "#000008",
           "#000009",
           "#000010"
          ]
         }
        },
        "title": {
         "text": "Frecuencia de Condiciones de Salud Mental por Estado en EE. UU."
        }
       }
      }
     },
     "metadata": {},
     "output_type": "display_data"
    }
   ],
   "source": [
    "#Mapa con la enfermedad mas frecuente registrada\n",
    "\n",
    "data = pd.DataFrame({\n",
    "    'State': ['Alabama', 'Arizona', \"California\",\"Carolina del Norte\", \"Carolina del Sur\", \"Connecticut\", \"Delaware\", \"Florida\",\"Georgia\", \"Idaho\", \"Illinois\", \"Indiana\", \"Kansas\", \"Kentucky\", \"Louisiana\",\"Maine\",\"Maryland\",\"Massachusetts\",\"Michigan\",\"Minnesota\",\"Missouri\",\"Nebraska\",\"Nueva Jersey\",\"Nueva York\",\"Nuevo Hampshire\",\"Ohio\",\"Oklahoma\",\"Oregon\",\"Pensilvania\",\"Rhode Island\",\"Tennessee\",\"Texas\",\"Utah\",\"Vermont\",\"Virginia\",\"Virginia del Oeste\",\"Washington\",\"Wisconsin\"],\n",
    "    'Frequency': [2,1,34,8,1,3,1,5,3,2,18,8,2,2,2,2,3,4,12,12,2,2,3,13,1,6,2,11,16,1,6,13,3,1,4,1,10,5]\n",
    "})\n",
    "\n",
    "# Group the data by state and sum the frequencies\n",
    "data = data.groupby('State')['Frequency'].sum().reset_index()\n",
    "\n",
    "# Create a column with state abbreviations\n",
    "data['State Abbrev'] = data['State'].map({\n",
    "    \"Alabama\":\"AL\",\n",
    "\"Arizona\": \"AZ\",\n",
    "\"California\": \"CA\",\n",
    "\"Carolina del Norte\": \"NC\",\n",
    "\"Carolina del Sur\":\"SC\",\n",
    "\"Connecticut\": \"CT\",\n",
    "\"Delaware\": \"DE\",\n",
    "\"Florida\": \"FL\",\n",
    "\"Georgia\": \"GA\",\n",
    "\"Idaho\": \"ID\",\n",
    "\"Illinois\": \"IL\",\n",
    "\"Indiana\": \"IN\",\n",
    "\"Kansas\": \"KS\",\n",
    "\"Kentucky\": \"KY\",\n",
    "\"Louisiana\": \"LA\",\n",
    "\"Maine\": \"ME\",\n",
    "\"Maryland\": \"MD\",\n",
    "\"Massachusetts\": \"MA\",\n",
    "\"Michigan\": \"MI\",\n",
    "\"Minnesota\": \"MN\",\n",
    "\"Missouri\": \"MO\",\n",
    "\"Nebraska\": \"NE\",\n",
    "\"Nueva Jersey\": \"NJ\",\n",
    "\"Nueva York\": \"NY\",\n",
    "\"Nuevo Hampshire\": \"NH\",\n",
    "\"Ohio\": \"OH\",\n",
    "\"Oklahoma\": \"OK\",\n",
    "\"Oregon\": \"OR\",\n",
    "\"Pensilvania\": \"PA\",\n",
    "\"Rhode Island\": \"RI\",\n",
    "\"Tennessee\": \"TN\",\n",
    "\"Texas\": \"TX\",\n",
    "\"Utah\": \"UT\",\n",
    "\"Vermont\": \"VT\",\n",
    "\"Virginia\": \"VA\",\n",
    "\"Virginia del Oeste\": \"WV\",\n",
    "\"Washington\": \"WA\",\n",
    "\"Wisconsin\": \"WI\"\n",
    "\n",
    "})\n",
    "\n",
    "# Add a new column with mental health condition information\n",
    "data['Mental Health Condition'] = data['State'].map({\n",
    "   \"Alabama\":\"Trastorno del Estado del Ánimo (Depresion, Trastorno Bipolar, etc.)\",\n",
    "\"Arizona\": \"Trastorno de Ansiedad (Genralizado, Social, Fobia, etc.)\",\n",
    "\"California\": \"Trastorno de Ansiedad (Genralizado, Social, Fobia, etc.)\",\n",
    "\"Carolina del Norte\": \"Trastorno de Ansiedad (Genralizado, Social, Fobia, etc.)\",\n",
    "\"Carolina del Sur\":\"Trastorno de Ansiedad (Genralizado, Social, Fobia, etc.)\",\n",
    "\"Connecticut\": \"Trastorno de Ansiedad (Genralizado, Social, Fobia, etc.)\",\n",
    "\"Delaware\": \"Trastorno de Ansiedad (Genralizado, Social, Fobia, etc.)\",\n",
    "\"Florida\": \"Trastorno de Ansiedad (Genralizado, Social, Fobia, etc.)\",\n",
    "\"Georgia\": \"Trastorno de Ansiedad (Genralizado, Social, Fobia, etc.)\",\n",
    "\"Idaho\": \"Trastorno del Estado del Ánimo (Depresion, Trastorno Bipolar, etc.)\",\n",
    "\"Illinois\": \"Trastorno de Ansiedad (Genralizado, Social, Fobia, etc.)\",\n",
    "\"Indiana\": \"Trastorno de Ansiedad (Genralizado, Social, Fobia, etc.)\",\n",
    "\"Kansas\": \"Trastorno de Ansiedad (Genralizado, Social, Fobia, etc.)\",\n",
    "\"Kentucky\": \"Trastorno de Ansiedad (Genralizado, Social, Fobia, etc.)\",\n",
    "\"Louisiana\": \"Trastorno de Ansiedad (Genralizado, Social, Fobia, etc.)\",\n",
    "\"Maine\": \"Trastorno de Ansiedad (Genralizado, Social, Fobia, etc.)\",\n",
    "\"Maryland\": \"Trastorno de Ansiedad (Genralizado, Social, Fobia, etc.)\",\n",
    "\"Massachusetts\": \"Trastorno del Estado del Ánimo (Depresion, Trastorno Bipolar, etc.)\",\n",
    "\"Michigan\": \"Trastorno de Ansiedad (Genralizado, Social, Fobia, etc.)\",\n",
    "\"Minnesota\": \"Trastorno de Ansiedad (Genralizado, Social, Fobia, etc.)\",\n",
    "\"Missouri\": \"Trastorno de Ansiedad (Genralizado, Social, Fobia, etc.)\",\n",
    "\"Nebraska\": \"Trastorno de Ansiedad (Genralizado, Social, Fobia, etc.)\",\n",
    "\"Nueva Jersey\": \"Trastorno de Ansiedad (Genralizado, Social, Fobia, etc.)\",\n",
    "\"Nueva York\": \"Trastorno de Ansiedad (Genralizado, Social, Fobia, etc.)\",\n",
    "\"Nuevo Hampshire\": \"Trastorno de Ansiedad (Genralizado, Social, Fobia, etc.)\",\n",
    "\"Ohio\": \"Trastorno de Ansiedad (Genralizado, Social, Fobia, etc.)\",\n",
    "\"Oklahoma\": \"Trastorno de Ansiedad (Genralizado, Social, Fobia, etc.)\",\n",
    "\"Oregon\": \"Trastorno de Ansiedad (Genralizado, Social, Fobia, etc.)\",\n",
    "\"Pensilvania\": \"Trastorno de Ansiedad (Genralizado, Social, Fobia, etc.)\",\n",
    "\"Rhode Island\": \"Trastorno Obsesivo-Compulsivo\",\n",
    "\"Tennessee\": \"Trastorno de Ansiedad (Genralizado, Social, Fobia, etc.)\",\n",
    "\"Texas\": \"Trastorno de Ansiedad (Genralizado, Social, Fobia, etc.)\",\n",
    "\"Utah\": \"Trastorno de Ansiedad (Genralizado, Social, Fobia, etc.)\",\n",
    "\"Vermont\": \"Trastorno de Consumo de Sustancias\",\n",
    "\"Virginia\": \"Trastorno de Ansiedad (Genralizado, Social, Fobia, etc.)\",\n",
    "\"Virginia del Oeste\": \"Trastorno de Ansiedad (Genralizado, Social, Fobia, etc.)\",\n",
    "\"Washington\": \"Trastorno de Ansiedad (Genralizado, Social, Fobia, etc.)\",\n",
    "\"Wisconsin\": \"Trastorno del Estado del Ánimo (Depresion, Trastorno Bipolar, etc.)\"\n",
    "})\n",
    "\n",
    "# Create a choropleth map\n",
    "fig = px.choropleth(\n",
    "    data,\n",
    "    locations=\"State Abbrev\",  \n",
    "    locationmode=\"USA-states\",\n",
    "    color=\"Frequency\",\n",
    "    scope=\"usa\",\n",
    "    color_continuous_scale=[\n",
    "        (0, \"lightgray\"), \n",
    "        (0.2, \"lightblue\"),  \n",
    "        (0.4, \"skyblue\"),  \n",
    "        (0.6, \"blue\"), \n",
    "        (0.8, \"darkblue\"),  \n",
    "        (1, \"navy\") \n",
    "    ],\n",
    "    hover_name=\"State\",\n",
    "    hover_data=[\"Frequency\", \"Mental Health Condition\"],  \n",
    "    color_continuous_midpoint=data['Frequency'].mean(),  \n",
    "    title=\"Frecuencia de Condiciones de Salud Mental por Estado en EE. UU.\", \n",
    ")\n",
    "\n",
    "fig.update_layout(coloraxis_colorbar=dict(title=\"Frecuencia de Casos\"))\n",
    "\n",
    "#Se observa en la siguiente gráfica el mapa de EEUU separado en estados y la enfermedad mental diagnosticada más comun."
   ]
  },
  {
   "cell_type": "code",
   "execution_count": 211,
   "metadata": {},
   "outputs": [
    {
     "name": "stdout",
     "output_type": "stream",
     "text": [
      "                               Enfermedades Mentales Diagnosticadas Ciudad de Residencia (EEUU)  Cantidad de personas\n",
      "           Trastorno de Ansiedad (Genralizado, Social, Fobia, etc.)                  California                    34\n",
      "Trastorno del Estado del Ánimo (Depresión, Trastorno Bipolar, etc.)                  California                    19\n",
      "           Trastorno de Ansiedad (Genralizado, Social, Fobia, etc.)                    Illinois                    18\n",
      "           Trastorno de Ansiedad (Genralizado, Social, Fobia, etc.)                 Pensilvania                    16\n",
      "           Trastorno de Ansiedad (Genralizado, Social, Fobia, etc.)                  Nueva York                    13\n"
     ]
    },
    {
     "data": {
      "application/vnd.plotly.v1+json": {
       "config": {
        "plotlyServerURL": "https://plot.ly"
       },
       "data": [
        {
         "coloraxis": "coloraxis",
         "customdata": [
          [
           53,
           "Trastorno de Ansiedad (Generalizado,Fobia, Social, Trastorno del Ánimo (Depresión, Trastorno Bipolar, etc))"
          ],
          [
           18,
           "Generalizado,Fobia, Social"
          ],
          [
           13,
           "Generalizado,Fobia, Social"
          ],
          [
           16,
           "Generalizado,Fobia, Social"
          ]
         ],
         "geo": "geo",
         "hovertemplate": "<b>%{hovertext}</b><br><br>State Abbrev=%{location}<br>Frequency=%{z}<br>Mental Health Condition=%{customdata[1]}<extra></extra>",
         "hovertext": [
          "California",
          "Illinois",
          "New York",
          "Pennsylvania"
         ],
         "locationmode": "USA-states",
         "locations": [
          "CA",
          "IL",
          "NY",
          "PA"
         ],
         "name": "",
         "type": "choropleth",
         "z": [
          53,
          18,
          13,
          16
         ]
        }
       ],
       "layout": {
        "coloraxis": {
         "cmid": 25,
         "colorbar": {
          "title": {
           "text": "Frecuencia de Casos"
          }
         },
         "colorscale": [
          [
           0,
           "rgb(252,251,253)"
          ],
          [
           0.125,
           "rgb(239,237,245)"
          ],
          [
           0.25,
           "rgb(218,218,235)"
          ],
          [
           0.375,
           "rgb(188,189,220)"
          ],
          [
           0.5,
           "rgb(158,154,200)"
          ],
          [
           0.625,
           "rgb(128,125,186)"
          ],
          [
           0.75,
           "rgb(106,81,163)"
          ],
          [
           0.875,
           "rgb(84,39,143)"
          ],
          [
           1,
           "rgb(63,0,125)"
          ]
         ]
        },
        "geo": {
         "center": {},
         "domain": {
          "x": [
           0,
           1
          ],
          "y": [
           0,
           1
          ]
         },
         "scope": "usa"
        },
        "legend": {
         "tracegroupgap": 0
        },
        "template": {
         "data": {
          "candlestick": [
           {
            "decreasing": {
             "line": {
              "color": "#000033"
             }
            },
            "increasing": {
             "line": {
              "color": "#000032"
             }
            },
            "type": "candlestick"
           }
          ],
          "contour": [
           {
            "colorscale": [
             [
              0,
              "#000011"
             ],
             [
              0.1111111111111111,
              "#000012"
             ],
             [
              0.2222222222222222,
              "#000013"
             ],
             [
              0.3333333333333333,
              "#000014"
             ],
             [
              0.4444444444444444,
              "#000015"
             ],
             [
              0.5555555555555556,
              "#000016"
             ],
             [
              0.6666666666666666,
              "#000017"
             ],
             [
              0.7777777777777778,
              "#000018"
             ],
             [
              0.8888888888888888,
              "#000019"
             ],
             [
              1,
              "#000020"
             ]
            ],
            "type": "contour"
           }
          ],
          "contourcarpet": [
           {
            "colorscale": [
             [
              0,
              "#000011"
             ],
             [
              0.1111111111111111,
              "#000012"
             ],
             [
              0.2222222222222222,
              "#000013"
             ],
             [
              0.3333333333333333,
              "#000014"
             ],
             [
              0.4444444444444444,
              "#000015"
             ],
             [
              0.5555555555555556,
              "#000016"
             ],
             [
              0.6666666666666666,
              "#000017"
             ],
             [
              0.7777777777777778,
              "#000018"
             ],
             [
              0.8888888888888888,
              "#000019"
             ],
             [
              1,
              "#000020"
             ]
            ],
            "type": "contourcarpet"
           }
          ],
          "heatmap": [
           {
            "colorscale": [
             [
              0,
              "#000011"
             ],
             [
              0.1111111111111111,
              "#000012"
             ],
             [
              0.2222222222222222,
              "#000013"
             ],
             [
              0.3333333333333333,
              "#000014"
             ],
             [
              0.4444444444444444,
              "#000015"
             ],
             [
              0.5555555555555556,
              "#000016"
             ],
             [
              0.6666666666666666,
              "#000017"
             ],
             [
              0.7777777777777778,
              "#000018"
             ],
             [
              0.8888888888888888,
              "#000019"
             ],
             [
              1,
              "#000020"
             ]
            ],
            "type": "heatmap"
           }
          ],
          "histogram2d": [
           {
            "colorscale": [
             [
              0,
              "#000011"
             ],
             [
              0.1111111111111111,
              "#000012"
             ],
             [
              0.2222222222222222,
              "#000013"
             ],
             [
              0.3333333333333333,
              "#000014"
             ],
             [
              0.4444444444444444,
              "#000015"
             ],
             [
              0.5555555555555556,
              "#000016"
             ],
             [
              0.6666666666666666,
              "#000017"
             ],
             [
              0.7777777777777778,
              "#000018"
             ],
             [
              0.8888888888888888,
              "#000019"
             ],
             [
              1,
              "#000020"
             ]
            ],
            "type": "histogram2d"
           }
          ],
          "icicle": [
           {
            "textfont": {
             "color": "white"
            },
            "type": "icicle"
           }
          ],
          "sankey": [
           {
            "textfont": {
             "color": "#000036"
            },
            "type": "sankey"
           }
          ],
          "scatter": [
           {
            "marker": {
             "line": {
              "width": 0
             }
            },
            "type": "scatter"
           }
          ],
          "table": [
           {
            "cells": {
             "fill": {
              "color": "#000038"
             },
             "font": {
              "color": "#000037"
             },
             "line": {
              "color": "#000039"
             }
            },
            "header": {
             "fill": {
              "color": "#000040"
             },
             "font": {
              "color": "#000036"
             },
             "line": {
              "color": "#000039"
             }
            },
            "type": "table"
           }
          ],
          "waterfall": [
           {
            "connector": {
             "line": {
              "color": "#000036",
              "width": 2
             }
            },
            "decreasing": {
             "marker": {
              "color": "#000033"
             }
            },
            "increasing": {
             "marker": {
              "color": "#000032"
             }
            },
            "totals": {
             "marker": {
              "color": "#000034"
             }
            },
            "type": "waterfall"
           }
          ]
         },
         "layout": {
          "coloraxis": {
           "colorscale": [
            [
             0,
             "#000011"
            ],
            [
             0.1111111111111111,
             "#000012"
            ],
            [
             0.2222222222222222,
             "#000013"
            ],
            [
             0.3333333333333333,
             "#000014"
            ],
            [
             0.4444444444444444,
             "#000015"
            ],
            [
             0.5555555555555556,
             "#000016"
            ],
            [
             0.6666666666666666,
             "#000017"
            ],
            [
             0.7777777777777778,
             "#000018"
            ],
            [
             0.8888888888888888,
             "#000019"
            ],
            [
             1,
             "#000020"
            ]
           ]
          },
          "colorscale": {
           "diverging": [
            [
             0,
             "#000021"
            ],
            [
             0.1,
             "#000022"
            ],
            [
             0.2,
             "#000023"
            ],
            [
             0.3,
             "#000024"
            ],
            [
             0.4,
             "#000025"
            ],
            [
             0.5,
             "#000026"
            ],
            [
             0.6,
             "#000027"
            ],
            [
             0.7,
             "#000028"
            ],
            [
             0.8,
             "#000029"
            ],
            [
             0.9,
             "#000030"
            ],
            [
             1,
             "#000031"
            ]
           ],
           "sequential": [
            [
             0,
             "#000011"
            ],
            [
             0.1111111111111111,
             "#000012"
            ],
            [
             0.2222222222222222,
             "#000013"
            ],
            [
             0.3333333333333333,
             "#000014"
            ],
            [
             0.4444444444444444,
             "#000015"
            ],
            [
             0.5555555555555556,
             "#000016"
            ],
            [
             0.6666666666666666,
             "#000017"
            ],
            [
             0.7777777777777778,
             "#000018"
            ],
            [
             0.8888888888888888,
             "#000019"
            ],
            [
             1,
             "#000020"
            ]
           ],
           "sequentialminus": [
            [
             0,
             "#000011"
            ],
            [
             0.1111111111111111,
             "#000012"
            ],
            [
             0.2222222222222222,
             "#000013"
            ],
            [
             0.3333333333333333,
             "#000014"
            ],
            [
             0.4444444444444444,
             "#000015"
            ],
            [
             0.5555555555555556,
             "#000016"
            ],
            [
             0.6666666666666666,
             "#000017"
            ],
            [
             0.7777777777777778,
             "#000018"
            ],
            [
             0.8888888888888888,
             "#000019"
            ],
            [
             1,
             "#000020"
            ]
           ]
          },
          "colorway": [
           "#000001",
           "#000002",
           "#000003",
           "#000004",
           "#000005",
           "#000006",
           "#000007",
           "#000008",
           "#000009",
           "#000010"
          ]
         }
        },
        "title": {
         "text": "Frecuencia de Condiciones de Salud Mental por Estado en EE. UU."
        }
       }
      }
     },
     "metadata": {},
     "output_type": "display_data"
    }
   ],
   "source": [
    "# Pregunta 2\n",
    "# ¿Cuáles son los 5 estados con más frecuencia y cual es la enfermedad mental predominante en cada uno ? \n",
    "pregunta_2 = df_2016[df_2016['Enfermedades Mentales Diagnosticadas']!= 'No respondió'].groupby('Ciudad de Residencia (EEUU)')['Enfermedades Mentales Diagnosticadas'].value_counts().nlargest(5).reset_index(name='Frecuencia')\n",
    "\n",
    "pregunta_2 = pregunta_2.loc[:, ['Enfermedades Mentales Diagnosticadas', 'Ciudad de Residencia (EEUU)', 'Frecuencia']]  # Reordenar columnas\n",
    "\n",
    "pregunta_2.columns = ['Enfermedades Mentales Diagnosticadas', 'Ciudad de Residencia (EEUU)', 'Cantidad de personas']  # Renombrar columnas\n",
    "\n",
    "print(pregunta_2.to_string(header=True, index=False))\n",
    "\n",
    "#Grafica\n",
    "\n",
    "import plotly.express as px\n",
    "data = pd.DataFrame({\n",
    "    'State': ['California', 'California', 'Illinois', 'Pennsylvania', 'New York'],\n",
    "    'Frequency': [34, 19, 18, 16, 13]\n",
    "})\n",
    "\n",
    "\n",
    "data = data.groupby('State')['Frequency'].sum().reset_index()\n",
    "\n",
    "\n",
    "data['State Abbrev'] = data['State'].map({\n",
    "    'California': 'CA',\n",
    "    'Illinois': 'IL',\n",
    "    'Pennsylvania': 'PA',\n",
    "    'New York': 'NY'\n",
    "})\n",
    "\n",
    "\n",
    "data['Mental Health Condition'] = data['State'].map({\n",
    "    'California': 'Trastorno de Ansiedad (Generalizado,Fobia, Social, Trastorno del Ánimo (Depresión, Trastorno Bipolar, etc))',\n",
    "    'Illinois': 'Generalizado,Fobia, Social',\n",
    "    'Pennsylvania': 'Generalizado,Fobia, Social',\n",
    "    'New York': 'Generalizado,Fobia, Social'\n",
    "})\n",
    "\n",
    "\n",
    "fig = px.choropleth(\n",
    "    data,\n",
    "    locations=\"State Abbrev\", \n",
    "    locationmode=\"USA-states\",\n",
    "    color=\"Frequency\",\n",
    "    scope=\"usa\",\n",
    "    color_continuous_scale=\"Purples\", \n",
    "    hover_name=\"State\",\n",
    "    hover_data=[\"Frequency\", \"Mental Health Condition\"], \n",
    "    color_continuous_midpoint=data['Frequency'].mean(), \n",
    "    title=\"Frecuencia de Condiciones de Salud Mental por Estado en EE. UU.\",  \n",
    ")\n",
    "\n",
    "fig.update_layout(coloraxis_colorbar=dict(title=\"Frecuencia de Casos\"))\n",
    "\n",
    "# Show the graph\n",
    "fig.show()\n",
    "#En el siguiente mapa se puede observar en qué estados hay mayores casos de enfermedades mentales y su diagnóstico, siendo el estado de California el principal de estos con un registro de 53 personas y su respuesta más común el Trastorno de Ansiedad (Depresión, Trastorno Bipoar, etc)."
   ]
  },
  {
   "cell_type": "code",
   "execution_count": 208,
   "metadata": {},
   "outputs": [
    {
     "name": "stderr",
     "output_type": "stream",
     "text": [
      "C:\\Users\\DELL\\AppData\\Local\\Temp\\ipykernel_12452\\1501547215.py:12: SettingWithCopyWarning:\n",
      "\n",
      "\n",
      "A value is trying to be set on a copy of a slice from a DataFrame.\n",
      "Try using .loc[row_indexer,col_indexer] = value instead\n",
      "\n",
      "See the caveats in the documentation: https://pandas.pydata.org/pandas-docs/stable/user_guide/indexing.html#returning-a-view-versus-a-copy\n",
      "\n",
      "C:\\Users\\DELL\\AppData\\Local\\Temp\\ipykernel_12452\\1501547215.py:15: SettingWithCopyWarning:\n",
      "\n",
      "\n",
      "A value is trying to be set on a copy of a slice from a DataFrame.\n",
      "Try using .loc[row_indexer,col_indexer] = value instead\n",
      "\n",
      "See the caveats in the documentation: https://pandas.pydata.org/pandas-docs/stable/user_guide/indexing.html#returning-a-view-versus-a-copy\n",
      "\n",
      "C:\\Users\\DELL\\AppData\\Local\\Temp\\ipykernel_12452\\1501547215.py:18: SettingWithCopyWarning:\n",
      "\n",
      "\n",
      "A value is trying to be set on a copy of a slice from a DataFrame.\n",
      "Try using .loc[row_indexer,col_indexer] = value instead\n",
      "\n",
      "See the caveats in the documentation: https://pandas.pydata.org/pandas-docs/stable/user_guide/indexing.html#returning-a-view-versus-a-copy\n",
      "\n",
      "C:\\Users\\DELL\\AppData\\Local\\Temp\\ipykernel_12452\\1501547215.py:26: FutureWarning:\n",
      "\n",
      "The default of observed=False is deprecated and will be changed to True in a future version of pandas. Pass observed=False to retain current behavior or observed=True to adopt the future default and silence this warning.\n",
      "\n",
      "C:\\Users\\DELL\\AppData\\Local\\Temp\\ipykernel_12452\\1501547215.py:29: FutureWarning:\n",
      "\n",
      "The default of observed=False is deprecated and will be changed to True in a future version of pandas. Pass observed=False to retain current behavior or observed=True to adopt the future default and silence this warning.\n",
      "\n"
     ]
    },
    {
     "name": "stdout",
     "output_type": "stream",
     "text": [
      "                 Enfermedades Mentales Diagnosticadas   Edad  \\\n",
      "8   Trastorno de Ansiedad (Genralizado, Social, Fo...  19-25   \n",
      "22  Trastorno de Ansiedad (Genralizado, Social, Fo...  26-32   \n",
      "36  Trastorno de Ansiedad (Genralizado, Social, Fo...  33-38   \n",
      "50  Trastorno de Ansiedad (Genralizado, Social, Fo...  39-44   \n",
      "64  Trastorno de Ansiedad (Genralizado, Social, Fo...  45-50   \n",
      "78  Trastorno de Ansiedad (Genralizado, Social, Fo...  51-56   \n",
      "92  Trastorno de Ansiedad (Genralizado, Social, Fo...  57-66   \n",
      "\n",
      "    Cantidad de personas  \n",
      "8                     37  \n",
      "22                    75  \n",
      "36                    65  \n",
      "50                    28  \n",
      "64                    14  \n",
      "78                     5  \n",
      "92                     4  \n"
     ]
    },
    {
     "data": {
      "application/vnd.plotly.v1+json": {
       "config": {
        "plotlyServerURL": "https://plot.ly"
       },
       "data": [
        {
         "hovertemplate": "Edad: %{x}<br>Frecuencia: %{y}<br>Enfermedad Mental: %{hovertext}<extra></extra>",
         "hovertext": [
          "Trastorno de Ansiedad (Genralizado, Social, Fobia, etc.)",
          "Trastorno de Ansiedad (Genralizado, Social, Fobia, etc.)",
          "Trastorno de Ansiedad (Genralizado, Social, Fobia, etc.)",
          "Trastorno de Ansiedad (Genralizado, Social, Fobia, etc.)",
          "Trastorno de Ansiedad (Genralizado, Social, Fobia, etc.)",
          "Trastorno de Ansiedad (Genralizado, Social, Fobia, etc.)",
          "Trastorno de Ansiedad (Genralizado, Social, Fobia, etc.)"
         ],
         "marker": {
          "color": [
           4,
           5,
           14,
           28,
           37,
           65,
           75
          ],
          "colorscale": [
           [
            0,
            "rgba(0, 0, 64, 0.5)"
           ],
           [
            1,
            "rgba(0, 0, 128, 0.5)"
           ]
          ],
          "showscale": false
         },
         "type": "bar",
         "x": [
          "57-66",
          "51-56",
          "45-50",
          "39-44",
          "19-25",
          "33-38",
          "26-32"
         ],
         "y": [
          4,
          5,
          14,
          28,
          37,
          65,
          75
         ]
        }
       ],
       "layout": {
        "template": {
         "data": {
          "candlestick": [
           {
            "decreasing": {
             "line": {
              "color": "#000033"
             }
            },
            "increasing": {
             "line": {
              "color": "#000032"
             }
            },
            "type": "candlestick"
           }
          ],
          "contour": [
           {
            "colorscale": [
             [
              0,
              "#000011"
             ],
             [
              0.1111111111111111,
              "#000012"
             ],
             [
              0.2222222222222222,
              "#000013"
             ],
             [
              0.3333333333333333,
              "#000014"
             ],
             [
              0.4444444444444444,
              "#000015"
             ],
             [
              0.5555555555555556,
              "#000016"
             ],
             [
              0.6666666666666666,
              "#000017"
             ],
             [
              0.7777777777777778,
              "#000018"
             ],
             [
              0.8888888888888888,
              "#000019"
             ],
             [
              1,
              "#000020"
             ]
            ],
            "type": "contour"
           }
          ],
          "contourcarpet": [
           {
            "colorscale": [
             [
              0,
              "#000011"
             ],
             [
              0.1111111111111111,
              "#000012"
             ],
             [
              0.2222222222222222,
              "#000013"
             ],
             [
              0.3333333333333333,
              "#000014"
             ],
             [
              0.4444444444444444,
              "#000015"
             ],
             [
              0.5555555555555556,
              "#000016"
             ],
             [
              0.6666666666666666,
              "#000017"
             ],
             [
              0.7777777777777778,
              "#000018"
             ],
             [
              0.8888888888888888,
              "#000019"
             ],
             [
              1,
              "#000020"
             ]
            ],
            "type": "contourcarpet"
           }
          ],
          "heatmap": [
           {
            "colorscale": [
             [
              0,
              "#000011"
             ],
             [
              0.1111111111111111,
              "#000012"
             ],
             [
              0.2222222222222222,
              "#000013"
             ],
             [
              0.3333333333333333,
              "#000014"
             ],
             [
              0.4444444444444444,
              "#000015"
             ],
             [
              0.5555555555555556,
              "#000016"
             ],
             [
              0.6666666666666666,
              "#000017"
             ],
             [
              0.7777777777777778,
              "#000018"
             ],
             [
              0.8888888888888888,
              "#000019"
             ],
             [
              1,
              "#000020"
             ]
            ],
            "type": "heatmap"
           }
          ],
          "histogram2d": [
           {
            "colorscale": [
             [
              0,
              "#000011"
             ],
             [
              0.1111111111111111,
              "#000012"
             ],
             [
              0.2222222222222222,
              "#000013"
             ],
             [
              0.3333333333333333,
              "#000014"
             ],
             [
              0.4444444444444444,
              "#000015"
             ],
             [
              0.5555555555555556,
              "#000016"
             ],
             [
              0.6666666666666666,
              "#000017"
             ],
             [
              0.7777777777777778,
              "#000018"
             ],
             [
              0.8888888888888888,
              "#000019"
             ],
             [
              1,
              "#000020"
             ]
            ],
            "type": "histogram2d"
           }
          ],
          "icicle": [
           {
            "textfont": {
             "color": "white"
            },
            "type": "icicle"
           }
          ],
          "sankey": [
           {
            "textfont": {
             "color": "#000036"
            },
            "type": "sankey"
           }
          ],
          "scatter": [
           {
            "marker": {
             "line": {
              "width": 0
             }
            },
            "type": "scatter"
           }
          ],
          "table": [
           {
            "cells": {
             "fill": {
              "color": "#000038"
             },
             "font": {
              "color": "#000037"
             },
             "line": {
              "color": "#000039"
             }
            },
            "header": {
             "fill": {
              "color": "#000040"
             },
             "font": {
              "color": "#000036"
             },
             "line": {
              "color": "#000039"
             }
            },
            "type": "table"
           }
          ],
          "waterfall": [
           {
            "connector": {
             "line": {
              "color": "#000036",
              "width": 2
             }
            },
            "decreasing": {
             "marker": {
              "color": "#000033"
             }
            },
            "increasing": {
             "marker": {
              "color": "#000032"
             }
            },
            "totals": {
             "marker": {
              "color": "#000034"
             }
            },
            "type": "waterfall"
           }
          ]
         },
         "layout": {
          "coloraxis": {
           "colorscale": [
            [
             0,
             "#000011"
            ],
            [
             0.1111111111111111,
             "#000012"
            ],
            [
             0.2222222222222222,
             "#000013"
            ],
            [
             0.3333333333333333,
             "#000014"
            ],
            [
             0.4444444444444444,
             "#000015"
            ],
            [
             0.5555555555555556,
             "#000016"
            ],
            [
             0.6666666666666666,
             "#000017"
            ],
            [
             0.7777777777777778,
             "#000018"
            ],
            [
             0.8888888888888888,
             "#000019"
            ],
            [
             1,
             "#000020"
            ]
           ]
          },
          "colorscale": {
           "diverging": [
            [
             0,
             "#000021"
            ],
            [
             0.1,
             "#000022"
            ],
            [
             0.2,
             "#000023"
            ],
            [
             0.3,
             "#000024"
            ],
            [
             0.4,
             "#000025"
            ],
            [
             0.5,
             "#000026"
            ],
            [
             0.6,
             "#000027"
            ],
            [
             0.7,
             "#000028"
            ],
            [
             0.8,
             "#000029"
            ],
            [
             0.9,
             "#000030"
            ],
            [
             1,
             "#000031"
            ]
           ],
           "sequential": [
            [
             0,
             "#000011"
            ],
            [
             0.1111111111111111,
             "#000012"
            ],
            [
             0.2222222222222222,
             "#000013"
            ],
            [
             0.3333333333333333,
             "#000014"
            ],
            [
             0.4444444444444444,
             "#000015"
            ],
            [
             0.5555555555555556,
             "#000016"
            ],
            [
             0.6666666666666666,
             "#000017"
            ],
            [
             0.7777777777777778,
             "#000018"
            ],
            [
             0.8888888888888888,
             "#000019"
            ],
            [
             1,
             "#000020"
            ]
           ],
           "sequentialminus": [
            [
             0,
             "#000011"
            ],
            [
             0.1111111111111111,
             "#000012"
            ],
            [
             0.2222222222222222,
             "#000013"
            ],
            [
             0.3333333333333333,
             "#000014"
            ],
            [
             0.4444444444444444,
             "#000015"
            ],
            [
             0.5555555555555556,
             "#000016"
            ],
            [
             0.6666666666666666,
             "#000017"
            ],
            [
             0.7777777777777778,
             "#000018"
            ],
            [
             0.8888888888888888,
             "#000019"
            ],
            [
             1,
             "#000020"
            ]
           ]
          },
          "colorway": [
           "#000001",
           "#000002",
           "#000003",
           "#000004",
           "#000005",
           "#000006",
           "#000007",
           "#000008",
           "#000009",
           "#000010"
          ]
         }
        },
        "title": {
         "text": "<b>Distribución de la Edad</b><br>Enfermedad Mental"
        },
        "xaxis": {
         "title": {
          "text": "Edad"
         }
        },
        "yaxis": {
         "title": {
          "text": "Frecuencia"
         }
        }
       }
      }
     },
     "metadata": {},
     "output_type": "display_data"
    }
   ],
   "source": [
    "# Parte 2, Pregunta 2\n",
    "\n",
    "#Dado los rangos de edad ¿Cual es la enfermedad mental más frecuente en cada uno? solo 201\n",
    "df_20162=df_2016\n",
    "# Convertir la columna Edad a tipo numérico, convirtiendo valores no numéricos a NaN\n",
    "df_20162['Edad'] = pd.to_numeric(df_20162['Edad'], errors='coerce')\n",
    "\n",
    "# Eliminar filas con valores NaN en la columna Edad\n",
    "df_20162 = df_20162.dropna(subset=['Edad'])\n",
    "\n",
    "# Convertir la columna Edad a tipo entero\n",
    "df_20162['Edad'] = df_20162['Edad'].astype(int)\n",
    "\n",
    "# Convertir la columna Enfermedades Mentales Diagnosticadas a tipo string\n",
    "df_20162['Enfermedades Mentales Diagnosticadas'] = df_20162['Enfermedades Mentales Diagnosticadas'].astype(str)\n",
    "\n",
    "# Crear una columna Edad_binned con los rangos de edad\n",
    "df_20162['Edad'] = pd.cut(df_20162['Edad'], bins=[18, 25, 32, 38, 44, 50, 56, 66], \n",
    "                                 labels=['19-25', '26-32', '33-38', '39-44', '45-50', '51-56', '57-66'],\n",
    "                                 include_lowest=True)\n",
    "\n",
    "# Eliminar filas con \"No respondio\" en la columna Enfermedades Mentales Diagnosticadas\n",
    "df_20162 = df_20162[~df_20162['Enfermedades Mentales Diagnosticadas'].isin(['No respondió'])]\n",
    "\n",
    "# Agrupar por Edad y Enfermedades Mentales Diagnosticadas, y contar la frecuencia\n",
    "pregunta2_2 = df_20162.groupby(['Edad', 'Enfermedades Mentales Diagnosticadas']).size().reset_index(name='Cantidad de personas')\n",
    "\n",
    "# Seleccionar la enfermedad mental más frecuente para cada rango de edad\n",
    "pregunta2_2 = pregunta2_2.loc[pregunta2_2.groupby('Edad')['Cantidad de personas'].idxmax()]\n",
    "\n",
    "# Reordenar las columnas\n",
    "pregunta2_2 = pregunta2_2[['Enfermedades Mentales Diagnosticadas', 'Edad', 'Cantidad de personas']]\n",
    "\n",
    "# Mostrar la tabla con la enfermedad mental más frecuente para cada rango de edad\n",
    "print(pregunta2_2)\n",
    "\n",
    "import plotly.graph_objects as go\n",
    "\n",
    "# Sort the data by 'Cantidad de personas' in ascending order\n",
    "pregunta2_2_sorted = pregunta2_2.sort_values(by='Cantidad de personas')\n",
    "\n",
    "# Convert the data to a bar chart\n",
    "fig = go.Figure(data=[go.Bar(x=pregunta2_2_sorted['Edad'], \n",
    "                             y=pregunta2_2_sorted['Cantidad de personas'],\n",
    "                             hovertext=pregunta2_2_sorted['Enfermedades Mentales Diagnosticadas'],\n",
    "                             hovertemplate='Edad: %{x}<br>Frecuencia: %{y}<br>Enfermedad Mental: %{hovertext}<extra></extra>',\n",
    "                             marker=dict(color=pregunta2_2_sorted['Cantidad de personas'],\n",
    "                                          colorscale=[[0, 'rgba(0, 0, 64, 0.5)'],\n",
    "                                                      [1, 'rgba(0, 0, 128, 0.5)']],\n",
    "                                          showscale=False)\n",
    "                             )])\n",
    "\n",
    "# Customize the plot\n",
    "fig.update_layout(title='<b>Distribución de la Edad</b><br>Enfermedad Mental',\n",
    "                  xaxis_title='Edad',\n",
    "                  yaxis_title='Frecuencia')\n",
    "\n",
    "# Show the plot\n",
    "fig.show()\n",
    "#En el siguiente gráfico se muestran los rangos de edad de los empleados de la industria tecnológica y qué enfermedad mental tienden a padecer, dando como resultado el Trastorno de Ansiedad (Generalizado, Social, Fobia, etc). El rango de edad más padeciente en esta industria está entre los 26 y 32 años."
   ]
  },
  {
   "cell_type": "code",
   "execution_count": 212,
   "metadata": {},
   "outputs": [
    {
     "name": "stdout",
     "output_type": "stream",
     "text": [
      "Género                                              Femenino  Masculino  Otro\n",
      "Enfermedades Mentales Diagnosticadas                                         \n",
      "Trastorno Obsesivo-Compulsivo                            0.0        3.0   0.0\n",
      "Trastorno de Ansiedad (Genralizado, Social, Fob...      90.0      130.0   7.0\n",
      "Trastorno de Estrés Post-Traumático                      1.0        6.0   0.0\n",
      "Trastorno del Estado del Ánimo (Depresión, Tras...      45.0       66.0   5.0\n",
      "Trastorno por Déficit de Atención e Hiperactividad       2.0       16.0   1.0\n"
     ]
    },
    {
     "data": {
      "application/vnd.plotly.v1+json": {
       "config": {
        "plotlyServerURL": "https://plot.ly"
       },
       "data": [
        {
         "marker": {
          "color": "#938DBB"
         },
         "name": "Femenino",
         "opacity": 0.75,
         "type": "bar",
         "x": [
          "Trastorno Obsesivo-Compulsivo",
          "Trastorno de Ansiedad (Genralizado, Social, Fobia, etc.)",
          "Trastorno de Estrés Post-Traumático",
          "Trastorno del Estado del Ánimo (Depresión, Trastorno Bipolar, etc.)",
          "Trastorno por Déficit de Atención e Hiperactividad"
         ],
         "y": [
          0,
          90,
          1,
          45,
          2
         ]
        },
        {
         "marker": {
          "color": "#7A3586"
         },
         "name": "Masculino",
         "opacity": 0.75,
         "type": "bar",
         "x": [
          "Trastorno Obsesivo-Compulsivo",
          "Trastorno de Ansiedad (Genralizado, Social, Fobia, etc.)",
          "Trastorno de Estrés Post-Traumático",
          "Trastorno del Estado del Ánimo (Depresión, Trastorno Bipolar, etc.)",
          "Trastorno por Déficit de Atención e Hiperactividad"
         ],
         "y": [
          3,
          130,
          6,
          66,
          16
         ]
        },
        {
         "marker": {
          "color": "#410E48"
         },
         "name": "Otro",
         "opacity": 0.75,
         "type": "bar",
         "x": [
          "Trastorno Obsesivo-Compulsivo",
          "Trastorno de Ansiedad (Genralizado, Social, Fobia, etc.)",
          "Trastorno de Estrés Post-Traumático",
          "Trastorno del Estado del Ánimo (Depresión, Trastorno Bipolar, etc.)",
          "Trastorno por Déficit de Atención e Hiperactividad"
         ],
         "y": [
          0,
          7,
          0,
          5,
          1
         ]
        }
       ],
       "layout": {
        "bargap": 0.2,
        "bargroupgap": 0.1,
        "height": 600,
        "legend": {
         "font": {
          "size": 18
         }
        },
        "template": {
         "data": {
          "candlestick": [
           {
            "decreasing": {
             "line": {
              "color": "#000033"
             }
            },
            "increasing": {
             "line": {
              "color": "#000032"
             }
            },
            "type": "candlestick"
           }
          ],
          "contour": [
           {
            "colorscale": [
             [
              0,
              "#000011"
             ],
             [
              0.1111111111111111,
              "#000012"
             ],
             [
              0.2222222222222222,
              "#000013"
             ],
             [
              0.3333333333333333,
              "#000014"
             ],
             [
              0.4444444444444444,
              "#000015"
             ],
             [
              0.5555555555555556,
              "#000016"
             ],
             [
              0.6666666666666666,
              "#000017"
             ],
             [
              0.7777777777777778,
              "#000018"
             ],
             [
              0.8888888888888888,
              "#000019"
             ],
             [
              1,
              "#000020"
             ]
            ],
            "type": "contour"
           }
          ],
          "contourcarpet": [
           {
            "colorscale": [
             [
              0,
              "#000011"
             ],
             [
              0.1111111111111111,
              "#000012"
             ],
             [
              0.2222222222222222,
              "#000013"
             ],
             [
              0.3333333333333333,
              "#000014"
             ],
             [
              0.4444444444444444,
              "#000015"
             ],
             [
              0.5555555555555556,
              "#000016"
             ],
             [
              0.6666666666666666,
              "#000017"
             ],
             [
              0.7777777777777778,
              "#000018"
             ],
             [
              0.8888888888888888,
              "#000019"
             ],
             [
              1,
              "#000020"
             ]
            ],
            "type": "contourcarpet"
           }
          ],
          "heatmap": [
           {
            "colorscale": [
             [
              0,
              "#000011"
             ],
             [
              0.1111111111111111,
              "#000012"
             ],
             [
              0.2222222222222222,
              "#000013"
             ],
             [
              0.3333333333333333,
              "#000014"
             ],
             [
              0.4444444444444444,
              "#000015"
             ],
             [
              0.5555555555555556,
              "#000016"
             ],
             [
              0.6666666666666666,
              "#000017"
             ],
             [
              0.7777777777777778,
              "#000018"
             ],
             [
              0.8888888888888888,
              "#000019"
             ],
             [
              1,
              "#000020"
             ]
            ],
            "type": "heatmap"
           }
          ],
          "histogram2d": [
           {
            "colorscale": [
             [
              0,
              "#000011"
             ],
             [
              0.1111111111111111,
              "#000012"
             ],
             [
              0.2222222222222222,
              "#000013"
             ],
             [
              0.3333333333333333,
              "#000014"
             ],
             [
              0.4444444444444444,
              "#000015"
             ],
             [
              0.5555555555555556,
              "#000016"
             ],
             [
              0.6666666666666666,
              "#000017"
             ],
             [
              0.7777777777777778,
              "#000018"
             ],
             [
              0.8888888888888888,
              "#000019"
             ],
             [
              1,
              "#000020"
             ]
            ],
            "type": "histogram2d"
           }
          ],
          "icicle": [
           {
            "textfont": {
             "color": "white"
            },
            "type": "icicle"
           }
          ],
          "sankey": [
           {
            "textfont": {
             "color": "#000036"
            },
            "type": "sankey"
           }
          ],
          "scatter": [
           {
            "marker": {
             "line": {
              "width": 0
             }
            },
            "type": "scatter"
           }
          ],
          "table": [
           {
            "cells": {
             "fill": {
              "color": "#000038"
             },
             "font": {
              "color": "#000037"
             },
             "line": {
              "color": "#000039"
             }
            },
            "header": {
             "fill": {
              "color": "#000040"
             },
             "font": {
              "color": "#000036"
             },
             "line": {
              "color": "#000039"
             }
            },
            "type": "table"
           }
          ],
          "waterfall": [
           {
            "connector": {
             "line": {
              "color": "#000036",
              "width": 2
             }
            },
            "decreasing": {
             "marker": {
              "color": "#000033"
             }
            },
            "increasing": {
             "marker": {
              "color": "#000032"
             }
            },
            "totals": {
             "marker": {
              "color": "#000034"
             }
            },
            "type": "waterfall"
           }
          ]
         },
         "layout": {
          "coloraxis": {
           "colorscale": [
            [
             0,
             "#000011"
            ],
            [
             0.1111111111111111,
             "#000012"
            ],
            [
             0.2222222222222222,
             "#000013"
            ],
            [
             0.3333333333333333,
             "#000014"
            ],
            [
             0.4444444444444444,
             "#000015"
            ],
            [
             0.5555555555555556,
             "#000016"
            ],
            [
             0.6666666666666666,
             "#000017"
            ],
            [
             0.7777777777777778,
             "#000018"
            ],
            [
             0.8888888888888888,
             "#000019"
            ],
            [
             1,
             "#000020"
            ]
           ]
          },
          "colorscale": {
           "diverging": [
            [
             0,
             "#000021"
            ],
            [
             0.1,
             "#000022"
            ],
            [
             0.2,
             "#000023"
            ],
            [
             0.3,
             "#000024"
            ],
            [
             0.4,
             "#000025"
            ],
            [
             0.5,
             "#000026"
            ],
            [
             0.6,
             "#000027"
            ],
            [
             0.7,
             "#000028"
            ],
            [
             0.8,
             "#000029"
            ],
            [
             0.9,
             "#000030"
            ],
            [
             1,
             "#000031"
            ]
           ],
           "sequential": [
            [
             0,
             "#000011"
            ],
            [
             0.1111111111111111,
             "#000012"
            ],
            [
             0.2222222222222222,
             "#000013"
            ],
            [
             0.3333333333333333,
             "#000014"
            ],
            [
             0.4444444444444444,
             "#000015"
            ],
            [
             0.5555555555555556,
             "#000016"
            ],
            [
             0.6666666666666666,
             "#000017"
            ],
            [
             0.7777777777777778,
             "#000018"
            ],
            [
             0.8888888888888888,
             "#000019"
            ],
            [
             1,
             "#000020"
            ]
           ],
           "sequentialminus": [
            [
             0,
             "#000011"
            ],
            [
             0.1111111111111111,
             "#000012"
            ],
            [
             0.2222222222222222,
             "#000013"
            ],
            [
             0.3333333333333333,
             "#000014"
            ],
            [
             0.4444444444444444,
             "#000015"
            ],
            [
             0.5555555555555556,
             "#000016"
            ],
            [
             0.6666666666666666,
             "#000017"
            ],
            [
             0.7777777777777778,
             "#000018"
            ],
            [
             0.8888888888888888,
             "#000019"
            ],
            [
             1,
             "#000020"
            ]
           ]
          },
          "colorway": [
           "#000001",
           "#000002",
           "#000003",
           "#000004",
           "#000005",
           "#000006",
           "#000007",
           "#000008",
           "#000009",
           "#000010"
          ]
         }
        },
        "title": {
         "text": "Top 5 Enfermedades Mentales por Género"
        },
        "width": 800,
        "xaxis": {
         "showticklabels": false,
         "title": {
          "text": "Enfermedades Mentales"
         }
        },
        "yaxis": {
         "title": {
          "text": "Cantidad de personas"
         }
        }
       }
      }
     },
     "metadata": {},
     "output_type": "display_data"
    }
   ],
   "source": [
    "# Parte 3, pregunta 2\n",
    "#Dado el genero ¿Cual es la enfermedad mental mas frecuente?\n",
    "Pregunta2_3 = df_2016.groupby(['Enfermedades Mentales Diagnosticadas', 'Género']).size().reset_index(name='Cantidad de personas')\n",
    "\n",
    "Pregunta2_3 = Pregunta2_3[Pregunta2_3['Género']!= 'No respondió']  # Eliminar \"No respondió\" de la columna \"Género\"\n",
    "\n",
    "top_5_enfermedades = Pregunta2_3.groupby('Enfermedades Mentales Diagnosticadas')['Cantidad de personas'].sum().nlargest(6).index\n",
    "\n",
    "Pregunta2_3 = Pregunta2_3[Pregunta2_3['Enfermedades Mentales Diagnosticadas'].isin(top_5_enfermedades)]\n",
    "\n",
    "Pregunta2_3 = Pregunta2_3[Pregunta2_3['Enfermedades Mentales Diagnosticadas']!= 'No respondió']\n",
    "\n",
    "Pregunta2_3 = Pregunta2_3.pivot_table(index='Enfermedades Mentales Diagnosticadas', columns='Género', values='Cantidad de personas', fill_value=0)\n",
    "\n",
    "\n",
    "print(Pregunta2_3)\n",
    "\n",
    "import plotly.graph_objects as go\n",
    "\n",
    "\n",
    "fig = go.Figure()\n",
    "fig.add_trace(go.Bar(\n",
    "    x=Pregunta2_3.index,  \n",
    "    y=Pregunta2_3['Femenino'],  \n",
    "    name='Femenino',\n",
    "    marker_color='#938DBB',\n",
    "    opacity=0.75\n",
    "))\n",
    "fig.add_trace(go.Bar(\n",
    "    x=Pregunta2_3.index,  \n",
    "    y=Pregunta2_3['Masculino'],\n",
    "    name='Masculino',\n",
    "    marker_color= '#7A3586',\n",
    "    opacity=0.75\n",
    "))\n",
    "fig.add_trace(go.Bar(\n",
    "    x=Pregunta2_3.index,  \n",
    "    y=Pregunta2_3['Otro'],  \n",
    "    name='Otro',\n",
    "    marker_color='#410E48',\n",
    "    opacity=0.75\n",
    "))\n",
    "\n",
    "fig.update_layout(\n",
    "    title_text='Top 5 Enfermedades Mentales por Género', \n",
    "    xaxis_title_text='Enfermedades Mentales',  \n",
    "    yaxis_title_text='Cantidad de personas', \n",
    "    bargap=0.2,  \n",
    "    bargroupgap=0.1,  \n",
    "    xaxis=dict(\n",
    "        showticklabels=False  \n",
    "    ),\n",
    "    legend=dict(\n",
    "        font=dict(\n",
    "            size=18  \n",
    "        )\n",
    "    ),\n",
    "    width=800,  \n",
    "    height=600  \n",
    ")\n",
    "fig.show()\n",
    "#A continuación se muestran las 5 enfermedades mentales más comúnes según es el género predominante en la industria, dando como resultado que la mayoria de las personas que padecen el Trastorno de Ansiedad (Generalizado, Social, Fobia, etc) son hombres."
   ]
  }
 ],
 "metadata": {
  "kernelspec": {
   "display_name": "Python 3",
   "language": "python",
   "name": "python3"
  },
  "language_info": {
   "codemirror_mode": {
    "name": "ipython",
    "version": 3
   },
   "file_extension": ".py",
   "mimetype": "text/x-python",
   "name": "python",
   "nbconvert_exporter": "python",
   "pygments_lexer": "ipython3",
   "version": "3.12.4"
  }
 },
 "nbformat": 4,
 "nbformat_minor": 2
}
