{
 "cells": [
  {
   "cell_type": "code",
   "execution_count": 1,
   "metadata": {},
   "outputs": [],
   "source": [
    "import pandas as pd\n",
    "import numpy  as np\n",
    "import sqlite3\n",
    "import seaborn as sns\n",
    "import matplotlib.pyplot as plt\n",
    "#import plotly.graph_objects as go\n",
    "import streamlit as st\n",
    "import requests\n",
    "from io import StringIO\n",
    "import os\n",
    "from pywaffle import Waffle\n",
    "\n",
    "# Conectar a la base de datos SQLite\n",
    "conn = sqlite3.connect(r\"C:\\Users\\Alvarez\\Documents\\GitHub\\SALUD MENTAL EN LA INDUSTRIA TECNOLÓGICA 1.sqlite\")\n",
    "\n",
    "cur = conn.cursor()"
   ]
  },
  {
   "cell_type": "code",
   "execution_count": 2,
   "metadata": {},
   "outputs": [
    {
     "name": "stdout",
     "output_type": "stream",
     "text": [
      "Entidades en la base de datos:\n"
     ]
    },
    {
     "data": {
      "text/html": [
       "<div>\n",
       "<style scoped>\n",
       "    .dataframe tbody tr th:only-of-type {\n",
       "        vertical-align: middle;\n",
       "    }\n",
       "\n",
       "    .dataframe tbody tr th {\n",
       "        vertical-align: top;\n",
       "    }\n",
       "\n",
       "    .dataframe thead th {\n",
       "        text-align: right;\n",
       "    }\n",
       "</style>\n",
       "<table border=\"1\" class=\"dataframe\">\n",
       "  <thead>\n",
       "    <tr style=\"text-align: right;\">\n",
       "      <th></th>\n",
       "      <th>name</th>\n",
       "    </tr>\n",
       "  </thead>\n",
       "  <tbody>\n",
       "    <tr>\n",
       "      <th>0</th>\n",
       "      <td>Answer</td>\n",
       "    </tr>\n",
       "    <tr>\n",
       "      <th>1</th>\n",
       "      <td>Question</td>\n",
       "    </tr>\n",
       "    <tr>\n",
       "      <th>2</th>\n",
       "      <td>Respuestas</td>\n",
       "    </tr>\n",
       "    <tr>\n",
       "      <th>3</th>\n",
       "      <td>Survey</td>\n",
       "    </tr>\n",
       "  </tbody>\n",
       "</table>\n",
       "</div>"
      ],
      "text/plain": [
       "         name\n",
       "0      Answer\n",
       "1    Question\n",
       "2  Respuestas\n",
       "3      Survey"
      ]
     },
     "execution_count": 2,
     "metadata": {},
     "output_type": "execute_result"
    }
   ],
   "source": [
    "# Consultar las tablas en la base de datos\n",
    "consulta_ntablas = \"SELECT name FROM sqlite_master WHERE type='table' ORDER BY name;\"\n",
    "\n",
    "\n",
    "# Mostrar las entidades\n",
    "print(\"Entidades en la base de datos:\")\n",
    "entidades = pd.read_sql_query(sql = consulta_ntablas, con = conn)\n",
    "entidades"
   ]
  },
  {
   "cell_type": "code",
   "execution_count": 3,
   "metadata": {},
   "outputs": [],
   "source": [
    "# Crear consulta para convertir en DF\n",
    "consulta = \"SELECT * FROM Respuestas;\"\n",
    "\n",
    "df_Respuestas = pd.read_sql_query(sql = consulta, con = conn)\n",
    "\n",
    "conn.close()"
   ]
  },
  {
   "cell_type": "code",
   "execution_count": 4,
   "metadata": {},
   "outputs": [],
   "source": [
    "# Filtrado del DF por desde 2016-2019 y Estados Unidos como país para realizar la Investigación\n",
    "User_ID = df_Respuestas[(df_Respuestas['QuestionID'] == 3) & (df_Respuestas['AnswerText'] == 'Estados Unidos')]['UserID'].unique()\n",
    "\n",
    "df_Investigacion1 = df_Respuestas[(df_Respuestas['UserID'].isin(User_ID)) & (df_Respuestas['SurveyID'] == 2016)]\n",
    "\n",
    "df_Investigacion2 = df_Respuestas[(df_Respuestas['UserID'].isin(User_ID)) & (df_Respuestas['SurveyID'] == 2017)]\n",
    "\n",
    "df_Investigacion3 = df_Respuestas[(df_Respuestas['UserID'].isin(User_ID)) & (df_Respuestas['SurveyID'] == 2018)]\n",
    "\n",
    "df_Investigacion4 = df_Respuestas[(df_Respuestas['UserID'].isin(User_ID)) & (df_Respuestas['SurveyID'] == 2019)]"
   ]
  },
  {
   "cell_type": "code",
   "execution_count": 5,
   "metadata": {},
   "outputs": [],
   "source": [
    "# Reestructuración del DF para mejor uso de Pandas\n",
    "df_Investigacion1 = df_Investigacion1.groupby(['UserID', 'QuestionID'])['AnswerText'].first().reset_index()\n",
    "\n",
    "df_Investigacion2 = df_Investigacion2.groupby(['UserID', 'QuestionID'])['AnswerText'].first().reset_index()\n",
    "\n",
    "df_Investigacion3 = df_Investigacion3.groupby(['UserID', 'QuestionID'])['AnswerText'].first().reset_index()\n",
    "\n",
    "df_Investigacion4 = df_Investigacion4.groupby(['UserID', 'QuestionID'])['AnswerText'].first().reset_index()\n",
    "\n",
    "df_Investigacion1 = df_Investigacion1.pivot_table(index='UserID', columns='QuestionID', values='AnswerText', aggfunc='first')\n",
    "\n",
    "df_Investigacion2 = df_Investigacion2.pivot_table(index='UserID', columns='QuestionID', values='AnswerText', aggfunc='first')\n",
    "\n",
    "df_Investigacion3 = df_Investigacion3.pivot_table(index='UserID', columns='QuestionID', values='AnswerText', aggfunc='first')\n",
    "\n",
    "df_Investigacion4 = df_Investigacion4.pivot_table(index='UserID', columns='QuestionID', values='AnswerText', aggfunc='first')"
   ]
  },
  {
   "cell_type": "code",
   "execution_count": 6,
   "metadata": {},
   "outputs": [
    {
     "name": "stdout",
     "output_type": "stream",
     "text": [
      "Index([  1,   2,   3,   4,   5,   6,   7,   8,  10,  12,  14,  16,  17,  18,\n",
      "        19,  20,  23,  24,  27,  28,  30,  31,  33,  34,  48,  49,  53,  54,\n",
      "        55,  56, 114, 115, 116, 117, 118],\n",
      "      dtype='int64', name='QuestionID')\n"
     ]
    }
   ],
   "source": [
    "# Renombrar las variables 2016\n",
    "print(df_Investigacion1.columns)\n",
    "\n",
    "df_Investigacion1.columns = ['Edad', 'Género', 'País de Residencia', 'Ciudad de Residencia (EEUU)', 'Trabajo Autónomo', 'Antecedentes Heredofamiliares', 'Búsqueda de Tratamiento con un Profesional', 'Cantidad de Empleados en la Empresa', 'Beneficios Dentro de Seguro Médico', 'Problemas de Salud Mental en Entrevista Laboral', 'Conocimiento de las Opciones de Cobertura por la Empresa Actual', 'Recursos de la Empresa Para Conocer sobre la Salud Mental y Canales de Ayuda', 'Facilidad de Consulta de Baja Médica en el Trabajo', 'Comodidad para Hablar de una Enfermedad Mental con Compañeros de Trabajo', 'Comodidad para Hablar de una Enfermedad Mental con un Director/Supervisor', 'Cobertura de Salud Mental en Seguro Médico', 'Beneficios de Salud Mental de Empleos Anteriores', 'Conocimiento de las Opciones de Ayuda por el Empleo Anterior', 'Protección de Anonimato Si Se Toma Ventaja de los Recursos de Tratamiento en Empleos Anteriores', 'Disposición de Hablar de Salud Mental con un Supervisor', 'Disposición para Hablar Sobre Enfermedad Mental con Familia/Amigos', 'Seguridad de Revelar Enfermedad Mental Debido a Comentario Sobre Salud Mental de Otra Persona', 'Situación Mental Actual', '¿Alguna Vez Has Sido Diagnosticado con una Enfermedad Mental?', 'Nivel de Interferencia en el Trabajo Cuando Se Está Bajo Tratamiento', 'Nivel de Interferencia en el Trabajo Cuando No Se Está Bajo Tratamiento', 'Disposición a Revelar Enfermedad Mental a Empleados/Compañeros', 'Productividad Afectada Por Enfermedad Mental', 'Porcentaje de Tiempo Afectada Por Enfermedad Mental', '¿Has Observado o Experimentado una Respuesta Insolidaria o Mal Gestionada a un Problema de Salud Mental en tu Lugar de Trabajo Actual o Anterior?', '¿Cree que los Miembros de su Equipo/Compañeros de Trabajo le Verían de Forma más Negativa Si Supieran que Padece una Enfermedad Mental?', 'Enfermedades Mentales Diagnosticadas', 'Enfermedades Mentales No Diagnosticadas', 'Puesto de Trabajo', 'Trabajo Remoto']\n",
    "\n",
    "# Reemplazar los NaN\n",
    "df_Investigacion1 = df_Investigacion1.fillna('No respondió')"
   ]
  },
  {
   "cell_type": "code",
   "execution_count": 7,
   "metadata": {},
   "outputs": [
    {
     "name": "stdout",
     "output_type": "stream",
     "text": [
      "Index([ 1,  2,  3,  4,  5,  6,  7,  8, 10, 12, 14, 16, 17, 18, 19, 20, 23, 24,\n",
      "       27, 28, 30, 31, 33, 34, 48, 49, 53, 54, 55, 56, 65, 67, 78, 79, 81, 83,\n",
      "       85, 89],\n",
      "      dtype='int64', name='QuestionID')\n"
     ]
    }
   ],
   "source": [
    "# Renombrar las variables 2017\n",
    "print(df_Investigacion2.columns)\n",
    "\n",
    "df_Investigacion2.columns = ['Edad', 'Género', 'País de Residencia', 'Ciudad de Residencia (EEUU)', 'Trabajo Autónomo', 'Antecedentes Heredofamiliares', 'Búsqueda de Tratamiento con un Profesional', 'Cantidad de Empleados en la Empresa', 'Beneficios Dentro de Seguro Médico', 'Problemas de Salud Mental en Entrevista Laboral', 'Conocimiento de las Opciones de Cobertura por la Empresa Actual', 'Recursos de la Empresa Para Conocer sobre la Salud Mental y Canales de Ayuda', 'Facilidad de Consulta de Baja Médica en el Trabajo', 'Comodidad para Hablar de una Enfermedad Mental con Compañeros de Trabajo', 'Comodidad para Hablar de una Enfermedad Mental con un Director/Supervisor', 'Cobertura de Salud Mental en Seguro Médico', 'Beneficios de Salud Mental de Empleos Anteriores', 'Conocimiento de las Opciones de Ayuda por el Empleo Anterior', 'Protección de Anonimato Si Se Toma Ventaja de los Recursos de Tratamiento en Empleos Anteriores', 'Disposición de Hablar de Salud Mental con un Supervisor', 'Disposición para Hablar Sobre Enfermedad Mental con Familia/Amigos', 'Seguridad de Revelar Enfermedad Mental Debido a Comentario Sobre Salud Mental de Otra Persona', 'Situación Mental Actual', '¿Alguna Vez Has Sido Diagnosticado con una Enfermedad Mental?', 'Nivel de Interferencia en el Trabajo Cuando Se Está Bajo Tratamiento', 'Nivel de Interferencia en el Trabajo Cuando No Se Está Bajo Tratamiento', 'Disposición a Revelar Enfermedad Mental a Empleados/Compañeros', 'Productividad Afectada Por Enfermedad Mental', 'Porcentaje de Tiempo Afectada Por Enfermedad Mental', '¿Has Observado o Experimentado una Respuesta Insolidaria o Mal Gestionada a un Problema de Salud Mental en tu Lugar de Trabajo Actual o Anterior?', 'Importancia a la Salud Mental (Empresa)', '¿Cómo Afectó la Relación con Alguien de tu Trabajo el Haberle Contado sobre tu Enfermedad Mental?', '¿Te Identificas Abiertamente en el Trabajo como una Persona con una Enfermedad Mental?', '¿Tu Carrera Se Ha Visto Afectada por Tener una Enfermedad Mental?', 'Si Supieran Que Padeces un Trastorno Mental, ¿Cómo Crees Que Reaccionarían los Miembros de tu Equipo/Compañeros de Trabajo?', '¿Has Observado o Experimentado una Respuesta Positiva De Compañeros/Jefes al Saber que Tienes una Enfermedad Mental?', '¿En qué Medida Cree que el Sector Tecnológico Apoya a los Empleados con Enfermedades Mentales?', 'Raza']\n",
    "\n",
    "# Reemplazar los NaN\n",
    "df_Investigacion2 = df_Investigacion2.fillna('No respondió')"
   ]
  },
  {
   "cell_type": "code",
   "execution_count": 8,
   "metadata": {},
   "outputs": [
    {
     "name": "stdout",
     "output_type": "stream",
     "text": [
      "Index([ 1,  2,  3,  4,  5,  6,  7,  8, 10, 12, 14, 16, 17, 18, 19, 20, 23, 24,\n",
      "       27, 28, 30, 31, 33, 34, 48, 49, 53, 54, 55, 56, 65, 67, 78, 79, 81, 83,\n",
      "       85, 89],\n",
      "      dtype='int64', name='QuestionID')\n"
     ]
    }
   ],
   "source": [
    "# Renombrar las variables 2018\n",
    "print(df_Investigacion3.columns)\n",
    "\n",
    "df_Investigacion3.columns = ['Edad', 'Género', 'País de Residencia', 'Ciudad de Residencia (EEUU)', 'Trabajo Autónomo', 'Antecedentes Heredofamiliares', 'Búsqueda de Tratamiento con un Profesional', 'Cantidad de Empleados en la Empresa', 'Beneficios Dentro de Seguro Médico', 'Problemas de Salud Mental en Entrevista Laboral', 'Conocimiento de las Opciones de Cobertura por la Empresa Actual', 'Recursos de la Empresa Para Conocer sobre la Salud Mental y Canales de Ayuda', 'Facilidad de Consulta de Baja Médica en el Trabajo', 'Comodidad para Hablar de una Enfermedad Mental con Compañeros de Trabajo', 'Comodidad para Hablar de una Enfermedad Mental con un Director/Supervisor', 'Cobertura de Salud Mental en Seguro Médico', 'Beneficios de Salud Mental de Empleos Anteriores', 'Conocimiento de las Opciones de Ayuda por el Empleo Anterior', 'Protección de Anonimato Si Se Toma Ventaja de los Recursos de Tratamiento en Empleos Anteriores', 'Disposición de Hablar de Salud Mental con un Supervisor', 'Disposición para Hablar Sobre Enfermedad Mental con Familia/Amigos', 'Seguridad de Revelar Enfermedad Mental Debido a Comentario Sobre Salud Mental de Otra Persona', 'Situación Mental Actual', '¿Alguna Vez Has Sido Diagnosticado con una Enfermedad Mental?', 'Nivel de Interferencia en el Trabajo Cuando Se Está Bajo Tratamiento', 'Nivel de Interferencia en el Trabajo Cuando No Se Está Bajo Tratamiento', 'Disposición a Revelar Enfermedad Mental a Empleados/Compañeros', 'Productividad Afectada Por Enfermedad Mental', 'Porcentaje de Tiempo Afectada Por Enfermedad Mental', '¿Has Observado o Experimentado una Respuesta Insolidaria o Mal Gestionada a un Problema de Salud Mental en tu Lugar de Trabajo Actual o Anterior?', 'Importancia a la Salud Mental (Empresa)', '¿Cómo Afectó la Relación con Alguien de tu Trabajo el Haberle Contado sobre tu Enfermedad Mental?', '¿Te Identificas Abiertamente en el Trabajo como una Persona con una Enfermedad Mental?', '¿Tu Carrera Se Ha Visto Afectada por Tener una Enfermedad Mental?', 'Si Supieran Que Padeces un Trastorno Mental, ¿Cómo Crees Que Reaccionarían los Miembros de tu Equipo/Compañeros de Trabajo?', '¿Has Observado o Experimentado una Respuesta Positiva De Compañeros/Jefes al Saber que Tienes una Enfermedad Mental?', '¿En qué Medida Cree que el Sector Tecnológico Apoya a los Empleados con Enfermedades Mentales?', 'Raza']\n",
    "\n",
    "# Reemplazar los NaN\n",
    "df_Investigacion3 = df_Investigacion3.fillna('No respondió')"
   ]
  },
  {
   "cell_type": "code",
   "execution_count": 9,
   "metadata": {},
   "outputs": [
    {
     "name": "stdout",
     "output_type": "stream",
     "text": [
      "Index([ 1,  2,  3,  4,  5,  6,  7,  8, 10, 12, 14, 16, 17, 18, 19, 20, 23, 24,\n",
      "       27, 28, 30, 31, 33, 34, 48, 49, 53, 54, 55, 56, 65, 67, 78, 79, 81, 83,\n",
      "       85, 89],\n",
      "      dtype='int64', name='QuestionID')\n"
     ]
    }
   ],
   "source": [
    "# Renombrar las variables 2019\n",
    "print(df_Investigacion4.columns)\n",
    "\n",
    "df_Investigacion4.columns = ['Edad', 'Género', 'País de Residencia', 'Ciudad de Residencia (EEUU)', 'Trabajo Autónomo', 'Antecedentes Heredofamiliares', 'Búsqueda de Tratamiento con un Profesional', 'Cantidad de Empleados en la Empresa', 'Beneficios Dentro de Seguro Médico', 'Problemas de Salud Mental en Entrevista Laboral', 'Conocimiento de las Opciones de Cobertura por la Empresa Actual', 'Recursos de la Empresa Para Conocer sobre la Salud Mental y Canales de Ayuda', 'Facilidad de Consulta de Baja Médica en el Trabajo', 'Comodidad para Hablar de una Enfermedad Mental con Compañeros de Trabajo', 'Comodidad para Hablar de una Enfermedad Mental con un Director/Supervisor', 'Cobertura de Salud Mental en Seguro Médico', 'Beneficios de Salud Mental de Empleos Anteriores', 'Conocimiento de las Opciones de Ayuda por el Empleo Anterior', 'Protección de Anonimato Si Se Toma Ventaja de los Recursos de Tratamiento en Empleos Anteriores', 'Disposición de Hablar de Salud Mental con un Supervisor', 'Disposición para Hablar Sobre Enfermedad Mental con Familia/Amigos', 'Seguridad de Revelar Enfermedad Mental Debido a Comentario Sobre Salud Mental de Otra Persona', 'Situación Mental Actual', '¿Alguna Vez Has Sido Diagnosticado con una Enfermedad Mental?', 'Nivel de Interferencia en el Trabajo Cuando Se Está Bajo Tratamiento', 'Nivel de Interferencia en el Trabajo Cuando No Se Está Bajo Tratamiento', 'Disposición a Revelar Enfermedad Mental a Empleados/Compañeros', 'Productividad Afectada Por Enfermedad Mental', 'Porcentaje de Tiempo Afectada Por Enfermedad Mental', '¿Has Observado o Experimentado una Respuesta Insolidaria o Mal Gestionada a un Problema de Salud Mental en tu Lugar de Trabajo Actual o Anterior?', 'Importancia a la Salud Mental (Empresa)', '¿Cómo Afectó la Relación con Alguien de tu Trabajo el Haberle Contado sobre tu Enfermedad Mental?', '¿Te Identificas Abiertamente en el Trabajo como una Persona con una Enfermedad Mental?', '¿Tu Carrera Se Ha Visto Afectada por Tener una Enfermedad Mental?', 'Si Supieran Que Padeces un Trastorno Mental, ¿Cómo Crees Que Reaccionarían los Miembros de tu Equipo/Compañeros de Trabajo?', '¿Has Observado o Experimentado una Respuesta Positiva De Compañeros/Jefes al Saber que Tienes una Enfermedad Mental?', '¿En qué Medida Cree que el Sector Tecnológico Apoya a los Empleados con Enfermedades Mentales?', 'Raza']\n",
    "\n",
    "# Reemplazar los NaN\n",
    "df_Investigacion4 = df_Investigacion4.fillna('No respondió')"
   ]
  },
  {
   "cell_type": "code",
   "execution_count": 10,
   "metadata": {},
   "outputs": [],
   "source": [
    "# Carpeta donde deseas guardar los archivos CSV\n",
    "output_folder = r\"C:\\Users\\Alvarez\\Documents\\GitHub\\CSV\"\n",
    "\n",
    "# Crear la carpeta si no existe\n",
    "if not os.path.exists(output_folder):\n",
    "    os.makedirs(output_folder)\n",
    "\n",
    "# Guardar los archivos CSV en la carpeta especificada\n",
    "df_Investigacion1.to_csv(os.path.join(output_folder, 'Investigacion1.csv'), index=False)\n",
    "df_Investigacion2.to_csv(os.path.join(output_folder, 'Investigacion2.csv'), index=False)\n",
    "df_Investigacion3.to_csv(os.path.join(output_folder, 'Investigacion3.csv'), index=False)\n",
    "df_Investigacion4.to_csv(os.path.join(output_folder, 'Investigacion4.csv'), index=False)"
   ]
  },
  {
   "cell_type": "code",
   "execution_count": 11,
   "metadata": {},
   "outputs": [
    {
     "name": "stderr",
     "output_type": "stream",
     "text": [
      "2024-06-27 15:01:08.607 \n",
      "  \u001b[33m\u001b[1mWarning:\u001b[0m to view this Streamlit app on a browser, run it with the following\n",
      "  command:\n",
      "\n",
      "    streamlit run C:\\Users\\Alvarez\\AppData\\Roaming\\Python\\Python312\\site-packages\\ipykernel_launcher.py [ARGUMENTS]\n"
     ]
    },
    {
     "ename": "InternalHashError",
     "evalue": "module '__main__' has no attribute '__file__'\n\nWhile caching the body of `load_csv_from_github()`, Streamlit encountered an\nobject of type `builtins.function`, which it does not know how to hash.\n\n**In this specific case, it's very likely you found a Streamlit bug so please\n[file a bug report here.]\n(https://github.com/streamlit/streamlit/issues/new/choose)**\n\nIn the meantime, you can try bypassing this error by registering a custom\nhash function via the `hash_funcs` keyword in @st.cache(). For example:\n\n```\n@st.cache(hash_funcs={builtins.function: my_hash_func})\ndef my_func(...):\n    ...\n```\n\nIf you don't know where the object of type `builtins.function` is coming\nfrom, try looking at the hash chain below for an object that you do recognize,\nthen pass that to `hash_funcs` instead:\n\n```\nObject of type builtins.function: <function load_csv_from_github at 0x000001EB4023D580>\n```\n\nPlease see the `hash_funcs` [documentation](https://docs.streamlit.io/library/advanced-features/caching#the-hash_funcs-parameter)\nfor more details.\n            ",
     "output_type": "error",
     "traceback": [
      "\u001b[1;31m---------------------------------------------------------------------------\u001b[0m",
      "\u001b[1;31mAttributeError\u001b[0m                            Traceback (most recent call last)",
      "File \u001b[1;32mc:\\Users\\Alvarez\\miniconda3\\Lib\\site-packages\\streamlit\\runtime\\legacy_caching\\hashing.py:360\u001b[0m, in \u001b[0;36m_CodeHasher.to_bytes\u001b[1;34m(self, obj, context)\u001b[0m\n\u001b[0;32m    358\u001b[0m \u001b[38;5;28;01mtry\u001b[39;00m:\n\u001b[0;32m    359\u001b[0m     \u001b[38;5;66;03m# Hash the input\u001b[39;00m\n\u001b[1;32m--> 360\u001b[0m     b \u001b[38;5;241m=\u001b[39m \u001b[38;5;124mb\u001b[39m\u001b[38;5;124m\"\u001b[39m\u001b[38;5;132;01m%s\u001b[39;00m\u001b[38;5;124m:\u001b[39m\u001b[38;5;132;01m%s\u001b[39;00m\u001b[38;5;124m\"\u001b[39m \u001b[38;5;241m%\u001b[39m (tname, \u001b[38;5;28;43mself\u001b[39;49m\u001b[38;5;241;43m.\u001b[39;49m\u001b[43m_to_bytes\u001b[49m\u001b[43m(\u001b[49m\u001b[43mobj\u001b[49m\u001b[43m,\u001b[49m\u001b[43m \u001b[49m\u001b[43mcontext\u001b[49m\u001b[43m)\u001b[49m)\n\u001b[0;32m    362\u001b[0m     \u001b[38;5;66;03m# Hmmm... It's possible that the size calculation is wrong. When we\u001b[39;00m\n\u001b[0;32m    363\u001b[0m     \u001b[38;5;66;03m# call to_bytes inside _to_bytes things get double-counted.\u001b[39;00m\n",
      "File \u001b[1;32mc:\\Users\\Alvarez\\miniconda3\\Lib\\site-packages\\streamlit\\runtime\\legacy_caching\\hashing.py:623\u001b[0m, in \u001b[0;36m_CodeHasher._to_bytes\u001b[1;34m(self, obj, context)\u001b[0m\n\u001b[0;32m    622\u001b[0m \u001b[38;5;28;01massert\u001b[39;00m code \u001b[38;5;129;01mis\u001b[39;00m \u001b[38;5;129;01mnot\u001b[39;00m \u001b[38;5;28;01mNone\u001b[39;00m\n\u001b[1;32m--> 623\u001b[0m \u001b[38;5;28;01mif\u001b[39;00m \u001b[38;5;28;43mself\u001b[39;49m\u001b[38;5;241;43m.\u001b[39;49m\u001b[43m_file_should_be_hashed\u001b[49m\u001b[43m(\u001b[49m\u001b[43mcode\u001b[49m\u001b[38;5;241;43m.\u001b[39;49m\u001b[43mco_filename\u001b[49m\u001b[43m)\u001b[49m:\n\u001b[0;32m    624\u001b[0m     context \u001b[38;5;241m=\u001b[39m _get_context(obj)\n",
      "File \u001b[1;32mc:\\Users\\Alvarez\\miniconda3\\Lib\\site-packages\\streamlit\\runtime\\legacy_caching\\hashing.py:402\u001b[0m, in \u001b[0;36m_CodeHasher._file_should_be_hashed\u001b[1;34m(self, filename)\u001b[0m\n\u001b[0;32m    400\u001b[0m     \u001b[38;5;28;01mreturn\u001b[39;00m \u001b[38;5;28;01mFalse\u001b[39;00m\n\u001b[0;32m    401\u001b[0m \u001b[38;5;28;01mreturn\u001b[39;00m file_util\u001b[38;5;241m.\u001b[39mfile_is_in_folder_glob(\n\u001b[1;32m--> 402\u001b[0m     filepath, \u001b[38;5;28;43mself\u001b[39;49m\u001b[38;5;241;43m.\u001b[39;49m\u001b[43m_get_main_script_directory\u001b[49m\u001b[43m(\u001b[49m\u001b[43m)\u001b[49m\n\u001b[0;32m    403\u001b[0m ) \u001b[38;5;129;01mor\u001b[39;00m file_util\u001b[38;5;241m.\u001b[39mfile_in_pythonpath(filepath)\n",
      "File \u001b[1;32mc:\\Users\\Alvarez\\miniconda3\\Lib\\site-packages\\streamlit\\runtime\\legacy_caching\\hashing.py:710\u001b[0m, in \u001b[0;36m_CodeHasher._get_main_script_directory\u001b[1;34m()\u001b[0m\n\u001b[0;32m    708\u001b[0m \u001b[38;5;66;03m# This works because we set __main__.__file__ to the\u001b[39;00m\n\u001b[0;32m    709\u001b[0m \u001b[38;5;66;03m# script path in ScriptRunner.\u001b[39;00m\n\u001b[1;32m--> 710\u001b[0m abs_main_path \u001b[38;5;241m=\u001b[39m pathlib\u001b[38;5;241m.\u001b[39mPath(\u001b[43m__main__\u001b[49m\u001b[38;5;241;43m.\u001b[39;49m\u001b[38;5;18;43m__file__\u001b[39;49m)\u001b[38;5;241m.\u001b[39mresolve()\n\u001b[0;32m    711\u001b[0m \u001b[38;5;28;01mreturn\u001b[39;00m \u001b[38;5;28mstr\u001b[39m(abs_main_path\u001b[38;5;241m.\u001b[39mparent)\n",
      "\u001b[1;31mAttributeError\u001b[0m: module '__main__' has no attribute '__file__'",
      "\nDuring handling of the above exception, another exception occurred:\n",
      "\u001b[1;31mInternalHashError\u001b[0m                         Traceback (most recent call last)",
      "Cell \u001b[1;32mIn[11], line 31\u001b[0m\n\u001b[0;32m     23\u001b[0m urls \u001b[38;5;241m=\u001b[39m {\n\u001b[0;32m     24\u001b[0m     \u001b[38;5;124m'\u001b[39m\u001b[38;5;124m2016\u001b[39m\u001b[38;5;124m'\u001b[39m: \u001b[38;5;124m'\u001b[39m\u001b[38;5;124mhttps://raw.githubusercontent.com/Marizaf23/Analisis-Estadistico-Salud-Mental-Tecnologia/95f59adcc416732d98f3b9aa494eb78cadd12c0d/CSV/Investigacion1.csv\u001b[39m\u001b[38;5;124m'\u001b[39m,\n\u001b[0;32m     25\u001b[0m     \u001b[38;5;124m'\u001b[39m\u001b[38;5;124m2017\u001b[39m\u001b[38;5;124m'\u001b[39m: \u001b[38;5;124m'\u001b[39m\u001b[38;5;124mhttps://raw.githubusercontent.com/Marizaf23/Analisis-Estadistico-Salud-Mental-Tecnologia/95f59adcc416732d98f3b9aa494eb78cadd12c0d/CSV/Investigacion2.csv\u001b[39m\u001b[38;5;124m'\u001b[39m,\n\u001b[0;32m     26\u001b[0m     \u001b[38;5;124m'\u001b[39m\u001b[38;5;124m2018\u001b[39m\u001b[38;5;124m'\u001b[39m: \u001b[38;5;124m'\u001b[39m\u001b[38;5;124mhttps://raw.githubusercontent.com/Marizaf23/Analisis-Estadistico-Salud-Mental-Tecnologia/95f59adcc416732d98f3b9aa494eb78cadd12c0d/CSV/Investigacion3.csv\u001b[39m\u001b[38;5;124m'\u001b[39m,\n\u001b[0;32m     27\u001b[0m     \u001b[38;5;124m'\u001b[39m\u001b[38;5;124m2019\u001b[39m\u001b[38;5;124m'\u001b[39m: \u001b[38;5;124m'\u001b[39m\u001b[38;5;124mhttps://raw.githubusercontent.com/Marizaf23/Analisis-Estadistico-Salud-Mental-Tecnologia/95f59adcc416732d98f3b9aa494eb78cadd12c0d/CSV/Investigacion4.csv\u001b[39m\u001b[38;5;124m'\u001b[39m\n\u001b[0;32m     28\u001b[0m }\n\u001b[0;32m     30\u001b[0m \u001b[38;5;66;03m# Load CSV files from GitHub\u001b[39;00m\n\u001b[1;32m---> 31\u001b[0m df_2016 \u001b[38;5;241m=\u001b[39m \u001b[43mload_csv_from_github\u001b[49m\u001b[43m(\u001b[49m\u001b[43murls\u001b[49m\u001b[43m[\u001b[49m\u001b[38;5;124;43m'\u001b[39;49m\u001b[38;5;124;43m2016\u001b[39;49m\u001b[38;5;124;43m'\u001b[39;49m\u001b[43m]\u001b[49m\u001b[43m)\u001b[49m\n\u001b[0;32m     32\u001b[0m df_2017 \u001b[38;5;241m=\u001b[39m load_csv_from_github(urls[\u001b[38;5;124m'\u001b[39m\u001b[38;5;124m2017\u001b[39m\u001b[38;5;124m'\u001b[39m])\n\u001b[0;32m     33\u001b[0m df_2018 \u001b[38;5;241m=\u001b[39m load_csv_from_github(urls[\u001b[38;5;124m'\u001b[39m\u001b[38;5;124m2018\u001b[39m\u001b[38;5;124m'\u001b[39m])\n",
      "File \u001b[1;32mc:\\Users\\Alvarez\\miniconda3\\Lib\\site-packages\\streamlit\\runtime\\legacy_caching\\caching.py:656\u001b[0m, in \u001b[0;36mcache.<locals>.wrapped_func\u001b[1;34m(*args, **kwargs)\u001b[0m\n\u001b[0;32m    654\u001b[0m \u001b[38;5;28;01mif\u001b[39;00m show_spinner:\n\u001b[0;32m    655\u001b[0m     \u001b[38;5;28;01mwith\u001b[39;00m spinner(message, _cache\u001b[38;5;241m=\u001b[39m\u001b[38;5;28;01mTrue\u001b[39;00m):\n\u001b[1;32m--> 656\u001b[0m         \u001b[38;5;28;01mreturn\u001b[39;00m \u001b[43mget_or_create_cached_value\u001b[49m\u001b[43m(\u001b[49m\u001b[43m)\u001b[49m\n\u001b[0;32m    657\u001b[0m \u001b[38;5;28;01melse\u001b[39;00m:\n\u001b[0;32m    658\u001b[0m     \u001b[38;5;28;01mreturn\u001b[39;00m get_or_create_cached_value()\n",
      "File \u001b[1;32mc:\\Users\\Alvarez\\miniconda3\\Lib\\site-packages\\streamlit\\runtime\\legacy_caching\\caching.py:582\u001b[0m, in \u001b[0;36mcache.<locals>.wrapped_func.<locals>.get_or_create_cached_value\u001b[1;34m()\u001b[0m\n\u001b[0;32m    575\u001b[0m \u001b[38;5;28;01mnonlocal\u001b[39;00m cache_key\n\u001b[0;32m    576\u001b[0m \u001b[38;5;28;01mif\u001b[39;00m cache_key \u001b[38;5;129;01mis\u001b[39;00m \u001b[38;5;28;01mNone\u001b[39;00m:\n\u001b[0;32m    577\u001b[0m     \u001b[38;5;66;03m# Delay generating the cache key until the first call.\u001b[39;00m\n\u001b[0;32m    578\u001b[0m     \u001b[38;5;66;03m# This way we can see values of globals, including functions\u001b[39;00m\n\u001b[0;32m    579\u001b[0m     \u001b[38;5;66;03m# defined after this one.\u001b[39;00m\n\u001b[0;32m    580\u001b[0m     \u001b[38;5;66;03m# If we generated the key earlier we would only hash those\u001b[39;00m\n\u001b[0;32m    581\u001b[0m     \u001b[38;5;66;03m# globals by name, and miss changes in their code or value.\u001b[39;00m\n\u001b[1;32m--> 582\u001b[0m     cache_key \u001b[38;5;241m=\u001b[39m \u001b[43m_hash_func\u001b[49m\u001b[43m(\u001b[49m\u001b[43mnon_optional_func\u001b[49m\u001b[43m,\u001b[49m\u001b[43m \u001b[49m\u001b[43mhash_funcs\u001b[49m\u001b[43m)\u001b[49m\n\u001b[0;32m    584\u001b[0m \u001b[38;5;66;03m# First, get the cache that's attached to this function.\u001b[39;00m\n\u001b[0;32m    585\u001b[0m \u001b[38;5;66;03m# This cache's key is generated (above) from the function's code.\u001b[39;00m\n\u001b[0;32m    586\u001b[0m mem_cache \u001b[38;5;241m=\u001b[39m _mem_caches\u001b[38;5;241m.\u001b[39mget_cache(cache_key, max_entries, ttl)\n",
      "File \u001b[1;32mc:\\Users\\Alvarez\\miniconda3\\Lib\\site-packages\\streamlit\\runtime\\legacy_caching\\caching.py:708\u001b[0m, in \u001b[0;36m_hash_func\u001b[1;34m(func, hash_funcs)\u001b[0m\n\u001b[0;32m    697\u001b[0m update_hash(\n\u001b[0;32m    698\u001b[0m     (func\u001b[38;5;241m.\u001b[39m\u001b[38;5;18m__module__\u001b[39m, func\u001b[38;5;241m.\u001b[39m\u001b[38;5;18m__qualname__\u001b[39m),\n\u001b[0;32m    699\u001b[0m     hasher\u001b[38;5;241m=\u001b[39mfunc_hasher,\n\u001b[1;32m   (...)\u001b[0m\n\u001b[0;32m    702\u001b[0m     hash_source\u001b[38;5;241m=\u001b[39mfunc,\n\u001b[0;32m    703\u001b[0m )\n\u001b[0;32m    705\u001b[0m \u001b[38;5;66;03m# Include the function's body in the hash. We *do* pass hash_funcs here,\u001b[39;00m\n\u001b[0;32m    706\u001b[0m \u001b[38;5;66;03m# because this step will be hashing any objects referenced in the function\u001b[39;00m\n\u001b[0;32m    707\u001b[0m \u001b[38;5;66;03m# body.\u001b[39;00m\n\u001b[1;32m--> 708\u001b[0m \u001b[43mupdate_hash\u001b[49m\u001b[43m(\u001b[49m\n\u001b[0;32m    709\u001b[0m \u001b[43m    \u001b[49m\u001b[43mfunc\u001b[49m\u001b[43m,\u001b[49m\n\u001b[0;32m    710\u001b[0m \u001b[43m    \u001b[49m\u001b[43mhasher\u001b[49m\u001b[38;5;241;43m=\u001b[39;49m\u001b[43mfunc_hasher\u001b[49m\u001b[43m,\u001b[49m\n\u001b[0;32m    711\u001b[0m \u001b[43m    \u001b[49m\u001b[43mhash_funcs\u001b[49m\u001b[38;5;241;43m=\u001b[39;49m\u001b[43mhash_funcs\u001b[49m\u001b[43m,\u001b[49m\n\u001b[0;32m    712\u001b[0m \u001b[43m    \u001b[49m\u001b[43mhash_reason\u001b[49m\u001b[38;5;241;43m=\u001b[39;49m\u001b[43mHashReason\u001b[49m\u001b[38;5;241;43m.\u001b[39;49m\u001b[43mCACHING_FUNC_BODY\u001b[49m\u001b[43m,\u001b[49m\n\u001b[0;32m    713\u001b[0m \u001b[43m    \u001b[49m\u001b[43mhash_source\u001b[49m\u001b[38;5;241;43m=\u001b[39;49m\u001b[43mfunc\u001b[49m\u001b[43m,\u001b[49m\n\u001b[0;32m    714\u001b[0m \u001b[43m\u001b[49m\u001b[43m)\u001b[49m\n\u001b[0;32m    715\u001b[0m cache_key \u001b[38;5;241m=\u001b[39m func_hasher\u001b[38;5;241m.\u001b[39mhexdigest()\n\u001b[0;32m    716\u001b[0m _LOGGER\u001b[38;5;241m.\u001b[39mdebug(\n\u001b[0;32m    717\u001b[0m     \u001b[38;5;124m\"\u001b[39m\u001b[38;5;124mmem_cache key for \u001b[39m\u001b[38;5;132;01m%s\u001b[39;00m\u001b[38;5;124m.\u001b[39m\u001b[38;5;132;01m%s\u001b[39;00m\u001b[38;5;124m: \u001b[39m\u001b[38;5;132;01m%s\u001b[39;00m\u001b[38;5;124m\"\u001b[39m, func\u001b[38;5;241m.\u001b[39m\u001b[38;5;18m__module__\u001b[39m, func\u001b[38;5;241m.\u001b[39m\u001b[38;5;18m__qualname__\u001b[39m, cache_key\n\u001b[0;32m    718\u001b[0m )\n",
      "File \u001b[1;32mc:\\Users\\Alvarez\\miniconda3\\Lib\\site-packages\\streamlit\\runtime\\legacy_caching\\hashing.py:108\u001b[0m, in \u001b[0;36mupdate_hash\u001b[1;34m(val, hasher, hash_reason, hash_source, context, hash_funcs)\u001b[0m\n\u001b[0;32m    105\u001b[0m hash_stacks\u001b[38;5;241m.\u001b[39mcurrent\u001b[38;5;241m.\u001b[39mhash_source \u001b[38;5;241m=\u001b[39m hash_source\n\u001b[0;32m    107\u001b[0m ch \u001b[38;5;241m=\u001b[39m _CodeHasher(hash_funcs)\n\u001b[1;32m--> 108\u001b[0m \u001b[43mch\u001b[49m\u001b[38;5;241;43m.\u001b[39;49m\u001b[43mupdate\u001b[49m\u001b[43m(\u001b[49m\u001b[43mhasher\u001b[49m\u001b[43m,\u001b[49m\u001b[43m \u001b[49m\u001b[43mval\u001b[49m\u001b[43m,\u001b[49m\u001b[43m \u001b[49m\u001b[43mcontext\u001b[49m\u001b[43m)\u001b[49m\n",
      "File \u001b[1;32mc:\\Users\\Alvarez\\miniconda3\\Lib\\site-packages\\streamlit\\runtime\\legacy_caching\\hashing.py:385\u001b[0m, in \u001b[0;36m_CodeHasher.update\u001b[1;34m(self, hasher, obj, context)\u001b[0m\n\u001b[0;32m    383\u001b[0m \u001b[38;5;28;01mdef\u001b[39;00m \u001b[38;5;21mupdate\u001b[39m(\u001b[38;5;28mself\u001b[39m, hasher, obj: Any, context: Context \u001b[38;5;241m|\u001b[39m \u001b[38;5;28;01mNone\u001b[39;00m \u001b[38;5;241m=\u001b[39m \u001b[38;5;28;01mNone\u001b[39;00m) \u001b[38;5;241m-\u001b[39m\u001b[38;5;241m>\u001b[39m \u001b[38;5;28;01mNone\u001b[39;00m:\n\u001b[0;32m    384\u001b[0m \u001b[38;5;250m    \u001b[39m\u001b[38;5;124;03m\"\"\"Update the provided hasher with the hash of an object.\"\"\"\u001b[39;00m\n\u001b[1;32m--> 385\u001b[0m     b \u001b[38;5;241m=\u001b[39m \u001b[38;5;28;43mself\u001b[39;49m\u001b[38;5;241;43m.\u001b[39;49m\u001b[43mto_bytes\u001b[49m\u001b[43m(\u001b[49m\u001b[43mobj\u001b[49m\u001b[43m,\u001b[49m\u001b[43m \u001b[49m\u001b[43mcontext\u001b[49m\u001b[43m)\u001b[49m\n\u001b[0;32m    386\u001b[0m     hasher\u001b[38;5;241m.\u001b[39mupdate(b)\n",
      "File \u001b[1;32mc:\\Users\\Alvarez\\miniconda3\\Lib\\site-packages\\streamlit\\runtime\\legacy_caching\\hashing.py:374\u001b[0m, in \u001b[0;36m_CodeHasher.to_bytes\u001b[1;34m(self, obj, context)\u001b[0m\n\u001b[0;32m    371\u001b[0m     \u001b[38;5;28;01mraise\u001b[39;00m\n\u001b[0;32m    373\u001b[0m \u001b[38;5;28;01mexcept\u001b[39;00m \u001b[38;5;167;01mException\u001b[39;00m \u001b[38;5;28;01mas\u001b[39;00m ex:\n\u001b[1;32m--> 374\u001b[0m     \u001b[38;5;28;01mraise\u001b[39;00m InternalHashError(ex, obj)\n\u001b[0;32m    376\u001b[0m \u001b[38;5;28;01mfinally\u001b[39;00m:\n\u001b[0;32m    377\u001b[0m     \u001b[38;5;66;03m# In case an UnhashableTypeError (or other) error is thrown, clean up the\u001b[39;00m\n\u001b[0;32m    378\u001b[0m     \u001b[38;5;66;03m# stack so we don't get false positives in future hashing calls\u001b[39;00m\n\u001b[0;32m    379\u001b[0m     hash_stacks\u001b[38;5;241m.\u001b[39mcurrent\u001b[38;5;241m.\u001b[39mpop()\n",
      "File \u001b[1;32mc:\\Users\\Alvarez\\miniconda3\\Lib\\site-packages\\streamlit\\runtime\\legacy_caching\\hashing.py:360\u001b[0m, in \u001b[0;36m_CodeHasher.to_bytes\u001b[1;34m(self, obj, context)\u001b[0m\n\u001b[0;32m    356\u001b[0m hash_stacks\u001b[38;5;241m.\u001b[39mcurrent\u001b[38;5;241m.\u001b[39mpush(obj)\n\u001b[0;32m    358\u001b[0m \u001b[38;5;28;01mtry\u001b[39;00m:\n\u001b[0;32m    359\u001b[0m     \u001b[38;5;66;03m# Hash the input\u001b[39;00m\n\u001b[1;32m--> 360\u001b[0m     b \u001b[38;5;241m=\u001b[39m \u001b[38;5;124mb\u001b[39m\u001b[38;5;124m\"\u001b[39m\u001b[38;5;132;01m%s\u001b[39;00m\u001b[38;5;124m:\u001b[39m\u001b[38;5;132;01m%s\u001b[39;00m\u001b[38;5;124m\"\u001b[39m \u001b[38;5;241m%\u001b[39m (tname, \u001b[38;5;28;43mself\u001b[39;49m\u001b[38;5;241;43m.\u001b[39;49m\u001b[43m_to_bytes\u001b[49m\u001b[43m(\u001b[49m\u001b[43mobj\u001b[49m\u001b[43m,\u001b[49m\u001b[43m \u001b[49m\u001b[43mcontext\u001b[49m\u001b[43m)\u001b[49m)\n\u001b[0;32m    362\u001b[0m     \u001b[38;5;66;03m# Hmmm... It's possible that the size calculation is wrong. When we\u001b[39;00m\n\u001b[0;32m    363\u001b[0m     \u001b[38;5;66;03m# call to_bytes inside _to_bytes things get double-counted.\u001b[39;00m\n\u001b[0;32m    364\u001b[0m     \u001b[38;5;28mself\u001b[39m\u001b[38;5;241m.\u001b[39msize \u001b[38;5;241m+\u001b[39m\u001b[38;5;241m=\u001b[39m sys\u001b[38;5;241m.\u001b[39mgetsizeof(b)\n",
      "File \u001b[1;32mc:\\Users\\Alvarez\\miniconda3\\Lib\\site-packages\\streamlit\\runtime\\legacy_caching\\hashing.py:623\u001b[0m, in \u001b[0;36m_CodeHasher._to_bytes\u001b[1;34m(self, obj, context)\u001b[0m\n\u001b[0;32m    621\u001b[0m code \u001b[38;5;241m=\u001b[39m \u001b[38;5;28mgetattr\u001b[39m(obj, \u001b[38;5;124m\"\u001b[39m\u001b[38;5;124m__code__\u001b[39m\u001b[38;5;124m\"\u001b[39m, \u001b[38;5;28;01mNone\u001b[39;00m)\n\u001b[0;32m    622\u001b[0m \u001b[38;5;28;01massert\u001b[39;00m code \u001b[38;5;129;01mis\u001b[39;00m \u001b[38;5;129;01mnot\u001b[39;00m \u001b[38;5;28;01mNone\u001b[39;00m\n\u001b[1;32m--> 623\u001b[0m \u001b[38;5;28;01mif\u001b[39;00m \u001b[38;5;28;43mself\u001b[39;49m\u001b[38;5;241;43m.\u001b[39;49m\u001b[43m_file_should_be_hashed\u001b[49m\u001b[43m(\u001b[49m\u001b[43mcode\u001b[49m\u001b[38;5;241;43m.\u001b[39;49m\u001b[43mco_filename\u001b[49m\u001b[43m)\u001b[49m:\n\u001b[0;32m    624\u001b[0m     context \u001b[38;5;241m=\u001b[39m _get_context(obj)\n\u001b[0;32m    625\u001b[0m     defaults \u001b[38;5;241m=\u001b[39m \u001b[38;5;28mgetattr\u001b[39m(obj, \u001b[38;5;124m\"\u001b[39m\u001b[38;5;124m__defaults__\u001b[39m\u001b[38;5;124m\"\u001b[39m, \u001b[38;5;28;01mNone\u001b[39;00m)\n",
      "File \u001b[1;32mc:\\Users\\Alvarez\\miniconda3\\Lib\\site-packages\\streamlit\\runtime\\legacy_caching\\hashing.py:402\u001b[0m, in \u001b[0;36m_CodeHasher._file_should_be_hashed\u001b[1;34m(self, filename)\u001b[0m\n\u001b[0;32m    399\u001b[0m \u001b[38;5;28;01mif\u001b[39;00m file_is_blacklisted:\n\u001b[0;32m    400\u001b[0m     \u001b[38;5;28;01mreturn\u001b[39;00m \u001b[38;5;28;01mFalse\u001b[39;00m\n\u001b[0;32m    401\u001b[0m \u001b[38;5;28;01mreturn\u001b[39;00m file_util\u001b[38;5;241m.\u001b[39mfile_is_in_folder_glob(\n\u001b[1;32m--> 402\u001b[0m     filepath, \u001b[38;5;28;43mself\u001b[39;49m\u001b[38;5;241;43m.\u001b[39;49m\u001b[43m_get_main_script_directory\u001b[49m\u001b[43m(\u001b[49m\u001b[43m)\u001b[49m\n\u001b[0;32m    403\u001b[0m ) \u001b[38;5;129;01mor\u001b[39;00m file_util\u001b[38;5;241m.\u001b[39mfile_in_pythonpath(filepath)\n",
      "File \u001b[1;32mc:\\Users\\Alvarez\\miniconda3\\Lib\\site-packages\\streamlit\\runtime\\legacy_caching\\hashing.py:710\u001b[0m, in \u001b[0;36m_CodeHasher._get_main_script_directory\u001b[1;34m()\u001b[0m\n\u001b[0;32m    706\u001b[0m \u001b[38;5;28;01mimport\u001b[39;00m \u001b[38;5;21;01m__main__\u001b[39;00m\n\u001b[0;32m    708\u001b[0m \u001b[38;5;66;03m# This works because we set __main__.__file__ to the\u001b[39;00m\n\u001b[0;32m    709\u001b[0m \u001b[38;5;66;03m# script path in ScriptRunner.\u001b[39;00m\n\u001b[1;32m--> 710\u001b[0m abs_main_path \u001b[38;5;241m=\u001b[39m pathlib\u001b[38;5;241m.\u001b[39mPath(\u001b[43m__main__\u001b[49m\u001b[38;5;241;43m.\u001b[39;49m\u001b[38;5;18;43m__file__\u001b[39;49m)\u001b[38;5;241m.\u001b[39mresolve()\n\u001b[0;32m    711\u001b[0m \u001b[38;5;28;01mreturn\u001b[39;00m \u001b[38;5;28mstr\u001b[39m(abs_main_path\u001b[38;5;241m.\u001b[39mparent)\n",
      "\u001b[1;31mInternalHashError\u001b[0m: module '__main__' has no attribute '__file__'\n\nWhile caching the body of `load_csv_from_github()`, Streamlit encountered an\nobject of type `builtins.function`, which it does not know how to hash.\n\n**In this specific case, it's very likely you found a Streamlit bug so please\n[file a bug report here.]\n(https://github.com/streamlit/streamlit/issues/new/choose)**\n\nIn the meantime, you can try bypassing this error by registering a custom\nhash function via the `hash_funcs` keyword in @st.cache(). For example:\n\n```\n@st.cache(hash_funcs={builtins.function: my_hash_func})\ndef my_func(...):\n    ...\n```\n\nIf you don't know where the object of type `builtins.function` is coming\nfrom, try looking at the hash chain below for an object that you do recognize,\nthen pass that to `hash_funcs` instead:\n\n```\nObject of type builtins.function: <function load_csv_from_github at 0x000001EB4023D580>\n```\n\nPlease see the `hash_funcs` [documentation](https://docs.streamlit.io/library/advanced-features/caching#the-hash_funcs-parameter)\nfor more details.\n            "
     ]
    }
   ],
   "source": [
    "# HTML\n",
    "# Título de la aplicación\n",
    "st.title(\"Problemáticas y Estigmas de las Enfermedades Mentales en la Industria Tecnológica Estadounidense 2016-2019\")\n",
    "\n",
    "# Contenido de la página 1\n",
    "st.header(\"Introducción\")\n",
    "st.write(\"Información de la Data Suministrada.\")\n",
    "\n",
    "# Contenido de la página 2\n",
    "st.header(\"Visualización de los Datos\")\n",
    "st.write(\"Información de la Data Suministrada.\")\n",
    "\n",
    "@st.cache\n",
    "def load_csv_from_github(url):\n",
    "    response = requests.get(url)\n",
    "    if response.status_code == 200:\n",
    "        return pd.read_csv(StringIO(response.text))\n",
    "    else:\n",
    "        st.error(\"Failed to load data from GitHub.\")\n",
    "        return None\n",
    "\n",
    "# URLs of CSV files in GitHub repository\n",
    "urls = {\n",
    "    '2016': 'https://raw.githubusercontent.com/Marizaf23/Analisis-Estadistico-Salud-Mental-Tecnologia/95f59adcc416732d98f3b9aa494eb78cadd12c0d/CSV/Investigacion1.csv',\n",
    "    '2017': 'https://raw.githubusercontent.com/Marizaf23/Analisis-Estadistico-Salud-Mental-Tecnologia/95f59adcc416732d98f3b9aa494eb78cadd12c0d/CSV/Investigacion2.csv',\n",
    "    '2018': 'https://raw.githubusercontent.com/Marizaf23/Analisis-Estadistico-Salud-Mental-Tecnologia/95f59adcc416732d98f3b9aa494eb78cadd12c0d/CSV/Investigacion3.csv',\n",
    "    '2019': 'https://raw.githubusercontent.com/Marizaf23/Analisis-Estadistico-Salud-Mental-Tecnologia/95f59adcc416732d98f3b9aa494eb78cadd12c0d/CSV/Investigacion4.csv'\n",
    "}\n",
    "\n",
    "# Load CSV files from GitHub\n",
    "df_2016 = load_csv_from_github(urls['2016'])\n",
    "df_2017 = load_csv_from_github(urls['2017'])\n",
    "df_2018 = load_csv_from_github(urls['2018'])\n",
    "df_2019 = load_csv_from_github(urls['2019'])\n",
    "\n",
    "# Crea un selectbox con las opciones\n",
    "option = st.selectbox('Año de Encuesta:', ['2016', '2017', '2018', '2019'])\n",
    "\n",
    "# Muestra el DataFrame correspondiente según la opción seleccionada\n",
    "if option == '2016':\n",
    "    st.dataframe(df_2016)\n",
    "elif option == '2017':\n",
    "    st.dataframe(df_2017)\n",
    "elif option == '2018':\n",
    "    st.dataframe(df_2018)\n",
    "elif option == '2019':\n",
    "    st.dataframe(df_2019)\n"
   ]
  },
  {
   "cell_type": "code",
   "execution_count": 12,
   "metadata": {},
   "outputs": [
    {
     "name": "stdout",
     "output_type": "stream",
     "text": [
      "Cantidad de Empleados en la Empresa_x\n",
      "26-100          85\n",
      "Más de 1000     82\n",
      "100-500         80\n",
      "No respondió    65\n",
      "6-25            50\n",
      "500-1000        19\n",
      "1-5             12\n",
      "Name: count, dtype: int64\n",
      "Cantidad de Empleados en la Empresa_x\n",
      "26-100          85\n",
      "Más de 1000     82\n",
      "100-500         80\n",
      "No respondió    65\n",
      "6-25            50\n",
      "500-1000        19\n",
      "1-5             12\n",
      "Name: count, dtype: int64\n",
      "                                       Cantidad de Personas con Enfermedad Mental dentro de la Empresa  \\\n",
      "Cantidad de Empleados en la Empresa_x                                                                    \n",
      "26-100                                                                              85.0                 \n",
      "Más de 1000                                                                         82.0                 \n",
      "100-500                                                                             80.0                 \n",
      "No respondió                                                                        65.0                 \n",
      "6-25                                                                                50.0                 \n",
      "500-1000                                                                            19.0                 \n",
      "1-5                                                                                 12.0                 \n",
      "Total                                                                              393.0                 \n",
      "\n",
      "                                       Porcentaje  \n",
      "Cantidad de Empleados en la Empresa_x              \n",
      "26-100                                      21.63  \n",
      "Más de 1000                                 20.87  \n",
      "100-500                                     20.36  \n",
      "No respondió                                16.54  \n",
      "6-25                                        12.72  \n",
      "500-1000                                     4.83  \n",
      "1-5                                          3.05  \n",
      "Total                                      100.00  \n"
     ]
    }
   ],
   "source": [
    "#PREGUNTA 3\n",
    "\n",
    "# Assuming 'df_Investigacion1' is your DataFrame\n",
    "filtered_df = df_Investigacion1[df_Investigacion1['Situación Mental Actual'] == 'Si']\n",
    "\n",
    "# Group by UserID and count the occurrences\n",
    "grouped_df = filtered_df.groupby('UserID').size().reset_index(name='Cantidad de Empleados en la Empresa')\n",
    "\n",
    "# Merge the counts back to the original DataFrame\n",
    "resultado_df = df_Investigacion1.merge(grouped_df, on='UserID', how='left')\n",
    "\n",
    "# Extract relevant columns and rename 'Cantidad de Empleados en la Empresa'\n",
    "new_df = resultado_df[['Situación Mental Actual', 'Cantidad de Empleados en la Empresa_x']].copy()\n",
    "\n",
    "# Filter new_df to only include rows where 'Situación Mental Actual' is 'Si'\n",
    "new_df = new_df[new_df['Situación Mental Actual'] == 'Si']\n",
    "\n",
    "counts = new_df['Cantidad de Empleados en la Empresa_x'].value_counts()\n",
    "print(counts)\n",
    "\n",
    "counts = new_df['Cantidad de Empleados en la Empresa_x'].value_counts()\n",
    "print(counts)\n",
    "\n",
    "\n",
    "counts_df = counts.to_frame('Cantidad de Personas con Enfermedad Mental dentro de la Empresa')\n",
    "counts_df['Porcentaje'] = (counts / counts.sum()) * 100\n",
    "counts_df['Porcentaje'] = counts_df['Porcentaje'].round(2)\n",
    "# Agregar fila con el total\n",
    "counts_df.loc['Total'] = [counts.sum(), 100.00]\n",
    "print(counts_df)\n"
   ]
  },
  {
   "cell_type": "code",
   "execution_count": 13,
   "metadata": {},
   "outputs": [
    {
     "data": {
      "text/plain": [
       "44"
      ]
     },
     "execution_count": 13,
     "metadata": {},
     "output_type": "execute_result"
    }
   ],
   "source": [
    "#¿Estas ofrecen algún beneficio o algún tipo de convenio de trabajo?\n",
    "\n",
    "Empresa = df_Investigacion1[[\"Cantidad de Empleados en la Empresa\", \"Recursos de la Empresa Para Conocer sobre la Salud Mental y Canales de Ayuda\", \"Situación Mental Actual\"]].copy()\n",
    "Empresa = df_Investigacion1[df_Investigacion1 != \"No respondió\"]\n",
    "Empresa\n",
    "\n",
    "#para saber el numero de personas que tienen una enfermedad mental y saben de los benficios dque ofrece su empresa\n",
    "Empresa = df_Investigacion1[[\"Cantidad de Empleados en la Empresa\", \"Recursos de la Empresa Para Conocer sobre la Salud Mental y Canales de Ayuda\", \"Situación Mental Actual\"]].copy()\n",
    "Empresa_filtered = Empresa[Empresa != \"No respondió\"]\n",
    "count = (Empresa_filtered[\"Cantidad de Empleados en la Empresa\"] == \"Más de 1000\") & (Empresa_filtered[\"Recursos de la Empresa Para Conocer sobre la Salud Mental y Canales de Ayuda\"] == \"Si\") & (Empresa_filtered[\"Situación Mental Actual\"] == \"Si\")\n",
    "count.sum()\n"
   ]
  },
  {
   "cell_type": "code",
   "execution_count": 2,
   "metadata": {},
   "outputs": [
    {
     "data": {
      "application/vnd.plotly.v1+json": {
       "config": {
        "plotlyServerURL": "https://plot.ly"
       },
       "data": [
        {
         "marker": {
          "color": "#b366ff"
         },
         "name": "Cantidad de Personas con una Enfermedad Mental que conocen los Beneficios que Ofrece la Empresa",
         "type": "bar",
         "x": [
          "1-5",
          "6-25",
          "26-100",
          "100-500",
          "500-1000",
          "Más de 1000"
         ],
         "y": [
          2,
          9,
          25,
          21,
          8,
          44
         ]
        },
        {
         "marker": {
          "color": "#cc99ff"
         },
         "name": "Cantidad de Personas dentro de la Empresa con una Enfermedad Mental Diagnosticada",
         "type": "bar",
         "x": [
          "1-5",
          "6-25",
          "26-100",
          "100-500",
          "500-1000",
          "Más de 1000"
         ],
         "y": [
          3,
          19,
          50,
          80,
          85,
          82
         ]
        }
       ],
       "layout": {
        "barmode": "group",
        "template": {
         "data": {
          "bar": [
           {
            "error_x": {
             "color": "#2a3f5f"
            },
            "error_y": {
             "color": "#2a3f5f"
            },
            "marker": {
             "line": {
              "color": "#E5ECF6",
              "width": 0.5
             },
             "pattern": {
              "fillmode": "overlay",
              "size": 10,
              "solidity": 0.2
             }
            },
            "type": "bar"
           }
          ],
          "barpolar": [
           {
            "marker": {
             "line": {
              "color": "#E5ECF6",
              "width": 0.5
             },
             "pattern": {
              "fillmode": "overlay",
              "size": 10,
              "solidity": 0.2
             }
            },
            "type": "barpolar"
           }
          ],
          "carpet": [
           {
            "aaxis": {
             "endlinecolor": "#2a3f5f",
             "gridcolor": "white",
             "linecolor": "white",
             "minorgridcolor": "white",
             "startlinecolor": "#2a3f5f"
            },
            "baxis": {
             "endlinecolor": "#2a3f5f",
             "gridcolor": "white",
             "linecolor": "white",
             "minorgridcolor": "white",
             "startlinecolor": "#2a3f5f"
            },
            "type": "carpet"
           }
          ],
          "choropleth": [
           {
            "colorbar": {
             "outlinewidth": 0,
             "ticks": ""
            },
            "type": "choropleth"
           }
          ],
          "contour": [
           {
            "colorbar": {
             "outlinewidth": 0,
             "ticks": ""
            },
            "colorscale": [
             [
              0,
              "#0d0887"
             ],
             [
              0.1111111111111111,
              "#46039f"
             ],
             [
              0.2222222222222222,
              "#7201a8"
             ],
             [
              0.3333333333333333,
              "#9c179e"
             ],
             [
              0.4444444444444444,
              "#bd3786"
             ],
             [
              0.5555555555555556,
              "#d8576b"
             ],
             [
              0.6666666666666666,
              "#ed7953"
             ],
             [
              0.7777777777777778,
              "#fb9f3a"
             ],
             [
              0.8888888888888888,
              "#fdca26"
             ],
             [
              1,
              "#f0f921"
             ]
            ],
            "type": "contour"
           }
          ],
          "contourcarpet": [
           {
            "colorbar": {
             "outlinewidth": 0,
             "ticks": ""
            },
            "type": "contourcarpet"
           }
          ],
          "heatmap": [
           {
            "colorbar": {
             "outlinewidth": 0,
             "ticks": ""
            },
            "colorscale": [
             [
              0,
              "#0d0887"
             ],
             [
              0.1111111111111111,
              "#46039f"
             ],
             [
              0.2222222222222222,
              "#7201a8"
             ],
             [
              0.3333333333333333,
              "#9c179e"
             ],
             [
              0.4444444444444444,
              "#bd3786"
             ],
             [
              0.5555555555555556,
              "#d8576b"
             ],
             [
              0.6666666666666666,
              "#ed7953"
             ],
             [
              0.7777777777777778,
              "#fb9f3a"
             ],
             [
              0.8888888888888888,
              "#fdca26"
             ],
             [
              1,
              "#f0f921"
             ]
            ],
            "type": "heatmap"
           }
          ],
          "heatmapgl": [
           {
            "colorbar": {
             "outlinewidth": 0,
             "ticks": ""
            },
            "colorscale": [
             [
              0,
              "#0d0887"
             ],
             [
              0.1111111111111111,
              "#46039f"
             ],
             [
              0.2222222222222222,
              "#7201a8"
             ],
             [
              0.3333333333333333,
              "#9c179e"
             ],
             [
              0.4444444444444444,
              "#bd3786"
             ],
             [
              0.5555555555555556,
              "#d8576b"
             ],
             [
              0.6666666666666666,
              "#ed7953"
             ],
             [
              0.7777777777777778,
              "#fb9f3a"
             ],
             [
              0.8888888888888888,
              "#fdca26"
             ],
             [
              1,
              "#f0f921"
             ]
            ],
            "type": "heatmapgl"
           }
          ],
          "histogram": [
           {
            "marker": {
             "pattern": {
              "fillmode": "overlay",
              "size": 10,
              "solidity": 0.2
             }
            },
            "type": "histogram"
           }
          ],
          "histogram2d": [
           {
            "colorbar": {
             "outlinewidth": 0,
             "ticks": ""
            },
            "colorscale": [
             [
              0,
              "#0d0887"
             ],
             [
              0.1111111111111111,
              "#46039f"
             ],
             [
              0.2222222222222222,
              "#7201a8"
             ],
             [
              0.3333333333333333,
              "#9c179e"
             ],
             [
              0.4444444444444444,
              "#bd3786"
             ],
             [
              0.5555555555555556,
              "#d8576b"
             ],
             [
              0.6666666666666666,
              "#ed7953"
             ],
             [
              0.7777777777777778,
              "#fb9f3a"
             ],
             [
              0.8888888888888888,
              "#fdca26"
             ],
             [
              1,
              "#f0f921"
             ]
            ],
            "type": "histogram2d"
           }
          ],
          "histogram2dcontour": [
           {
            "colorbar": {
             "outlinewidth": 0,
             "ticks": ""
            },
            "colorscale": [
             [
              0,
              "#0d0887"
             ],
             [
              0.1111111111111111,
              "#46039f"
             ],
             [
              0.2222222222222222,
              "#7201a8"
             ],
             [
              0.3333333333333333,
              "#9c179e"
             ],
             [
              0.4444444444444444,
              "#bd3786"
             ],
             [
              0.5555555555555556,
              "#d8576b"
             ],
             [
              0.6666666666666666,
              "#ed7953"
             ],
             [
              0.7777777777777778,
              "#fb9f3a"
             ],
             [
              0.8888888888888888,
              "#fdca26"
             ],
             [
              1,
              "#f0f921"
             ]
            ],
            "type": "histogram2dcontour"
           }
          ],
          "mesh3d": [
           {
            "colorbar": {
             "outlinewidth": 0,
             "ticks": ""
            },
            "type": "mesh3d"
           }
          ],
          "parcoords": [
           {
            "line": {
             "colorbar": {
              "outlinewidth": 0,
              "ticks": ""
             }
            },
            "type": "parcoords"
           }
          ],
          "pie": [
           {
            "automargin": true,
            "type": "pie"
           }
          ],
          "scatter": [
           {
            "fillpattern": {
             "fillmode": "overlay",
             "size": 10,
             "solidity": 0.2
            },
            "type": "scatter"
           }
          ],
          "scatter3d": [
           {
            "line": {
             "colorbar": {
              "outlinewidth": 0,
              "ticks": ""
             }
            },
            "marker": {
             "colorbar": {
              "outlinewidth": 0,
              "ticks": ""
             }
            },
            "type": "scatter3d"
           }
          ],
          "scattercarpet": [
           {
            "marker": {
             "colorbar": {
              "outlinewidth": 0,
              "ticks": ""
             }
            },
            "type": "scattercarpet"
           }
          ],
          "scattergeo": [
           {
            "marker": {
             "colorbar": {
              "outlinewidth": 0,
              "ticks": ""
             }
            },
            "type": "scattergeo"
           }
          ],
          "scattergl": [
           {
            "marker": {
             "colorbar": {
              "outlinewidth": 0,
              "ticks": ""
             }
            },
            "type": "scattergl"
           }
          ],
          "scattermapbox": [
           {
            "marker": {
             "colorbar": {
              "outlinewidth": 0,
              "ticks": ""
             }
            },
            "type": "scattermapbox"
           }
          ],
          "scatterpolar": [
           {
            "marker": {
             "colorbar": {
              "outlinewidth": 0,
              "ticks": ""
             }
            },
            "type": "scatterpolar"
           }
          ],
          "scatterpolargl": [
           {
            "marker": {
             "colorbar": {
              "outlinewidth": 0,
              "ticks": ""
             }
            },
            "type": "scatterpolargl"
           }
          ],
          "scatterternary": [
           {
            "marker": {
             "colorbar": {
              "outlinewidth": 0,
              "ticks": ""
             }
            },
            "type": "scatterternary"
           }
          ],
          "surface": [
           {
            "colorbar": {
             "outlinewidth": 0,
             "ticks": ""
            },
            "colorscale": [
             [
              0,
              "#0d0887"
             ],
             [
              0.1111111111111111,
              "#46039f"
             ],
             [
              0.2222222222222222,
              "#7201a8"
             ],
             [
              0.3333333333333333,
              "#9c179e"
             ],
             [
              0.4444444444444444,
              "#bd3786"
             ],
             [
              0.5555555555555556,
              "#d8576b"
             ],
             [
              0.6666666666666666,
              "#ed7953"
             ],
             [
              0.7777777777777778,
              "#fb9f3a"
             ],
             [
              0.8888888888888888,
              "#fdca26"
             ],
             [
              1,
              "#f0f921"
             ]
            ],
            "type": "surface"
           }
          ],
          "table": [
           {
            "cells": {
             "fill": {
              "color": "#EBF0F8"
             },
             "line": {
              "color": "white"
             }
            },
            "header": {
             "fill": {
              "color": "#C8D4E3"
             },
             "line": {
              "color": "white"
             }
            },
            "type": "table"
           }
          ]
         },
         "layout": {
          "annotationdefaults": {
           "arrowcolor": "#2a3f5f",
           "arrowhead": 0,
           "arrowwidth": 1
          },
          "autotypenumbers": "strict",
          "coloraxis": {
           "colorbar": {
            "outlinewidth": 0,
            "ticks": ""
           }
          },
          "colorscale": {
           "diverging": [
            [
             0,
             "#8e0152"
            ],
            [
             0.1,
             "#c51b7d"
            ],
            [
             0.2,
             "#de77ae"
            ],
            [
             0.3,
             "#f1b6da"
            ],
            [
             0.4,
             "#fde0ef"
            ],
            [
             0.5,
             "#f7f7f7"
            ],
            [
             0.6,
             "#e6f5d0"
            ],
            [
             0.7,
             "#b8e186"
            ],
            [
             0.8,
             "#7fbc41"
            ],
            [
             0.9,
             "#4d9221"
            ],
            [
             1,
             "#276419"
            ]
           ],
           "sequential": [
            [
             0,
             "#0d0887"
            ],
            [
             0.1111111111111111,
             "#46039f"
            ],
            [
             0.2222222222222222,
             "#7201a8"
            ],
            [
             0.3333333333333333,
             "#9c179e"
            ],
            [
             0.4444444444444444,
             "#bd3786"
            ],
            [
             0.5555555555555556,
             "#d8576b"
            ],
            [
             0.6666666666666666,
             "#ed7953"
            ],
            [
             0.7777777777777778,
             "#fb9f3a"
            ],
            [
             0.8888888888888888,
             "#fdca26"
            ],
            [
             1,
             "#f0f921"
            ]
           ],
           "sequentialminus": [
            [
             0,
             "#0d0887"
            ],
            [
             0.1111111111111111,
             "#46039f"
            ],
            [
             0.2222222222222222,
             "#7201a8"
            ],
            [
             0.3333333333333333,
             "#9c179e"
            ],
            [
             0.4444444444444444,
             "#bd3786"
            ],
            [
             0.5555555555555556,
             "#d8576b"
            ],
            [
             0.6666666666666666,
             "#ed7953"
            ],
            [
             0.7777777777777778,
             "#fb9f3a"
            ],
            [
             0.8888888888888888,
             "#fdca26"
            ],
            [
             1,
             "#f0f921"
            ]
           ]
          },
          "colorway": [
           "#636efa",
           "#EF553B",
           "#00cc96",
           "#ab63fa",
           "#FFA15A",
           "#19d3f3",
           "#FF6692",
           "#B6E880",
           "#FF97FF",
           "#FECB52"
          ],
          "font": {
           "color": "#2a3f5f"
          },
          "geo": {
           "bgcolor": "white",
           "lakecolor": "white",
           "landcolor": "#E5ECF6",
           "showlakes": true,
           "showland": true,
           "subunitcolor": "white"
          },
          "hoverlabel": {
           "align": "left"
          },
          "hovermode": "closest",
          "mapbox": {
           "style": "light"
          },
          "paper_bgcolor": "white",
          "plot_bgcolor": "#E5ECF6",
          "polar": {
           "angularaxis": {
            "gridcolor": "white",
            "linecolor": "white",
            "ticks": ""
           },
           "bgcolor": "#E5ECF6",
           "radialaxis": {
            "gridcolor": "white",
            "linecolor": "white",
            "ticks": ""
           }
          },
          "scene": {
           "xaxis": {
            "backgroundcolor": "#E5ECF6",
            "gridcolor": "white",
            "gridwidth": 2,
            "linecolor": "white",
            "showbackground": true,
            "ticks": "",
            "zerolinecolor": "white"
           },
           "yaxis": {
            "backgroundcolor": "#E5ECF6",
            "gridcolor": "white",
            "gridwidth": 2,
            "linecolor": "white",
            "showbackground": true,
            "ticks": "",
            "zerolinecolor": "white"
           },
           "zaxis": {
            "backgroundcolor": "#E5ECF6",
            "gridcolor": "white",
            "gridwidth": 2,
            "linecolor": "white",
            "showbackground": true,
            "ticks": "",
            "zerolinecolor": "white"
           }
          },
          "shapedefaults": {
           "line": {
            "color": "#2a3f5f"
           }
          },
          "ternary": {
           "aaxis": {
            "gridcolor": "white",
            "linecolor": "white",
            "ticks": ""
           },
           "baxis": {
            "gridcolor": "white",
            "linecolor": "white",
            "ticks": ""
           },
           "bgcolor": "#E5ECF6",
           "caxis": {
            "gridcolor": "white",
            "linecolor": "white",
            "ticks": ""
           }
          },
          "title": {
           "x": 0.05
          },
          "xaxis": {
           "automargin": true,
           "gridcolor": "white",
           "linecolor": "white",
           "ticks": "",
           "title": {
            "standoff": 15
           },
           "zerolinecolor": "white",
           "zerolinewidth": 2
          },
          "yaxis": {
           "automargin": true,
           "gridcolor": "white",
           "linecolor": "white",
           "ticks": "",
           "title": {
            "standoff": 15
           },
           "zerolinecolor": "white",
           "zerolinewidth": 2
          }
         }
        },
        "title": {
         "text": "Cantidad de empleados con una Enfermedad Mental y si Conocen de los Beneficios que Ofrece su Empresa (2016)"
        }
       }
      }
     },
     "metadata": {},
     "output_type": "display_data"
    }
   ],
   "source": [
    "import plotly.express as px\n",
    "import plotly.graph_objects as go\n",
    "import pandas as pd\n",
    "\n",
    "df1 = pd.DataFrame([[\"1-5\", \"3\", \"2\"], [\"6-25\", \"19\", \"9\"], [\"26-100\", \"50\", \"25\"], [\"100-500\", \"80\", \"21\"], [\"500-1000\", \"85\", \"8\"], [\"Más de 1000\",\"85\", \"44\"]],\n",
    "                   columns = [\"Tamaño de la Empresa\", \"Cantidad de Personas dentro de la Empresa con una Enfermedad mental diagnosticada\", \"Cantidad de Empleados con una Enfermedad Mental que saben de los Beneficios que ofrece la empresa para ellos\"])\n",
    "\n",
    "x = ['1-5', '6-25', '26-100', '100-500', \"500-1000\",\"Más de 1000\" ]\n",
    "\n",
    "fig = go.Figure(data=[\n",
    "    go.Bar(\n",
    "        name='Cantidad de Personas con una Enfermedad Mental que conocen los Beneficios que Ofrece la Empresa',\n",
    "        x=x,\n",
    "        y=[2, 9, 25, 21, 8, 44],\n",
    "        marker_color='#b366ff'  # changed color\n",
    "    ),\n",
    "    go.Bar(\n",
    "        name='Cantidad de Personas dentro de la Empresa con una Enfermedad Mental Diagnosticada',\n",
    "        x=x,\n",
    "        y=[3, 19, 50, 80, 85, 82],\n",
    "        marker_color='#cc99ff'  # changed color\n",
    "    )\n",
    "])\n",
    "\n",
    "fig.update_layout(barmode='group', \n",
    "                  title= \"Cantidad de empleados con una Enfermedad Mental y si Conocen de los Beneficios que Ofrece su Empresa (2016)\")\n",
    "\n",
    "fig.show()\n"
   ]
  },
  {
   "cell_type": "markdown",
   "metadata": {},
   "source": [
    "Año 2016\n",
    "\n",
    "Empresas de 1-5 empleados: solo 3 empleados tenían una enfermedad mental diagnosticada, y solo 2 de ellos conoce los beneficios que ofrece la empresa para este tipo de casos.\n",
    "Empresas de 6-25 empleados: Hay 19 empleados con una enfermedad mental diagnosticada, de esos 9 conocen de los beneficios que ofrece la empresa para ellos.\n",
    "Empresas de 26-100 empleados: Hay 50 Personas con una Enfermedad mental Diagnostica y de estos 25 conoce sobre los beneficios que ofrece la empresa.\n",
    "Empresas de 100-500 empleados: Hay 80 personas con una Enfermedad Mental Diagnosticada y 21 personas conocen sobre los beneficios que ofrece la empresa\n",
    "Empresas de 500-1000 empleados: Es la empresa que tiene más empleados con una Enfermedad Mental Diagnosticada con una total 85 empleados, pero apenas solo 8 conocen de los beneficios de la empresa\n",
    "Empresas de más de 1000 empleados: Es la segunda empresa que tiene mas empleados con una enfermedad mental diagnostica con un total de 82 empleados, en esta empresa más de la mitad (44) conocen de los beneficios que ofrece la empresa.\n"
   ]
  },
  {
   "cell_type": "code",
   "execution_count": 15,
   "metadata": {},
   "outputs": [
    {
     "name": "stdout",
     "output_type": "stream",
     "text": [
      "Cantidad de Empleados en la Empresa_x\n",
      "100-500         107\n",
      "Más de 1000      88\n",
      "26-100           46\n",
      "6-25             36\n",
      "No respondió     31\n",
      "500-1000         27\n",
      "1-5               7\n",
      "Name: count, dtype: int64\n",
      "                                       Cantidad de Personas con Enfermedad Mental dentro de la Empresa  \\\n",
      "Cantidad de Empleados en la Empresa_x                                                                    \n",
      "100-500                                                                            107.0                 \n",
      "Más de 1000                                                                         88.0                 \n",
      "26-100                                                                              46.0                 \n",
      "6-25                                                                                36.0                 \n",
      "No respondió                                                                        31.0                 \n",
      "500-1000                                                                            27.0                 \n",
      "1-5                                                                                  7.0                 \n",
      "Total                                                                              342.0                 \n",
      "\n",
      "                                       Porcentaje  \n",
      "Cantidad de Empleados en la Empresa_x              \n",
      "100-500                                     31.29  \n",
      "Más de 1000                                 25.73  \n",
      "26-100                                      13.45  \n",
      "6-25                                        10.53  \n",
      "No respondió                                 9.06  \n",
      "500-1000                                     7.89  \n",
      "1-5                                          2.05  \n",
      "Total                                      100.00  \n"
     ]
    }
   ],
   "source": [
    "#PREGUNTA 2.2\n",
    "#df_Investigacion2\n",
    "\n",
    "# Assuming 'df_Investigacion2' is your DataFrame\n",
    "filtered_df2 = df_Investigacion2[df_Investigacion2['Situación Mental Actual'] == 'Si']\n",
    "\n",
    "# Group by UserID and count the occurrences\n",
    "grouped_df2 = filtered_df2.groupby('UserID').size().reset_index(name='Cantidad de Empleados en la Empresa')\n",
    "\n",
    "# Merge the counts back to the original DataFrame\n",
    "resultado_df2 = df_Investigacion2.merge(grouped_df2, on='UserID', how='left')\n",
    "\n",
    "# Extract relevant columns and rename 'Cantidad de Empleados en la Empresa'\n",
    "new2_df = resultado_df2[['Situación Mental Actual', 'Cantidad de Empleados en la Empresa_x']].copy()\n",
    "\n",
    "# Filter new_df to only include rows where 'Situación Mental Actual' is 'Si' or 'Seguramente si'\n",
    "new2_df = new2_df[(new2_df['Situación Mental Actual'] == 'Si') | (new2_df['Situación Mental Actual'] == 'Seguramente si')]\n",
    "\n",
    "counts2 = new2_df['Cantidad de Empleados en la Empresa_x'].value_counts()\n",
    "print(counts2)\n",
    "\n",
    "counts2_df = counts2.to_frame('Cantidad de Personas con Enfermedad Mental dentro de la Empresa')\n",
    "counts2_df['Porcentaje'] = (counts2 / counts2.sum()) * 100\n",
    "counts2_df['Porcentaje'] = counts2_df['Porcentaje'].round(2)\n",
    "# Agregar fila con el total\n",
    "counts2_df.loc['Total'] = [counts2.sum(), 100.00]\n",
    "print(counts2_df)\n"
   ]
  },
  {
   "cell_type": "code",
   "execution_count": 16,
   "metadata": {},
   "outputs": [
    {
     "data": {
      "text/plain": [
       "11"
      ]
     },
     "execution_count": 16,
     "metadata": {},
     "output_type": "execute_result"
    }
   ],
   "source": [
    "#¿Estas ofrecen algún beneficio o algún tipo de convenio de trabajo?\n",
    "\n",
    "# Filter the DataFrame to get the desired columns\n",
    "Empresa2 = df_Investigacion2[[\"Cantidad de Empleados en la Empresa\", \"Recursos de la Empresa Para Conocer sobre la Salud Mental y Canales de Ayuda\", \"Situación Mental Actual\"]].copy()\n",
    "\n",
    "# Remove rows with \"No respondió\" values\n",
    "Empresa_filtered2 = Empresa2.replace(\"No respondió\", np.nan).dropna()\n",
    "\n",
    "# Count the number of rows that meet the conditions\n",
    "count2 = ((Empresa_filtered2[\"Cantidad de Empleados en la Empresa\"] == \"500-1000\") &\n",
    "          (Empresa_filtered2[\"Recursos de la Empresa Para Conocer sobre la Salud Mental y Canales de Ayuda\"] == \"Si\") &\n",
    "          (Empresa_filtered2[\"Situación Mental Actual\"].isin([\"Si\", \"Seguramente si\"])))\n",
    "\n",
    "count2.sum()"
   ]
  },
  {
   "cell_type": "code",
   "execution_count": 18,
   "metadata": {},
   "outputs": [
    {
     "data": {
      "application/vnd.plotly.v1+json": {
       "config": {
        "plotlyServerURL": "https://plot.ly"
       },
       "data": [
        {
         "marker": {
          "color": "#b366ff"
         },
         "name": "Cantidad de Personas con una Enfermedad Mental que conocen los Beneficios que Ofrece la Empresa",
         "type": "bar",
         "x": [
          "1-5",
          "6-25",
          "26-100",
          "100-500",
          "500-1000",
          "Más de 1000"
         ],
         "y": [
          0,
          4,
          3,
          37,
          11,
          46
         ]
        },
        {
         "marker": {
          "color": "#cc99ff"
         },
         "name": "Cantidad de Personas dentro de la Empresa con una Enfermedad Mental Diagnosticada",
         "type": "bar",
         "x": [
          "1-5",
          "6-25",
          "26-100",
          "100-500",
          "500-1000",
          "Más de 1000"
         ],
         "y": [
          7,
          25,
          46,
          107,
          36,
          88
         ]
        }
       ],
       "layout": {
        "barmode": "group",
        "template": {
         "data": {
          "candlestick": [
           {
            "decreasing": {
             "line": {
              "color": "#000033"
             }
            },
            "increasing": {
             "line": {
              "color": "#000032"
             }
            },
            "type": "candlestick"
           }
          ],
          "contour": [
           {
            "colorscale": [
             [
              0,
              "#000011"
             ],
             [
              0.1111111111111111,
              "#000012"
             ],
             [
              0.2222222222222222,
              "#000013"
             ],
             [
              0.3333333333333333,
              "#000014"
             ],
             [
              0.4444444444444444,
              "#000015"
             ],
             [
              0.5555555555555556,
              "#000016"
             ],
             [
              0.6666666666666666,
              "#000017"
             ],
             [
              0.7777777777777778,
              "#000018"
             ],
             [
              0.8888888888888888,
              "#000019"
             ],
             [
              1,
              "#000020"
             ]
            ],
            "type": "contour"
           }
          ],
          "contourcarpet": [
           {
            "colorscale": [
             [
              0,
              "#000011"
             ],
             [
              0.1111111111111111,
              "#000012"
             ],
             [
              0.2222222222222222,
              "#000013"
             ],
             [
              0.3333333333333333,
              "#000014"
             ],
             [
              0.4444444444444444,
              "#000015"
             ],
             [
              0.5555555555555556,
              "#000016"
             ],
             [
              0.6666666666666666,
              "#000017"
             ],
             [
              0.7777777777777778,
              "#000018"
             ],
             [
              0.8888888888888888,
              "#000019"
             ],
             [
              1,
              "#000020"
             ]
            ],
            "type": "contourcarpet"
           }
          ],
          "heatmap": [
           {
            "colorscale": [
             [
              0,
              "#000011"
             ],
             [
              0.1111111111111111,
              "#000012"
             ],
             [
              0.2222222222222222,
              "#000013"
             ],
             [
              0.3333333333333333,
              "#000014"
             ],
             [
              0.4444444444444444,
              "#000015"
             ],
             [
              0.5555555555555556,
              "#000016"
             ],
             [
              0.6666666666666666,
              "#000017"
             ],
             [
              0.7777777777777778,
              "#000018"
             ],
             [
              0.8888888888888888,
              "#000019"
             ],
             [
              1,
              "#000020"
             ]
            ],
            "type": "heatmap"
           }
          ],
          "histogram2d": [
           {
            "colorscale": [
             [
              0,
              "#000011"
             ],
             [
              0.1111111111111111,
              "#000012"
             ],
             [
              0.2222222222222222,
              "#000013"
             ],
             [
              0.3333333333333333,
              "#000014"
             ],
             [
              0.4444444444444444,
              "#000015"
             ],
             [
              0.5555555555555556,
              "#000016"
             ],
             [
              0.6666666666666666,
              "#000017"
             ],
             [
              0.7777777777777778,
              "#000018"
             ],
             [
              0.8888888888888888,
              "#000019"
             ],
             [
              1,
              "#000020"
             ]
            ],
            "type": "histogram2d"
           }
          ],
          "icicle": [
           {
            "textfont": {
             "color": "white"
            },
            "type": "icicle"
           }
          ],
          "sankey": [
           {
            "textfont": {
             "color": "#000036"
            },
            "type": "sankey"
           }
          ],
          "scatter": [
           {
            "marker": {
             "line": {
              "width": 0
             }
            },
            "type": "scatter"
           }
          ],
          "table": [
           {
            "cells": {
             "fill": {
              "color": "#000038"
             },
             "font": {
              "color": "#000037"
             },
             "line": {
              "color": "#000039"
             }
            },
            "header": {
             "fill": {
              "color": "#000040"
             },
             "font": {
              "color": "#000036"
             },
             "line": {
              "color": "#000039"
             }
            },
            "type": "table"
           }
          ],
          "waterfall": [
           {
            "connector": {
             "line": {
              "color": "#000036",
              "width": 2
             }
            },
            "decreasing": {
             "marker": {
              "color": "#000033"
             }
            },
            "increasing": {
             "marker": {
              "color": "#000032"
             }
            },
            "totals": {
             "marker": {
              "color": "#000034"
             }
            },
            "type": "waterfall"
           }
          ]
         },
         "layout": {
          "coloraxis": {
           "colorscale": [
            [
             0,
             "#000011"
            ],
            [
             0.1111111111111111,
             "#000012"
            ],
            [
             0.2222222222222222,
             "#000013"
            ],
            [
             0.3333333333333333,
             "#000014"
            ],
            [
             0.4444444444444444,
             "#000015"
            ],
            [
             0.5555555555555556,
             "#000016"
            ],
            [
             0.6666666666666666,
             "#000017"
            ],
            [
             0.7777777777777778,
             "#000018"
            ],
            [
             0.8888888888888888,
             "#000019"
            ],
            [
             1,
             "#000020"
            ]
           ]
          },
          "colorscale": {
           "diverging": [
            [
             0,
             "#000021"
            ],
            [
             0.1,
             "#000022"
            ],
            [
             0.2,
             "#000023"
            ],
            [
             0.3,
             "#000024"
            ],
            [
             0.4,
             "#000025"
            ],
            [
             0.5,
             "#000026"
            ],
            [
             0.6,
             "#000027"
            ],
            [
             0.7,
             "#000028"
            ],
            [
             0.8,
             "#000029"
            ],
            [
             0.9,
             "#000030"
            ],
            [
             1,
             "#000031"
            ]
           ],
           "sequential": [
            [
             0,
             "#000011"
            ],
            [
             0.1111111111111111,
             "#000012"
            ],
            [
             0.2222222222222222,
             "#000013"
            ],
            [
             0.3333333333333333,
             "#000014"
            ],
            [
             0.4444444444444444,
             "#000015"
            ],
            [
             0.5555555555555556,
             "#000016"
            ],
            [
             0.6666666666666666,
             "#000017"
            ],
            [
             0.7777777777777778,
             "#000018"
            ],
            [
             0.8888888888888888,
             "#000019"
            ],
            [
             1,
             "#000020"
            ]
           ],
           "sequentialminus": [
            [
             0,
             "#000011"
            ],
            [
             0.1111111111111111,
             "#000012"
            ],
            [
             0.2222222222222222,
             "#000013"
            ],
            [
             0.3333333333333333,
             "#000014"
            ],
            [
             0.4444444444444444,
             "#000015"
            ],
            [
             0.5555555555555556,
             "#000016"
            ],
            [
             0.6666666666666666,
             "#000017"
            ],
            [
             0.7777777777777778,
             "#000018"
            ],
            [
             0.8888888888888888,
             "#000019"
            ],
            [
             1,
             "#000020"
            ]
           ]
          },
          "colorway": [
           "#000001",
           "#000002",
           "#000003",
           "#000004",
           "#000005",
           "#000006",
           "#000007",
           "#000008",
           "#000009",
           "#000010"
          ]
         }
        },
        "title": {
         "text": "Cantidad de empleados con Enfermedad Mental y si Conocen de los Beneficios que Ofrece su Empresa (2017)"
        }
       }
      }
     },
     "metadata": {},
     "output_type": "display_data"
    }
   ],
   "source": [
    "import plotly.express as px\n",
    "import plotly.graph_objects as go\n",
    "import pandas as pd\n",
    "import numpy as np\n",
    "\n",
    "df2 = pd.DataFrame ([[\"1-5\", \"7\", \"0\"], [\"6-25\", \"25\", \"4\"], [\"26-100\", \"46\", \"3\"], [\"100-500\", \"107\", \"37\"], [\"500-1000\", \"36\", \"11\"], [\"Más de 1000\",\"88\", \"46\"]],\n",
    "                   columns = [\"Tamaño de la Empresa\", \"Cantidad de Personas dentro de la Empresa con una Enfermedad mental diagnosticada\", \"Cantidad de Empleados con una Enfermedad Mental que saben de los Beneficios que ofrece la empresa para ellos\"])\n",
    "\n",
    "random_x = np.random.randint(1, 101, 100)\n",
    "random_y = np.random.randint(1, 101, 100)\n",
    "\n",
    "x = ['1-5', '6-25', '26-100', '100-500', \"500-1000\",\"Más de 1000\" ]\n",
    "\n",
    "fig = go.Figure(data=[\n",
    "    go.Bar(\n",
    "        name='Cantidad de Personas con una Enfermedad Mental que conocen los Beneficios que Ofrece la Empresa',\n",
    "        x=x,\n",
    "        y=[0, 4, 3, 37, 11, 46],\n",
    "        marker_color='#b366ff'  # changed color\n",
    "    ),\n",
    "    go.Bar(\n",
    "        name='Cantidad de Personas dentro de la Empresa con una Enfermedad Mental Diagnosticada',\n",
    "        x=x,\n",
    "        y=[7, 25, 46, 107, 36, 88],\n",
    "        marker_color='#cc99ff'  # changed color\n",
    "    )\n",
    "])\n",
    "\n",
    "fig.update_layout(barmode='group', title=\"Cantidad de empleados con Enfermedad Mental y si Conocen de los Beneficios que Ofrece su Empresa (2017)\")\n",
    "\n",
    "fig.show()"
   ]
  },
  {
   "cell_type": "markdown",
   "metadata": {},
   "source": [
    "Año 2017:\n",
    "\n",
    "Empresas de 1-5 empleados: Hay solo 7 empleados con una enfermedad Mental diagnosticada, y ninguno conoce de los beneficios que la empresa para este tipo de personas\n",
    "Empresas de 6-25 empleados: 25 empleados con enfermedades mentales diagnosticadas. De ellos, solo 4 (16%) conocen los beneficios que ofrece la empresa para este tipo de personas \n",
    "Empresas de 26-100 empleados: 46 empleados con enfermedades mentales diagnosticadas. De ellos, solo 3 (6%) conocen los beneficios que ofrece la empresa para este tipo de personas \n",
    "Empresas de 100-500 empleados: La empresa con mayor cantidad de empleados con enfermedades mentales: 107 en total. Sin embargo, menos de la mitad (37, 45%) conocen los beneficios que ofrece la empresa para este tipo de personas \n",
    "Empresas de 500-1000 empleados: 36 empleados con enfermedades mentales diagnosticadas. De ellos, solo 11 (31%) conocen los bbeneficios que ofrece la empresa para este tipo de personas \n",
    "Empresas de más de 1000 empleados: Segunda empresa con mayor cantidad de empleados con enfermedades mentales: 88 en total. De ellos, 46 (52%) conocen los beneficios que ofrece la empresa para este tipo de personas."
   ]
  },
  {
   "cell_type": "code",
   "execution_count": 19,
   "metadata": {},
   "outputs": [
    {
     "name": "stdout",
     "output_type": "stream",
     "text": [
      "Cantidad de Empleados en la Empresa_x\n",
      "Más de 1000     71\n",
      "100-500         44\n",
      "6-25            31\n",
      "26-100          30\n",
      "500-1000        24\n",
      "No respondió    18\n",
      "1-5              3\n",
      "Name: count, dtype: int64\n",
      "                                       Cantidad de Personas con Enfermedad Mental dentro de la Empresa  \\\n",
      "Cantidad de Empleados en la Empresa_x                                                                    \n",
      "Más de 1000                                                                         71.0                 \n",
      "100-500                                                                             44.0                 \n",
      "6-25                                                                                31.0                 \n",
      "26-100                                                                              30.0                 \n",
      "500-1000                                                                            24.0                 \n",
      "No respondió                                                                        18.0                 \n",
      "1-5                                                                                  3.0                 \n",
      "Total                                                                              221.0                 \n",
      "\n",
      "                                       Porcentaje  \n",
      "Cantidad de Empleados en la Empresa_x              \n",
      "Más de 1000                                 32.13  \n",
      "100-500                                     19.91  \n",
      "6-25                                        14.03  \n",
      "26-100                                      13.57  \n",
      "500-1000                                    10.86  \n",
      "No respondió                                 8.14  \n",
      "1-5                                          1.36  \n",
      "Total                                      100.00  \n"
     ]
    }
   ],
   "source": [
    "#df_Investigacion3\n",
    "# Assuming 'df_Investigacion3' is your DataFrame\n",
    "filtered_df3 = df_Investigacion3[df_Investigacion3['Situación Mental Actual'] == 'Si']\n",
    "\n",
    "# Group by UserID and count the occurrences\n",
    "grouped_df3 = filtered_df3.groupby('UserID').size().reset_index(name='Cantidad de Empleados en la Empresa')\n",
    "\n",
    "# Merge the counts back to the original DataFrame\n",
    "resultado_df3 = df_Investigacion3.merge(grouped_df3, on='UserID', how='left')\n",
    "\n",
    "# Extract relevant columns and rename 'Cantidad de Empleados en la Empresa'\n",
    "new3_df = resultado_df3[['Situación Mental Actual', 'Cantidad de Empleados en la Empresa_x']].copy()\n",
    "\n",
    "# Filter new_df to only include rows where 'Situación Mental Actual' is 'Si' or 'Seguramente si'\n",
    "new3_df = new3_df[(new3_df['Situación Mental Actual'] == 'Si') | (new3_df['Situación Mental Actual'] == 'Seguramente si')]\n",
    "\n",
    "counts3 = new3_df['Cantidad de Empleados en la Empresa_x'].value_counts()\n",
    "print(counts3)\n",
    "\n",
    "counts3_df = counts3.to_frame('Cantidad de Personas con Enfermedad Mental dentro de la Empresa')\n",
    "counts3_df['Porcentaje'] = (counts3 / counts3.sum()) * 100\n",
    "counts3_df['Porcentaje'] = counts3_df['Porcentaje'].round(2)\n",
    "# Agregar fila con el total\n",
    "counts3_df.loc['Total'] = [counts3.sum(), 100.00]\n",
    "print(counts3_df)"
   ]
  },
  {
   "cell_type": "code",
   "execution_count": 20,
   "metadata": {},
   "outputs": [
    {
     "data": {
      "text/plain": [
       "35"
      ]
     },
     "execution_count": 20,
     "metadata": {},
     "output_type": "execute_result"
    }
   ],
   "source": [
    "#¿Estas ofrecen algún beneficio o algún tipo de convenio de trabajo?\n",
    "\n",
    "# Filter the DataFrame to get the desired columns\n",
    "Empresa3 = df_Investigacion3[[\"Cantidad de Empleados en la Empresa\", \"Recursos de la Empresa Para Conocer sobre la Salud Mental y Canales de Ayuda\", \"Situación Mental Actual\"]].copy()\n",
    "\n",
    "# Remove rows with \"No respondió\" values\n",
    "Empresa_filtered3 = Empresa3.replace(\"No respondió\", np.nan).dropna()\n",
    "\n",
    "# Count the number of rows that meet the conditions\n",
    "count3 = ((Empresa_filtered3[\"Cantidad de Empleados en la Empresa\"] == \"Más de 1000\") &\n",
    "          (Empresa_filtered3[\"Recursos de la Empresa Para Conocer sobre la Salud Mental y Canales de Ayuda\"] == \"Si\") &\n",
    "          (Empresa_filtered3[\"Situación Mental Actual\"].isin([\"Si\", \"Seguramente si\"])))\n",
    "\n",
    "count3.sum()"
   ]
  },
  {
   "cell_type": "code",
   "execution_count": 22,
   "metadata": {},
   "outputs": [
    {
     "data": {
      "application/vnd.plotly.v1+json": {
       "config": {
        "plotlyServerURL": "https://plot.ly"
       },
       "data": [
        {
         "marker": {
          "color": "#b366ff"
         },
         "name": "Cantidad de Personas con una Enfermedad Mental que conocen los Beneficios que Ofrece la Empresa",
         "type": "bar",
         "x": [
          "1-5",
          "6-25",
          "26-100",
          "100-500",
          "500-1000",
          "Más de 1000"
         ],
         "y": [
          1,
          3,
          8,
          20,
          10,
          35
         ]
        },
        {
         "marker": {
          "color": "#cc99ff"
         },
         "name": "Cantidad de Personas dentro de la Empresa con una Enfermedad Mental Diagnosticada",
         "type": "bar",
         "x": [
          "1-5",
          "6-25",
          "26-100",
          "100-500",
          "500-1000",
          "Más de 1000"
         ],
         "y": [
          3,
          24,
          30,
          44,
          31,
          71
         ]
        }
       ],
       "layout": {
        "barmode": "group",
        "template": {
         "data": {
          "candlestick": [
           {
            "decreasing": {
             "line": {
              "color": "#000033"
             }
            },
            "increasing": {
             "line": {
              "color": "#000032"
             }
            },
            "type": "candlestick"
           }
          ],
          "contour": [
           {
            "colorscale": [
             [
              0,
              "#000011"
             ],
             [
              0.1111111111111111,
              "#000012"
             ],
             [
              0.2222222222222222,
              "#000013"
             ],
             [
              0.3333333333333333,
              "#000014"
             ],
             [
              0.4444444444444444,
              "#000015"
             ],
             [
              0.5555555555555556,
              "#000016"
             ],
             [
              0.6666666666666666,
              "#000017"
             ],
             [
              0.7777777777777778,
              "#000018"
             ],
             [
              0.8888888888888888,
              "#000019"
             ],
             [
              1,
              "#000020"
             ]
            ],
            "type": "contour"
           }
          ],
          "contourcarpet": [
           {
            "colorscale": [
             [
              0,
              "#000011"
             ],
             [
              0.1111111111111111,
              "#000012"
             ],
             [
              0.2222222222222222,
              "#000013"
             ],
             [
              0.3333333333333333,
              "#000014"
             ],
             [
              0.4444444444444444,
              "#000015"
             ],
             [
              0.5555555555555556,
              "#000016"
             ],
             [
              0.6666666666666666,
              "#000017"
             ],
             [
              0.7777777777777778,
              "#000018"
             ],
             [
              0.8888888888888888,
              "#000019"
             ],
             [
              1,
              "#000020"
             ]
            ],
            "type": "contourcarpet"
           }
          ],
          "heatmap": [
           {
            "colorscale": [
             [
              0,
              "#000011"
             ],
             [
              0.1111111111111111,
              "#000012"
             ],
             [
              0.2222222222222222,
              "#000013"
             ],
             [
              0.3333333333333333,
              "#000014"
             ],
             [
              0.4444444444444444,
              "#000015"
             ],
             [
              0.5555555555555556,
              "#000016"
             ],
             [
              0.6666666666666666,
              "#000017"
             ],
             [
              0.7777777777777778,
              "#000018"
             ],
             [
              0.8888888888888888,
              "#000019"
             ],
             [
              1,
              "#000020"
             ]
            ],
            "type": "heatmap"
           }
          ],
          "histogram2d": [
           {
            "colorscale": [
             [
              0,
              "#000011"
             ],
             [
              0.1111111111111111,
              "#000012"
             ],
             [
              0.2222222222222222,
              "#000013"
             ],
             [
              0.3333333333333333,
              "#000014"
             ],
             [
              0.4444444444444444,
              "#000015"
             ],
             [
              0.5555555555555556,
              "#000016"
             ],
             [
              0.6666666666666666,
              "#000017"
             ],
             [
              0.7777777777777778,
              "#000018"
             ],
             [
              0.8888888888888888,
              "#000019"
             ],
             [
              1,
              "#000020"
             ]
            ],
            "type": "histogram2d"
           }
          ],
          "icicle": [
           {
            "textfont": {
             "color": "white"
            },
            "type": "icicle"
           }
          ],
          "sankey": [
           {
            "textfont": {
             "color": "#000036"
            },
            "type": "sankey"
           }
          ],
          "scatter": [
           {
            "marker": {
             "line": {
              "width": 0
             }
            },
            "type": "scatter"
           }
          ],
          "table": [
           {
            "cells": {
             "fill": {
              "color": "#000038"
             },
             "font": {
              "color": "#000037"
             },
             "line": {
              "color": "#000039"
             }
            },
            "header": {
             "fill": {
              "color": "#000040"
             },
             "font": {
              "color": "#000036"
             },
             "line": {
              "color": "#000039"
             }
            },
            "type": "table"
           }
          ],
          "waterfall": [
           {
            "connector": {
             "line": {
              "color": "#000036",
              "width": 2
             }
            },
            "decreasing": {
             "marker": {
              "color": "#000033"
             }
            },
            "increasing": {
             "marker": {
              "color": "#000032"
             }
            },
            "totals": {
             "marker": {
              "color": "#000034"
             }
            },
            "type": "waterfall"
           }
          ]
         },
         "layout": {
          "coloraxis": {
           "colorscale": [
            [
             0,
             "#000011"
            ],
            [
             0.1111111111111111,
             "#000012"
            ],
            [
             0.2222222222222222,
             "#000013"
            ],
            [
             0.3333333333333333,
             "#000014"
            ],
            [
             0.4444444444444444,
             "#000015"
            ],
            [
             0.5555555555555556,
             "#000016"
            ],
            [
             0.6666666666666666,
             "#000017"
            ],
            [
             0.7777777777777778,
             "#000018"
            ],
            [
             0.8888888888888888,
             "#000019"
            ],
            [
             1,
             "#000020"
            ]
           ]
          },
          "colorscale": {
           "diverging": [
            [
             0,
             "#000021"
            ],
            [
             0.1,
             "#000022"
            ],
            [
             0.2,
             "#000023"
            ],
            [
             0.3,
             "#000024"
            ],
            [
             0.4,
             "#000025"
            ],
            [
             0.5,
             "#000026"
            ],
            [
             0.6,
             "#000027"
            ],
            [
             0.7,
             "#000028"
            ],
            [
             0.8,
             "#000029"
            ],
            [
             0.9,
             "#000030"
            ],
            [
             1,
             "#000031"
            ]
           ],
           "sequential": [
            [
             0,
             "#000011"
            ],
            [
             0.1111111111111111,
             "#000012"
            ],
            [
             0.2222222222222222,
             "#000013"
            ],
            [
             0.3333333333333333,
             "#000014"
            ],
            [
             0.4444444444444444,
             "#000015"
            ],
            [
             0.5555555555555556,
             "#000016"
            ],
            [
             0.6666666666666666,
             "#000017"
            ],
            [
             0.7777777777777778,
             "#000018"
            ],
            [
             0.8888888888888888,
             "#000019"
            ],
            [
             1,
             "#000020"
            ]
           ],
           "sequentialminus": [
            [
             0,
             "#000011"
            ],
            [
             0.1111111111111111,
             "#000012"
            ],
            [
             0.2222222222222222,
             "#000013"
            ],
            [
             0.3333333333333333,
             "#000014"
            ],
            [
             0.4444444444444444,
             "#000015"
            ],
            [
             0.5555555555555556,
             "#000016"
            ],
            [
             0.6666666666666666,
             "#000017"
            ],
            [
             0.7777777777777778,
             "#000018"
            ],
            [
             0.8888888888888888,
             "#000019"
            ],
            [
             1,
             "#000020"
            ]
           ]
          },
          "colorway": [
           "#000001",
           "#000002",
           "#000003",
           "#000004",
           "#000005",
           "#000006",
           "#000007",
           "#000008",
           "#000009",
           "#000010"
          ]
         }
        },
        "title": {
         "text": "Cantidad de empleados con Enfermedad Mental y si Conocen de los Beneficios que Ofrece su Empresa (2018)"
        }
       }
      }
     },
     "metadata": {},
     "output_type": "display_data"
    }
   ],
   "source": [
    "import plotly.express as px\n",
    "import plotly.graph_objects as go\n",
    "import pandas as pd\n",
    "import numpy as np\n",
    "\n",
    "df3 = pd.DataFrame ([[\"1-5\", \"3\", \"1\"], [\"6-25\", \"24\", \"3\"], [\"26-100\", \"30\", \"8\"], [\"100-500\", \"44\", \"20\"], [\"500-1000\", \"31\", \"10\"], [\"Más de 1000\",\"71\", \"35\"]],\n",
    "                   columns = [\"Tamaño de la Empresa\", \"Cantidad de Personas dentro de la Empresa con una Enfermedad mental diagnosticada\", \"Cantidad de Empleados con una Enfermedad Mental que saben de los Beneficios que ofrece la empresa para ellos\"])\n",
    "\n",
    "random_x = np.random.randint(1, 101, 100)\n",
    "random_y = np.random.randint(1, 101, 100)\n",
    "\n",
    "x = ['1-5', '6-25', '26-100', '100-500', \"500-1000\",\"Más de 1000\" ]\n",
    "\n",
    "fig = go.Figure(data=[\n",
    "    go.Bar(\n",
    "        name='Cantidad de Personas con una Enfermedad Mental que conocen los Beneficios que Ofrece la Empresa',\n",
    "        x=x,\n",
    "        y=[1, 3, 8, 20, 10, 35],\n",
    "        marker_color='#b366ff'  # changed color\n",
    "    ),\n",
    "    go.Bar(\n",
    "        name='Cantidad de Personas dentro de la Empresa con una Enfermedad Mental Diagnosticada',\n",
    "        x=x,\n",
    "        y=[3, 24, 30, 44, 31, 71],\n",
    "        marker_color='#cc99ff'  # changed color\n",
    "    )\n",
    "])\n",
    "\n",
    "fig.update_layout(barmode='group', title=\"Cantidad de empleados con Enfermedad Mental y si Conocen de los Beneficios que Ofrece su Empresa (2018)\")\n",
    "\n",
    "fig.show()"
   ]
  },
  {
   "cell_type": "markdown",
   "metadata": {},
   "source": [
    "Año 2018\n",
    "\n",
    "Empresas de 1-5 empleados: solo 3 empleados tenían una enfermedad mental diagnosticada, y solo 1 de ellos conoce los beneficios que ofrece la empresa para este tipo de casos.\n",
    "Empresas de 6-25 empleados: Hay 24 empleados con una enfermedad mental diagnosticada, de esos 3 conocen de los beneficios que ofrece la empresa para ellos.\n",
    "Empresas de 26-100 empleados: Hay 30 Personas con una Enfermedad mental Diagnostica y de estos 8 conoce sobre los beneficios que ofrece la empresa.\n",
    "Empresas de 100-500 empleados: Es la segunda empresa que tiene más empleados con una enfermedad mental diagnostica con un total de 44 con una Enfermedad Mental y casi la mitad (20) conoce de los beneficios que tiene la empresa Diagnosticada\n",
    "Empresas de 500-1000 empleados: Hay 31 empleados con una enfermedad mental diagnosticada, de esos 10 conocen de los beneficios que ofrece la empresa para ellos.\n",
    "Empresas de más de 1000 empleados: Es la empresa que tiene más empleados con una Enfermedad Mental Diagnosticada con una total 71 empleados, y casi la mitad de estos (35) conoce sobre los beneficios que ofrece la empresa. Esto podría deberse a recursos y estrategias de comunicación más robustas en empresas de mayor tamaño.\n"
   ]
  },
  {
   "cell_type": "code",
   "execution_count": 23,
   "metadata": {},
   "outputs": [
    {
     "name": "stdout",
     "output_type": "stream",
     "text": [
      "Cantidad de Empleados en la Empresa_x\n",
      "Más de 1000     48\n",
      "100-500         33\n",
      "26-100          21\n",
      "6-25            15\n",
      "No respondió    13\n",
      "500-1000        11\n",
      "1-5              3\n",
      "Name: count, dtype: int64\n",
      "                                       Cantidad de Personas con Enfermedad Mental dentro de la Empresa  \\\n",
      "Cantidad de Empleados en la Empresa_x                                                                    \n",
      "Más de 1000                                                                         48.0                 \n",
      "100-500                                                                             33.0                 \n",
      "26-100                                                                              21.0                 \n",
      "6-25                                                                                15.0                 \n",
      "No respondió                                                                        13.0                 \n",
      "500-1000                                                                            11.0                 \n",
      "1-5                                                                                  3.0                 \n",
      "Total                                                                              144.0                 \n",
      "\n",
      "                                       Porcentaje  \n",
      "Cantidad de Empleados en la Empresa_x              \n",
      "Más de 1000                                 33.33  \n",
      "100-500                                     22.92  \n",
      "26-100                                      14.58  \n",
      "6-25                                        10.42  \n",
      "No respondió                                 9.03  \n",
      "500-1000                                     7.64  \n",
      "1-5                                          2.08  \n",
      "Total                                      100.00  \n"
     ]
    }
   ],
   "source": [
    "# Assuming 'df_Investigacion4' is your DataFrame\n",
    "filtered_df4 = df_Investigacion4[df_Investigacion4['Situación Mental Actual'] == 'Si']\n",
    "\n",
    "# Group by UserID and count the occurrences\n",
    "grouped_df4 = filtered_df4.groupby('UserID').size().reset_index(name='Cantidad de Empleados en la Empresa')\n",
    "\n",
    "# Merge the counts back to the original DataFrame\n",
    "resultado_df4 = df_Investigacion4.merge(grouped_df4, on='UserID', how='left')\n",
    "\n",
    "# Extract relevant columns and rename 'Cantidad de Empleados en la Empresa'\n",
    "new4_df = resultado_df4[['Situación Mental Actual', 'Cantidad de Empleados en la Empresa_x']].copy()\n",
    "\n",
    "# Filter new_df to only include rows where 'Situación Mental Actual' is 'Si' or 'Seguramente si'\n",
    "new4_df = new4_df[(new4_df['Situación Mental Actual'] == 'Si') | (new4_df['Situación Mental Actual'] == 'Seguramente si')]\n",
    "\n",
    "counts4 = new4_df['Cantidad de Empleados en la Empresa_x'].value_counts()\n",
    "print(counts4)\n",
    "\n",
    "counts4_df = counts4.to_frame('Cantidad de Personas con Enfermedad Mental dentro de la Empresa')\n",
    "counts4_df['Porcentaje'] = (counts4 / counts4.sum()) * 100\n",
    "counts4_df['Porcentaje'] = counts4_df['Porcentaje'].round(2)\n",
    "# Agregar fila con el total\n",
    "counts4_df.loc['Total'] = [counts4.sum(), 100.00]\n",
    "print(counts4_df)\n"
   ]
  },
  {
   "cell_type": "code",
   "execution_count": 24,
   "metadata": {},
   "outputs": [
    {
     "data": {
      "text/plain": [
       "3"
      ]
     },
     "execution_count": 24,
     "metadata": {},
     "output_type": "execute_result"
    }
   ],
   "source": [
    "#¿Estas ofrecen algún beneficio o algún tipo de convenio de trabajo?\n",
    "\n",
    "# Filter the DataFrame to get the desired columns\n",
    "Empresa_filtered4= df_Investigacion4[[\"Cantidad de Empleados en la Empresa\", \"Recursos de la Empresa Para Conocer sobre la Salud Mental y Canales de Ayuda\", \"Situación Mental Actual\"]].copy()\n",
    "\n",
    "# Remove rows with \"No respondió\" values\n",
    "Empresa_filtered4 = Empresa_filtered4.replace(\"No respondió\", np.nan).dropna()\n",
    "\n",
    "# Count the number of rows that meet the conditions\n",
    "count4 = ((Empresa_filtered4[\"Cantidad de Empleados en la Empresa\"] == \"6-25\") &\n",
    "          (Empresa_filtered4[\"Recursos de la Empresa Para Conocer sobre la Salud Mental y Canales de Ayuda\"] == \"Si\") &\n",
    "          (Empresa_filtered4[\"Situación Mental Actual\"].isin([\"Si\", \"Seguramente si\"])))\n",
    "\n",
    "count4.sum()"
   ]
  },
  {
   "cell_type": "code",
   "execution_count": 26,
   "metadata": {},
   "outputs": [
    {
     "data": {
      "application/vnd.plotly.v1+json": {
       "config": {
        "plotlyServerURL": "https://plot.ly"
       },
       "data": [
        {
         "marker": {
          "color": "#b366ff"
         },
         "name": "Cantidad de Personas con una Enfermedad Mental que conocen los Beneficios que Ofrece la Empresa",
         "type": "bar",
         "x": [
          "1-5",
          "6-25",
          "26-100",
          "100-500",
          "500-1000",
          "Más de 1000"
         ],
         "y": [
          0,
          3,
          3,
          11,
          3,
          32
         ]
        },
        {
         "marker": {
          "color": "#cc99ff"
         },
         "name": "Cantidad de Personas dentro de la Empresa con una Enfermedad Mental Diagnosticada",
         "type": "bar",
         "x": [
          "1-5",
          "6-25",
          "26-100",
          "100-500",
          "500-1000",
          "Más de 1000"
         ],
         "y": [
          3,
          15,
          21,
          33,
          11,
          48
         ]
        }
       ],
       "layout": {
        "barmode": "group",
        "template": {
         "data": {
          "candlestick": [
           {
            "decreasing": {
             "line": {
              "color": "#000033"
             }
            },
            "increasing": {
             "line": {
              "color": "#000032"
             }
            },
            "type": "candlestick"
           }
          ],
          "contour": [
           {
            "colorscale": [
             [
              0,
              "#000011"
             ],
             [
              0.1111111111111111,
              "#000012"
             ],
             [
              0.2222222222222222,
              "#000013"
             ],
             [
              0.3333333333333333,
              "#000014"
             ],
             [
              0.4444444444444444,
              "#000015"
             ],
             [
              0.5555555555555556,
              "#000016"
             ],
             [
              0.6666666666666666,
              "#000017"
             ],
             [
              0.7777777777777778,
              "#000018"
             ],
             [
              0.8888888888888888,
              "#000019"
             ],
             [
              1,
              "#000020"
             ]
            ],
            "type": "contour"
           }
          ],
          "contourcarpet": [
           {
            "colorscale": [
             [
              0,
              "#000011"
             ],
             [
              0.1111111111111111,
              "#000012"
             ],
             [
              0.2222222222222222,
              "#000013"
             ],
             [
              0.3333333333333333,
              "#000014"
             ],
             [
              0.4444444444444444,
              "#000015"
             ],
             [
              0.5555555555555556,
              "#000016"
             ],
             [
              0.6666666666666666,
              "#000017"
             ],
             [
              0.7777777777777778,
              "#000018"
             ],
             [
              0.8888888888888888,
              "#000019"
             ],
             [
              1,
              "#000020"
             ]
            ],
            "type": "contourcarpet"
           }
          ],
          "heatmap": [
           {
            "colorscale": [
             [
              0,
              "#000011"
             ],
             [
              0.1111111111111111,
              "#000012"
             ],
             [
              0.2222222222222222,
              "#000013"
             ],
             [
              0.3333333333333333,
              "#000014"
             ],
             [
              0.4444444444444444,
              "#000015"
             ],
             [
              0.5555555555555556,
              "#000016"
             ],
             [
              0.6666666666666666,
              "#000017"
             ],
             [
              0.7777777777777778,
              "#000018"
             ],
             [
              0.8888888888888888,
              "#000019"
             ],
             [
              1,
              "#000020"
             ]
            ],
            "type": "heatmap"
           }
          ],
          "histogram2d": [
           {
            "colorscale": [
             [
              0,
              "#000011"
             ],
             [
              0.1111111111111111,
              "#000012"
             ],
             [
              0.2222222222222222,
              "#000013"
             ],
             [
              0.3333333333333333,
              "#000014"
             ],
             [
              0.4444444444444444,
              "#000015"
             ],
             [
              0.5555555555555556,
              "#000016"
             ],
             [
              0.6666666666666666,
              "#000017"
             ],
             [
              0.7777777777777778,
              "#000018"
             ],
             [
              0.8888888888888888,
              "#000019"
             ],
             [
              1,
              "#000020"
             ]
            ],
            "type": "histogram2d"
           }
          ],
          "icicle": [
           {
            "textfont": {
             "color": "white"
            },
            "type": "icicle"
           }
          ],
          "sankey": [
           {
            "textfont": {
             "color": "#000036"
            },
            "type": "sankey"
           }
          ],
          "scatter": [
           {
            "marker": {
             "line": {
              "width": 0
             }
            },
            "type": "scatter"
           }
          ],
          "table": [
           {
            "cells": {
             "fill": {
              "color": "#000038"
             },
             "font": {
              "color": "#000037"
             },
             "line": {
              "color": "#000039"
             }
            },
            "header": {
             "fill": {
              "color": "#000040"
             },
             "font": {
              "color": "#000036"
             },
             "line": {
              "color": "#000039"
             }
            },
            "type": "table"
           }
          ],
          "waterfall": [
           {
            "connector": {
             "line": {
              "color": "#000036",
              "width": 2
             }
            },
            "decreasing": {
             "marker": {
              "color": "#000033"
             }
            },
            "increasing": {
             "marker": {
              "color": "#000032"
             }
            },
            "totals": {
             "marker": {
              "color": "#000034"
             }
            },
            "type": "waterfall"
           }
          ]
         },
         "layout": {
          "coloraxis": {
           "colorscale": [
            [
             0,
             "#000011"
            ],
            [
             0.1111111111111111,
             "#000012"
            ],
            [
             0.2222222222222222,
             "#000013"
            ],
            [
             0.3333333333333333,
             "#000014"
            ],
            [
             0.4444444444444444,
             "#000015"
            ],
            [
             0.5555555555555556,
             "#000016"
            ],
            [
             0.6666666666666666,
             "#000017"
            ],
            [
             0.7777777777777778,
             "#000018"
            ],
            [
             0.8888888888888888,
             "#000019"
            ],
            [
             1,
             "#000020"
            ]
           ]
          },
          "colorscale": {
           "diverging": [
            [
             0,
             "#000021"
            ],
            [
             0.1,
             "#000022"
            ],
            [
             0.2,
             "#000023"
            ],
            [
             0.3,
             "#000024"
            ],
            [
             0.4,
             "#000025"
            ],
            [
             0.5,
             "#000026"
            ],
            [
             0.6,
             "#000027"
            ],
            [
             0.7,
             "#000028"
            ],
            [
             0.8,
             "#000029"
            ],
            [
             0.9,
             "#000030"
            ],
            [
             1,
             "#000031"
            ]
           ],
           "sequential": [
            [
             0,
             "#000011"
            ],
            [
             0.1111111111111111,
             "#000012"
            ],
            [
             0.2222222222222222,
             "#000013"
            ],
            [
             0.3333333333333333,
             "#000014"
            ],
            [
             0.4444444444444444,
             "#000015"
            ],
            [
             0.5555555555555556,
             "#000016"
            ],
            [
             0.6666666666666666,
             "#000017"
            ],
            [
             0.7777777777777778,
             "#000018"
            ],
            [
             0.8888888888888888,
             "#000019"
            ],
            [
             1,
             "#000020"
            ]
           ],
           "sequentialminus": [
            [
             0,
             "#000011"
            ],
            [
             0.1111111111111111,
             "#000012"
            ],
            [
             0.2222222222222222,
             "#000013"
            ],
            [
             0.3333333333333333,
             "#000014"
            ],
            [
             0.4444444444444444,
             "#000015"
            ],
            [
             0.5555555555555556,
             "#000016"
            ],
            [
             0.6666666666666666,
             "#000017"
            ],
            [
             0.7777777777777778,
             "#000018"
            ],
            [
             0.8888888888888888,
             "#000019"
            ],
            [
             1,
             "#000020"
            ]
           ]
          },
          "colorway": [
           "#000001",
           "#000002",
           "#000003",
           "#000004",
           "#000005",
           "#000006",
           "#000007",
           "#000008",
           "#000009",
           "#000010"
          ]
         }
        },
        "title": {
         "text": "Cantidad de empleados con Enfermedad Mental y si Conocen de los Beneficios que Ofrece su Empresa (2019)"
        }
       }
      }
     },
     "metadata": {},
     "output_type": "display_data"
    }
   ],
   "source": [
    "import plotly.express as px\n",
    "import plotly.graph_objects as go\n",
    "import pandas as pd\n",
    "import numpy as np\n",
    "\n",
    "df4 = pd.DataFrame ([[\"1-5\", \"3\", \"0\"], [\"6-25\", \"15\", \"3\"], [\"26-100\", \"21\", \"3\"], [\"100-500\", \"33\", \"11\"], [\"500-1000\", \"11\", \"3\"], [\"Más de 1000\",\"48\", \"32\"]],\n",
    "                   columns = [\"Tamaño de la Empresa\", \"Cantidad de Personas dentro de la Empresa con una Enfermedad mental diagnosticada\", \"Cantidad de Empleados con una Enfermedad Mental que saben de los Beneficios que ofrece la empresa para ellos\"])\n",
    "\n",
    "random_x = np.random.randint(1, 101, 100)\n",
    "random_y = np.random.randint(1, 101, 100)\n",
    "\n",
    "x = ['1-5', '6-25', '26-100', '100-500', \"500-1000\",\"Más de 1000\" ]\n",
    "\n",
    "fig = go.Figure(data=[\n",
    "    go.Bar(\n",
    "        name='Cantidad de Personas con una Enfermedad Mental que conocen los Beneficios que Ofrece la Empresa',\n",
    "        x=x,\n",
    "        y=[0,3, 3, 11, 3, 32],\n",
    "        marker_color='#b366ff'  # changed color\n",
    "    ),\n",
    "    go.Bar(\n",
    "        name='Cantidad de Personas dentro de la Empresa con una Enfermedad Mental Diagnosticada',\n",
    "        x=x,\n",
    "        y=[3, 15, 21, 33, 11, 48],\n",
    "        marker_color='#cc99ff'  # changed color\n",
    "    )\n",
    "])\n",
    "\n",
    "fig.update_layout(barmode='group', title=\"Cantidad de empleados con Enfermedad Mental y si Conocen de los Beneficios que Ofrece su Empresa (2019)\")\n",
    "\n",
    "fig.show()"
   ]
  },
  {
   "cell_type": "markdown",
   "metadata": {},
   "source": [
    "Año 2019\n",
    "\n",
    "Empresas de 1-5 empleados: solo 3 empleados tenían una enfermedad mental diagnosticada, y ninguno conoce sobre los beneficios que ofrece la empresa\n",
    "Empresas de 6-25 empleados: Hay 15 empleados con una enfermedad mental diagnosticada, de esos 3 conocen de los beneficios que ofrece la empresa para ellos.\n",
    "Empresas de 26-100 empleados: Hay 21 Personas con una Enfermedad mental Diagnostica y de estos 3 conoce sobre los beneficios que ofrece la empresa.\n",
    "Empresas de 100-500 empleados: Es la segunda empresa que tiene más empleados con una enfermedad mental diagnostica con un total de 33 con una Enfermedad Mental y solo 11 personas conocen de los beneficios que tiene la empresa Diagnosticada\n",
    "Empresas de 500-1000 empleados: Hay 11 empleados con una enfermedad mental diagnosticada, de esos 3 conocen de los beneficios que ofrece la empresa para ellos.\n",
    "Empresas de más de 1000 empleados: Es la empresa que tiene más empleados con una Enfermedad Mental Diagnosticada con una total 48 empleados, y más de la mitad de estos (32) conoce sobre los beneficios que ofrece la empresa. Esto podría deberse a recursos y estrategias de comunicación más robustas en empresas de mayor tamaño.\n"
   ]
  },
  {
   "cell_type": "code",
   "execution_count": null,
   "metadata": {},
   "outputs": [
    {
     "name": "stdout",
     "output_type": "stream",
     "text": [
      "Porcentaje de Tiempo Afectada Por Enfermedad Mental\n",
      "76-100%    3\n",
      "51-75%     2\n",
      "26-50%     1\n",
      "1-25%      1\n",
      "Name: count, dtype: int64\n",
      "Porcentaje de Tiempo Afectada Por Enfermedad Mental\n",
      "26-50%     11\n",
      "1-25%       9\n",
      "51-75%      3\n",
      "76-100%     1\n",
      "Name: count, dtype: int64\n",
      "Porcentaje de Tiempo Afectada Por Enfermedad Mental\n",
      "1-25%      10\n",
      "26-50%      2\n",
      "51-75%      1\n",
      "76-100%     1\n",
      "Name: count, dtype: int64\n",
      "Porcentaje de Tiempo Afectada Por Enfermedad Mental\n",
      "1-25%      6\n",
      "26-50%     3\n",
      "51-75%     2\n",
      "76-100%    1\n",
      "Name: count, dtype: int64\n",
      "Porcentaje de Tiempo Afectada Por Enfermedad Mental\n",
      "1-25%     2\n",
      "51-75%    2\n",
      "Name: count, dtype: int64\n"
     ]
    }
   ],
   "source": [
    "df_seleccionado = df_Investigacion1.loc[:, [\"Edad\", \"Productividad Afectada Por Enfermedad Mental\", \"Porcentaje de Tiempo Afectada Por Enfermedad Mental\", \"Situación Mental Actual\", \"Enfermedades Mentales Diagnosticadas\"]]\n",
    "\n",
    "df_seleccionado = df_seleccionado[~df_seleccionado.isin([\"No respondió\"]).any(axis=1)]\n",
    "\n",
    "\n",
    "def age_to_interval(age):\n",
    "    age = int(age)  # Convertir edad a entero\n",
    "    if age >= 20 and age <= 28:\n",
    "        return \"20-28\"\n",
    "    elif age >= 29 and age <= 37:\n",
    "        return \"29-37\"\n",
    "    elif age >= 38 and age <= 46:\n",
    "        return \"38-46\"\n",
    "    elif age >= 47 and age <= 55:\n",
    "        return \"47-55\"\n",
    "    elif age >= 56 and age <= 65:\n",
    "        return \"56-65\"\n",
    "    else:\n",
    "        return \"Unknown\"\n",
    "df_seleccionado['Intervalo de Edad'] = df_seleccionado['Edad'].apply(age_to_interval)\n",
    "    \n",
    "# Filtrar el dataframe para solo incluir las filas con Intervalo de edad \"20-28\"\n",
    "df_filtrado985= df_seleccionado[df_seleccionado['Intervalo de Edad'] == '20-28']\n",
    "\n",
    "# Contar las respuestas en la columna \"Porcentaje de Tiempo Afectada por Enfermedad Mental\"\n",
    "conteo_respuestas956 = df_filtrado985['Porcentaje de Tiempo Afectada Por Enfermedad Mental'].value_counts()\n",
    "\n",
    "print(conteo_respuestas956)\n",
    "\n",
    "# Filtrar el dataframe para solo incluir las filas con Intervalo de edad \"29-37\"\n",
    "df_filtrado98= df_seleccionado[df_seleccionado['Intervalo de Edad'] == '29-37']\n",
    "\n",
    "# Contar las respuestas en la columna \"Porcentaje de Tiempo Afectada por Enfermedad Mental\"\n",
    "conteo_respuestas95 = df_filtrado98['Porcentaje de Tiempo Afectada Por Enfermedad Mental'].value_counts()\n",
    "\n",
    "print(conteo_respuestas95)\n",
    "\n",
    "# Filtrar el dataframe para solo incluir las filas con Intervalo de edad \"38-46\"\n",
    "df_filtrado9= df_seleccionado[df_seleccionado['Intervalo de Edad'] == '38-46']\n",
    "\n",
    "# Contar las respuestas en la columna \"Porcentaje de Tiempo Afectada por Enfermedad Mental\"\n",
    "conteo_respuestas9 = df_filtrado9['Porcentaje de Tiempo Afectada Por Enfermedad Mental'].value_counts()\n",
    "\n",
    "print(conteo_respuestas9)\n",
    "\n",
    "# Filtrar el dataframe para solo incluir las filas con Intervalo de edad \"47-55\"\n",
    "df_filtrado1000= df_seleccionado[df_seleccionado['Intervalo de Edad'] == '47-55']\n",
    "\n",
    "# Contar las respuestas en la columna \"Porcentaje de Tiempo Afectada por Enfermedad Mental\"\n",
    "conteo_respuestas1000 = df_filtrado1000['Porcentaje de Tiempo Afectada Por Enfermedad Mental'].value_counts()\n",
    "\n",
    "print(conteo_respuestas1000)\n",
    "\n",
    "# Filtrar el dataframe para solo incluir las filas con Intervalo de edad \"56-65\"\n",
    "df_filtrado10= df_seleccionado[df_seleccionado['Intervalo de Edad'] == '56-65']\n",
    "\n",
    "# Contar las respuestas en la columna \"Porcentaje de Tiempo Afectada por Enfermedad Mental\"\n",
    "conteo_respuestas10 = df_filtrado10['Porcentaje de Tiempo Afectada Por Enfermedad Mental'].value_counts()\n",
    "\n",
    "print(conteo_respuestas10)\n",
    "\n",
    "\n"
   ]
  },
  {
   "cell_type": "code",
   "execution_count": null,
   "metadata": {},
   "outputs": [
    {
     "data": {
      "image/png": "[encoded data removed]",
      "text/plain": [
       "<Figure size 640x480 with 1 Axes>"
      ]
     },
     "metadata": {},
     "output_type": "display_data"
    }
   ],
   "source": [
    "import matplotlib.pyplot as plt\n",
    "\n",
    "# Datos\n",
    "labels = ['1-25%', \"26-50%\", '51-75%', \"76-100%\"]\n",
    "sizes = [6, 3, 2, 1]\n",
    "\n",
    "# Crear figura y axe\n",
    "fig, ax = plt.subplots()\n",
    "\n",
    "colores = ['#4d94ff', '#3385ff', '#66a3ff', '#0066ff']\n",
    "\n",
    "# Crear gráfico circular\n",
    "ax.pie(sizes, labels=labels, autopct=lambda p: '{:.0f}'.format(p* sum(sizes) / 100), colors=colores)\n",
    "\n",
    "# Título del gráfico\n",
    "ax.set_title('Porcentaje de Tiempo Afectado por una Enfermedad Mental entre las Edades 47-55')\n",
    "\n",
    "# Mostrar gráfico\n",
    "plt.show()"
   ]
  },
  {
   "cell_type": "markdown",
   "metadata": {},
   "source": [
    "Entre las personas de 47 a 55 años que afirman tener una enfermedad mental diagnosticada, se observa una distribución variable en cuanto al impacto de estas condiciones en su tiempo laboral:\n",
    "\n",
    "Afectación leve (1-25%): 6 personas (37.5%) reportan que su enfermedad mental afecta su tiempo laboral en un rango bajo, entre 1% y 25%.\n",
    "Afectación moderada (26-50%): 3 personas (18.75%) indican que su enfermedad mental impacta su tiempo laboral en un rango moderado, entre 26% y 50%.\n",
    "Afectación significativa (51-75%): 2 personas (12.5%) reportan una afectación significativa, con un impacto en su tiempo laboral entre 51% y 75%.\n",
    "Afectación grave (76-100%): 1 persona (6.25%) indica una afectación grave, con un impacto en su tiempo laboral superior al 75%"
   ]
  },
  {
   "cell_type": "code",
   "execution_count": 3,
   "metadata": {},
   "outputs": [
    {
     "data": {
      "image/png": "[encoded data removed]",
      "text/plain": [
       "<Figure size 640x480 with 1 Axes>"
      ]
     },
     "metadata": {},
     "output_type": "display_data"
    }
   ],
   "source": [
    "import matplotlib.pyplot as plt\n",
    "\n",
    "import matplotlib.pyplot as plt\n",
    "\n",
    "# Datos\n",
    "data = [2, 2]  # example data\n",
    "total = sum(data)\n",
    "labels = ['1-25%', '51-75%']\n",
    "sizes = [float(d) / total * 100 for d in data]\n",
    "\n",
    "# Crear figura y axe\n",
    "fig, ax = plt.subplots()\n",
    "\n",
    "colores = ['#4d94ff', '#3385ff', '#66a3ff', '#0066ff']\n",
    "\n",
    "# Crear gráfico circular\n",
    "ax.pie(sizes, labels=labels, autopct='%1.1f%%', colors=colores)\n",
    "\n",
    "# Título del gráfico\n",
    "ax.set_title('Porcentaje de Tiempo Afectado por una Enfermedad Mental entre las Edades 56-65')\n",
    "\n",
    "# Mostrar gráfico\n",
    "plt.show()"
   ]
  },
  {
   "cell_type": "markdown",
   "metadata": {},
   "source": [
    "Entre las personas de 56-65 años que afirman tener una enfermedad mental diagnosticada, se observa una distribución variable en cuanto al impacto de estas condiciones en su tiempo laboral:\n",
    "\n",
    "Afectación leve (1-25%): 2 personas (50%) reportan que su enfermedad mental afecta su tiempo laboral en un rango bajo, entre 1% y 25%.\n",
    "Afectación significativa (51-75%): 2 personas (50%) reportan una afectación significativa, con un impacto en su tiempo laboral entre 51% y 75%.\n"
   ]
  },
  {
   "cell_type": "code",
   "execution_count": null,
   "metadata": {},
   "outputs": [
    {
     "data": {
      "image/png": "[encoded data removed]",
      "text/plain": [
       "<Figure size 640x480 with 1 Axes>"
      ]
     },
     "metadata": {},
     "output_type": "display_data"
    }
   ],
   "source": [
    "import matplotlib.pyplot as plt\n",
    "\n",
    "# Datos\n",
    "labels = ['1-25%', '26-50%', '51-75%', '76-100%']\n",
    "sizes = [10, 2, 1, 1]\n",
    "\n",
    "# Crear figura y axe\n",
    "fig, ax = plt.subplots()\n",
    "\n",
    "colores = ['#4d94ff', '#3385ff', '#66a3ff', '#0066ff']\n",
    "\n",
    "# Crear gráfico circular\n",
    "ax.pie(sizes, labels=labels, autopct=lambda p: '{:.0f}'.format(p* sum(sizes) / 100), colors=colores)\n",
    "\n",
    "# Título del gráfico\n",
    "ax.set_title('Porcentaje de Tiempo Afectado por una Enfermedad Mental entre las Edades 38-46')\n",
    "\n",
    "# Mostrar gráfico\n",
    "plt.show()"
   ]
  },
  {
   "cell_type": "markdown",
   "metadata": {},
   "source": [
    "Entre las personas de 36 a 46 años que afirman tener una enfermedad mental diagnosticada, se observa una distribución variable en cuanto al impacto de estas condiciones en su tiempo laboral:\n",
    "\n",
    "Afectación leve (1-25%): 10 personas (71.42%) reportan que su enfermedad mental afecta su tiempo laboral en un rango bajo, entre 1% y 25%.\n",
    "Afectación moderada (26-50%): 2 personas (12.28%) indican que su enfermedad mental impacta su tiempo laboral en un rango moderado, entre 26% y 50%.\n",
    "Afectación significativa (51-75%): 1 personas (7.14%) reportan una afectación significativa, con un impacto en su tiempo laboral entre 51% y 75%.\n",
    "Afectación grave (76-100%): 1 persona (7.14%) indica una afectación grave, con un impacto en su tiempo laboral superior al 75%\n",
    "\n"
   ]
  },
  {
   "cell_type": "code",
   "execution_count": null,
   "metadata": {},
   "outputs": [
    {
     "data": {
      "image/png": "[encoded data removed]",
      "text/plain": [
       "<Figure size 640x480 with 1 Axes>"
      ]
     },
     "metadata": {},
     "output_type": "display_data"
    }
   ],
   "source": [
    "import matplotlib.pyplot as plt\n",
    "\n",
    "# Datos\n",
    "labels = ['1-25%', '26-50%', '51-75%', '76-100%']\n",
    "sizes = [9, 11, 3, 1]\n",
    "\n",
    "# Crear figura y axe\n",
    "fig, ax = plt.subplots()\n",
    "\n",
    "colores = ['#4d94ff', '#3385ff', '#66a3ff', '#0066ff']\n",
    "\n",
    "# Crear gráfico circular\n",
    "ax.pie(sizes, labels=labels, autopct=lambda p: '{:.0f}'.format(p* sum(sizes) / 100), colors=colores)\n",
    "\n",
    "# Título del gráfico\n",
    "ax.set_title('Porcentaje de Tiempo Afectado por una Enfermedad Mental entre las Edades 29-37')\n",
    "\n",
    "# Mostrar gráfico\n",
    "plt.show()"
   ]
  },
  {
   "cell_type": "markdown",
   "metadata": {},
   "source": [
    "Entre las personas de 29 a 37 años que afirman tener una enfermedad mental diagnosticada, se observa una distribución variable en cuanto al impacto de estas condiciones en su tiempo laboral:\n",
    "\n",
    "Afectación leve (1-25%): 9 personas (37.5%) reportan que su enfermedad mental afecta su tiempo laboral en un rango bajo, entre 1% y 25%.\n",
    "Afectación moderada (26-50%): 11 personas (45.83%) indican que su enfermedad mental impacta su tiempo laboral en un rango moderado, entre 26% y 50%.\n",
    "Afectación significativa (51-75%): 3 personas (12.5%) reportan una afectación significativa, con un impacto en su tiempo laboral entre 51% y 75%.\n",
    "Afectación grave (76-100%): 1 persona (4.16%) indica una afectación grave, con un impacto en su tiempo laboral superior al 75%\n"
   ]
  },
  {
   "cell_type": "code",
   "execution_count": null,
   "metadata": {},
   "outputs": [
    {
     "data": {
      "image/png": "[encoded data removed]",
      "text/plain": [
       "<Figure size 640x480 with 1 Axes>"
      ]
     },
     "metadata": {},
     "output_type": "display_data"
    }
   ],
   "source": [
    "import matplotlib.pyplot as plt\n",
    "\n",
    "# Datos\n",
    "labels = ['1-25%', '26-50%', '51-75%', '76-100%']\n",
    "sizes = [1, 1, 2, 3]\n",
    "\n",
    "# Crear figura y axe\n",
    "fig, ax = plt.subplots()\n",
    "\n",
    "colores = ['#4d94ff', '#3385ff', '#66a3ff', '#0066ff']\n",
    "\n",
    "# Crear gráfico circular\n",
    "ax.pie(sizes, labels=labels, autopct=lambda p: '{:.0f}'.format(p* sum(sizes) / 100), colors=colores)\n",
    "\n",
    "# Título del gráfico\n",
    "ax.set_title('Porcentaje de Tiempo Afectado por una Enfermedad Mental entre las Edades 20-28')\n",
    "\n",
    "# Mostrar gráfico\n",
    "plt.show()"
   ]
  },
  {
   "cell_type": "markdown",
   "metadata": {},
   "source": [
    "Entre las personas de 20 a 28 años que afirman tener una enfermedad mental diagnosticada, se observa una distribución variable en cuanto al impacto de estas condiciones en su tiempo laboral:\n",
    "\n",
    "Afectación leve (1-25%): 1 personas (14.28%) reportan que su enfermedad mental afecta su tiempo laboral en un rango bajo, entre 1% y 25%.\n",
    "Afectación moderada (26-50%): 1 personas (14.28%) indican que su enfermedad mental impacta su tiempo laboral en un rango moderado, entre 26% y 50%.\n",
    "Afectación significativa (51-75%): 2 personas (28.57%) reportan una afectación significativa, con un impacto en su tiempo laboral entre 51% y 75%.\n",
    "Afectación grave (76-100%): 3 persona (42.85%) indica una afectación grave, con un impacto en su tiempo laboral superior al 75%\n"
   ]
  }
 ],
 "metadata": {
  "kernelspec": {
   "display_name": "Python 3",
   "language": "python",
   "name": "python3"
  },
  "language_info": {
   "codemirror_mode": {
    "name": "ipython",
    "version": 3
   },
   "file_extension": ".py",
   "mimetype": "text/x-python",
   "name": "python",
   "nbconvert_exporter": "python",
   "pygments_lexer": "ipython3",
   "version": "3.12.3"
  }
 },
 "nbformat": 4,
 "nbformat_minor": 2
}
