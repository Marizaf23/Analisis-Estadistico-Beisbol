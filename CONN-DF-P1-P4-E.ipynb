{
 "cells": [
  {
   "cell_type": "code",
   "execution_count": 4,
   "metadata": {},
   "outputs": [],
   "source": [
    "import pandas as pd\n",
    "import numpy  as np\n",
    "import sqlite3\n",
    "import seaborn as sns\n",
    "import matplotlib.pyplot as plt\n",
    "import plotly.graph_objects as go\n",
    "import streamlit as st\n",
    "import requests\n",
    "from io import StringIO\n",
    "import os\n",
    "from pywaffle import Waffle\n",
    "import plotly.express as px\n",
    "\n",
    "# Conectar a la base de datos SQLite\n",
    "conn = sqlite3.connect(r\"C:\\Users\\maria\\Documents\\UCV MARY\\EECA\\SEMESTRE 2024-1\\SEMESTRE II\\COMPUTACIÓN II\\TRABAJO FINAL\\SALUD MENTAL EN LA INDUSTRIA TECNOLÓGICA 1.sqlite\")\n",
    "\n",
    "cur = conn.cursor()"
   ]
  },
  {
   "cell_type": "code",
   "execution_count": 5,
   "metadata": {},
   "outputs": [
    {
     "name": "stdout",
     "output_type": "stream",
     "text": [
      "Entidades en la base de datos:\n"
     ]
    },
    {
     "data": {
      "text/html": [
       "<div>\n",
       "<style scoped>\n",
       "    .dataframe tbody tr th:only-of-type {\n",
       "        vertical-align: middle;\n",
       "    }\n",
       "\n",
       "    .dataframe tbody tr th {\n",
       "        vertical-align: top;\n",
       "    }\n",
       "\n",
       "    .dataframe thead th {\n",
       "        text-align: right;\n",
       "    }\n",
       "</style>\n",
       "<table border=\"1\" class=\"dataframe\">\n",
       "  <thead>\n",
       "    <tr style=\"text-align: right;\">\n",
       "      <th></th>\n",
       "      <th>name</th>\n",
       "    </tr>\n",
       "  </thead>\n",
       "  <tbody>\n",
       "    <tr>\n",
       "      <th>0</th>\n",
       "      <td>Answer</td>\n",
       "    </tr>\n",
       "    <tr>\n",
       "      <th>1</th>\n",
       "      <td>Question</td>\n",
       "    </tr>\n",
       "    <tr>\n",
       "      <th>2</th>\n",
       "      <td>Respuestas</td>\n",
       "    </tr>\n",
       "    <tr>\n",
       "      <th>3</th>\n",
       "      <td>Survey</td>\n",
       "    </tr>\n",
       "  </tbody>\n",
       "</table>\n",
       "</div>"
      ],
      "text/plain": [
       "         name\n",
       "0      Answer\n",
       "1    Question\n",
       "2  Respuestas\n",
       "3      Survey"
      ]
     },
     "execution_count": 5,
     "metadata": {},
     "output_type": "execute_result"
    }
   ],
   "source": [
    "# Consultar las tablas en la base de datos\n",
    "consulta_ntablas = \"SELECT name FROM sqlite_master WHERE type='table' ORDER BY name;\"\n",
    "\n",
    "\n",
    "# Mostrar las entidades\n",
    "print(\"Entidades en la base de datos:\")\n",
    "entidades = pd.read_sql_query(sql = consulta_ntablas, con = conn)\n",
    "entidades"
   ]
  },
  {
   "cell_type": "code",
   "execution_count": 6,
   "metadata": {},
   "outputs": [],
   "source": [
    "# Crear consulta para convertir en DF\n",
    "consulta = \"SELECT * FROM Respuestas;\"\n",
    "\n",
    "df_Respuestas = pd.read_sql_query(sql = consulta, con = conn)\n",
    "\n",
    "conn.close()"
   ]
  },
  {
   "cell_type": "code",
   "execution_count": 7,
   "metadata": {},
   "outputs": [],
   "source": [
    "# Filtrado del DF por desde 2016-2019 y Estados Unidos como país para realizar la Investigación\n",
    "User_ID = df_Respuestas[(df_Respuestas['QuestionID'] == 3) & (df_Respuestas['AnswerText'] == 'Estados Unidos')]['UserID'].unique()\n",
    "\n",
    "df_Investigacion1 = df_Respuestas[(df_Respuestas['UserID'].isin(User_ID)) & (df_Respuestas['SurveyID'] == 2016)]\n",
    "\n",
    "df_Investigacion2 = df_Respuestas[(df_Respuestas['UserID'].isin(User_ID)) & (df_Respuestas['SurveyID'] == 2017)]\n",
    "\n",
    "df_Investigacion3 = df_Respuestas[(df_Respuestas['UserID'].isin(User_ID)) & (df_Respuestas['SurveyID'] == 2018)]\n",
    "\n",
    "df_Investigacion4 = df_Respuestas[(df_Respuestas['UserID'].isin(User_ID)) & (df_Respuestas['SurveyID'] == 2019)]"
   ]
  },
  {
   "cell_type": "code",
   "execution_count": 8,
   "metadata": {},
   "outputs": [],
   "source": [
    "# Reestructuración del DF para mejor uso de Pandas\n",
    "df_Investigacion1 = df_Investigacion1.groupby(['UserID', 'QuestionID'])['AnswerText'].first().reset_index()\n",
    "\n",
    "df_Investigacion2 = df_Investigacion2.groupby(['UserID', 'QuestionID'])['AnswerText'].first().reset_index()\n",
    "\n",
    "df_Investigacion3 = df_Investigacion3.groupby(['UserID', 'QuestionID'])['AnswerText'].first().reset_index()\n",
    "\n",
    "df_Investigacion4 = df_Investigacion4.groupby(['UserID', 'QuestionID'])['AnswerText'].first().reset_index()\n",
    "\n",
    "df_Investigacion1 = df_Investigacion1.pivot_table(index='UserID', columns='QuestionID', values='AnswerText', aggfunc='first')\n",
    "\n",
    "df_Investigacion2 = df_Investigacion2.pivot_table(index='UserID', columns='QuestionID', values='AnswerText', aggfunc='first')\n",
    "\n",
    "df_Investigacion3 = df_Investigacion3.pivot_table(index='UserID', columns='QuestionID', values='AnswerText', aggfunc='first')\n",
    "\n",
    "df_Investigacion4 = df_Investigacion4.pivot_table(index='UserID', columns='QuestionID', values='AnswerText', aggfunc='first')"
   ]
  },
  {
   "cell_type": "code",
   "execution_count": 9,
   "metadata": {},
   "outputs": [
    {
     "name": "stdout",
     "output_type": "stream",
     "text": [
      "Index([  1,   2,   3,   4,   5,   6,   7,   8,  10,  12,  14,  16,  17,  18,\n",
      "        19,  20,  23,  24,  27,  28,  30,  31,  33,  34,  48,  49,  53,  54,\n",
      "        55,  56, 114, 115, 116, 117, 118],\n",
      "      dtype='int64', name='QuestionID')\n"
     ]
    }
   ],
   "source": [
    "# Renombrar las variables 2016\n",
    "print(df_Investigacion1.columns)\n",
    "\n",
    "df_Investigacion1.columns = ['Edad', 'Género', 'País de Residencia', 'Ciudad de Residencia (EEUU)', 'Trabajo Autónomo', 'Antecedentes Heredofamiliares', 'Búsqueda de Tratamiento con un Profesional', 'Cantidad de Empleados en la Empresa', 'Beneficios Dentro de Seguro Médico', 'Problemas de Salud Mental en Entrevista Laboral', 'Conocimiento de las Opciones de Cobertura por la Empresa Actual', 'Recursos de la Empresa Para Conocer sobre la Salud Mental y Canales de Ayuda', 'Facilidad de Consulta de Baja Médica en el Trabajo', 'Comodidad para Hablar de una Enfermedad Mental con Compañeros de Trabajo', 'Comodidad para Hablar de una Enfermedad Mental con un Director/Supervisor', 'Cobertura de Salud Mental en Seguro Médico', 'Beneficios de Salud Mental de Empleos Anteriores', 'Conocimiento de las Opciones de Ayuda por el Empleo Anterior', 'Protección de Anonimato Si Se Toma Ventaja de los Recursos de Tratamiento en Empleos Anteriores', 'Disposición de Hablar de Salud Mental con un Supervisor', 'Disposición para Hablar Sobre Enfermedad Mental con Familia/Amigos', 'Seguridad de Revelar Enfermedad Mental Debido a Comentario Sobre Salud Mental de Otra Persona', 'Situación Mental Actual', '¿Alguna Vez Has Sido Diagnosticado con una Enfermedad Mental?', 'Nivel de Interferencia en el Trabajo Cuando Se Está Bajo Tratamiento', 'Nivel de Interferencia en el Trabajo Cuando No Se Está Bajo Tratamiento', 'Disposición a Revelar Enfermedad Mental a Empleados/Compañeros', 'Productividad Afectada Por Enfermedad Mental', 'Porcentaje de Tiempo Afectada Por Enfermedad Mental', '¿Has Observado o Experimentado una Respuesta Insolidaria o Mal Gestionada a un Problema de Salud Mental en tu Lugar de Trabajo Actual o Anterior?', '¿Cree que los Miembros de su Equipo/Compañeros de Trabajo le Verían de Forma más Negativa Si Supieran que Padece una Enfermedad Mental?', 'Enfermedades Mentales Diagnosticadas', 'Enfermedades Mentales No Diagnosticadas', 'Puesto de Trabajo', 'Trabajo Remoto']\n",
    "\n",
    "# Reemplazar los NaN\n",
    "df_Investigacion1 = df_Investigacion1.fillna('No respondió')"
   ]
  },
  {
   "cell_type": "code",
   "execution_count": 10,
   "metadata": {},
   "outputs": [
    {
     "name": "stdout",
     "output_type": "stream",
     "text": [
      "Index([ 1,  2,  3,  4,  5,  6,  7,  8, 10, 12, 14, 16, 17, 18, 19, 20, 23, 24,\n",
      "       27, 28, 30, 31, 33, 34, 48, 49, 53, 54, 55, 56, 65, 67, 78, 79, 81, 83,\n",
      "       85, 89],\n",
      "      dtype='int64', name='QuestionID')\n"
     ]
    }
   ],
   "source": [
    "# Renombrar las variables 2017\n",
    "print(df_Investigacion2.columns)\n",
    "\n",
    "df_Investigacion2.columns = ['Edad', 'Género', 'País de Residencia', 'Ciudad de Residencia (EEUU)', 'Trabajo Autónomo', 'Antecedentes Heredofamiliares', 'Búsqueda de Tratamiento con un Profesional', 'Cantidad de Empleados en la Empresa', 'Beneficios Dentro de Seguro Médico', 'Problemas de Salud Mental en Entrevista Laboral', 'Conocimiento de las Opciones de Cobertura por la Empresa Actual', 'Recursos de la Empresa Para Conocer sobre la Salud Mental y Canales de Ayuda', 'Facilidad de Consulta de Baja Médica en el Trabajo', 'Comodidad para Hablar de una Enfermedad Mental con Compañeros de Trabajo', 'Comodidad para Hablar de una Enfermedad Mental con un Director/Supervisor', 'Cobertura de Salud Mental en Seguro Médico', 'Beneficios de Salud Mental de Empleos Anteriores', 'Conocimiento de las Opciones de Ayuda por el Empleo Anterior', 'Protección de Anonimato Si Se Toma Ventaja de los Recursos de Tratamiento en Empleos Anteriores', 'Disposición de Hablar de Salud Mental con un Supervisor', 'Disposición para Hablar Sobre Enfermedad Mental con Familia/Amigos', 'Seguridad de Revelar Enfermedad Mental Debido a Comentario Sobre Salud Mental de Otra Persona', 'Situación Mental Actual', '¿Alguna Vez Has Sido Diagnosticado con una Enfermedad Mental?', 'Nivel de Interferencia en el Trabajo Cuando Se Está Bajo Tratamiento', 'Nivel de Interferencia en el Trabajo Cuando No Se Está Bajo Tratamiento', 'Disposición a Revelar Enfermedad Mental a Empleados/Compañeros', 'Productividad Afectada Por Enfermedad Mental', 'Porcentaje de Tiempo Afectada Por Enfermedad Mental', '¿Has Observado o Experimentado una Respuesta Insolidaria o Mal Gestionada a un Problema de Salud Mental en tu Lugar de Trabajo Actual o Anterior?', 'Importancia a la Salud Mental (Empresa)', '¿Cómo Afectó la Relación con Alguien de tu Trabajo el Haberle Contado sobre tu Enfermedad Mental?', '¿Te Identificas Abiertamente en el Trabajo como una Persona con una Enfermedad Mental?', '¿Tu Carrera Se Ha Visto Afectada por Tener una Enfermedad Mental?', 'Si Supieran Que Padeces un Trastorno Mental, ¿Cómo Crees Que Reaccionarían los Miembros de tu Equipo/Compañeros de Trabajo?', '¿Has Observado o Experimentado una Respuesta Positiva De Compañeros/Jefes al Saber que Tienes una Enfermedad Mental?', '¿En qué Medida Cree que el Sector Tecnológico Apoya a los Empleados con Enfermedades Mentales?', 'Raza']\n",
    "\n",
    "# Reemplazar los NaN\n",
    "df_Investigacion2 = df_Investigacion2.fillna('No respondió')"
   ]
  },
  {
   "cell_type": "code",
   "execution_count": 11,
   "metadata": {},
   "outputs": [
    {
     "name": "stdout",
     "output_type": "stream",
     "text": [
      "Index([ 1,  2,  3,  4,  5,  6,  7,  8, 10, 12, 14, 16, 17, 18, 19, 20, 23, 24,\n",
      "       27, 28, 30, 31, 33, 34, 48, 49, 53, 54, 55, 56, 65, 67, 78, 79, 81, 83,\n",
      "       85, 89],\n",
      "      dtype='int64', name='QuestionID')\n"
     ]
    }
   ],
   "source": [
    "# Renombrar las variables 2018\n",
    "print(df_Investigacion3.columns)\n",
    "\n",
    "df_Investigacion3.columns = ['Edad', 'Género', 'País de Residencia', 'Ciudad de Residencia (EEUU)', 'Trabajo Autónomo', 'Antecedentes Heredofamiliares', 'Búsqueda de Tratamiento con un Profesional', 'Cantidad de Empleados en la Empresa', 'Beneficios Dentro de Seguro Médico', 'Problemas de Salud Mental en Entrevista Laboral', 'Conocimiento de las Opciones de Cobertura por la Empresa Actual', 'Recursos de la Empresa Para Conocer sobre la Salud Mental y Canales de Ayuda', 'Facilidad de Consulta de Baja Médica en el Trabajo', 'Comodidad para Hablar de una Enfermedad Mental con Compañeros de Trabajo', 'Comodidad para Hablar de una Enfermedad Mental con un Director/Supervisor', 'Cobertura de Salud Mental en Seguro Médico', 'Beneficios de Salud Mental de Empleos Anteriores', 'Conocimiento de las Opciones de Ayuda por el Empleo Anterior', 'Protección de Anonimato Si Se Toma Ventaja de los Recursos de Tratamiento en Empleos Anteriores', 'Disposición de Hablar de Salud Mental con un Supervisor', 'Disposición para Hablar Sobre Enfermedad Mental con Familia/Amigos', 'Seguridad de Revelar Enfermedad Mental Debido a Comentario Sobre Salud Mental de Otra Persona', 'Situación Mental Actual', '¿Alguna Vez Has Sido Diagnosticado con una Enfermedad Mental?', 'Nivel de Interferencia en el Trabajo Cuando Se Está Bajo Tratamiento', 'Nivel de Interferencia en el Trabajo Cuando No Se Está Bajo Tratamiento', 'Disposición a Revelar Enfermedad Mental a Empleados/Compañeros', 'Productividad Afectada Por Enfermedad Mental', 'Porcentaje de Tiempo Afectada Por Enfermedad Mental', '¿Has Observado o Experimentado una Respuesta Insolidaria o Mal Gestionada a un Problema de Salud Mental en tu Lugar de Trabajo Actual o Anterior?', 'Importancia a la Salud Mental (Empresa)', '¿Cómo Afectó la Relación con Alguien de tu Trabajo el Haberle Contado sobre tu Enfermedad Mental?', '¿Te Identificas Abiertamente en el Trabajo como una Persona con una Enfermedad Mental?', '¿Tu Carrera Se Ha Visto Afectada por Tener una Enfermedad Mental?', 'Si Supieran Que Padeces un Trastorno Mental, ¿Cómo Crees Que Reaccionarían los Miembros de tu Equipo/Compañeros de Trabajo?', '¿Has Observado o Experimentado una Respuesta Positiva De Compañeros/Jefes al Saber que Tienes una Enfermedad Mental?', '¿En qué Medida Cree que el Sector Tecnológico Apoya a los Empleados con Enfermedades Mentales?', 'Raza']\n",
    "\n",
    "# Reemplazar los NaN\n",
    "df_Investigacion3 = df_Investigacion3.fillna('No respondió')"
   ]
  },
  {
   "cell_type": "code",
   "execution_count": 12,
   "metadata": {},
   "outputs": [
    {
     "name": "stdout",
     "output_type": "stream",
     "text": [
      "Index([ 1,  2,  3,  4,  5,  6,  7,  8, 10, 12, 14, 16, 17, 18, 19, 20, 23, 24,\n",
      "       27, 28, 30, 31, 33, 34, 48, 49, 53, 54, 55, 56, 65, 67, 78, 79, 81, 83,\n",
      "       85, 89],\n",
      "      dtype='int64', name='QuestionID')\n"
     ]
    }
   ],
   "source": [
    "# Renombrar las variables 2019\n",
    "print(df_Investigacion4.columns)\n",
    "\n",
    "df_Investigacion4.columns = ['Edad', 'Género', 'País de Residencia', 'Ciudad de Residencia (EEUU)', 'Trabajo Autónomo', 'Antecedentes Heredofamiliares', 'Búsqueda de Tratamiento con un Profesional', 'Cantidad de Empleados en la Empresa', 'Beneficios Dentro de Seguro Médico', 'Problemas de Salud Mental en Entrevista Laboral', 'Conocimiento de las Opciones de Cobertura por la Empresa Actual', 'Recursos de la Empresa Para Conocer sobre la Salud Mental y Canales de Ayuda', 'Facilidad de Consulta de Baja Médica en el Trabajo', 'Comodidad para Hablar de una Enfermedad Mental con Compañeros de Trabajo', 'Comodidad para Hablar de una Enfermedad Mental con un Director/Supervisor', 'Cobertura de Salud Mental en Seguro Médico', 'Beneficios de Salud Mental de Empleos Anteriores', 'Conocimiento de las Opciones de Ayuda por el Empleo Anterior', 'Protección de Anonimato Si Se Toma Ventaja de los Recursos de Tratamiento en Empleos Anteriores', 'Disposición de Hablar de Salud Mental con un Supervisor', 'Disposición para Hablar Sobre Enfermedad Mental con Familia/Amigos', 'Seguridad de Revelar Enfermedad Mental Debido a Comentario Sobre Salud Mental de Otra Persona', 'Situación Mental Actual', '¿Alguna Vez Has Sido Diagnosticado con una Enfermedad Mental?', 'Nivel de Interferencia en el Trabajo Cuando Se Está Bajo Tratamiento', 'Nivel de Interferencia en el Trabajo Cuando No Se Está Bajo Tratamiento', 'Disposición a Revelar Enfermedad Mental a Empleados/Compañeros', 'Productividad Afectada Por Enfermedad Mental', 'Porcentaje de Tiempo Afectada Por Enfermedad Mental', '¿Has Observado o Experimentado una Respuesta Insolidaria o Mal Gestionada a un Problema de Salud Mental en tu Lugar de Trabajo Actual o Anterior?', 'Importancia a la Salud Mental (Empresa)', '¿Cómo Afectó la Relación con Alguien de tu Trabajo el Haberle Contado sobre tu Enfermedad Mental?', '¿Te Identificas Abiertamente en el Trabajo como una Persona con una Enfermedad Mental?', '¿Tu Carrera Se Ha Visto Afectada por Tener una Enfermedad Mental?', 'Si Supieran Que Padeces un Trastorno Mental, ¿Cómo Crees Que Reaccionarían los Miembros de tu Equipo/Compañeros de Trabajo?', '¿Has Observado o Experimentado una Respuesta Positiva De Compañeros/Jefes al Saber que Tienes una Enfermedad Mental?', '¿En qué Medida Cree que el Sector Tecnológico Apoya a los Empleados con Enfermedades Mentales?', 'Raza']\n",
    "\n",
    "# Reemplazar los NaN\n",
    "df_Investigacion4 = df_Investigacion4.fillna('No respondió')"
   ]
  },
  {
   "cell_type": "code",
   "execution_count": 13,
   "metadata": {},
   "outputs": [],
   "source": [
    "# Carpeta donde deseas guardar los archivos CSV\n",
    "output_folder = r\"C:\\Users\\maria\\Documents\\UCV MARY\\EECA\\SEMESTRE 2024-1\\SEMESTRE II\\COMPUTACIÓN II\\TRABAJO FINAL\\CSV\"\n",
    "\n",
    "# Crear la carpeta si no existe\n",
    "if not os.path.exists(output_folder):\n",
    "    os.makedirs(output_folder)\n",
    "\n",
    "# Guardar los archivos CSV en la carpeta especificada\n",
    "df_Investigacion1.to_csv(os.path.join(output_folder, 'Investigacion1.csv'), index=False)\n",
    "df_Investigacion2.to_csv(os.path.join(output_folder, 'Investigacion2.csv'), index=False)\n",
    "df_Investigacion3.to_csv(os.path.join(output_folder, 'Investigacion3.csv'), index=False)\n",
    "df_Investigacion4.to_csv(os.path.join(output_folder, 'Investigacion4.csv'), index=False)"
   ]
  },
  {
   "cell_type": "code",
   "execution_count": 14,
   "metadata": {},
   "outputs": [
    {
     "name": "stderr",
     "output_type": "stream",
     "text": [
      "2024-06-27 02:12:38.122 \n",
      "  \u001b[33m\u001b[1mWarning:\u001b[0m to view this Streamlit app on a browser, run it with the following\n",
      "  command:\n",
      "\n",
      "    streamlit run C:\\Users\\maria\\AppData\\Roaming\\Python\\Python312\\site-packages\\ipykernel_launcher.py [ARGUMENTS]\n",
      "2024-06-27 02:12:38.124 \n",
      "`st.cache` is deprecated and will be removed soon. Please use one of Streamlit's new caching commands, `st.cache_data` or `st.cache_resource`.\n",
      "More information [in our docs](https://docs.streamlit.io/develop/concepts/architecture/caching).\n",
      "\n",
      "**Note**: The behavior of `st.cache` was updated in Streamlit 1.36 to the new caching logic used by `st.cache_data` and `st.cache_resource`.\n",
      "This might lead to some problems or unexpected behavior in certain edge cases.\n",
      "\n",
      "2024-06-27 02:12:38.125 No runtime found, using MemoryCacheStorageManager\n",
      "2024-06-27 02:12:38.126 No runtime found, using MemoryCacheStorageManager\n",
      "2024-06-27 02:12:40.100 Session state does not function when running a script without `streamlit run`\n"
     ]
    }
   ],
   "source": [
    "# HTML\n",
    "# Título de la aplicación\n",
    "st.title(\"Problemáticas y Estigmas de las Enfermedades Mentales en la Industria Tecnológica Estadounidense 2016-2019\")\n",
    "\n",
    "# Contenido de la página 1\n",
    "st.header(\"Introducción\")\n",
    "st.write(\"Información de la Data Suministrada.\")\n",
    "\n",
    "# Contenido de la página 2\n",
    "st.header(\"Visualización de los Datos\")\n",
    "st.write(\"Información de la Data Suministrada.\")\n",
    "\n",
    "@st.cache\n",
    "def load_csv_from_github(url):\n",
    "    response = requests.get(url)\n",
    "    if response.status_code == 200:\n",
    "        return pd.read_csv(StringIO(response.text))\n",
    "    else:\n",
    "        st.error(\"Failed to load data from GitHub.\")\n",
    "        return None\n",
    "\n",
    "# URLs of CSV files in GitHub repository\n",
    "urls = {\n",
    "    '2016': 'https://raw.githubusercontent.com/Marizaf23/Analisis-Estadistico-Salud-Mental-Tecnologia/95f59adcc416732d98f3b9aa494eb78cadd12c0d/CSV/Investigacion1.csv',\n",
    "    '2017': 'https://raw.githubusercontent.com/Marizaf23/Analisis-Estadistico-Salud-Mental-Tecnologia/95f59adcc416732d98f3b9aa494eb78cadd12c0d/CSV/Investigacion2.csv',\n",
    "    '2018': 'https://raw.githubusercontent.com/Marizaf23/Analisis-Estadistico-Salud-Mental-Tecnologia/95f59adcc416732d98f3b9aa494eb78cadd12c0d/CSV/Investigacion3.csv',\n",
    "    '2019': 'https://raw.githubusercontent.com/Marizaf23/Analisis-Estadistico-Salud-Mental-Tecnologia/95f59adcc416732d98f3b9aa494eb78cadd12c0d/CSV/Investigacion4.csv'\n",
    "}\n",
    "\n",
    "# Load CSV files from GitHub\n",
    "df_2016 = load_csv_from_github(urls['2016'])\n",
    "df_2017 = load_csv_from_github(urls['2017'])\n",
    "df_2018 = load_csv_from_github(urls['2018'])\n",
    "df_2019 = load_csv_from_github(urls['2019'])\n",
    "\n",
    "# Crea un selectbox con las opciones\n",
    "option = st.selectbox('Año de Encuesta:', ['2016', '2017', '2018', '2019'])\n",
    "\n",
    "# Muestra el DataFrame correspondiente según la opción seleccionada\n",
    "if option == '2016':\n",
    "    st.dataframe(df_2016)\n",
    "elif option == '2017':\n",
    "    st.dataframe(df_2017)\n",
    "elif option == '2018':\n",
    "    st.dataframe(df_2018)\n",
    "elif option == '2019':\n",
    "    st.dataframe(df_2019)\n"
   ]
  },
  {
   "cell_type": "code",
   "execution_count": 16,
   "metadata": {},
   "outputs": [],
   "source": [
    "# PREGUNTA #1\n",
    "#¿Cuántas personas en la industria tecnológica tienen una enfermedad mental diagnosticada y, dentro de este grupo, existe algún antecedente heredofamiliar dentro de este ámbito?\n",
    "\n",
    "# Crea un selectbox con las opciones\n",
    "option = st.selectbox('Año de Encuesta:', ['Todos','2016', '2017', '2018', '2019'])\n",
    "\n",
    "if option == '2016':\n",
    "\n",
    "    #Crear la tabla bivariante con pandas\n",
    "    Pregunta2016_1 = pd.crosstab(df_2016['¿Alguna Vez Has Sido Diagnosticado con una Enfermedad Mental?'], \n",
    "                        df_2016['Antecedentes Heredofamiliares'], \n",
    "                        margins=True, \n",
    "                        margins_name='Total')\n",
    "\n",
    "    # Renombrar el índice\n",
    "    Pregunta2016_1.index.name = \"Antecedentes Heredofamiliares\"\n",
    "    \n",
    "    # Agregar una fila debajo de los títulos de las columnas \n",
    "    Pregunta2016_1.loc['Enfermedad Mental'] = ['', '', '', '']\n",
    "\n",
    "    Pregunta2016_1 = Pregunta2016_1.reindex(['Enfermedad Mental'] + [i for i in Pregunta2016_1.index if i != 'Enfermedad Mental'])\n",
    "    \n",
    "    Pregunta2016_1.rename(columns={'index': 'Enfermedad Mental'})\n",
    "\n",
    "    st.dataframe(Pregunta2016_1, width=1500, height=177)\n",
    "\n",
    "\n",
    "    # Crear la figura\n",
    "    fig = go.Figure()\n",
    "    fig.add_trace(go.Bar(\n",
    "        y=['No tengo antecedentes heredofamiliares', 'No conozco mis antecedentes familiares', 'Tengo antecedentes familiares'],\n",
    "        x=[170, 76, 120],\n",
    "        name='No tengo enfermedades mentales',\n",
    "        orientation='h',\n",
    "        marker=dict(\n",
    "        color='rgb(77, 148, 255)',\n",
    "        line=dict(color='rgb(77, 148, 255)', width=2)\n",
    "        )\n",
    "        ))\n",
    "    fig.add_trace(go.Bar(\n",
    "        y=['No tengo antecedentes heredofamiliares', 'No conozco mis antecedentes familiares', 'Tengo antecedentes familiares'],\n",
    "        x=[70, 70, 333],\n",
    "        name='Tengo enfermedades mentales',\n",
    "        orientation='h',\n",
    "        marker=dict(\n",
    "        color='rgb(0, 102, 255)',\n",
    "        line=dict(color='rgb(0, 102, 255)', width=2)\n",
    "        )\n",
    "        ))\n",
    "\n",
    "    fig.update_layout(\n",
    "    barmode='stack',\n",
    "    font=dict(\n",
    "        color='rgb(0, 0, 0)'\n",
    "        )\n",
    "        )\n",
    "\n",
    "    # Mostrar la figura en Streamlit\n",
    "    st.plotly_chart(fig, use_container_width=True)\n",
    "\n",
    "elif option == '2017':\n",
    "\n",
    "    #Crear la tabla bivariante con pandas\n",
    "    Pregunta2017_1 = pd.crosstab(df_2017['¿Alguna Vez Has Sido Diagnosticado con una Enfermedad Mental?'], \n",
    "                        df_2017['Antecedentes Heredofamiliares'], \n",
    "                        margins=True, \n",
    "                        margins_name='Total')\n",
    "\n",
    "    # Renombrar el índice\n",
    "    Pregunta2017_1.index.name = \"Antecedentes Heredofamiliares\"\n",
    "    \n",
    "    # Agregar una fila debajo de los títulos de las columnas \n",
    "    Pregunta2017_1.loc['Enfermedad Mental'] = ['', '', '', '']\n",
    "\n",
    "    Pregunta2017_1 = Pregunta2017_1.reindex(['Enfermedad Mental'] + [i for i in Pregunta2017_1.index if i != 'Enfermedad Mental'])\n",
    "    \n",
    "    Pregunta2017_1.rename(columns={'index': 'Enfermedad Mental'})\n",
    "\n",
    "    Pregunta2017_1 = Pregunta2017_1.reindex(['Enfermedad Mental'] + [i for i in Pregunta2017_1.index if i not in ['Enfermedad Mental', 'No respondió', 'Total']] + ['No respondió'] + ['Total'])\n",
    "    \n",
    "    st.dataframe(Pregunta2017_1, width=800, height=212)\n",
    "\n",
    "    # Crear la figura\n",
    "    fig2017_1 = go.Figure()\n",
    "\n",
    "    fig2017_1.add_trace(go.Bar(\n",
    "        y=['No tengo antecedentes heredofamiliares', 'No conozco mis antecedentes familiares', 'Tengo antecedentes familiares'],\n",
    "        x=[0, 1, 3],\n",
    "        name='No tengo enfermedades mentales',\n",
    "        orientation='h',\n",
    "        marker=dict(\n",
    "        color='rgb(0, 61, 153)',\n",
    "        line=dict(color='rgb(0, 61, 153)', width=2)\n",
    "        )   \n",
    "        ))\n",
    "\n",
    "    fig2017_1.add_trace(go.Bar(\n",
    "        y=['No tengo antecedentes heredofamiliares', 'No conozco mis antecedentes familiares', 'Tengo antecedentes familiares'],\n",
    "        x=[26, 55, 163],\n",
    "        name='Tengo enfermedades mentales',\n",
    "        orientation='h',\n",
    "        marker=dict(\n",
    "        color='rgb(77, 148, 255)',\n",
    "        line=dict(color='rgb(77, 148, 255)', width=2)\n",
    "        )\n",
    "        ))\n",
    "\n",
    "    fig2017_1.add_trace(go.Bar(\n",
    "        y=['No tengo antecedentes heredofamiliares', 'No conozco mis antecedentes familiares', 'Tengo antecedentes familiares'],\n",
    "        x=[85, 79, 85],\n",
    "        name='No respondio',\n",
    "        orientation='h',\n",
    "    marker=dict(\n",
    "        color='rgb(0, 102, 255)',\n",
    "        line=dict(color='rgb(0, 102, 255)', width=2)\n",
    "        )\n",
    "        ))\n",
    "\n",
    "    fig2017_1.update_layout(barmode='stack')\n",
    "\n",
    "    # Mostrar la figura en Streamlit\n",
    "    st.plotly_chart(fig2017_1, use_container_width=True)\n",
    "\n",
    "elif option == '2018':\n",
    "    \n",
    "    #Crear la tabla bivariante con pandas\n",
    "    Pregunta2018_1 = pd.crosstab(df_2018['¿Alguna Vez Has Sido Diagnosticado con una Enfermedad Mental?'], \n",
    "                        df_2018['Antecedentes Heredofamiliares'], \n",
    "                        margins=True, \n",
    "                        margins_name='Total')\n",
    "\n",
    "    # Renombrar el índice\n",
    "    Pregunta2018_1.index.name = \"Antecedentes Heredofamiliares\"\n",
    "    \n",
    "    # Agregar una fila debajo de los títulos de las columnas \n",
    "    Pregunta2018_1.loc['Enfermedad Mental'] = ['', '', '', '']\n",
    "\n",
    "    Pregunta2018_1 = Pregunta2018_1.reindex(['Enfermedad Mental'] + [i for i in Pregunta2018_1.index if i != 'Enfermedad Mental'])\n",
    "    \n",
    "    Pregunta2018_1.rename(columns={'index': 'Enfermedad Mental'})\n",
    "\n",
    "    Pregunta2018_1 = Pregunta2018_1.reindex(['Enfermedad Mental'] + [i for i in Pregunta2018_1.index if i not in ['Enfermedad Mental', 'No respondió', 'Total']] + ['No respondió'] + ['Total'])\n",
    "    \n",
    "    st.dataframe(Pregunta2018_1, width=800, height=212)\n",
    "\n",
    "    # Crear la figura\n",
    "    fig2018_1 = go.Figure()\n",
    "\n",
    "    fig2018_1.add_trace(go.Bar(\n",
    "        y=['No tengo antecedentes heredofamiliares', 'No conozco mis antecedentes familiares', 'Tengo antecedentes familiares'],\n",
    "        x=[1, 0, 1],\n",
    "        name='No tengo enfermedades mentales',\n",
    "        orientation='h',\n",
    "        marker=dict(\n",
    "        color='rgb(0, 61, 153)',\n",
    "        line=dict(color='rgb(0, 61, 153)', width=2)\n",
    "        )   \n",
    "        ))\n",
    "\n",
    "    fig2018_1.add_trace(go.Bar(\n",
    "        y=['No tengo antecedentes heredofamiliares', 'No conozco mis antecedentes familiares', 'Tengo antecedentes familiares'],\n",
    "        x=[11, 35, 113],\n",
    "        name='Tengo enfermedades mentales',\n",
    "        orientation='h',\n",
    "        marker=dict(\n",
    "        color='rgb(77, 148, 255)',\n",
    "        line=dict(color='rgb(77, 148, 255)', width=2)\n",
    "        )\n",
    "        ))\n",
    "\n",
    "    fig2018_1.add_trace(go.Bar(\n",
    "        y=['No tengo antecedentes heredofamiliares', 'No conozco mis antecedentes familiares', 'Tengo antecedentes familiares'],\n",
    "        x=[59, 34, 58],\n",
    "        name='No respondio',\n",
    "        orientation='h',\n",
    "    marker=dict(\n",
    "        color='rgb(0, 102, 255)',\n",
    "        line=dict(color='rgb(0, 102, 255)', width=2)\n",
    "        )\n",
    "        ))\n",
    "\n",
    "    fig2018_1.update_layout(barmode='stack')\n",
    "\n",
    "    # Mostrar la figura en Streamlit\n",
    "    st.plotly_chart(fig2018_1, use_container_width=True)\n",
    "\n",
    "elif option == '2019':\n",
    "\n",
    "    #Crear la tabla bivariante con pandas\n",
    "    Pregunta2019_1 = pd.crosstab(df_2019['¿Alguna Vez Has Sido Diagnosticado con una Enfermedad Mental?'], \n",
    "                        df_2019['Antecedentes Heredofamiliares'], \n",
    "                        margins=True, \n",
    "                        margins_name='Total')\n",
    "\n",
    "    # Renombrar el índice\n",
    "    Pregunta2019_1.index.name = \"Antecedentes Heredofamiliares\"\n",
    "    \n",
    "    # Agregar una fila debajo de los títulos de las columnas \n",
    "    Pregunta2019_1.loc['Enfermedad Mental'] = ['', '', '', '']\n",
    "\n",
    "    Pregunta2019_1 = Pregunta2019_1.reindex(['Enfermedad Mental'] + [i for i in Pregunta2019_1.index if i != 'Enfermedad Mental'])\n",
    "    \n",
    "    Pregunta2019_1.rename(columns={'index': 'Enfermedad Mental'})\n",
    "\n",
    "    Pregunta2019_1 = Pregunta2019_1.reindex(['Enfermedad Mental'] + [i for i in Pregunta2019_1.index if i not in ['Enfermedad Mental', 'No respondió', 'Total']] + ['No respondió'] + ['Total'])\n",
    "\n",
    "    st.dataframe(Pregunta2019_1, width=800, height=212)\n",
    "\n",
    "        # Crear la figura\n",
    "    fig2019_1 = go.Figure()\n",
    "\n",
    "    fig2019_1.add_trace(go.Bar(\n",
    "        y=['No tengo antecedentes heredofamiliares', 'No conozco mis antecedentes familiares', 'Tengo antecedentes familiares'],\n",
    "        x=[0, 1, 0],\n",
    "        name='No tengo enfermedades mentales',\n",
    "        orientation='h',\n",
    "        marker=dict(\n",
    "        color='rgb(0, 61, 153)',\n",
    "        line=dict(color='rgb(0, 61, 153)', width=2)\n",
    "        )   \n",
    "        ))\n",
    "\n",
    "    fig2019_1.add_trace(go.Bar(\n",
    "        y=['No tengo antecedentes heredofamiliares', 'No conozco mis antecedentes familiares', 'Tengo antecedentes familiares'],\n",
    "        x=[9, 25, 72],\n",
    "        name='Tengo enfermedades mentales',\n",
    "        orientation='h',\n",
    "        marker=dict(\n",
    "        color='rgb(77, 148, 255)',\n",
    "        line=dict(color='rgb(77, 148, 255)', width=2)\n",
    "        )\n",
    "        ))\n",
    "\n",
    "    fig2019_1.add_trace(go.Bar(\n",
    "        y=['No tengo antecedentes heredofamiliares', 'No conozco mis antecedentes familiares', 'Tengo antecedentes familiares'],\n",
    "        x=[35, 19, 43],\n",
    "        name='No respondio',\n",
    "        orientation='h',\n",
    "    marker=dict(\n",
    "        color='rgb(0, 102, 255)',\n",
    "        line=dict(color='rgb(0, 102, 255)', width=2)\n",
    "        )\n",
    "        ))\n",
    "\n",
    "    fig2019_1.update_layout(barmode='stack')\n",
    "\n",
    "    # Mostrar la figura en Streamlit\n",
    "    st.plotly_chart(fig2019_1, use_container_width=True)"
   ]
  },
  {
   "cell_type": "code",
   "execution_count": 17,
   "metadata": {},
   "outputs": [
    {
     "data": {
      "text/plain": [
       "DeltaGenerator()"
      ]
     },
     "execution_count": 17,
     "metadata": {},
     "output_type": "execute_result"
    },
    {
     "data": {
      "image/png": "[encoded data removed]",
      "text/plain": [
       "<Figure size 800x600 with 4 Axes>"
      ]
     },
     "metadata": {},
     "output_type": "display_data"
    },
    {
     "data": {
      "image/png": "[encoded data removed]",
      "text/plain": [
       "<Figure size 1000x400 with 4 Axes>"
      ]
     },
     "metadata": {},
     "output_type": "display_data"
    }
   ],
   "source": [
    "#Gráfica General de Enfermedades Mentales (Streamlit)\n",
    "data_total1 = {\n",
    "    2016: [366, 473, 0],\n",
    "    2017: [4, 244, 249],\n",
    "    2018: [2, 159, 151],\n",
    "    2019: [1, 106, 97],\n",
    "    }\n",
    "\n",
    "df_total1 = pd.DataFrame(data_total1,\n",
    "                index=['No tengo enfermedades mentales', 'Tengo enfermedades mentales', 'No respondió'])\n",
    "\n",
    "number_of_bars = len(df_total1.columns)\n",
    "\n",
    "fig_total1, axs = plt.subplots(nrows=1, ncols=number_of_bars, figsize=(8,6))\n",
    "\n",
    "colors = ['#003d99', '#0066ff', '#6666ff']\n",
    "\n",
    "\n",
    "for i, ax in enumerate(axs):\n",
    "    col_name = df_total1.columns[i]\n",
    "    values = df_total1[col_name]\n",
    "    \n",
    "\n",
    "    total = sum(values)\n",
    "    normalized_values = [v/total for v in values]\n",
    "    \n",
    "Waffle.make_waffle(\n",
    "    ax=ax,\n",
    "    rows=20,\n",
    "    columns=5,\n",
    "    values=normalized_values,\n",
    "    colors=colors\n",
    "    )\n",
    "\n",
    "\n",
    "ax.set_title(str(col_name), fontsize=14)\n",
    "\n",
    "legend_handles = [plt.Line2D([0], [0], marker='s', color='w', label='No tengo enfermedades mentales', markerfacecolor=colors[0], markersize=12),\n",
    "                plt.Line2D([0], [0], marker='s', color='w', label='Tengo enfermedades mentales', markerfacecolor=colors[1], markersize=12),\n",
    "                plt.Line2D([0], [0], marker='s', color='w', label='No respondió', markerfacecolor=colors[2], markersize=12)]\n",
    "\n",
    "fig_total1.legend(handles=legend_handles, loc='upper center', bbox_to_anchor=(0.5, -0.01), ncol=3)\n",
    "\n",
    "plt.tight_layout(rect=[0, 0, 1, 0.85])\n",
    " \n",
    "st.pyplot(fig_total1)\n",
    "\n",
    "# Gráfica General de Antecedentes Heredofamiliares (Streamlit)\n",
    "\n",
    "data_total2 = {\n",
    "    2016: [240, 453, 146 ],\n",
    "    2017: [111, 251, 135],\n",
    "    2018: [71, 172, 69],\n",
    "    2019: [44, 115, 45],\n",
    "    }\n",
    "\n",
    "df_total2 = pd.DataFrame(data_total2,\n",
    "        index=['No tengo antecedentes heredofamiliares', 'Tengo antecedentes heredofamiliares', 'No conozco mis antecedentes heredofamiliares'])\n",
    "\n",
    "number_of_bars = len(df_total2.columns)\n",
    "\n",
    "fig_total2, axs = plt.subplots(nrows=1, ncols=number_of_bars, figsize=(12,8))\n",
    "\n",
    "colors = ['#290066', '#5c00e6', '#944dff']\n",
    "\n",
    "for i, ax in enumerate(axs):\n",
    "    col_name = df_total2.columns[i]\n",
    "    values = df_total2[col_name]\n",
    "    \n",
    "total = sum(values)\n",
    "normalized_values = [v/total for v in values]\n",
    "    \n",
    "Waffle.make_waffle(\n",
    "    ax=ax,\n",
    "    rows=20,\n",
    "    columns=5,\n",
    "    values=normalized_values,\n",
    "    colors=colors\n",
    "    )\n",
    "\n",
    "ax.set_title(str(col_name), fontsize=14)\n",
    "\n",
    "legend_handles = [plt.Line2D([0], [0], marker='s', color='w', label='No tengo antecedentes heredofamiliares', markerfacecolor=colors[0], markersize=12),\n",
    "                plt.Line2D([0], [0], marker='s', color='w', label='Tengo antecedentes heredofamiliares', markerfacecolor=colors[1], markersize=12),\n",
    "                plt.Line2D([0], [0], marker='s', color='w', label='No conozco mis antecedentes heredofamiliares', markerfacecolor=colors[2], markersize=12)]\n",
    "\n",
    "fig_total2.legend(handles=legend_handles, loc='upper center', bbox_to_anchor=(0.5, -0.01), ncol=2)\n",
    "        \n",
    "plt.tight_layout(rect=[0, 0, 1, 0.85])\n",
    "\n",
    "fig_total2.set_size_inches(10, 4) \n",
    "st.pyplot(fig_total2)"
   ]
  },
  {
   "cell_type": "code",
   "execution_count": 18,
   "metadata": {},
   "outputs": [
    {
     "data": {
      "image/png": "[encoded data removed]",
      "text/plain": [
       "<Figure size 800x600 with 4 Axes>"
      ]
     },
     "metadata": {},
     "output_type": "display_data"
    },
    {
     "data": {
      "image/png": "[encoded data removed]",
      "text/plain": [
       "<Figure size 800x600 with 4 Axes>"
      ]
     },
     "metadata": {},
     "output_type": "display_data"
    }
   ],
   "source": [
    "#Gráfica de Enfermedades Mentales General (Jupyter)\n",
    "\n",
    "data_total1 = {\n",
    "    2016: [366, 473, 0],\n",
    "    2017: [4, 244, 249],\n",
    "    2018: [2, 159, 151],\n",
    "    2019: [1, 106, 97],\n",
    "\n",
    "}\n",
    "\n",
    "df_total1 = pd.DataFrame(data_total1,\n",
    "                  index=['No tengo enfermedades mentales', 'Tengo enfermedades mentales', 'No respondió'])\n",
    "\n",
    "number_of_bars = len(df_total1.columns)\n",
    "\n",
    "# Init the whole figure and axes\n",
    "fig_total1, axs = plt.subplots(nrows=1,\n",
    "                        ncols=number_of_bars,\n",
    "                        figsize=(8,6),)\n",
    "\n",
    "# Define the colors\n",
    "colors = ['#003d99', '#0066ff', '#6666ff']\n",
    "\n",
    "# Iterate over each bar and create it\n",
    "for i,ax in enumerate(axs):\n",
    "    \n",
    "    col_name = df_total1.columns[i]\n",
    "    values = df_total1[col_name]\n",
    "    \n",
    "    Waffle.make_waffle(\n",
    "        ax=ax,\n",
    "        rows=20,\n",
    "        columns=5,\n",
    "        values=values,\n",
    "        colors=colors\n",
    "    )\n",
    "\n",
    "    ax.set_title(str(col_name), fontsize=14)\n",
    "\n",
    "legend_handles = [plt.Line2D([0], [0], marker='s', color='w', label='No tengo enfermedades mentales', markerfacecolor=colors[0], markersize=12),\n",
    "                  plt.Line2D([0], [0], marker='s', color='w', label='Tengo enfermedades mentales', markerfacecolor=colors[1], markersize=12),\n",
    "                  plt.Line2D([0], [0], marker='s', color='w', label='No respondió', markerfacecolor=colors[2], markersize=12)]\n",
    "\n",
    "fig_total1.legend(handles=legend_handles, loc='upper center', bbox_to_anchor=(0.5, -0.01), ncol=3)\n",
    "\n",
    "plt.tight_layout(rect=[0, 0, 1, 0.85])\n",
    "\n",
    "plt.show(fig_total1) \n",
    "\n",
    "#Gráfica de Antecedentes Heredofamiliares General (Jupyter)\n",
    "data_total2 = {\n",
    "    2016: [240, 453, 146 ],\n",
    "    2017: [111, 251, 135],\n",
    "    2018: [71, 172, 69],\n",
    "    2019: [44, 115, 45],\n",
    "}\n",
    "\n",
    "df_total2 = pd.DataFrame(data_total2,\n",
    "                index=['No tengo antecedentes heredofamiliares', 'Tengo antecedentes heredofamiliares', 'No conozco mis antecedentes heredofamiliares'])\n",
    "\n",
    "number_of_bars = len(df_total2.columns)\n",
    "\n",
    "fig_total1, axs = plt.subplots(nrows=1,\n",
    "                        ncols=number_of_bars,\n",
    "                        figsize=(8,6),)\n",
    "\n",
    "colors = ['#290066', '#5c00e6', '#944dff']\n",
    "\n",
    "for i,ax in enumerate(axs):\n",
    "    \n",
    "    col_name = df_total2.columns[i]\n",
    "    values = df_total2[col_name]\n",
    "    \n",
    "    Waffle.make_waffle(\n",
    "        ax=ax,\n",
    "        rows=20,\n",
    "        columns=5,\n",
    "        values=values,\n",
    "        colors=colors\n",
    "    )\n",
    "\n",
    "    ax.set_title(str(col_name), fontsize=14)\n",
    "\n",
    "legend_handles = [plt.Line2D([0], [0], marker='s', color='w', label='No tengo antecedentes heredofamiliares', markerfacecolor=colors[0], markersize=12),\n",
    "                plt.Line2D([0], [0], marker='s', color='w', label='Tengo antecedentes heredofamiliares', markerfacecolor=colors[1], markersize=12),\n",
    "                plt.Line2D([0], [0], marker='s', color='w', label='No conozco mis antecedentes heredofamiliares', markerfacecolor=colors[2], markersize=12)]\n",
    "\n",
    "fig_total2.legend(handles=legend_handles, loc='upper center', bbox_to_anchor=(0.5, -0.01), ncol=3)\n",
    "plt.tight_layout(rect=[0, 0, 1, 0.85])\n",
    "\n",
    "plt.show(fig_total2) "
   ]
  },
  {
   "cell_type": "code",
   "execution_count": 19,
   "metadata": {},
   "outputs": [],
   "source": [
    "# PREGUNTA #4\n",
    "# ¿Cuál es la enfermedad mental más común dentro de cada puesto de trabajo en la industria tecnológica estadounidense? ¿De este grupo cuántos trabajan remotamente?\n",
    "\n",
    "# Filtrar los registros que no tienen 'No respondió' en la columna Enfermedades Mentales Diagnosticadas\n",
    "df_2016_filtrado_1 = df_2016[df_2016['Enfermedades Mentales Diagnosticadas']!= 'No respondió']\n",
    "\n",
    "# Crear un nuevo dataframe que muestra la enfermedad mental diagnosticada más común para cada puesto de trabajo\n",
    "Pregunta4_1 = df_2016_filtrado_1.groupby('Puesto de Trabajo')['Enfermedades Mentales Diagnosticadas'].value_counts().reset_index(name='Número de Empleados')\n",
    "Pregunta4_1 = Pregunta4_1.loc[Pregunta4_1.groupby('Puesto de Trabajo')['Número de Empleados'].idxmax()]\n",
    "Pregunta4_1 = Pregunta4_1.sort_values(by='Número de Empleados', ascending=False)\n",
    "\n",
    "# Agregar columna con información de trabajo remoto\n",
    "Pregunta4_1['Trabajo Remoto'] = Pregunta4_1['Puesto de Trabajo'].apply(lambda x: df_2016_filtrado_1[df_2016_filtrado_1['Puesto de Trabajo'] == x]['Trabajo Remoto'].mode().values[0])\n",
    "\n",
    "# Reordenar columnas\n",
    "Pregunta4_1 = Pregunta4_1.loc[:, ['Puesto de Trabajo', 'Enfermedades Mentales Diagnosticadas', 'Trabajo Remoto', 'Número de Empleados']]\n",
    "\n",
    "Pregunta4_1 = Pregunta4_1.sort_values(by='Número de Empleados', ascending=False)\n"
   ]
  },
  {
   "cell_type": "code",
   "execution_count": 20,
   "metadata": {},
   "outputs": [],
   "source": [
    "# Filtrar los registros que no tienen 'No respondió' en la columna Enfermedades Mentales Diagnosticadas\n",
    "df_2016_filtrado_2 = df_2016[df_2016['Enfermedades Mentales No Diagnosticadas']!= 'No respondió']\n",
    "\n",
    "# Crear un nuevo dataframe que muestra la enfermedad mental diagnosticada más común para cada puesto de trabajo\n",
    "Pregunta4_2 = df_2016_filtrado_2.groupby('Puesto de Trabajo')['Enfermedades Mentales No Diagnosticadas'].value_counts().reset_index(name='Número de Empleados')\n",
    "Pregunta4_2 = Pregunta4_2.loc[Pregunta4_2.groupby('Puesto de Trabajo')['Número de Empleados'].idxmax()]\n",
    "Pregunta4_2 = Pregunta4_2.sort_values(by='Número de Empleados', ascending=False)\n",
    "\n",
    "# Agregar columna con información de trabajo remoto\n",
    "Pregunta4_2['Trabajo Remoto'] = Pregunta4_2['Puesto de Trabajo'].apply(lambda x: df_2016_filtrado_2[df_2016_filtrado_2['Puesto de Trabajo'] == x]['Trabajo Remoto'].mode().values[0])\n",
    "\n",
    "# Reordenar columnas\n",
    "Pregunta4_2 = Pregunta4_2.loc[:, ['Puesto de Trabajo', 'Enfermedades Mentales No Diagnosticadas', 'Trabajo Remoto', 'Número de Empleados']]\n",
    "\n",
    "Pregunta4_2 = Pregunta4_2.sort_values(by='Número de Empleados', ascending=False)\n"
   ]
  },
  {
   "cell_type": "code",
   "execution_count": 21,
   "metadata": {},
   "outputs": [],
   "source": [
    "#PARA GRÁFICA 4.1\n",
    "\n",
    "# Contar la frecuencia de cada enfermedad mental diagnosticada\n",
    "Enfermedades2016_4_1 = df_2016_filtrado_1['Enfermedades Mentales Diagnosticadas'].value_counts().to_frame('Número de Empleados')\n",
    "\n",
    "Enfermedades2016_4_1.drop(Enfermedades2016_4_1.index[13], inplace=True)\n",
    "\n",
    "Enfermedades2016_4_1 = Enfermedades2016_4_1.reset_index(drop=False) \n",
    "Enfermedades2016_4_1 = Enfermedades2016_4_1.rename(columns={'index': 'Enfermedades Mentales Diagnosticadas'}) \n",
    "Enfermedades2016_4_1['Abreviatura'] = ['TA', 'TD/TB', 'TDAH', 'TEPT', 'TOC', 'TP', 'TCS', 'SRE', 'TP', 'TAE', 'LCT', 'TA', 'AS', 'TEP'] \n",
    "Enfermedades2016_4_1 = Enfermedades2016_4_1.loc[:, ['Abreviatura', 'Enfermedades Mentales Diagnosticadas', 'Número de Empleados']]\n",
    "\n",
    "correcciones = {\n",
    "    'Trastorno de Ansiedad (Genralizado, Social, Fobia, etc.)': 'Trastorno de Ansiedad (Generalizado, Social, Fobia, etc.)'}\n",
    "\n",
    "Enfermedades2016_4_1['Enfermedades Mentales Diagnosticadas'] = Enfermedades2016_4_1['Enfermedades Mentales Diagnosticadas'].replace(correcciones)\n",
    "\n",
    "# Contar la frecuencia de cada enfermedad mental no diagnosticada\n",
    "Enfermedades2016_4_2 = df_2016_filtrado_2['Enfermedades Mentales No Diagnosticadas'].value_counts().to_frame('Número de Empleados')\n",
    "\n",
    "Enfermedades2016_4_2 = Enfermedades2016_4_2.reset_index(drop=False)\n",
    "Enfermedades2016_4_2 = Enfermedades2016_4_2.rename(columns={'index': 'Enfermedades Mentales No Diagnosticadas'})\n",
    "Enfermedades2016_4_2['Abreviatura'] = ['TA', 'TD/TB', 'TDAH', 'TCS', 'TP', 'TEPT', 'TOC', 'DPP/A', 'SA', 'TEA', 'TCA']\n",
    "Enfermedades2016_4_2 = Enfermedades2016_4_2.loc[:, ['Abreviatura', 'Enfermedades Mentales No Diagnosticadas', 'Número de Empleados']]\n",
    "\n",
    "#PARA GRÁFICA 4.2\n",
    "\n",
    "# Contar la frecuencia de cada puesto de trabajo\n",
    "Trabajo2016_4 = df_2016_filtrado_1['Puesto de Trabajo'].value_counts().to_frame('Cantidad de Empleados')\n",
    "\n",
    "# Pivot table para contar trabajo remoto\n",
    "Trabajo2016_4 = df_2016_filtrado_1.pivot_table(index='Puesto de Trabajo', columns='Trabajo Remoto', aggfunc='size', fill_value=0)\n",
    "\n",
    "# Agregar columna Total\n",
    "Trabajo2016_4['Total'] = Trabajo2016_4.sum(axis=1)\n",
    "\n",
    "# Renombrar columna Total a Número de Empleados\n",
    "Trabajo2016_4 = Trabajo2016_4.rename(columns={'Total': 'Número de Empleados'})\n",
    "\n",
    "# Reordenar columnas\n",
    "Trabajo2016_4 = Trabajo2016_4.loc[:, ['Siempre', 'A veces', 'Nunca', 'Número de Empleados']]\n",
    "\n",
    "# Ordenar por Total en orden descendente\n",
    "Trabajo2016_4 = Trabajo2016_4.sort_values(by='Número de Empleados', ascending=False)\n"
   ]
  },
  {
   "cell_type": "code",
   "execution_count": 22,
   "metadata": {},
   "outputs": [
    {
     "data": {
      "application/vnd.plotly.v1+json": {
       "config": {
        "plotlyServerURL": "https://plot.ly"
       },
       "data": [
        {
         "alignmentgroup": "True",
         "hovertemplate": "<b>%{hovertext}</b><br><br>Diagnóstico=%{x}<br>Número de Empleados=%{y}<extra></extra>",
         "hovertext": [
          "Trastorno de Ansiedad (Generalizado, Social, Fobia, etc.)",
          "Trastorno Adictivo"
         ],
         "legendgroup": "TA",
         "marker": {
          "color": "#004080",
          "pattern": {
           "shape": ""
          }
         },
         "name": "TA",
         "offsetgroup": "TA",
         "orientation": "v",
         "showlegend": true,
         "textposition": "auto",
         "type": "bar",
         "x": [
          "TA",
          "TA"
         ],
         "xaxis": "x",
         "y": [
          229,
          1
         ],
         "yaxis": "y"
        },
        {
         "alignmentgroup": "True",
         "hovertemplate": "<b>%{hovertext}</b><br><br>Diagnóstico=%{x}<br>Número de Empleados=%{y}<extra></extra>",
         "hovertext": [
          "Trastorno del Estado del Ánimo (Depresión, Trastorno Bipolar, etc.)"
         ],
         "legendgroup": "TD/TB",
         "marker": {
          "color": "#004d99",
          "pattern": {
           "shape": ""
          }
         },
         "name": "TD/TB",
         "offsetgroup": "TD/TB",
         "orientation": "v",
         "showlegend": true,
         "textposition": "auto",
         "type": "bar",
         "x": [
          "TD/TB"
         ],
         "xaxis": "x",
         "y": [
          116
         ],
         "yaxis": "y"
        },
        {
         "alignmentgroup": "True",
         "hovertemplate": "<b>%{hovertext}</b><br><br>Diagnóstico=%{x}<br>Número de Empleados=%{y}<extra></extra>",
         "hovertext": [
          "Trastorno por Déficit de Atención e Hiperactividad"
         ],
         "legendgroup": "TDAH",
         "marker": {
          "color": "#0059b3",
          "pattern": {
           "shape": ""
          }
         },
         "name": "TDAH",
         "offsetgroup": "TDAH",
         "orientation": "v",
         "showlegend": true,
         "textposition": "auto",
         "type": "bar",
         "x": [
          "TDAH"
         ],
         "xaxis": "x",
         "y": [
          19
         ],
         "yaxis": "y"
        },
        {
         "alignmentgroup": "True",
         "hovertemplate": "<b>%{hovertext}</b><br><br>Diagnóstico=%{x}<br>Número de Empleados=%{y}<extra></extra>",
         "hovertext": [
          "Trastorno de Estrés Post-Traumático"
         ],
         "legendgroup": "TEPT",
         "marker": {
          "color": "#0066cc",
          "pattern": {
           "shape": ""
          }
         },
         "name": "TEPT",
         "offsetgroup": "TEPT",
         "orientation": "v",
         "showlegend": true,
         "textposition": "auto",
         "type": "bar",
         "x": [
          "TEPT"
         ],
         "xaxis": "x",
         "y": [
          7
         ],
         "yaxis": "y"
        },
        {
         "alignmentgroup": "True",
         "hovertemplate": "<b>%{hovertext}</b><br><br>Diagnóstico=%{x}<br>Número de Empleados=%{y}<extra></extra>",
         "hovertext": [
          "Trastorno Obsesivo-Compulsivo"
         ],
         "legendgroup": "TOC",
         "marker": {
          "color": "#0073e6",
          "pattern": {
           "shape": ""
          }
         },
         "name": "TOC",
         "offsetgroup": "TOC",
         "orientation": "v",
         "showlegend": true,
         "textposition": "auto",
         "type": "bar",
         "x": [
          "TOC"
         ],
         "xaxis": "x",
         "y": [
          3
         ],
         "yaxis": "y"
        },
        {
         "alignmentgroup": "True",
         "hovertemplate": "<b>%{hovertext}</b><br><br>Diagnóstico=%{x}<br>Número de Empleados=%{y}<extra></extra>",
         "hovertext": [
          "Trastorno Psicótico (Esquizofrenia, Esquizoafectivo, etc.)",
          "Trastorno de la Personalidad (Peronalidad Límite, Antisocial, Paranoía, etc.)"
         ],
         "legendgroup": "TP",
         "marker": {
          "color": "#0080ff",
          "pattern": {
           "shape": ""
          }
         },
         "name": "TP",
         "offsetgroup": "TP",
         "orientation": "v",
         "showlegend": true,
         "textposition": "auto",
         "type": "bar",
         "x": [
          "TP",
          "TP"
         ],
         "xaxis": "x",
         "y": [
          3,
          1
         ],
         "yaxis": "y"
        },
        {
         "alignmentgroup": "True",
         "hovertemplate": "<b>%{hovertext}</b><br><br>Diagnóstico=%{x}<br>Número de Empleados=%{y}<extra></extra>",
         "hovertext": [
          "Trastorno de Consumo de Sustancias"
         ],
         "legendgroup": "TCS",
         "marker": {
          "color": "#1a8cff",
          "pattern": {
           "shape": ""
          }
         },
         "name": "TCS",
         "offsetgroup": "TCS",
         "orientation": "v",
         "showlegend": true,
         "textposition": "auto",
         "type": "bar",
         "x": [
          "TCS"
         ],
         "xaxis": "x",
         "y": [
          2
         ],
         "yaxis": "y"
        },
        {
         "alignmentgroup": "True",
         "hovertemplate": "<b>%{hovertext}</b><br><br>Diagnóstico=%{x}<br>Número de Empleados=%{y}<extra></extra>",
         "hovertext": [
          "Síndrome de Respuesta de Estrés"
         ],
         "legendgroup": "SRE",
         "marker": {
          "color": "#3399ff",
          "pattern": {
           "shape": ""
          }
         },
         "name": "SRE",
         "offsetgroup": "SRE",
         "orientation": "v",
         "showlegend": true,
         "textposition": "auto",
         "type": "bar",
         "x": [
          "SRE"
         ],
         "xaxis": "x",
         "y": [
          2
         ],
         "yaxis": "y"
        },
        {
         "alignmentgroup": "True",
         "hovertemplate": "<b>%{hovertext}</b><br><br>Diagnóstico=%{x}<br>Número de Empleados=%{y}<extra></extra>",
         "hovertext": [
          "Trastorno Afectivo Estacional"
         ],
         "legendgroup": "TAE",
         "marker": {
          "color": "#4da6ff",
          "pattern": {
           "shape": ""
          }
         },
         "name": "TAE",
         "offsetgroup": "TAE",
         "orientation": "v",
         "showlegend": true,
         "textposition": "auto",
         "type": "bar",
         "x": [
          "TAE"
         ],
         "xaxis": "x",
         "y": [
          1
         ],
         "yaxis": "y"
        },
        {
         "alignmentgroup": "True",
         "hovertemplate": "<b>%{hovertext}</b><br><br>Diagnóstico=%{x}<br>Número de Empleados=%{y}<extra></extra>",
         "hovertext": [
          "Lesión Cerebral Traumática"
         ],
         "legendgroup": "LCT",
         "marker": {
          "color": "#66b3ff",
          "pattern": {
           "shape": ""
          }
         },
         "name": "LCT",
         "offsetgroup": "LCT",
         "orientation": "v",
         "showlegend": true,
         "textposition": "auto",
         "type": "bar",
         "x": [
          "LCT"
         ],
         "xaxis": "x",
         "y": [
          1
         ],
         "yaxis": "y"
        },
        {
         "alignmentgroup": "True",
         "hovertemplate": "<b>%{hovertext}</b><br><br>Diagnóstico=%{x}<br>Número de Empleados=%{y}<extra></extra>",
         "hovertext": [
          "Adicción Sexual"
         ],
         "legendgroup": "AS",
         "marker": {
          "color": "#80bfff",
          "pattern": {
           "shape": ""
          }
         },
         "name": "AS",
         "offsetgroup": "AS",
         "orientation": "v",
         "showlegend": true,
         "textposition": "auto",
         "type": "bar",
         "x": [
          "AS"
         ],
         "xaxis": "x",
         "y": [
          1
         ],
         "yaxis": "y"
        },
        {
         "alignmentgroup": "True",
         "hovertemplate": "<b>%{hovertext}</b><br><br>Diagnóstico=%{x}<br>Número de Empleados=%{y}<extra></extra>",
         "hovertext": [
          "Trastorno Esquizotípico de la Personalidad"
         ],
         "legendgroup": "TEP",
         "marker": {
          "color": "#99ccff",
          "pattern": {
           "shape": ""
          }
         },
         "name": "TEP",
         "offsetgroup": "TEP",
         "orientation": "v",
         "showlegend": true,
         "textposition": "auto",
         "type": "bar",
         "x": [
          "TEP"
         ],
         "xaxis": "x",
         "y": [
          1
         ],
         "yaxis": "y"
        }
       ],
       "layout": {
        "barmode": "relative",
        "legend": {
         "title": {
          "text": "Diagnóstico"
         },
         "tracegroupgap": 0
        },
        "template": {
         "data": {
          "candlestick": [
           {
            "decreasing": {
             "line": {
              "color": "#000033"
             }
            },
            "increasing": {
             "line": {
              "color": "#000032"
             }
            },
            "type": "candlestick"
           }
          ],
          "contour": [
           {
            "colorscale": [
             [
              0,
              "#000011"
             ],
             [
              0.1111111111111111,
              "#000012"
             ],
             [
              0.2222222222222222,
              "#000013"
             ],
             [
              0.3333333333333333,
              "#000014"
             ],
             [
              0.4444444444444444,
              "#000015"
             ],
             [
              0.5555555555555556,
              "#000016"
             ],
             [
              0.6666666666666666,
              "#000017"
             ],
             [
              0.7777777777777778,
              "#000018"
             ],
             [
              0.8888888888888888,
              "#000019"
             ],
             [
              1,
              "#000020"
             ]
            ],
            "type": "contour"
           }
          ],
          "contourcarpet": [
           {
            "colorscale": [
             [
              0,
              "#000011"
             ],
             [
              0.1111111111111111,
              "#000012"
             ],
             [
              0.2222222222222222,
              "#000013"
             ],
             [
              0.3333333333333333,
              "#000014"
             ],
             [
              0.4444444444444444,
              "#000015"
             ],
             [
              0.5555555555555556,
              "#000016"
             ],
             [
              0.6666666666666666,
              "#000017"
             ],
             [
              0.7777777777777778,
              "#000018"
             ],
             [
              0.8888888888888888,
              "#000019"
             ],
             [
              1,
              "#000020"
             ]
            ],
            "type": "contourcarpet"
           }
          ],
          "heatmap": [
           {
            "colorscale": [
             [
              0,
              "#000011"
             ],
             [
              0.1111111111111111,
              "#000012"
             ],
             [
              0.2222222222222222,
              "#000013"
             ],
             [
              0.3333333333333333,
              "#000014"
             ],
             [
              0.4444444444444444,
              "#000015"
             ],
             [
              0.5555555555555556,
              "#000016"
             ],
             [
              0.6666666666666666,
              "#000017"
             ],
             [
              0.7777777777777778,
              "#000018"
             ],
             [
              0.8888888888888888,
              "#000019"
             ],
             [
              1,
              "#000020"
             ]
            ],
            "type": "heatmap"
           }
          ],
          "histogram2d": [
           {
            "colorscale": [
             [
              0,
              "#000011"
             ],
             [
              0.1111111111111111,
              "#000012"
             ],
             [
              0.2222222222222222,
              "#000013"
             ],
             [
              0.3333333333333333,
              "#000014"
             ],
             [
              0.4444444444444444,
              "#000015"
             ],
             [
              0.5555555555555556,
              "#000016"
             ],
             [
              0.6666666666666666,
              "#000017"
             ],
             [
              0.7777777777777778,
              "#000018"
             ],
             [
              0.8888888888888888,
              "#000019"
             ],
             [
              1,
              "#000020"
             ]
            ],
            "type": "histogram2d"
           }
          ],
          "icicle": [
           {
            "textfont": {
             "color": "white"
            },
            "type": "icicle"
           }
          ],
          "sankey": [
           {
            "textfont": {
             "color": "#000036"
            },
            "type": "sankey"
           }
          ],
          "scatter": [
           {
            "marker": {
             "line": {
              "width": 0
             }
            },
            "type": "scatter"
           }
          ],
          "table": [
           {
            "cells": {
             "fill": {
              "color": "#000038"
             },
             "font": {
              "color": "#000037"
             },
             "line": {
              "color": "#000039"
             }
            },
            "header": {
             "fill": {
              "color": "#000040"
             },
             "font": {
              "color": "#000036"
             },
             "line": {
              "color": "#000039"
             }
            },
            "type": "table"
           }
          ],
          "waterfall": [
           {
            "connector": {
             "line": {
              "color": "#000036",
              "width": 2
             }
            },
            "decreasing": {
             "marker": {
              "color": "#000033"
             }
            },
            "increasing": {
             "marker": {
              "color": "#000032"
             }
            },
            "totals": {
             "marker": {
              "color": "#000034"
             }
            },
            "type": "waterfall"
           }
          ]
         },
         "layout": {
          "coloraxis": {
           "colorscale": [
            [
             0,
             "#000011"
            ],
            [
             0.1111111111111111,
             "#000012"
            ],
            [
             0.2222222222222222,
             "#000013"
            ],
            [
             0.3333333333333333,
             "#000014"
            ],
            [
             0.4444444444444444,
             "#000015"
            ],
            [
             0.5555555555555556,
             "#000016"
            ],
            [
             0.6666666666666666,
             "#000017"
            ],
            [
             0.7777777777777778,
             "#000018"
            ],
            [
             0.8888888888888888,
             "#000019"
            ],
            [
             1,
             "#000020"
            ]
           ]
          },
          "colorscale": {
           "diverging": [
            [
             0,
             "#000021"
            ],
            [
             0.1,
             "#000022"
            ],
            [
             0.2,
             "#000023"
            ],
            [
             0.3,
             "#000024"
            ],
            [
             0.4,
             "#000025"
            ],
            [
             0.5,
             "#000026"
            ],
            [
             0.6,
             "#000027"
            ],
            [
             0.7,
             "#000028"
            ],
            [
             0.8,
             "#000029"
            ],
            [
             0.9,
             "#000030"
            ],
            [
             1,
             "#000031"
            ]
           ],
           "sequential": [
            [
             0,
             "#000011"
            ],
            [
             0.1111111111111111,
             "#000012"
            ],
            [
             0.2222222222222222,
             "#000013"
            ],
            [
             0.3333333333333333,
             "#000014"
            ],
            [
             0.4444444444444444,
             "#000015"
            ],
            [
             0.5555555555555556,
             "#000016"
            ],
            [
             0.6666666666666666,
             "#000017"
            ],
            [
             0.7777777777777778,
             "#000018"
            ],
            [
             0.8888888888888888,
             "#000019"
            ],
            [
             1,
             "#000020"
            ]
           ],
           "sequentialminus": [
            [
             0,
             "#000011"
            ],
            [
             0.1111111111111111,
             "#000012"
            ],
            [
             0.2222222222222222,
             "#000013"
            ],
            [
             0.3333333333333333,
             "#000014"
            ],
            [
             0.4444444444444444,
             "#000015"
            ],
            [
             0.5555555555555556,
             "#000016"
            ],
            [
             0.6666666666666666,
             "#000017"
            ],
            [
             0.7777777777777778,
             "#000018"
            ],
            [
             0.8888888888888888,
             "#000019"
            ],
            [
             1,
             "#000020"
            ]
           ]
          },
          "colorway": [
           "#000001",
           "#000002",
           "#000003",
           "#000004",
           "#000005",
           "#000006",
           "#000007",
           "#000008",
           "#000009",
           "#000010"
          ]
         }
        },
        "title": {
         "text": "Enfermedades Mentales Diagnosticadas"
        },
        "xaxis": {
         "anchor": "y",
         "categoryarray": [
          "TA",
          "TD/TB",
          "TDAH",
          "TEPT",
          "TOC",
          "TP",
          "TCS",
          "SRE",
          "TAE",
          "LCT",
          "AS",
          "TEP"
         ],
         "categoryorder": "array",
         "domain": [
          0,
          1
         ],
         "title": {
          "text": "Diagnóstico"
         }
        },
        "yaxis": {
         "anchor": "x",
         "domain": [
          0,
          1
         ],
         "title": {
          "text": "Número de Empleados"
         }
        }
       }
      }
     },
     "metadata": {},
     "output_type": "display_data"
    },
    {
     "data": {
      "application/vnd.plotly.v1+json": {
       "config": {
        "plotlyServerURL": "https://plot.ly"
       },
       "data": [
        {
         "alignmentgroup": "True",
         "hovertemplate": "<b>%{hovertext}</b><br><br>Creencia=%{x}<br>Número de Empleados=%{y}<extra></extra>",
         "hovertext": [
          "Trastorno de Ansiedad (Genralizado, Social, Fobia, etc.)"
         ],
         "legendgroup": "TA",
         "marker": {
          "color": "#400080",
          "pattern": {
           "shape": ""
          }
         },
         "name": "TA",
         "offsetgroup": "TA",
         "orientation": "v",
         "showlegend": true,
         "textposition": "auto",
         "type": "bar",
         "x": [
          "TA"
         ],
         "xaxis": "x",
         "y": [
          108
         ],
         "yaxis": "y"
        },
        {
         "alignmentgroup": "True",
         "hovertemplate": "<b>%{hovertext}</b><br><br>Creencia=%{x}<br>Número de Empleados=%{y}<extra></extra>",
         "hovertext": [
          "Trastorno del Estado del Ánimo (Depresión, Trastorno Bipolar, etc.)"
         ],
         "legendgroup": "TD/TB",
         "marker": {
          "color": "#4d0099",
          "pattern": {
           "shape": ""
          }
         },
         "name": "TD/TB",
         "offsetgroup": "TD/TB",
         "orientation": "v",
         "showlegend": true,
         "textposition": "auto",
         "type": "bar",
         "x": [
          "TD/TB"
         ],
         "xaxis": "x",
         "y": [
          49
         ],
         "yaxis": "y"
        },
        {
         "alignmentgroup": "True",
         "hovertemplate": "<b>%{hovertext}</b><br><br>Creencia=%{x}<br>Número de Empleados=%{y}<extra></extra>",
         "hovertext": [
          "Trastorno por Déficit de Atención e Hiperactividad"
         ],
         "legendgroup": "TDAH",
         "marker": {
          "color": "#5900b3",
          "pattern": {
           "shape": ""
          }
         },
         "name": "TDAH",
         "offsetgroup": "TDAH",
         "orientation": "v",
         "showlegend": true,
         "textposition": "auto",
         "type": "bar",
         "x": [
          "TDAH"
         ],
         "xaxis": "x",
         "y": [
          8
         ],
         "yaxis": "y"
        },
        {
         "alignmentgroup": "True",
         "hovertemplate": "<b>%{hovertext}</b><br><br>Creencia=%{x}<br>Número de Empleados=%{y}<extra></extra>",
         "hovertext": [
          "Trastorno de Consumo de Sustancias"
         ],
         "legendgroup": "TCS",
         "marker": {
          "color": "#6600cc",
          "pattern": {
           "shape": ""
          }
         },
         "name": "TCS",
         "offsetgroup": "TCS",
         "orientation": "v",
         "showlegend": true,
         "textposition": "auto",
         "type": "bar",
         "x": [
          "TCS"
         ],
         "xaxis": "x",
         "y": [
          2
         ],
         "yaxis": "y"
        },
        {
         "alignmentgroup": "True",
         "hovertemplate": "<b>%{hovertext}</b><br><br>Creencia=%{x}<br>Número de Empleados=%{y}<extra></extra>",
         "hovertext": [
          "Trastorno Psicótico (Esquizofrenia, Esquizoafectivo, etc.)"
         ],
         "legendgroup": "TP",
         "marker": {
          "color": "#7300e6",
          "pattern": {
           "shape": ""
          }
         },
         "name": "TP",
         "offsetgroup": "TP",
         "orientation": "v",
         "showlegend": true,
         "textposition": "auto",
         "type": "bar",
         "x": [
          "TP"
         ],
         "xaxis": "x",
         "y": [
          2
         ],
         "yaxis": "y"
        },
        {
         "alignmentgroup": "True",
         "hovertemplate": "<b>%{hovertext}</b><br><br>Creencia=%{x}<br>Número de Empleados=%{y}<extra></extra>",
         "hovertext": [
          "Trastorno de Estrés Post-Traumático"
         ],
         "legendgroup": "TEPT",
         "marker": {
          "color": "#8000ff",
          "pattern": {
           "shape": ""
          }
         },
         "name": "TEPT",
         "offsetgroup": "TEPT",
         "orientation": "v",
         "showlegend": true,
         "textposition": "auto",
         "type": "bar",
         "x": [
          "TEPT"
         ],
         "xaxis": "x",
         "y": [
          2
         ],
         "yaxis": "y"
        },
        {
         "alignmentgroup": "True",
         "hovertemplate": "<b>%{hovertext}</b><br><br>Creencia=%{x}<br>Número de Empleados=%{y}<extra></extra>",
         "hovertext": [
          "Trastorno Obsesivo-Compulsivo"
         ],
         "legendgroup": "TOC",
         "marker": {
          "color": "#8c1aff",
          "pattern": {
           "shape": ""
          }
         },
         "name": "TOC",
         "offsetgroup": "TOC",
         "orientation": "v",
         "showlegend": true,
         "textposition": "auto",
         "type": "bar",
         "x": [
          "TOC"
         ],
         "xaxis": "x",
         "y": [
          1
         ],
         "yaxis": "y"
        },
        {
         "alignmentgroup": "True",
         "hovertemplate": "<b>%{hovertext}</b><br><br>Creencia=%{x}<br>Número de Empleados=%{y}<extra></extra>",
         "hovertext": [
          "Depresión Post-Parto/Ansiedad"
         ],
         "legendgroup": "DPP/A",
         "marker": {
          "color": "#9933ff",
          "pattern": {
           "shape": ""
          }
         },
         "name": "DPP/A",
         "offsetgroup": "DPP/A",
         "orientation": "v",
         "showlegend": true,
         "textposition": "auto",
         "type": "bar",
         "x": [
          "DPP/A"
         ],
         "xaxis": "x",
         "y": [
          1
         ],
         "yaxis": "y"
        },
        {
         "alignmentgroup": "True",
         "hovertemplate": "<b>%{hovertext}</b><br><br>Creencia=%{x}<br>Número de Empleados=%{y}<extra></extra>",
         "hovertext": [
          "Asperger"
         ],
         "legendgroup": "SA",
         "marker": {
          "color": "#a64dff",
          "pattern": {
           "shape": ""
          }
         },
         "name": "SA",
         "offsetgroup": "SA",
         "orientation": "v",
         "showlegend": true,
         "textposition": "auto",
         "type": "bar",
         "x": [
          "SA"
         ],
         "xaxis": "x",
         "y": [
          1
         ],
         "yaxis": "y"
        },
        {
         "alignmentgroup": "True",
         "hovertemplate": "<b>%{hovertext}</b><br><br>Creencia=%{x}<br>Número de Empleados=%{y}<extra></extra>",
         "hovertext": [
          "Autismo"
         ],
         "legendgroup": "TEA",
         "marker": {
          "color": "#b366ff",
          "pattern": {
           "shape": ""
          }
         },
         "name": "TEA",
         "offsetgroup": "TEA",
         "orientation": "v",
         "showlegend": true,
         "textposition": "auto",
         "type": "bar",
         "x": [
          "TEA"
         ],
         "xaxis": "x",
         "y": [
          1
         ],
         "yaxis": "y"
        },
        {
         "alignmentgroup": "True",
         "hovertemplate": "<b>%{hovertext}</b><br><br>Creencia=%{x}<br>Número de Empleados=%{y}<extra></extra>",
         "hovertext": [
          "Trastorno de la Conducta Alimentaria (Anorexia, Bulimia, etc.)"
         ],
         "legendgroup": "TCA",
         "marker": {
          "color": "#bf80ff",
          "pattern": {
           "shape": ""
          }
         },
         "name": "TCA",
         "offsetgroup": "TCA",
         "orientation": "v",
         "showlegend": true,
         "textposition": "auto",
         "type": "bar",
         "x": [
          "TCA"
         ],
         "xaxis": "x",
         "y": [
          1
         ],
         "yaxis": "y"
        }
       ],
       "layout": {
        "barmode": "relative",
        "legend": {
         "title": {
          "text": "Creencia"
         },
         "tracegroupgap": 0
        },
        "template": {
         "data": {
          "candlestick": [
           {
            "decreasing": {
             "line": {
              "color": "#000033"
             }
            },
            "increasing": {
             "line": {
              "color": "#000032"
             }
            },
            "type": "candlestick"
           }
          ],
          "contour": [
           {
            "colorscale": [
             [
              0,
              "#000011"
             ],
             [
              0.1111111111111111,
              "#000012"
             ],
             [
              0.2222222222222222,
              "#000013"
             ],
             [
              0.3333333333333333,
              "#000014"
             ],
             [
              0.4444444444444444,
              "#000015"
             ],
             [
              0.5555555555555556,
              "#000016"
             ],
             [
              0.6666666666666666,
              "#000017"
             ],
             [
              0.7777777777777778,
              "#000018"
             ],
             [
              0.8888888888888888,
              "#000019"
             ],
             [
              1,
              "#000020"
             ]
            ],
            "type": "contour"
           }
          ],
          "contourcarpet": [
           {
            "colorscale": [
             [
              0,
              "#000011"
             ],
             [
              0.1111111111111111,
              "#000012"
             ],
             [
              0.2222222222222222,
              "#000013"
             ],
             [
              0.3333333333333333,
              "#000014"
             ],
             [
              0.4444444444444444,
              "#000015"
             ],
             [
              0.5555555555555556,
              "#000016"
             ],
             [
              0.6666666666666666,
              "#000017"
             ],
             [
              0.7777777777777778,
              "#000018"
             ],
             [
              0.8888888888888888,
              "#000019"
             ],
             [
              1,
              "#000020"
             ]
            ],
            "type": "contourcarpet"
           }
          ],
          "heatmap": [
           {
            "colorscale": [
             [
              0,
              "#000011"
             ],
             [
              0.1111111111111111,
              "#000012"
             ],
             [
              0.2222222222222222,
              "#000013"
             ],
             [
              0.3333333333333333,
              "#000014"
             ],
             [
              0.4444444444444444,
              "#000015"
             ],
             [
              0.5555555555555556,
              "#000016"
             ],
             [
              0.6666666666666666,
              "#000017"
             ],
             [
              0.7777777777777778,
              "#000018"
             ],
             [
              0.8888888888888888,
              "#000019"
             ],
             [
              1,
              "#000020"
             ]
            ],
            "type": "heatmap"
           }
          ],
          "histogram2d": [
           {
            "colorscale": [
             [
              0,
              "#000011"
             ],
             [
              0.1111111111111111,
              "#000012"
             ],
             [
              0.2222222222222222,
              "#000013"
             ],
             [
              0.3333333333333333,
              "#000014"
             ],
             [
              0.4444444444444444,
              "#000015"
             ],
             [
              0.5555555555555556,
              "#000016"
             ],
             [
              0.6666666666666666,
              "#000017"
             ],
             [
              0.7777777777777778,
              "#000018"
             ],
             [
              0.8888888888888888,
              "#000019"
             ],
             [
              1,
              "#000020"
             ]
            ],
            "type": "histogram2d"
           }
          ],
          "icicle": [
           {
            "textfont": {
             "color": "white"
            },
            "type": "icicle"
           }
          ],
          "sankey": [
           {
            "textfont": {
             "color": "#000036"
            },
            "type": "sankey"
           }
          ],
          "scatter": [
           {
            "marker": {
             "line": {
              "width": 0
             }
            },
            "type": "scatter"
           }
          ],
          "table": [
           {
            "cells": {
             "fill": {
              "color": "#000038"
             },
             "font": {
              "color": "#000037"
             },
             "line": {
              "color": "#000039"
             }
            },
            "header": {
             "fill": {
              "color": "#000040"
             },
             "font": {
              "color": "#000036"
             },
             "line": {
              "color": "#000039"
             }
            },
            "type": "table"
           }
          ],
          "waterfall": [
           {
            "connector": {
             "line": {
              "color": "#000036",
              "width": 2
             }
            },
            "decreasing": {
             "marker": {
              "color": "#000033"
             }
            },
            "increasing": {
             "marker": {
              "color": "#000032"
             }
            },
            "totals": {
             "marker": {
              "color": "#000034"
             }
            },
            "type": "waterfall"
           }
          ]
         },
         "layout": {
          "coloraxis": {
           "colorscale": [
            [
             0,
             "#000011"
            ],
            [
             0.1111111111111111,
             "#000012"
            ],
            [
             0.2222222222222222,
             "#000013"
            ],
            [
             0.3333333333333333,
             "#000014"
            ],
            [
             0.4444444444444444,
             "#000015"
            ],
            [
             0.5555555555555556,
             "#000016"
            ],
            [
             0.6666666666666666,
             "#000017"
            ],
            [
             0.7777777777777778,
             "#000018"
            ],
            [
             0.8888888888888888,
             "#000019"
            ],
            [
             1,
             "#000020"
            ]
           ]
          },
          "colorscale": {
           "diverging": [
            [
             0,
             "#000021"
            ],
            [
             0.1,
             "#000022"
            ],
            [
             0.2,
             "#000023"
            ],
            [
             0.3,
             "#000024"
            ],
            [
             0.4,
             "#000025"
            ],
            [
             0.5,
             "#000026"
            ],
            [
             0.6,
             "#000027"
            ],
            [
             0.7,
             "#000028"
            ],
            [
             0.8,
             "#000029"
            ],
            [
             0.9,
             "#000030"
            ],
            [
             1,
             "#000031"
            ]
           ],
           "sequential": [
            [
             0,
             "#000011"
            ],
            [
             0.1111111111111111,
             "#000012"
            ],
            [
             0.2222222222222222,
             "#000013"
            ],
            [
             0.3333333333333333,
             "#000014"
            ],
            [
             0.4444444444444444,
             "#000015"
            ],
            [
             0.5555555555555556,
             "#000016"
            ],
            [
             0.6666666666666666,
             "#000017"
            ],
            [
             0.7777777777777778,
             "#000018"
            ],
            [
             0.8888888888888888,
             "#000019"
            ],
            [
             1,
             "#000020"
            ]
           ],
           "sequentialminus": [
            [
             0,
             "#000011"
            ],
            [
             0.1111111111111111,
             "#000012"
            ],
            [
             0.2222222222222222,
             "#000013"
            ],
            [
             0.3333333333333333,
             "#000014"
            ],
            [
             0.4444444444444444,
             "#000015"
            ],
            [
             0.5555555555555556,
             "#000016"
            ],
            [
             0.6666666666666666,
             "#000017"
            ],
            [
             0.7777777777777778,
             "#000018"
            ],
            [
             0.8888888888888888,
             "#000019"
            ],
            [
             1,
             "#000020"
            ]
           ]
          },
          "colorway": [
           "#000001",
           "#000002",
           "#000003",
           "#000004",
           "#000005",
           "#000006",
           "#000007",
           "#000008",
           "#000009",
           "#000010"
          ]
         }
        },
        "title": {
         "text": "Enfermedades Mentales No Diagnosticadas"
        },
        "xaxis": {
         "anchor": "y",
         "categoryarray": [
          "TA",
          "TD/TB",
          "TDAH",
          "TCS",
          "TP",
          "TEPT",
          "TOC",
          "DPP/A",
          "SA",
          "TEA",
          "TCA"
         ],
         "categoryorder": "array",
         "domain": [
          0,
          1
         ],
         "title": {
          "text": "Creencia"
         }
        },
        "yaxis": {
         "anchor": "x",
         "domain": [
          0,
          1
         ],
         "title": {
          "text": "Número de Empleados"
         }
        }
       }
      }
     },
     "metadata": {},
     "output_type": "display_data"
    }
   ],
   "source": [
    "# Crear el gráfico con la columna 'Enfermedad Mental Diagnosticada' como eje y\n",
    "fig20164_1 = px.bar(Enfermedades2016_4_1, x='Abreviatura', y='Número de Empleados', \n",
    "             title='Enfermedades Mentales Diagnosticadas',\n",
    "             labels={'Abreviatura': 'Diagnóstico', 'Número de Empleados': 'Número de Empleados'},\n",
    "             color='Abreviatura', color_discrete_sequence=['#004080', '#004d99', '#0059b3', '#0066cc', '#0073e6', '#0080ff', '#1a8cff', '#3399ff', '#4da6ff', '#66b3ff', '#80bfff', '#99ccff'],\n",
    "             hover_name='Enfermedades Mentales Diagnosticadas')\n",
    "\n",
    "# Histograma 2: Enfermedades no diagnosticadas\n",
    "fig20164_2 = px.bar(Enfermedades2016_4_2, x='Abreviatura', y='Número de Empleados', \n",
    "             title='Enfermedades Mentales No Diagnosticadas',\n",
    "             labels={'Abreviatura': 'Creencia', 'Número de Empleados': 'Número de Empleados'},\n",
    "             color='Abreviatura', \n",
    "             color_discrete_sequence=['#400080', '#4d0099', '#5900b3', '#6600cc', '#7300e6', '#8000ff', '#8c1aff', '#9933ff', '#a64dff', '#b366ff', '#bf80ff'],\n",
    "             hover_name='Enfermedades Mentales No Diagnosticadas')\n",
    "\n",
    "fig20164_1.show()\n",
    "fig20164_2.show()"
   ]
  },
  {
   "cell_type": "code",
   "execution_count": 23,
   "metadata": {},
   "outputs": [
    {
     "data": {
      "application/vnd.plotly.v1+json": {
       "config": {
        "plotlyServerURL": "https://plot.ly"
       },
       "data": [
        {
         "marker": {
          "color": "rgb(0, 89, 179)"
         },
         "name": "Siempre trabajo remoto",
         "orientation": "h",
         "type": "bar",
         "x": [
          17,
          11,
          9,
          9,
          10,
          12,
          10,
          3,
          9,
          4,
          0,
          0
         ],
         "y": [
          "Programador(a) Back-End",
          "Programador(a) Front-End",
          "Supervisor(a)/Líder de Equipo",
          "Director(a) Ejecutivo",
          "Promotor(a) de Desarrollo",
          "Administrador(a) de Sistemas",
          "Soporte o Ayuda",
          "Diseñador(a)",
          "Emprendedor(a)",
          "Otros",
          "Vendedor(a)",
          "Recursos Humanos"
         ]
        },
        {
         "marker": {
          "color": "rgb(0, 128, 255)"
         },
         "name": "A veces trabajo remoto",
         "orientation": "h",
         "type": "bar",
         "x": [
          57,
          34,
          26,
          27,
          25,
          13,
          11,
          14,
          8,
          8,
          2,
          0
         ],
         "y": [
          "Programador(a) Back-End",
          "Programador(a) Front-End",
          "Supervisor(a)/Líder de Equipo",
          "Director(a) Ejecutivo",
          "Promotor(a) de Desarrollo",
          "Administrador(a) de Sistemas",
          "Soporte o Ayuda",
          "Diseñador(a)",
          "Emprendedor(a)",
          "Otros",
          "Vendedor(a)",
          "Recursos Humanos"
         ]
        },
        {
         "marker": {
          "color": "rgb(102, 179, 255)"
         },
         "name": "Nunca trabajo remoto",
         "orientation": "h",
         "type": "bar",
         "x": [
          23,
          9,
          11,
          8,
          5,
          3,
          1,
          2,
          2,
          3,
          1,
          1
         ],
         "y": [
          "Programador(a) Back-End",
          "Programador(a) Front-End",
          "Supervisor(a)/Líder de Equipo",
          "Director(a) Ejecutivo",
          "Promotor(a) de Desarrollo",
          "Administrador(a) de Sistemas",
          "Soporte o Ayuda",
          "Diseñador(a)",
          "Emprendedor(a)",
          "Otros",
          "Vendedor(a)",
          "Recursos Humanos"
         ]
        }
       ],
       "layout": {
        "barmode": "stack",
        "margin": {
         "l": 200
        },
        "template": {
         "data": {
          "candlestick": [
           {
            "decreasing": {
             "line": {
              "color": "#000033"
             }
            },
            "increasing": {
             "line": {
              "color": "#000032"
             }
            },
            "type": "candlestick"
           }
          ],
          "contour": [
           {
            "colorscale": [
             [
              0,
              "#000011"
             ],
             [
              0.1111111111111111,
              "#000012"
             ],
             [
              0.2222222222222222,
              "#000013"
             ],
             [
              0.3333333333333333,
              "#000014"
             ],
             [
              0.4444444444444444,
              "#000015"
             ],
             [
              0.5555555555555556,
              "#000016"
             ],
             [
              0.6666666666666666,
              "#000017"
             ],
             [
              0.7777777777777778,
              "#000018"
             ],
             [
              0.8888888888888888,
              "#000019"
             ],
             [
              1,
              "#000020"
             ]
            ],
            "type": "contour"
           }
          ],
          "contourcarpet": [
           {
            "colorscale": [
             [
              0,
              "#000011"
             ],
             [
              0.1111111111111111,
              "#000012"
             ],
             [
              0.2222222222222222,
              "#000013"
             ],
             [
              0.3333333333333333,
              "#000014"
             ],
             [
              0.4444444444444444,
              "#000015"
             ],
             [
              0.5555555555555556,
              "#000016"
             ],
             [
              0.6666666666666666,
              "#000017"
             ],
             [
              0.7777777777777778,
              "#000018"
             ],
             [
              0.8888888888888888,
              "#000019"
             ],
             [
              1,
              "#000020"
             ]
            ],
            "type": "contourcarpet"
           }
          ],
          "heatmap": [
           {
            "colorscale": [
             [
              0,
              "#000011"
             ],
             [
              0.1111111111111111,
              "#000012"
             ],
             [
              0.2222222222222222,
              "#000013"
             ],
             [
              0.3333333333333333,
              "#000014"
             ],
             [
              0.4444444444444444,
              "#000015"
             ],
             [
              0.5555555555555556,
              "#000016"
             ],
             [
              0.6666666666666666,
              "#000017"
             ],
             [
              0.7777777777777778,
              "#000018"
             ],
             [
              0.8888888888888888,
              "#000019"
             ],
             [
              1,
              "#000020"
             ]
            ],
            "type": "heatmap"
           }
          ],
          "histogram2d": [
           {
            "colorscale": [
             [
              0,
              "#000011"
             ],
             [
              0.1111111111111111,
              "#000012"
             ],
             [
              0.2222222222222222,
              "#000013"
             ],
             [
              0.3333333333333333,
              "#000014"
             ],
             [
              0.4444444444444444,
              "#000015"
             ],
             [
              0.5555555555555556,
              "#000016"
             ],
             [
              0.6666666666666666,
              "#000017"
             ],
             [
              0.7777777777777778,
              "#000018"
             ],
             [
              0.8888888888888888,
              "#000019"
             ],
             [
              1,
              "#000020"
             ]
            ],
            "type": "histogram2d"
           }
          ],
          "icicle": [
           {
            "textfont": {
             "color": "white"
            },
            "type": "icicle"
           }
          ],
          "sankey": [
           {
            "textfont": {
             "color": "#000036"
            },
            "type": "sankey"
           }
          ],
          "scatter": [
           {
            "marker": {
             "line": {
              "width": 0
             }
            },
            "type": "scatter"
           }
          ],
          "table": [
           {
            "cells": {
             "fill": {
              "color": "#000038"
             },
             "font": {
              "color": "#000037"
             },
             "line": {
              "color": "#000039"
             }
            },
            "header": {
             "fill": {
              "color": "#000040"
             },
             "font": {
              "color": "#000036"
             },
             "line": {
              "color": "#000039"
             }
            },
            "type": "table"
           }
          ],
          "waterfall": [
           {
            "connector": {
             "line": {
              "color": "#000036",
              "width": 2
             }
            },
            "decreasing": {
             "marker": {
              "color": "#000033"
             }
            },
            "increasing": {
             "marker": {
              "color": "#000032"
             }
            },
            "totals": {
             "marker": {
              "color": "#000034"
             }
            },
            "type": "waterfall"
           }
          ]
         },
         "layout": {
          "coloraxis": {
           "colorscale": [
            [
             0,
             "#000011"
            ],
            [
             0.1111111111111111,
             "#000012"
            ],
            [
             0.2222222222222222,
             "#000013"
            ],
            [
             0.3333333333333333,
             "#000014"
            ],
            [
             0.4444444444444444,
             "#000015"
            ],
            [
             0.5555555555555556,
             "#000016"
            ],
            [
             0.6666666666666666,
             "#000017"
            ],
            [
             0.7777777777777778,
             "#000018"
            ],
            [
             0.8888888888888888,
             "#000019"
            ],
            [
             1,
             "#000020"
            ]
           ]
          },
          "colorscale": {
           "diverging": [
            [
             0,
             "#000021"
            ],
            [
             0.1,
             "#000022"
            ],
            [
             0.2,
             "#000023"
            ],
            [
             0.3,
             "#000024"
            ],
            [
             0.4,
             "#000025"
            ],
            [
             0.5,
             "#000026"
            ],
            [
             0.6,
             "#000027"
            ],
            [
             0.7,
             "#000028"
            ],
            [
             0.8,
             "#000029"
            ],
            [
             0.9,
             "#000030"
            ],
            [
             1,
             "#000031"
            ]
           ],
           "sequential": [
            [
             0,
             "#000011"
            ],
            [
             0.1111111111111111,
             "#000012"
            ],
            [
             0.2222222222222222,
             "#000013"
            ],
            [
             0.3333333333333333,
             "#000014"
            ],
            [
             0.4444444444444444,
             "#000015"
            ],
            [
             0.5555555555555556,
             "#000016"
            ],
            [
             0.6666666666666666,
             "#000017"
            ],
            [
             0.7777777777777778,
             "#000018"
            ],
            [
             0.8888888888888888,
             "#000019"
            ],
            [
             1,
             "#000020"
            ]
           ],
           "sequentialminus": [
            [
             0,
             "#000011"
            ],
            [
             0.1111111111111111,
             "#000012"
            ],
            [
             0.2222222222222222,
             "#000013"
            ],
            [
             0.3333333333333333,
             "#000014"
            ],
            [
             0.4444444444444444,
             "#000015"
            ],
            [
             0.5555555555555556,
             "#000016"
            ],
            [
             0.6666666666666666,
             "#000017"
            ],
            [
             0.7777777777777778,
             "#000018"
            ],
            [
             0.8888888888888888,
             "#000019"
            ],
            [
             1,
             "#000020"
            ]
           ]
          },
          "colorway": [
           "#000001",
           "#000002",
           "#000003",
           "#000004",
           "#000005",
           "#000006",
           "#000007",
           "#000008",
           "#000009",
           "#000010"
          ]
         }
        },
        "title": {
         "font": {
          "size": 18
         },
         "text": "Distribución de Puestos de Trabajo Según Trabajo Remoto"
        }
       }
      }
     },
     "metadata": {},
     "output_type": "display_data"
    }
   ],
   "source": [
    "Trabajo_Remoto = ['Programador(a) Back-End', 'Programador(a) Front-End', 'Supervisor(a)/Líder de Equipo', 'Director(a) Ejecutivo', 'Promotor(a) de Desarrollo', 'Administrador(a) de Sistemas', 'Soporte o Ayuda', 'Diseñador(a)', 'Emprendedor(a)', 'Otros', 'Vendedor(a)', 'Recursos Humanos']\n",
    "\n",
    "fig20164_3 = go.Figure(data=[\n",
    "    go.Bar(name='Siempre trabajo remoto', y=Trabajo_Remoto, x=[17, 11, 9, 9, 10, 12, 10, 3, 9, 4, 0, 0], orientation='h', marker_color='rgb(0, 89, 179)'),\n",
    "    go.Bar(name='A veces trabajo remoto', y=Trabajo_Remoto, x=[57, 34, 26, 27, 25, 13, 11, 14, 8, 8, 2, 0], orientation='h', marker_color='rgb(0, 128, 255)'),\n",
    "    go.Bar(name='Nunca trabajo remoto', y=Trabajo_Remoto, x=[23, 9, 11, 8, 5, 3, 1, 2, 2, 3, 1, 1], orientation='h', marker_color='rgb(102, 179, 255)')\n",
    "])\n",
    "\n",
    "fig20164_3.update_layout(barmode='stack',\n",
    "                  margin=dict(l=200),\n",
    "                  title=dict(text='Distribución de Puestos de Trabajo Según Trabajo Remoto',\n",
    "                             font=dict(size=18)))\n",
    "fig20164_3.show()"
   ]
  },
  {
   "cell_type": "code",
   "execution_count": 24,
   "metadata": {},
   "outputs": [
    {
     "data": {
      "application/vnd.plotly.v1+json": {
       "config": {
        "plotlyServerURL": "https://plot.ly"
       },
       "data": [
        {
         "marker": {
          "color": "rgb(0, 89, 179)"
         },
         "name": "Siempre trabajo remoto",
         "orientation": "h",
         "type": "bar",
         "x": [
          17,
          11,
          9,
          9,
          10,
          12,
          10,
          3,
          9,
          4,
          0,
          0
         ],
         "y": [
          "Programador(a) Back-End",
          "Programador(a) Front-End",
          "Supervisor(a)/Líder de Equipo",
          "Director(a) Ejecutivo",
          "Promotor(a) de Desarrollo",
          "Administrador(a) de Sistemas",
          "Soporte o Ayuda",
          "Diseñador(a)",
          "Emprendedor(a)",
          "Otros",
          "Vendedor(a)",
          "Recursos Humanos"
         ]
        },
        {
         "marker": {
          "color": "rgb(0, 128, 255)"
         },
         "name": "A veces trabajo remoto",
         "orientation": "h",
         "type": "bar",
         "x": [
          57,
          34,
          26,
          27,
          25,
          13,
          11,
          14,
          8,
          8,
          2,
          0
         ],
         "y": [
          "Programador(a) Back-End",
          "Programador(a) Front-End",
          "Supervisor(a)/Líder de Equipo",
          "Director(a) Ejecutivo",
          "Promotor(a) de Desarrollo",
          "Administrador(a) de Sistemas",
          "Soporte o Ayuda",
          "Diseñador(a)",
          "Emprendedor(a)",
          "Otros",
          "Vendedor(a)",
          "Recursos Humanos"
         ]
        },
        {
         "marker": {
          "color": "rgb(102, 179, 255)"
         },
         "name": "Nunca trabajo remoto",
         "orientation": "h",
         "type": "bar",
         "x": [
          23,
          9,
          11,
          8,
          5,
          3,
          1,
          2,
          2,
          3,
          1,
          1
         ],
         "y": [
          "Programador(a) Back-End",
          "Programador(a) Front-End",
          "Supervisor(a)/Líder de Equipo",
          "Director(a) Ejecutivo",
          "Promotor(a) de Desarrollo",
          "Administrador(a) de Sistemas",
          "Soporte o Ayuda",
          "Diseñador(a)",
          "Emprendedor(a)",
          "Otros",
          "Vendedor(a)",
          "Recursos Humanos"
         ]
        }
       ],
       "layout": {
        "barmode": "stack",
        "margin": {
         "l": 200
        },
        "template": {
         "data": {
          "candlestick": [
           {
            "decreasing": {
             "line": {
              "color": "#000033"
             }
            },
            "increasing": {
             "line": {
              "color": "#000032"
             }
            },
            "type": "candlestick"
           }
          ],
          "contour": [
           {
            "colorscale": [
             [
              0,
              "#000011"
             ],
             [
              0.1111111111111111,
              "#000012"
             ],
             [
              0.2222222222222222,
              "#000013"
             ],
             [
              0.3333333333333333,
              "#000014"
             ],
             [
              0.4444444444444444,
              "#000015"
             ],
             [
              0.5555555555555556,
              "#000016"
             ],
             [
              0.6666666666666666,
              "#000017"
             ],
             [
              0.7777777777777778,
              "#000018"
             ],
             [
              0.8888888888888888,
              "#000019"
             ],
             [
              1,
              "#000020"
             ]
            ],
            "type": "contour"
           }
          ],
          "contourcarpet": [
           {
            "colorscale": [
             [
              0,
              "#000011"
             ],
             [
              0.1111111111111111,
              "#000012"
             ],
             [
              0.2222222222222222,
              "#000013"
             ],
             [
              0.3333333333333333,
              "#000014"
             ],
             [
              0.4444444444444444,
              "#000015"
             ],
             [
              0.5555555555555556,
              "#000016"
             ],
             [
              0.6666666666666666,
              "#000017"
             ],
             [
              0.7777777777777778,
              "#000018"
             ],
             [
              0.8888888888888888,
              "#000019"
             ],
             [
              1,
              "#000020"
             ]
            ],
            "type": "contourcarpet"
           }
          ],
          "heatmap": [
           {
            "colorscale": [
             [
              0,
              "#000011"
             ],
             [
              0.1111111111111111,
              "#000012"
             ],
             [
              0.2222222222222222,
              "#000013"
             ],
             [
              0.3333333333333333,
              "#000014"
             ],
             [
              0.4444444444444444,
              "#000015"
             ],
             [
              0.5555555555555556,
              "#000016"
             ],
             [
              0.6666666666666666,
              "#000017"
             ],
             [
              0.7777777777777778,
              "#000018"
             ],
             [
              0.8888888888888888,
              "#000019"
             ],
             [
              1,
              "#000020"
             ]
            ],
            "type": "heatmap"
           }
          ],
          "histogram2d": [
           {
            "colorscale": [
             [
              0,
              "#000011"
             ],
             [
              0.1111111111111111,
              "#000012"
             ],
             [
              0.2222222222222222,
              "#000013"
             ],
             [
              0.3333333333333333,
              "#000014"
             ],
             [
              0.4444444444444444,
              "#000015"
             ],
             [
              0.5555555555555556,
              "#000016"
             ],
             [
              0.6666666666666666,
              "#000017"
             ],
             [
              0.7777777777777778,
              "#000018"
             ],
             [
              0.8888888888888888,
              "#000019"
             ],
             [
              1,
              "#000020"
             ]
            ],
            "type": "histogram2d"
           }
          ],
          "icicle": [
           {
            "textfont": {
             "color": "white"
            },
            "type": "icicle"
           }
          ],
          "sankey": [
           {
            "textfont": {
             "color": "#000036"
            },
            "type": "sankey"
           }
          ],
          "scatter": [
           {
            "marker": {
             "line": {
              "width": 0
             }
            },
            "type": "scatter"
           }
          ],
          "table": [
           {
            "cells": {
             "fill": {
              "color": "#000038"
             },
             "font": {
              "color": "#000037"
             },
             "line": {
              "color": "#000039"
             }
            },
            "header": {
             "fill": {
              "color": "#000040"
             },
             "font": {
              "color": "#000036"
             },
             "line": {
              "color": "#000039"
             }
            },
            "type": "table"
           }
          ],
          "waterfall": [
           {
            "connector": {
             "line": {
              "color": "#000036",
              "width": 2
             }
            },
            "decreasing": {
             "marker": {
              "color": "#000033"
             }
            },
            "increasing": {
             "marker": {
              "color": "#000032"
             }
            },
            "totals": {
             "marker": {
              "color": "#000034"
             }
            },
            "type": "waterfall"
           }
          ]
         },
         "layout": {
          "coloraxis": {
           "colorscale": [
            [
             0,
             "#000011"
            ],
            [
             0.1111111111111111,
             "#000012"
            ],
            [
             0.2222222222222222,
             "#000013"
            ],
            [
             0.3333333333333333,
             "#000014"
            ],
            [
             0.4444444444444444,
             "#000015"
            ],
            [
             0.5555555555555556,
             "#000016"
            ],
            [
             0.6666666666666666,
             "#000017"
            ],
            [
             0.7777777777777778,
             "#000018"
            ],
            [
             0.8888888888888888,
             "#000019"
            ],
            [
             1,
             "#000020"
            ]
           ]
          },
          "colorscale": {
           "diverging": [
            [
             0,
             "#000021"
            ],
            [
             0.1,
             "#000022"
            ],
            [
             0.2,
             "#000023"
            ],
            [
             0.3,
             "#000024"
            ],
            [
             0.4,
             "#000025"
            ],
            [
             0.5,
             "#000026"
            ],
            [
             0.6,
             "#000027"
            ],
            [
             0.7,
             "#000028"
            ],
            [
             0.8,
             "#000029"
            ],
            [
             0.9,
             "#000030"
            ],
            [
             1,
             "#000031"
            ]
           ],
           "sequential": [
            [
             0,
             "#000011"
            ],
            [
             0.1111111111111111,
             "#000012"
            ],
            [
             0.2222222222222222,
             "#000013"
            ],
            [
             0.3333333333333333,
             "#000014"
            ],
            [
             0.4444444444444444,
             "#000015"
            ],
            [
             0.5555555555555556,
             "#000016"
            ],
            [
             0.6666666666666666,
             "#000017"
            ],
            [
             0.7777777777777778,
             "#000018"
            ],
            [
             0.8888888888888888,
             "#000019"
            ],
            [
             1,
             "#000020"
            ]
           ],
           "sequentialminus": [
            [
             0,
             "#000011"
            ],
            [
             0.1111111111111111,
             "#000012"
            ],
            [
             0.2222222222222222,
             "#000013"
            ],
            [
             0.3333333333333333,
             "#000014"
            ],
            [
             0.4444444444444444,
             "#000015"
            ],
            [
             0.5555555555555556,
             "#000016"
            ],
            [
             0.6666666666666666,
             "#000017"
            ],
            [
             0.7777777777777778,
             "#000018"
            ],
            [
             0.8888888888888888,
             "#000019"
            ],
            [
             1,
             "#000020"
            ]
           ]
          },
          "colorway": [
           "#000001",
           "#000002",
           "#000003",
           "#000004",
           "#000005",
           "#000006",
           "#000007",
           "#000008",
           "#000009",
           "#000010"
          ]
         }
        },
        "title": {
         "font": {
          "size": 18
         },
         "text": "Distribución de Puestos de Trabajo Según Trabajo Remoto"
        }
       }
      }
     },
     "metadata": {},
     "output_type": "display_data"
    }
   ],
   "source": [
    "Trabajo_Remoto = ['Programador(a) Back-End', 'Programador(a) Front-End', 'Supervisor(a)/Líder de Equipo', 'Director(a) Ejecutivo', 'Promotor(a) de Desarrollo', 'Administrador(a) de Sistemas', 'Soporte o Ayuda', 'Diseñador(a)', 'Emprendedor(a)', 'Otros', 'Vendedor(a)', 'Recursos Humanos']\n",
    "EM_Diagnosticadas = ['']\n",
    "\n",
    "fig20164_4 = go.Figure(data=[\n",
    "    go.Bar(name='Siempre trabajo remoto', y=Trabajo_Remoto, x=[17, 11, 9, 9, 10, 12, 10, 3, 9, 4, 0, 0], orientation='h', marker_color='rgb(0, 89, 179)'),\n",
    "    go.Bar(name='A veces trabajo remoto', y=Trabajo_Remoto, x=[57, 34, 26, 27, 25, 13, 11, 14, 8, 8, 2, 0], orientation='h', marker_color='rgb(0, 128, 255)'),\n",
    "    go.Bar(name='Nunca trabajo remoto', y=Trabajo_Remoto, x=[23, 9, 11, 8, 5, 3, 1, 2, 2, 3, 1, 1], orientation='h', marker_color='rgb(102, 179, 255)')\n",
    "])\n",
    "\n",
    "fig20164_3.update_layout(barmode='stack',\n",
    "                  margin=dict(l=200),\n",
    "                  title=dict(text='Distribución de Puestos de Trabajo Según Trabajo Remoto',\n",
    "                             font=dict(size=18)))\n",
    "fig20164_3.show()"
   ]
  },
  {
   "cell_type": "code",
   "execution_count": 85,
   "metadata": {},
   "outputs": [
    {
     "name": "stdout",
     "output_type": "stream",
     "text": [
      "   count   mean   std   min   25%   50%    75%   max\n",
      "0  836.0  34.47  8.36  19.0  29.0  33.0  39.00  66.0\n",
      "1  497.0  35.63  8.39  21.0  30.0  35.0  40.00  67.0\n",
      "2  312.0  35.04  8.00  19.0  29.0  34.0  39.25  67.0\n",
      "3  203.0  35.66  8.82  19.0  29.0  35.0  41.00  63.0\n"
     ]
    },
    {
     "data": {
      "application/vnd.plotly.v1+json": {
       "config": {
        "plotlyServerURL": "https://plot.ly"
       },
       "data": [
        {
         "alignmentgroup": "True",
         "hovertemplate": "index=%{x}<br>value=%{y}<extra></extra>",
         "legendgroup": "",
         "marker": {
          "color": "#0033cc"
         },
         "name": "",
         "notched": false,
         "offsetgroup": "",
         "orientation": "v",
         "showlegend": false,
         "type": "box",
         "x": [
          "2016",
          "2017",
          "2018",
          "2019",
          "2016",
          "2017",
          "2018",
          "2019",
          "2016",
          "2017",
          "2018",
          "2019",
          "2016",
          "2017",
          "2018",
          "2019",
          "2016",
          "2017",
          "2018",
          "2019",
          "2016",
          "2017",
          "2018",
          "2019"
         ],
         "x0": " ",
         "xaxis": "x",
         "y": [
          34.47,
          35.63,
          35.04,
          35.66,
          33,
          35,
          34,
          35,
          19,
          21,
          19,
          19,
          66,
          67,
          67,
          63,
          29,
          30,
          29,
          29,
          39,
          40,
          39.25,
          41
         ],
         "y0": " ",
         "yaxis": "y"
        }
       ],
       "layout": {
        "boxmode": "group",
        "legend": {
         "tracegroupgap": 0
        },
        "template": {
         "data": {
          "candlestick": [
           {
            "decreasing": {
             "line": {
              "color": "#000033"
             }
            },
            "increasing": {
             "line": {
              "color": "#000032"
             }
            },
            "type": "candlestick"
           }
          ],
          "contour": [
           {
            "colorscale": [
             [
              0,
              "#000011"
             ],
             [
              0.1111111111111111,
              "#000012"
             ],
             [
              0.2222222222222222,
              "#000013"
             ],
             [
              0.3333333333333333,
              "#000014"
             ],
             [
              0.4444444444444444,
              "#000015"
             ],
             [
              0.5555555555555556,
              "#000016"
             ],
             [
              0.6666666666666666,
              "#000017"
             ],
             [
              0.7777777777777778,
              "#000018"
             ],
             [
              0.8888888888888888,
              "#000019"
             ],
             [
              1,
              "#000020"
             ]
            ],
            "type": "contour"
           }
          ],
          "contourcarpet": [
           {
            "colorscale": [
             [
              0,
              "#000011"
             ],
             [
              0.1111111111111111,
              "#000012"
             ],
             [
              0.2222222222222222,
              "#000013"
             ],
             [
              0.3333333333333333,
              "#000014"
             ],
             [
              0.4444444444444444,
              "#000015"
             ],
             [
              0.5555555555555556,
              "#000016"
             ],
             [
              0.6666666666666666,
              "#000017"
             ],
             [
              0.7777777777777778,
              "#000018"
             ],
             [
              0.8888888888888888,
              "#000019"
             ],
             [
              1,
              "#000020"
             ]
            ],
            "type": "contourcarpet"
           }
          ],
          "heatmap": [
           {
            "colorscale": [
             [
              0,
              "#000011"
             ],
             [
              0.1111111111111111,
              "#000012"
             ],
             [
              0.2222222222222222,
              "#000013"
             ],
             [
              0.3333333333333333,
              "#000014"
             ],
             [
              0.4444444444444444,
              "#000015"
             ],
             [
              0.5555555555555556,
              "#000016"
             ],
             [
              0.6666666666666666,
              "#000017"
             ],
             [
              0.7777777777777778,
              "#000018"
             ],
             [
              0.8888888888888888,
              "#000019"
             ],
             [
              1,
              "#000020"
             ]
            ],
            "type": "heatmap"
           }
          ],
          "histogram2d": [
           {
            "colorscale": [
             [
              0,
              "#000011"
             ],
             [
              0.1111111111111111,
              "#000012"
             ],
             [
              0.2222222222222222,
              "#000013"
             ],
             [
              0.3333333333333333,
              "#000014"
             ],
             [
              0.4444444444444444,
              "#000015"
             ],
             [
              0.5555555555555556,
              "#000016"
             ],
             [
              0.6666666666666666,
              "#000017"
             ],
             [
              0.7777777777777778,
              "#000018"
             ],
             [
              0.8888888888888888,
              "#000019"
             ],
             [
              1,
              "#000020"
             ]
            ],
            "type": "histogram2d"
           }
          ],
          "icicle": [
           {
            "textfont": {
             "color": "white"
            },
            "type": "icicle"
           }
          ],
          "sankey": [
           {
            "textfont": {
             "color": "#000036"
            },
            "type": "sankey"
           }
          ],
          "scatter": [
           {
            "marker": {
             "line": {
              "width": 0
             }
            },
            "type": "scatter"
           }
          ],
          "table": [
           {
            "cells": {
             "fill": {
              "color": "#000038"
             },
             "font": {
              "color": "#000037"
             },
             "line": {
              "color": "#000039"
             }
            },
            "header": {
             "fill": {
              "color": "#000040"
             },
             "font": {
              "color": "#000036"
             },
             "line": {
              "color": "#000039"
             }
            },
            "type": "table"
           }
          ],
          "waterfall": [
           {
            "connector": {
             "line": {
              "color": "#000036",
              "width": 2
             }
            },
            "decreasing": {
             "marker": {
              "color": "#000033"
             }
            },
            "increasing": {
             "marker": {
              "color": "#000032"
             }
            },
            "totals": {
             "marker": {
              "color": "#000034"
             }
            },
            "type": "waterfall"
           }
          ]
         },
         "layout": {
          "coloraxis": {
           "colorscale": [
            [
             0,
             "#000011"
            ],
            [
             0.1111111111111111,
             "#000012"
            ],
            [
             0.2222222222222222,
             "#000013"
            ],
            [
             0.3333333333333333,
             "#000014"
            ],
            [
             0.4444444444444444,
             "#000015"
            ],
            [
             0.5555555555555556,
             "#000016"
            ],
            [
             0.6666666666666666,
             "#000017"
            ],
            [
             0.7777777777777778,
             "#000018"
            ],
            [
             0.8888888888888888,
             "#000019"
            ],
            [
             1,
             "#000020"
            ]
           ]
          },
          "colorscale": {
           "diverging": [
            [
             0,
             "#000021"
            ],
            [
             0.1,
             "#000022"
            ],
            [
             0.2,
             "#000023"
            ],
            [
             0.3,
             "#000024"
            ],
            [
             0.4,
             "#000025"
            ],
            [
             0.5,
             "#000026"
            ],
            [
             0.6,
             "#000027"
            ],
            [
             0.7,
             "#000028"
            ],
            [
             0.8,
             "#000029"
            ],
            [
             0.9,
             "#000030"
            ],
            [
             1,
             "#000031"
            ]
           ],
           "sequential": [
            [
             0,
             "#000011"
            ],
            [
             0.1111111111111111,
             "#000012"
            ],
            [
             0.2222222222222222,
             "#000013"
            ],
            [
             0.3333333333333333,
             "#000014"
            ],
            [
             0.4444444444444444,
             "#000015"
            ],
            [
             0.5555555555555556,
             "#000016"
            ],
            [
             0.6666666666666666,
             "#000017"
            ],
            [
             0.7777777777777778,
             "#000018"
            ],
            [
             0.8888888888888888,
             "#000019"
            ],
            [
             1,
             "#000020"
            ]
           ],
           "sequentialminus": [
            [
             0,
             "#000011"
            ],
            [
             0.1111111111111111,
             "#000012"
            ],
            [
             0.2222222222222222,
             "#000013"
            ],
            [
             0.3333333333333333,
             "#000014"
            ],
            [
             0.4444444444444444,
             "#000015"
            ],
            [
             0.5555555555555556,
             "#000016"
            ],
            [
             0.6666666666666666,
             "#000017"
            ],
            [
             0.7777777777777778,
             "#000018"
            ],
            [
             0.8888888888888888,
             "#000019"
            ],
            [
             1,
             "#000020"
            ]
           ]
          },
          "colorway": [
           "#000001",
           "#000002",
           "#000003",
           "#000004",
           "#000005",
           "#000006",
           "#000007",
           "#000008",
           "#000009",
           "#000010"
          ]
         }
        },
        "title": {
         "text": "Distribución de Edades por Año"
        },
        "xaxis": {
         "anchor": "y",
         "domain": [
          0,
          1
         ],
         "title": {
          "text": "Año"
         }
        },
        "yaxis": {
         "anchor": "x",
         "domain": [
          0,
          1
         ],
         "title": {
          "text": "Edades"
         }
        }
       }
      }
     },
     "metadata": {},
     "output_type": "display_data"
    }
   ],
   "source": [
    "#VARIABLES CUANTITATIVAS: DATOS\n",
    "\n",
    "Edad_2016 = df_2016.dropna(subset=['Edad'])['Edad'].describe().to_frame().T.round(2)\n",
    "\n",
    "Edad_2017 = df_2017['Edad'].describe().to_frame().T.round(2)\n",
    "\n",
    "Edad_2018 = df_2018['Edad'].describe().to_frame().T.round(2)\n",
    "\n",
    "Edad_2019 = df_2019.dropna(subset=['Edad'])['Edad'].describe().to_frame().T.round(2)\n",
    "\n",
    "# Unir los DataFrames en uno\n",
    "Edad_inv = pd.concat([Edad_2016, Edad_2017, Edad_2018, Edad_2019], ignore_index=True)\n",
    "\n",
    "print(Edad_inv)\n",
    "\n",
    "# Renombrar las filas con los años correspondientes\n",
    "Edad_inv.index = ['2016', '2017', '2018', '2019']\n",
    "\n",
    "# Renombrar las columnas\n",
    "Edad_inv.columns = ['Muestra', 'Media', 'SD', 'Min', 'Q1', 'Md', 'Q3', 'Máx']\n",
    "\n",
    "Edad_inv = Edad_inv[['Muestra', 'Media', 'Md', 'SD', 'Min', 'Máx', 'Q1', 'Q3']]\n",
    "\n",
    "Edad_inv1 = Edad_inv\n",
    "\n",
    "# Drop unnecessary columns\n",
    "Edad_inv_graph = Edad_inv1.drop(['Muestra', 'SD'], axis=1)\n",
    "\n",
    "fig_edad = px.box(Edad_inv_graph, x=Edad_inv_graph.index, y=Edad_inv_graph.columns, \n",
    "                 title='Distribución de Edades por Año', \n",
    "                 color_discrete_sequence=['#0033cc'])\n",
    "\n",
    "fig_edad.update_layout(\n",
    "    xaxis_title=\"Año\",\n",
    "    yaxis_title=\"Edades\"\n",
    ")\n",
    "\n",
    "fig_edad.show()"
   ]
  }
 ],
 "metadata": {
  "kernelspec": {
   "display_name": "Python 3",
   "language": "python",
   "name": "python3"
  },
  "language_info": {
   "codemirror_mode": {
    "name": "ipython",
    "version": 3
   },
   "file_extension": ".py",
   "mimetype": "text/x-python",
   "name": "python",
   "nbconvert_exporter": "python",
   "pygments_lexer": "ipython3",
   "version": "3.12.1"
  }
 },
 "nbformat": 4,
 "nbformat_minor": 2
}
